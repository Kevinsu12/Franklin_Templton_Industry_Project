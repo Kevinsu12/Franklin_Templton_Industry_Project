{
 "cells": [
  {
   "cell_type": "code",
   "execution_count": 1,
   "id": "aa3611b3-450b-4afd-940f-33d26a71748b",
   "metadata": {},
   "outputs": [],
   "source": [
    "import os\n",
    "import pandas as pd\n",
    "from llama_cloud_services import LlamaExtract\n",
    "from dotenv import load_dotenv\n",
    "from typing import Optional\n",
    "from pydantic import ValidationError\n",
    "\n",
    "from pydantic import BaseModel, Field\n",
    "from typing import Optional, Type\n",
    "\n",
    "from BS_Schema import make_StatementOfFinancialPosition_model\n",
    "\n",
    "import BS_Schema\n",
    "from importlib import reload\n",
    "\n",
    "BS_Schema = reload(BS_Schema)"
   ]
  },
  {
   "cell_type": "code",
   "execution_count": 3,
   "id": "e1a40dea-7154-4af1-bb26-8456517de462",
   "metadata": {},
   "outputs": [
    {
     "name": "stdout",
     "output_type": "stream",
     "text": [
      "StatementOfFinancialPosition_2024\n",
      "['year', 'cash_and_short_term_investments_unrestricted_and_restricted', 'accumulated_depreciation', 'net_fixed_assets', 'long_term_investments_unrestricted_and_restricted', 'total_assets', 'short_term_debt', 'long_term_debt', 'pension_and_opeb_liability', 'total_liabilities', 'net_assets_without_donor_restrictions', 'expendable_net_assets_with_donor_restrictions', 'perpetual_net_assets_with_donor_restrictions', 'net_assets_with_donor_restrictions', 'total_net_assets', 'total_liabilities_and_net_assets']\n"
     ]
    }
   ],
   "source": [
    "## Import Class\n",
    "SFP = make_StatementOfFinancialPosition_model(2024)\n",
    "# 4.2) Inspect its name and fields\n",
    "print(SFP.__name__)           # → \"StatementOfFinancialPosition_2024\"\n",
    "print(list(SFP.__fields__.keys()))"
   ]
  },
  {
   "cell_type": "code",
   "execution_count": 5,
   "id": "85b3ea7f-3210-4984-9dde-12cff5161396",
   "metadata": {},
   "outputs": [],
   "source": [
    "# ee231c03c0cf6607315be41f48f2ca75503002282bb13f37ff28a6197360edcd\n",
    "\n",
    "# llx-zKFsBQYVXG6DqlTVV2yi3xpkS8nePwYvgOeYoMzJ04RBpgYw\n",
    "\n",
    "#llx-85vV2s7NGkSWQevqJR6pn6I7hMgksTzbd9I4Vk6qIAPwtmUs - organization key"
   ]
  },
  {
   "cell_type": "code",
   "execution_count": 7,
   "id": "23352f38-f6d5-4722-92a6-1920e220346e",
   "metadata": {},
   "outputs": [],
   "source": [
    "PDF_ROOT = \"scrapping/university_pdfs/\"\n",
    "OUTPUT_ROOT = \"output_Balance_Sheet_DS\"\n",
    "os.makedirs(OUTPUT_ROOT, exist_ok=True)  \n",
    "AGENT_ID = \"bcb15a18-67ac-4772-9965-2654ecaff88c\" #Different based on your LLamaCloud account\n",
    "load_dotenv() #make sure the API key is in the .env file\n",
    "Year = 2024\n",
    "extractor = LlamaExtract(api_key='llx-jlyOr0ZQwOzn0BPYgzggmo6mFShTLTsxdrXGviOaBf6IDnHG',project_id = '8c10e62e-3810-4193-915d-d2d11105826d')# LlamaExtract(project_id = '8c10e62e-3810-4193-915d-d2d11105826d')\n",
    "\n",
    "# #uncomment the below line if you are creating the agent for the first time\n",
    "# agent = extractor.create_agent(name = \"balance-sheet-parser-v1\", data_schema=SFP)\n",
    "\n",
    "agent = extractor.get_agent(id = AGENT_ID)\n",
    "\n",
    "# uncomment the following lines if you updated the schema\n",
    "agent.data_schema = SFP\n",
    "agent.save()\n",
    "agent = extractor.get_agent(id = AGENT_ID)"
   ]
  },
  {
   "cell_type": "code",
   "execution_count": 8,
   "id": "5c10a8e5-afe8-4f3c-ba6e-f852ece7edf2",
   "metadata": {},
   "outputs": [
    {
     "data": {
      "text/plain": [
       "{'additionalProperties': False,\n",
       " 'properties': {'year': {'description': \"Only extract from the full Statement of Financial Position (Balance Sheet); do not use condensed or net financial position tables, and do not perform any calculations—capture the number exactly as shown. The fiscal year to which all other line‐items refer. E.g. '2024' means every balance (Cash, Liabilities, Net Assets, etc.) is 'as of June 30, 2024'.\",\n",
       "   'type': 'integer'},\n",
       "  'cash_and_short_term_investments_unrestricted_and_restricted': {'anyOf': [{'type': 'integer'},\n",
       "    {'type': 'null'}],\n",
       "   'description': \"Only extract from the full Statement of Financial Position (Balance Sheet); do not use condensed or net financial position tables, and do not perform any calculations—capture the number exactly as shown. Total of Cash & Short-Term Investments (both unrestricted and restricted) as of June 30, 2024. May be labeled 'Cash & Short-Term Investments (Unrestricted & Restricted)', 'Cash and investments', or similar. Only extract if this amount clearly refers to year-end 2024. Do not include petty cash or illiquid equivalents.\"},\n",
       "  'accumulated_depreciation': {'anyOf': [{'type': 'integer'},\n",
       "    {'type': 'null'}],\n",
       "   'description': \"Only extract from the full Statement of Financial Position (Balance Sheet); do not use condensed or net financial position tables, and do not perform any calculations—capture the number exactly as shown. Accumulated Depreciation as of June 30, 2024. May be labeled 'Accumulated Depreciation', 'Allowance for Depreciation', or similar. Only extract if explicitly shown on the full Statement of Financial Position for 2024.\"},\n",
       "  'net_fixed_assets': {'anyOf': [{'type': 'integer'}, {'type': 'null'}],\n",
       "   'description': \"Only extract from the full Statement of Financial Position (Balance Sheet); do not use condensed or net financial position tables, and do not perform any calculations—capture the number exactly as shown. Net Fixed Assets (often reported below Accumulated Depreciation) as of June 30, 2024. May appear as 'Net Fixed Assets', 'Property, Plant & Equipment, Net', or similar. Only extract if the 2024 figure is explicitly shown on the full Statement of Financial Position; do not calculate by subtracting.\"},\n",
       "  'long_term_investments_unrestricted_and_restricted': {'anyOf': [{'type': 'integer'},\n",
       "    {'type': 'null'}],\n",
       "   'description': \"Only extract from the full Statement of Financial Position (Balance Sheet); do not use condensed or net financial position tables, and do not perform any calculations—capture the number exactly as shown. Fair value or carrying value of Long-Term Investments (unrestricted & restricted) as of June 30, 2024. May be labeled 'Long-Term Investments (Unrestricted & Restricted)', 'Investments – Long-Term', or 'Noncurrent Investments'. Only extract if explicitly presented for that year on the full Statement of Financial Position.\"},\n",
       "  'total_assets': {'anyOf': [{'type': 'integer'}, {'type': 'null'}],\n",
       "   'description': \"Only extract from the full Statement of Financial Position (Balance Sheet); do not use condensed or net financial position tables, and do not perform any calculations—capture the number exactly as shown. Total Assets as of June 30, 2024. May be labeled 'Total Assets', 'Assets – Total', or similar. Only extract if explicitly provided on the full Statement of Financial Position; do not sum individual asset line‐items.\"},\n",
       "  'short_term_debt': {'anyOf': [{'type': 'integer'}, {'type': 'null'}],\n",
       "   'description': \"Only extract from the full Statement of Financial Position (Balance Sheet); do not use condensed or net financial position tables, and do not perform any calculations—capture the number exactly as shown. Short-Term Debt (current portion of borrowings) as of June 30, 2024. May be labeled 'Short-Term Debt', 'Current Portion of Long-Term Debt', or similar. Only extract if explicitly stated for 2024 on the full Statement of Financial Position; do not infer or derive.\"},\n",
       "  'long_term_debt': {'anyOf': [{'type': 'integer'}, {'type': 'null'}],\n",
       "   'description': \"Only extract from the full Statement of Financial Position (Balance Sheet); do not use condensed or net financial position tables, and do not perform any calculations—capture the number exactly as shown. Long-Term Debt (noncurrent portion) as of June 30, 2024. May appear as 'Long-Term Debt', 'Bonds and Notes Payable, net of current portion', or similar. Only extract if explicitly reported for 2024 on the full Statement of Financial Position; do not calculate by subtraction.\"},\n",
       "  'pension_and_opeb_liability': {'anyOf': [{'type': 'integer'},\n",
       "    {'type': 'null'}],\n",
       "   'description': \"Only extract from the full Statement of Financial Position (Balance Sheet); do not use condensed or net financial position tables, and do not perform any calculations—capture the number exactly as shown. Combined Pension & OPEB Liability as of June 30, 2024. May be labeled 'Pension & OPEB Liability', 'Postretirement Benefit Obligations', or similar. Only extract if explicitly shown for {year} on the full Statement of Financial Position.\"},\n",
       "  'total_liabilities': {'anyOf': [{'type': 'integer'}, {'type': 'null'}],\n",
       "   'description': \"Only extract from the full Statement of Financial Position (Balance Sheet); do not use condensed or net financial position tables, and do not perform any calculations—capture the number exactly as shown. Total Liabilities as of June 30, 2024. May be labeled 'Total Liabilities', 'Liabilities – Total', or similar. Only extract if explicitly provided on the full Statement of Financial Position; do not sum individual line‐items.\"},\n",
       "  'net_assets_without_donor_restrictions': {'anyOf': [{'type': 'integer'},\n",
       "    {'type': 'null'}],\n",
       "   'description': \"Only extract from the full Statement of Financial Position (Balance Sheet); do not use condensed or net financial position tables, and do not perform any calculations—capture the number exactly as shown. Net Assets without Donor Restrictions as of June 30, 2024. May be labeled 'Net Assets without Donor Restrictions', 'Unrestricted Net Assets', or similar. Only extract if explicitly reported for {year} on the full Statement of Financial Position.\"},\n",
       "  'expendable_net_assets_with_donor_restrictions': {'anyOf': [{'type': 'integer'},\n",
       "    {'type': 'null'}],\n",
       "   'description': \"Only extract from the full Statement of Financial Position (Balance Sheet); do not use condensed or net financial position tables, and do not perform any calculations—capture the number exactly as shown. Expendable Net Assets with Donor Restrictions as of June 30, 2024. May appear as 'Expendable Net Assets with Donor Restrictions', 'Net Assets with Donor Restrictions – Expendable', or similar. Only extract if explicitly shown for 2024 on the full Statement of Financial Position; do not include nonexpendable portions.\"},\n",
       "  'perpetual_net_assets_with_donor_restrictions': {'anyOf': [{'type': 'integer'},\n",
       "    {'type': 'null'}],\n",
       "   'description': \"Only extract from the full Statement of Financial Position (Balance Sheet); do not use condensed or net financial position tables, and do not perform any calculations—capture the number exactly as shown. Perpetual Net Assets with Donor Restrictions (including any earnings) as of June 30, 2024. May be labeled 'Perpetual Net Assets with Donor Restrictions', 'Restricted Endowment (Perpetual)', or similar. Only extract if explicitly shown for 2024 on the full Statement of Financial Position.\"},\n",
       "  'net_assets_with_donor_restrictions': {'anyOf': [{'type': 'integer'},\n",
       "    {'type': 'null'}],\n",
       "   'description': \"Only extract from the full Statement of Financial Position (Balance Sheet); do not use condensed or net financial position tables, and do not perform any calculations—capture the number exactly as shown. Total Net Assets with Donor Restrictions as of June 30, 2024, including both expendable and perpetual. May be labeled 'Net Assets with Donor Restrictions', 'Restricted Net Assets – Total', or similar. Only extract if explicitly reported for 2024 on the full Statement of Financial Position; do not sum sub-components unless confirmed.\"},\n",
       "  'total_net_assets': {'anyOf': [{'type': 'integer'}, {'type': 'null'}],\n",
       "   'description': \"Only extract from the full Statement of Financial Position (Balance Sheet); do not use condensed or net financial position tables, and do not perform any calculations—capture the number exactly as shown. Total Net Assets (sum of Net Assets without Donor Restrictions and Net Assets with Donor Restrictions) as of June 30, 2024. May be labeled 'Total Net Assets' or similar. Only extract if explicitly provided for that year on the full Statement of Financial Position; do not sum unless the document confirms it.\"},\n",
       "  'total_liabilities_and_net_assets': {'anyOf': [{'type': 'integer'},\n",
       "    {'type': 'null'}],\n",
       "   'description': \"Only extract from the full Statement of Financial Position (Balance Sheet); do not use condensed or net financial position tables, and do not perform any calculations—capture the number exactly as shown. Total Liabilities & Net Assets as of June 30, 2024 (should equal Total Assets). May appear as 'Total Liabilities & Net Assets', 'Liabilities and Net Assets – Total', or similar. Only extract if explicitly reported for 2024 on the full Statement of Financial Position; do not infer.\"}},\n",
       " 'required': ['year',\n",
       "  'cash_and_short_term_investments_unrestricted_and_restricted',\n",
       "  'accumulated_depreciation',\n",
       "  'net_fixed_assets',\n",
       "  'long_term_investments_unrestricted_and_restricted',\n",
       "  'total_assets',\n",
       "  'short_term_debt',\n",
       "  'long_term_debt',\n",
       "  'pension_and_opeb_liability',\n",
       "  'total_liabilities',\n",
       "  'net_assets_without_donor_restrictions',\n",
       "  'expendable_net_assets_with_donor_restrictions',\n",
       "  'perpetual_net_assets_with_donor_restrictions',\n",
       "  'net_assets_with_donor_restrictions',\n",
       "  'total_net_assets',\n",
       "  'total_liabilities_and_net_assets'],\n",
       " 'type': 'object'}"
      ]
     },
     "execution_count": 8,
     "metadata": {},
     "output_type": "execute_result"
    }
   ],
   "source": [
    "agent.data_schema"
   ]
  },
  {
   "cell_type": "code",
   "execution_count": 11,
   "id": "b18275c4-4f9c-4a7b-9f49-9716a7db5be3",
   "metadata": {},
   "outputs": [],
   "source": [
    "def process_school(school_name, school_dir):\n",
    "    combined   = {}\n",
    "    first_keys = None\n",
    "\n",
    "    for fname in sorted(os.listdir(school_dir)):\n",
    "        if not fname.lower().endswith(\".pdf\"):\n",
    "            continue\n",
    "        path = os.path.join(school_dir, fname)\n",
    "        print(f\"Extracting data from {fname}\")\n",
    "        try:\n",
    "            run  = agent.extract(path)\n",
    "            data = run.data or {}\n",
    "            if first_keys is None:\n",
    "                first_keys = list(data.keys())\n",
    "                combined  = {k: None for k in first_keys}\n",
    "            for k, v in data.items():\n",
    "                if v not in (None, \"\", []):\n",
    "                    combined[k] = v\n",
    "        except Exception as err:\n",
    "            print(f\"Skipped {fname}: {err}\")\n",
    "\n",
    "    if first_keys:\n",
    "        df = pd.DataFrame.from_dict(combined, orient=\"index\", columns=[\"2024-25\"])\n",
    "        df.index.name = \"Metric\"\n",
    "        outfile = os.path.join(OUTPUT_ROOT, f\"{school_name}.xlsx\")\n",
    "        df.to_excel(outfile)\n",
    "        print(f\"Saved output to {outfile}\")\n",
    "    else:\n",
    "        print(f\"No PDF data found for {school_name}\")"
   ]
  },
  {
   "cell_type": "code",
   "execution_count": 13,
   "id": "00b8b2fe-147d-4668-b359-5b48a56a9184",
   "metadata": {},
   "outputs": [],
   "source": [
    "# os.listdir('/Users/danyalsoomro/Desktop/Python_Projects/Industry_projects/Franklin_Templton_Industry_Project/scrapping/university_pdfs')"
   ]
  },
  {
   "cell_type": "code",
   "execution_count": 17,
   "id": "259ae70f-b030-4079-a7af-fc46f5e69d08",
   "metadata": {},
   "outputs": [
    {
     "name": "stdout",
     "output_type": "stream",
     "text": [
      "Processing school: ARIZONA_STATE_UNIVERSITY\n",
      "Extracting data from FY_2024_Arizona_State_University_Annual_Comprehensive_Financial_Report_for_the_year_ended_06_30_2024__4.1_MB_.pdf\n"
     ]
    },
    {
     "name": "stderr",
     "output_type": "stream",
     "text": [
      "Uploading files: 100%|████████████████████████████| 1/1 [00:04<00:00,  4.80s/it]\n",
      "Creating extraction jobs: 100%|███████████████████| 1/1 [00:00<00:00,  1.47it/s]\n",
      "Extracting files: 100%|███████████████████████████| 1/1 [00:23<00:00, 23.95s/it]\n"
     ]
    },
    {
     "name": "stdout",
     "output_type": "stream",
     "text": [
      "Extracting data from FY_2024_Arizona_State_University_Continuing_Disclosure_Undertaking_for_the_year_ended_06_30_2024__160_KB_.pdf\n"
     ]
    },
    {
     "name": "stderr",
     "output_type": "stream",
     "text": [
      "Uploading files: 100%|████████████████████████████| 1/1 [00:00<00:00,  1.11it/s]\n",
      "Creating extraction jobs: 100%|███████████████████| 1/1 [00:00<00:00,  2.20it/s]\n",
      "Extracting files: 100%|███████████████████████████| 1/1 [00:07<00:00,  7.81s/it]\n"
     ]
    },
    {
     "name": "stdout",
     "output_type": "stream",
     "text": [
      "Saved output to output_Balance_Sheet_DS/ARIZONA_STATE_UNIVERSITY.xlsx\n",
      "Processing school: BRADLEY_UNIVERSITY\n",
      "Extracting data from Annual_Financial_Information_and_Operating_Data__Rule_15c2-12__for_FY24_for_the_year_ended_05_31_2024__227_KB_.pdf\n"
     ]
    },
    {
     "name": "stderr",
     "output_type": "stream",
     "text": [
      "Uploading files: 100%|████████████████████████████| 1/1 [00:02<00:00,  2.26s/it]\n",
      "Creating extraction jobs: 100%|███████████████████| 1/1 [00:00<00:00,  1.99it/s]\n",
      "Extracting files: 100%|███████████████████████████| 1/1 [00:06<00:00,  6.65s/it]\n"
     ]
    },
    {
     "name": "stdout",
     "output_type": "stream",
     "text": [
      "Extracting data from Audited_Financial_Statements_or_ACFR__Rule_15c2-12__for_FY24_for_the_year_ended_05_31_2024__541_KB_.pdf\n"
     ]
    },
    {
     "name": "stderr",
     "output_type": "stream",
     "text": [
      "Uploading files: 100%|████████████████████████████| 1/1 [00:00<00:00,  1.06it/s]\n",
      "Creating extraction jobs: 100%|███████████████████| 1/1 [00:00<00:00,  2.32it/s]\n",
      "Extracting files: 100%|███████████████████████████| 1/1 [00:14<00:00, 14.44s/it]\n"
     ]
    },
    {
     "name": "stdout",
     "output_type": "stream",
     "text": [
      "Saved output to output_Balance_Sheet_DS/BRADLEY_UNIVERSITY.xlsx\n",
      "Processing school: CALIFORNIA_STATE_UNIVERSITY\n",
      "Extracting data from Exhibit_1_CSU_Combined_Financial_Stmts_6-30-24_for_the_year_ended_06_30_2024__15.6_MB_.pdf\n"
     ]
    },
    {
     "name": "stderr",
     "output_type": "stream",
     "text": [
      "Uploading files: 100%|████████████████████████████| 1/1 [00:14<00:00, 14.99s/it]\n",
      "Creating extraction jobs: 100%|███████████████████| 1/1 [00:01<00:00,  1.34s/it]\n",
      "Extracting files: 100%|███████████████████████████| 1/1 [00:19<00:00, 19.31s/it]\n"
     ]
    },
    {
     "name": "stdout",
     "output_type": "stream",
     "text": [
      "Extracting data from Exhibit_1_CSU_Combined_Financial_Stmts_6-30-24_for_the_year_ended_06_30_2024__308_KB_.pdf\n"
     ]
    },
    {
     "name": "stderr",
     "output_type": "stream",
     "text": [
      "Uploading files: 100%|████████████████████████████| 1/1 [00:01<00:00,  1.08s/it]\n",
      "Creating extraction jobs: 100%|███████████████████| 1/1 [00:00<00:00,  2.48it/s]\n",
      "Extracting files: 100%|███████████████████████████| 1/1 [00:10<00:00, 10.79s/it]\n"
     ]
    },
    {
     "name": "stdout",
     "output_type": "stream",
     "text": [
      "Extracting data from Exhibit_1_DRAFT_UNAUDITED_CSU_Combined_Financial_Statements_6-30-24_for_the_year_ended_06_30_2024__1.2_MB_.pdf\n"
     ]
    },
    {
     "name": "stderr",
     "output_type": "stream",
     "text": [
      "Uploading files: 100%|████████████████████████████| 1/1 [00:01<00:00,  1.52s/it]\n",
      "Creating extraction jobs: 100%|███████████████████| 1/1 [00:00<00:00,  1.76it/s]\n",
      "Extracting files: 100%|███████████████████████████| 1/1 [00:10<00:00, 10.13s/it]\n"
     ]
    },
    {
     "name": "stdout",
     "output_type": "stream",
     "text": [
      "Extracting data from Exhibit_1_DRAFT_UNAUDITED_CSU_Combined_Financial_Statements_6-30-24_for_the_year_ended_06_30_2024__298_KB_.pdf\n"
     ]
    },
    {
     "name": "stderr",
     "output_type": "stream",
     "text": [
      "Uploading files: 100%|████████████████████████████| 1/1 [00:00<00:00,  1.13it/s]\n",
      "Creating extraction jobs: 100%|███████████████████| 1/1 [00:00<00:00,  1.22it/s]\n",
      "Extracting files: 100%|███████████████████████████| 1/1 [00:08<00:00,  8.71s/it]"
     ]
    },
    {
     "name": "stdout",
     "output_type": "stream",
     "text": [
      "Saved output to output_Balance_Sheet_DS/CALIFORNIA_STATE_UNIVERSITY.xlsx\n",
      "Extraction complete.\n"
     ]
    },
    {
     "name": "stderr",
     "output_type": "stream",
     "text": [
      "\n"
     ]
    }
   ],
   "source": [
    "# Loop over schools\n",
    "for school in sorted(os.listdir(PDF_ROOT))[0:4]:\n",
    "    school_dir = os.path.join(PDF_ROOT, school)\n",
    "    if not os.path.isdir(school_dir):\n",
    "        continue\n",
    "    print(f\"Processing school: {school}\")\n",
    "    process_school(school, school_dir)\n",
    "\n",
    "print(\"Extraction complete.\")"
   ]
  },
  {
   "cell_type": "code",
   "execution_count": null,
   "id": "1d599516-f027-43b9-ba6d-9338a609da58",
   "metadata": {},
   "outputs": [],
   "source": [
    "OUTPUT_FILE = os.path.join(OUTPUT_ROOT, \"all_schools.xlsx\")\n",
    "\n",
    "writer = pd.ExcelWriter(OUTPUT_FILE, engine=\"openpyxl\")\n",
    "\n",
    "for school in sorted(os.listdir(PDF_ROOT)):\n",
    "    school_dir = os.path.join(PDF_ROOT, school)\n",
    "    if not os.path.isdir(school_dir):\n",
    "        continue\n",
    "\n",
    "    combined   = {}\n",
    "    first_keys = None\n",
    "    for fname in sorted(os.listdir(school_dir)):\n",
    "        if not fname.lower().endswith(\".pdf\"):\n",
    "            continue\n",
    "        path = os.path.join(school_dir, fname)\n",
    "        print(f\"Extracting data from {school}/{fname}\")\n",
    "        try:\n",
    "            run  = agent.extract(path)\n",
    "            data = run.data or {}\n",
    "            if first_keys is None:\n",
    "                first_keys = list(data.keys())\n",
    "                combined  = {k: None for k in first_keys}\n",
    "            for k, v in data.items():\n",
    "                if v not in (None, \"\", []):\n",
    "                    combined[k] = v\n",
    "        except Exception as err:\n",
    "            print(f\"Skipped {fname}: {err}\")\n",
    "\n",
    "    if first_keys:\n",
    "        df = pd.DataFrame.from_dict(combined, orient=\"index\", columns=[\"2024-25\"])\n",
    "        df.index.name = \"Metric\"\n",
    "        sheet_name = school[:31]\n",
    "        df.to_excel(writer, sheet_name=sheet_name)\n",
    "    else:\n",
    "        print(f\"No data for {school}.\")\n",
    "\n",
    "writer.close()\n",
    "print(f\"All schools written to {OUTPUT_FILE}\")"
   ]
  },
  {
   "cell_type": "code",
   "execution_count": null,
   "id": "9eb0da23-d7a9-4494-82e8-03fab3c1e98b",
   "metadata": {},
   "outputs": [],
   "source": []
  },
  {
   "cell_type": "code",
   "execution_count": null,
   "id": "a1723148-df6b-4506-bfb8-c10e45df23b9",
   "metadata": {},
   "outputs": [],
   "source": []
  }
 ],
 "metadata": {
  "kernelspec": {
   "display_name": "Python [conda env:base] *",
   "language": "python",
   "name": "conda-base-py"
  },
  "language_info": {
   "codemirror_mode": {
    "name": "ipython",
    "version": 3
   },
   "file_extension": ".py",
   "mimetype": "text/x-python",
   "name": "python",
   "nbconvert_exporter": "python",
   "pygments_lexer": "ipython3",
   "version": "3.12.7"
  }
 },
 "nbformat": 4,
 "nbformat_minor": 5
}
