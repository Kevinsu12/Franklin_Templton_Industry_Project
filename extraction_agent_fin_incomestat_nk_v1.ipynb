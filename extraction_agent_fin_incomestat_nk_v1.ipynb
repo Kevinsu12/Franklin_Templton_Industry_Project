{
 "cells": [
  {
   "cell_type": "code",
   "execution_count": 1,
   "id": "b2b22931-96b4-4c19-a74f-44e0185ab2b4",
   "metadata": {
    "scrolled": true
   },
   "outputs": [
    {
     "name": "stdout",
     "output_type": "stream",
     "text": [
      "Requirement already satisfied: llama_cloud_services in /Users/neelabhkashyap/Documents/Old Data from Mac/apollo/.venv/lib/python3.11/site-packages (0.6.25)\n",
      "Requirement already satisfied: openpyxl in /Users/neelabhkashyap/Documents/Old Data from Mac/apollo/.venv/lib/python3.11/site-packages (3.1.5)\n",
      "Requirement already satisfied: click<9.0.0,>=8.1.7 in /Users/neelabhkashyap/Documents/Old Data from Mac/apollo/.venv/lib/python3.11/site-packages (from llama_cloud_services) (8.2.1)\n",
      "Requirement already satisfied: llama-cloud==0.1.23 in /Users/neelabhkashyap/Documents/Old Data from Mac/apollo/.venv/lib/python3.11/site-packages (from llama_cloud_services) (0.1.23)\n",
      "Requirement already satisfied: llama-index-core>=0.12.0 in /Users/neelabhkashyap/Documents/Old Data from Mac/apollo/.venv/lib/python3.11/site-packages (from llama_cloud_services) (0.12.38)\n",
      "Requirement already satisfied: platformdirs<5.0.0,>=4.3.7 in /Users/neelabhkashyap/Documents/Old Data from Mac/apollo/.venv/lib/python3.11/site-packages (from llama_cloud_services) (4.3.7)\n",
      "Requirement already satisfied: pydantic!=2.10,>=2.8 in /Users/neelabhkashyap/Documents/Old Data from Mac/apollo/.venv/lib/python3.11/site-packages (from llama_cloud_services) (2.11.5)\n",
      "Requirement already satisfied: python-dotenv<2.0.0,>=1.0.1 in /Users/neelabhkashyap/Documents/Old Data from Mac/apollo/.venv/lib/python3.11/site-packages (from llama_cloud_services) (1.1.0)\n",
      "Requirement already satisfied: certifi>=2024.7.4 in /Users/neelabhkashyap/Documents/Old Data from Mac/apollo/.venv/lib/python3.11/site-packages (from llama-cloud==0.1.23->llama_cloud_services) (2025.4.26)\n",
      "Requirement already satisfied: httpx>=0.20.0 in /Users/neelabhkashyap/Documents/Old Data from Mac/apollo/.venv/lib/python3.11/site-packages (from llama-cloud==0.1.23->llama_cloud_services) (0.28.1)\n",
      "Requirement already satisfied: et-xmlfile in /Users/neelabhkashyap/Documents/Old Data from Mac/apollo/.venv/lib/python3.11/site-packages (from openpyxl) (2.0.0)\n",
      "Requirement already satisfied: aiohttp<4,>=3.8.6 in /Users/neelabhkashyap/Documents/Old Data from Mac/apollo/.venv/lib/python3.11/site-packages (from llama-index-core>=0.12.0->llama_cloud_services) (3.12.4)\n",
      "Requirement already satisfied: aiosqlite in /Users/neelabhkashyap/Documents/Old Data from Mac/apollo/.venv/lib/python3.11/site-packages (from llama-index-core>=0.12.0->llama_cloud_services) (0.21.0)\n",
      "Requirement already satisfied: banks<3,>=2.0.0 in /Users/neelabhkashyap/Documents/Old Data from Mac/apollo/.venv/lib/python3.11/site-packages (from llama-index-core>=0.12.0->llama_cloud_services) (2.1.2)\n",
      "Requirement already satisfied: dataclasses-json in /Users/neelabhkashyap/Documents/Old Data from Mac/apollo/.venv/lib/python3.11/site-packages (from llama-index-core>=0.12.0->llama_cloud_services) (0.6.7)\n",
      "Requirement already satisfied: deprecated>=1.2.9.3 in /Users/neelabhkashyap/Documents/Old Data from Mac/apollo/.venv/lib/python3.11/site-packages (from llama-index-core>=0.12.0->llama_cloud_services) (1.2.18)\n",
      "Requirement already satisfied: dirtyjson<2,>=1.0.8 in /Users/neelabhkashyap/Documents/Old Data from Mac/apollo/.venv/lib/python3.11/site-packages (from llama-index-core>=0.12.0->llama_cloud_services) (1.0.8)\n",
      "Requirement already satisfied: filetype<2,>=1.2.0 in /Users/neelabhkashyap/Documents/Old Data from Mac/apollo/.venv/lib/python3.11/site-packages (from llama-index-core>=0.12.0->llama_cloud_services) (1.2.0)\n",
      "Requirement already satisfied: fsspec>=2023.5.0 in /Users/neelabhkashyap/Documents/Old Data from Mac/apollo/.venv/lib/python3.11/site-packages (from llama-index-core>=0.12.0->llama_cloud_services) (2025.5.1)\n",
      "Requirement already satisfied: nest-asyncio<2,>=1.5.8 in /Users/neelabhkashyap/Documents/Old Data from Mac/apollo/.venv/lib/python3.11/site-packages (from llama-index-core>=0.12.0->llama_cloud_services) (1.6.0)\n",
      "Requirement already satisfied: networkx>=3.0 in /Users/neelabhkashyap/Documents/Old Data from Mac/apollo/.venv/lib/python3.11/site-packages (from llama-index-core>=0.12.0->llama_cloud_services) (3.5)\n",
      "Requirement already satisfied: nltk>3.8.1 in /Users/neelabhkashyap/Documents/Old Data from Mac/apollo/.venv/lib/python3.11/site-packages (from llama-index-core>=0.12.0->llama_cloud_services) (3.9.1)\n",
      "Requirement already satisfied: numpy in /Users/neelabhkashyap/Documents/Old Data from Mac/apollo/.venv/lib/python3.11/site-packages (from llama-index-core>=0.12.0->llama_cloud_services) (2.2.4)\n",
      "Requirement already satisfied: pillow>=9.0.0 in /Users/neelabhkashyap/Documents/Old Data from Mac/apollo/.venv/lib/python3.11/site-packages (from llama-index-core>=0.12.0->llama_cloud_services) (11.2.1)\n",
      "Requirement already satisfied: pyyaml>=6.0.1 in /Users/neelabhkashyap/Documents/Old Data from Mac/apollo/.venv/lib/python3.11/site-packages (from llama-index-core>=0.12.0->llama_cloud_services) (6.0.2)\n",
      "Requirement already satisfied: requests>=2.31.0 in /Users/neelabhkashyap/Documents/Old Data from Mac/apollo/.venv/lib/python3.11/site-packages (from llama-index-core>=0.12.0->llama_cloud_services) (2.32.3)\n",
      "Requirement already satisfied: sqlalchemy>=1.4.49 in /Users/neelabhkashyap/Documents/Old Data from Mac/apollo/.venv/lib/python3.11/site-packages (from sqlalchemy[asyncio]>=1.4.49->llama-index-core>=0.12.0->llama_cloud_services) (2.0.41)\n",
      "Requirement already satisfied: tenacity!=8.4.0,<10.0.0,>=8.2.0 in /Users/neelabhkashyap/Documents/Old Data from Mac/apollo/.venv/lib/python3.11/site-packages (from llama-index-core>=0.12.0->llama_cloud_services) (9.1.2)\n",
      "Requirement already satisfied: tiktoken>=0.7.0 in /Users/neelabhkashyap/Documents/Old Data from Mac/apollo/.venv/lib/python3.11/site-packages (from llama-index-core>=0.12.0->llama_cloud_services) (0.9.0)\n",
      "Requirement already satisfied: tqdm<5,>=4.66.1 in /Users/neelabhkashyap/Documents/Old Data from Mac/apollo/.venv/lib/python3.11/site-packages (from llama-index-core>=0.12.0->llama_cloud_services) (4.67.1)\n",
      "Requirement already satisfied: typing-extensions>=4.5.0 in /Users/neelabhkashyap/Documents/Old Data from Mac/apollo/.venv/lib/python3.11/site-packages (from llama-index-core>=0.12.0->llama_cloud_services) (4.13.2)\n",
      "Requirement already satisfied: typing-inspect>=0.8.0 in /Users/neelabhkashyap/Documents/Old Data from Mac/apollo/.venv/lib/python3.11/site-packages (from llama-index-core>=0.12.0->llama_cloud_services) (0.9.0)\n",
      "Requirement already satisfied: wrapt in /Users/neelabhkashyap/Documents/Old Data from Mac/apollo/.venv/lib/python3.11/site-packages (from llama-index-core>=0.12.0->llama_cloud_services) (1.17.2)\n",
      "Requirement already satisfied: annotated-types>=0.6.0 in /Users/neelabhkashyap/Documents/Old Data from Mac/apollo/.venv/lib/python3.11/site-packages (from pydantic!=2.10,>=2.8->llama_cloud_services) (0.7.0)\n",
      "Requirement already satisfied: pydantic-core==2.33.2 in /Users/neelabhkashyap/Documents/Old Data from Mac/apollo/.venv/lib/python3.11/site-packages (from pydantic!=2.10,>=2.8->llama_cloud_services) (2.33.2)\n",
      "Requirement already satisfied: typing-inspection>=0.4.0 in /Users/neelabhkashyap/Documents/Old Data from Mac/apollo/.venv/lib/python3.11/site-packages (from pydantic!=2.10,>=2.8->llama_cloud_services) (0.4.1)\n",
      "Requirement already satisfied: aiohappyeyeballs>=2.5.0 in /Users/neelabhkashyap/Documents/Old Data from Mac/apollo/.venv/lib/python3.11/site-packages (from aiohttp<4,>=3.8.6->llama-index-core>=0.12.0->llama_cloud_services) (2.6.1)\n",
      "Requirement already satisfied: aiosignal>=1.1.2 in /Users/neelabhkashyap/Documents/Old Data from Mac/apollo/.venv/lib/python3.11/site-packages (from aiohttp<4,>=3.8.6->llama-index-core>=0.12.0->llama_cloud_services) (1.3.2)\n",
      "Requirement already satisfied: attrs>=17.3.0 in /Users/neelabhkashyap/Documents/Old Data from Mac/apollo/.venv/lib/python3.11/site-packages (from aiohttp<4,>=3.8.6->llama-index-core>=0.12.0->llama_cloud_services) (25.3.0)\n",
      "Requirement already satisfied: frozenlist>=1.1.1 in /Users/neelabhkashyap/Documents/Old Data from Mac/apollo/.venv/lib/python3.11/site-packages (from aiohttp<4,>=3.8.6->llama-index-core>=0.12.0->llama_cloud_services) (1.6.0)\n",
      "Requirement already satisfied: multidict<7.0,>=4.5 in /Users/neelabhkashyap/Documents/Old Data from Mac/apollo/.venv/lib/python3.11/site-packages (from aiohttp<4,>=3.8.6->llama-index-core>=0.12.0->llama_cloud_services) (6.4.4)\n",
      "Requirement already satisfied: propcache>=0.2.0 in /Users/neelabhkashyap/Documents/Old Data from Mac/apollo/.venv/lib/python3.11/site-packages (from aiohttp<4,>=3.8.6->llama-index-core>=0.12.0->llama_cloud_services) (0.3.1)\n",
      "Requirement already satisfied: yarl<2.0,>=1.17.0 in /Users/neelabhkashyap/Documents/Old Data from Mac/apollo/.venv/lib/python3.11/site-packages (from aiohttp<4,>=3.8.6->llama-index-core>=0.12.0->llama_cloud_services) (1.20.0)\n",
      "Requirement already satisfied: griffe in /Users/neelabhkashyap/Documents/Old Data from Mac/apollo/.venv/lib/python3.11/site-packages (from banks<3,>=2.0.0->llama-index-core>=0.12.0->llama_cloud_services) (1.7.3)\n",
      "Requirement already satisfied: jinja2 in /Users/neelabhkashyap/Documents/Old Data from Mac/apollo/.venv/lib/python3.11/site-packages (from banks<3,>=2.0.0->llama-index-core>=0.12.0->llama_cloud_services) (3.1.6)\n",
      "Requirement already satisfied: anyio in /Users/neelabhkashyap/Documents/Old Data from Mac/apollo/.venv/lib/python3.11/site-packages (from httpx>=0.20.0->llama-cloud==0.1.23->llama_cloud_services) (4.9.0)\n",
      "Requirement already satisfied: httpcore==1.* in /Users/neelabhkashyap/Documents/Old Data from Mac/apollo/.venv/lib/python3.11/site-packages (from httpx>=0.20.0->llama-cloud==0.1.23->llama_cloud_services) (1.0.9)\n",
      "Requirement already satisfied: idna in /Users/neelabhkashyap/Documents/Old Data from Mac/apollo/.venv/lib/python3.11/site-packages (from httpx>=0.20.0->llama-cloud==0.1.23->llama_cloud_services) (3.10)\n",
      "Requirement already satisfied: h11>=0.16 in /Users/neelabhkashyap/Documents/Old Data from Mac/apollo/.venv/lib/python3.11/site-packages (from httpcore==1.*->httpx>=0.20.0->llama-cloud==0.1.23->llama_cloud_services) (0.16.0)\n",
      "Requirement already satisfied: joblib in /Users/neelabhkashyap/Documents/Old Data from Mac/apollo/.venv/lib/python3.11/site-packages (from nltk>3.8.1->llama-index-core>=0.12.0->llama_cloud_services) (1.4.2)\n",
      "Requirement already satisfied: regex>=2021.8.3 in /Users/neelabhkashyap/Documents/Old Data from Mac/apollo/.venv/lib/python3.11/site-packages (from nltk>3.8.1->llama-index-core>=0.12.0->llama_cloud_services) (2024.11.6)\n",
      "Requirement already satisfied: charset-normalizer<4,>=2 in /Users/neelabhkashyap/Documents/Old Data from Mac/apollo/.venv/lib/python3.11/site-packages (from requests>=2.31.0->llama-index-core>=0.12.0->llama_cloud_services) (3.4.1)\n",
      "Requirement already satisfied: urllib3<3,>=1.21.1 in /Users/neelabhkashyap/Documents/Old Data from Mac/apollo/.venv/lib/python3.11/site-packages (from requests>=2.31.0->llama-index-core>=0.12.0->llama_cloud_services) (2.4.0)\n",
      "Requirement already satisfied: greenlet>=1 in /Users/neelabhkashyap/Documents/Old Data from Mac/apollo/.venv/lib/python3.11/site-packages (from sqlalchemy[asyncio]>=1.4.49->llama-index-core>=0.12.0->llama_cloud_services) (3.2.1)\n",
      "Requirement already satisfied: mypy-extensions>=0.3.0 in /Users/neelabhkashyap/Documents/Old Data from Mac/apollo/.venv/lib/python3.11/site-packages (from typing-inspect>=0.8.0->llama-index-core>=0.12.0->llama_cloud_services) (1.1.0)\n",
      "Requirement already satisfied: marshmallow<4.0.0,>=3.18.0 in /Users/neelabhkashyap/Documents/Old Data from Mac/apollo/.venv/lib/python3.11/site-packages (from dataclasses-json->llama-index-core>=0.12.0->llama_cloud_services) (3.26.1)\n",
      "Requirement already satisfied: packaging>=17.0 in /Users/neelabhkashyap/Documents/Old Data from Mac/apollo/.venv/lib/python3.11/site-packages (from marshmallow<4.0.0,>=3.18.0->dataclasses-json->llama-index-core>=0.12.0->llama_cloud_services) (24.2)\n",
      "Requirement already satisfied: sniffio>=1.1 in /Users/neelabhkashyap/Documents/Old Data from Mac/apollo/.venv/lib/python3.11/site-packages (from anyio->httpx>=0.20.0->llama-cloud==0.1.23->llama_cloud_services) (1.3.1)\n",
      "Requirement already satisfied: colorama>=0.4 in /Users/neelabhkashyap/Documents/Old Data from Mac/apollo/.venv/lib/python3.11/site-packages (from griffe->banks<3,>=2.0.0->llama-index-core>=0.12.0->llama_cloud_services) (0.4.6)\n",
      "Requirement already satisfied: MarkupSafe>=2.0 in /Users/neelabhkashyap/Documents/Old Data from Mac/apollo/.venv/lib/python3.11/site-packages (from jinja2->banks<3,>=2.0.0->llama-index-core>=0.12.0->llama_cloud_services) (3.0.2)\n",
      "\n",
      "\u001b[1m[\u001b[0m\u001b[34;49mnotice\u001b[0m\u001b[1;39;49m]\u001b[0m\u001b[39;49m A new release of pip is available: \u001b[0m\u001b[31;49m24.0\u001b[0m\u001b[39;49m -> \u001b[0m\u001b[32;49m25.1.1\u001b[0m\n",
      "\u001b[1m[\u001b[0m\u001b[34;49mnotice\u001b[0m\u001b[1;39;49m]\u001b[0m\u001b[39;49m To update, run: \u001b[0m\u001b[32;49mpip install --upgrade pip\u001b[0m\n"
     ]
    }
   ],
   "source": [
    "!pip install llama_cloud_services openpyxl"
   ]
  },
  {
   "cell_type": "code",
   "execution_count": 2,
   "id": "5c9627dd-5608-4da8-9f1a-8ea9589a003b",
   "metadata": {},
   "outputs": [],
   "source": [
    "import os\n",
    "import pandas as pd\n",
    "from llama_cloud_services import LlamaExtract\n",
    "from financial_schemas_incomestat import IncomeStatement_2024_25  #This could be adjusted through schemas.py\n",
    "#from dotenv import load_dotenv\n"
   ]
  },
  {
   "cell_type": "code",
   "execution_count": 3,
   "id": "cf875a82-1028-4b54-8807-1d1dde9cca33",
   "metadata": {},
   "outputs": [],
   "source": [
    "PDF_ROOT = \"scrapping/university_pdfs\"\n",
    "OUTPUT_ROOT = \"output_fin_incomestatement_nk_v1\"\n",
    "os.makedirs(OUTPUT_ROOT, exist_ok=True)  \n",
    "AGENT_ID = \"56843d2c-7e9b-445d-b634-9833dd1cb4db\" #Different based on your LLamaCloud account\n",
    "api_key = os.getenv(\"LLAMACLOUD_API_KEY\")"
   ]
  },
  {
   "cell_type": "code",
   "execution_count": 4,
   "id": "47855a29-4fc8-4dae-b036-4626be1954da",
   "metadata": {},
   "outputs": [
    {
     "name": "stderr",
     "output_type": "stream",
     "text": [
      "/var/folders/m1/8j3nd3m95y1brb0j52fx43fr0000gn/T/ipykernel_30923/2778103400.py:13: PydanticDeprecatedSince20: The `schema` method is deprecated; use `model_json_schema` instead. Deprecated in Pydantic V2.0 to be removed in V3.0. See Pydantic V2 Migration Guide at https://errors.pydantic.dev/2.11/migration/\n",
      "  agent.data_schema = IncomeStatement_2024_25.schema()\n"
     ]
    }
   ],
   "source": [
    "extractor = LlamaExtract(\n",
    "    api_key=\"llx-63CU3PdyDo0d230ureocmy9JOHgnPwYgE2HETi55DqzYCIpy\",  \n",
    "    project_id=\"8c10e62e-3810-4193-915d-d2d11105826d\"\n",
    ")\n",
    "\n",
    "\n",
    "\n",
    "#agent = extractor.create_agent(name = \"endowment-parser-2024\", data_schema=EndowmentAndInvestmentLevels_2024_25)\n",
    "\n",
    "agent = extractor.get_agent(id = AGENT_ID)\n",
    "\n",
    "#uncomment the following lines if you updated the schema\n",
    "agent.data_schema = IncomeStatement_2024_25.schema()\n",
    "agent.save()\n",
    "agent = extractor.get_agent(id = AGENT_ID)\n"
   ]
  },
  {
   "cell_type": "code",
   "execution_count": 5,
   "id": "f81a8d24-9e3e-40eb-a1c0-9fe4e2025a35",
   "metadata": {},
   "outputs": [
    {
     "data": {
      "text/plain": [
       "{'additionalProperties': False,\n",
       " 'properties': {'gross_tuition_revenue': {'anyOf': [{'type': 'integer'},\n",
       "    {'type': 'null'}],\n",
       "   'description': \"Gross tuition revenue before financial aid for 2024–2025. Look for labels like 'Gross Tuition and Fees'. Exclude net tuition or post-discounted amounts.\"},\n",
       "  'financial_aid': {'anyOf': [{'type': 'integer'}, {'type': 'null'}],\n",
       "   'description': \"Institutional financial aid or tuition discounts for 2024–2025. Labeled 'Scholarships', 'Grants', or 'Financial Aid'. Do not include federal aid.\"},\n",
       "  'net_tuition_revenue': {'anyOf': [{'type': 'integer'}, {'type': 'null'}],\n",
       "   'description': \"Tuition revenue net of financial aid for 2024–2025. Must be explicitly labeled as 'Net Tuition Revenue' or equivalent. Do not compute manually.\"},\n",
       "  'federal_grants_contracts': {'anyOf': [{'type': 'integer'},\n",
       "    {'type': 'null'}],\n",
       "   'description': \"Federal operating grants and contracts for 2024–2025. Look for 'Federal Grants & Contracts' in operating revenue section. Exclude capital grants.\"},\n",
       "  'state_local_grants_contracts': {'anyOf': [{'type': 'integer'},\n",
       "    {'type': 'null'}],\n",
       "   'description': 'State or local government operating grants and contracts for 2024–2025. Exclude restricted or capital-only support.'},\n",
       "  'government_grants_contracts_total': {'anyOf': [{'type': 'integer'},\n",
       "    {'type': 'null'}],\n",
       "   'description': 'Combined federal, state, and local grants/contracts for 2024–2025, if labeled as a total. Do not compute unless explicitly stated.'},\n",
       "  'state_appropriations': {'anyOf': [{'type': 'integer'}, {'type': 'null'}],\n",
       "   'description': 'Base state funding or appropriations for 2024–2025. Exclude capital-specific appropriations unless labeled as operating.'},\n",
       "  'private_gifts_grants_contracts': {'anyOf': [{'type': 'integer'},\n",
       "    {'type': 'null'}],\n",
       "   'description': 'Private support for operations for 2024–2025. Includes gifts, contributions, grants. Must be unrestricted or labeled for current use.'},\n",
       "  'total_gifts_contracts_other_support': {'anyOf': [{'type': 'integer'},\n",
       "    {'type': 'null'}],\n",
       "   'description': 'Total of all gifts, grants, and other support for operations for 2024–2025. Only extract if explicitly labeled as total. Do not sum manually.'},\n",
       "  'private_gifts_with_donor_restrictions': {'anyOf': [{'type': 'integer'},\n",
       "    {'type': 'null'}],\n",
       "   'description': 'Gifts or grants with donor restrictions for time or purpose, applicable to 2024–2025. Must be clearly labeled. Do not infer from general private support.'},\n",
       "  'investment_income_operations': {'anyOf': [{'type': 'integer'},\n",
       "    {'type': 'null'}],\n",
       "   'description': \"Investment income available for operational use during 2024–2025. May be labeled 'Operating Investment Income'. Exclude restricted or unrealized returns.\"},\n",
       "  'other_investment_income': {'anyOf': [{'type': 'integer'}, {'type': 'null'}],\n",
       "   'description': 'Other investment income not otherwise categorized, if labeled separately. Include interest, pooled funds, etc., only if labeled clearly.'},\n",
       "  'investment_income_total': {'anyOf': [{'type': 'integer'}, {'type': 'null'}],\n",
       "   'description': 'Total investment income (dividends + interest) for 2024–2025. Exclude gains/losses unless stated as included.'},\n",
       "  'realized_gains_losses': {'anyOf': [{'type': 'integer'}, {'type': 'null'}],\n",
       "   'description': 'Realized gains or losses on investments for 2024–2025. Include only if specifically labeled. Do not combine with unrealized.'},\n",
       "  'unrealized_gains_losses': {'anyOf': [{'type': 'integer'}, {'type': 'null'}],\n",
       "   'description': \"Unrealized gains or losses for 2024–2025, typically due to fair value changes. Must be labeled 'Unrealized'.\"},\n",
       "  'realized_unrealized_gains_combined': {'anyOf': [{'type': 'integer'},\n",
       "    {'type': 'null'}],\n",
       "   'description': 'Combined realized/unrealized gains or losses, if labeled together. Exclude if the document breaks them out separately.'},\n",
       "  'total_operating_investment_return': {'anyOf': [{'type': 'integer'},\n",
       "    {'type': 'null'}],\n",
       "   'description': \"Total investment return used for operations, including realized/unrealized, for 2024–2025. Only extract if labeled as 'Operating Investment Return' or equivalent.\"},\n",
       "  'investment_income_with_donor_restrictions': {'anyOf': [{'type': 'integer'},\n",
       "    {'type': 'null'}],\n",
       "   'description': 'Operating investment income with donor restrictions. Must be explicitly labeled. Do not assume based on other investment lines.'},\n",
       "  'auxiliary_enterprise_revenue': {'anyOf': [{'type': 'integer'},\n",
       "    {'type': 'null'}],\n",
       "   'description': 'Revenue from auxiliary operations (e.g., housing, dining, parking) in 2024–2025. Must be clearly labeled.'},\n",
       "  'healthcare_clinical_revenue': {'anyOf': [{'type': 'integer'},\n",
       "    {'type': 'null'}],\n",
       "   'description': 'Revenue from healthcare or clinical activities for 2024–2025. Include only if clearly identified.'},\n",
       "  'net_assets_released_from_restrictions': {'anyOf': [{'type': 'integer'},\n",
       "    {'type': 'null'}],\n",
       "   'description': \"Net assets released from donor or legal restrictions in 2024–2025. Labeled 'Net Assets Released from Restrictions'.\"},\n",
       "  'other_operating_revenue': {'anyOf': [{'type': 'integer'}, {'type': 'null'}],\n",
       "   'description': 'Other operating revenue not elsewhere categorized. Only extract if labeled explicitly.'},\n",
       "  'total_operating_revenue': {'anyOf': [{'type': 'integer'}, {'type': 'null'}],\n",
       "   'description': 'Total operating revenue for 2024–2025. Only extract if labeled. Do not compute.'},\n",
       "  'instructional_expense': {'anyOf': [{'type': 'integer'}, {'type': 'null'}],\n",
       "   'description': 'Instructional expenses for 2024–2025. Include direct academic instruction.'},\n",
       "  'research_expense': {'anyOf': [{'type': 'integer'}, {'type': 'null'}],\n",
       "   'description': 'Research-related operational expenses for 2024–2025. Exclude capitalized research infrastructure unless operational.'},\n",
       "  'instructional_research_expense': {'anyOf': [{'type': 'integer'},\n",
       "    {'type': 'null'}],\n",
       "   'description': 'Combined instruction & research expense line, if labeled together. Only use this if reported as one item.'},\n",
       "  'auxiliary_enterprise_expense': {'anyOf': [{'type': 'integer'},\n",
       "    {'type': 'null'}],\n",
       "   'description': 'Expenses related to auxiliary operations (e.g., dorms, food) for 2024–2025.'},\n",
       "  'healthcare_clinical_expense': {'anyOf': [{'type': 'integer'},\n",
       "    {'type': 'null'}],\n",
       "   'description': 'Clinical and healthcare expense for 2024–2025. Include only if labeled clearly.'},\n",
       "  'academic_support': {'anyOf': [{'type': 'integer'}, {'type': 'null'}],\n",
       "   'description': 'Academic support services expenses (libraries, curriculum dev) in 2024–2025.'},\n",
       "  'student_services': {'anyOf': [{'type': 'integer'}, {'type': 'null'}],\n",
       "   'description': 'Expenses related to student services (advising, career, etc.) for 2024–2025.'},\n",
       "  'institutional_support': {'anyOf': [{'type': 'integer'}, {'type': 'null'}],\n",
       "   'description': 'Institutional overhead and general administrative expenses for 2024–2025.'},\n",
       "  'public_service_expense': {'anyOf': [{'type': 'integer'}, {'type': 'null'}],\n",
       "   'description': 'Public/community service operating expenses for 2024–2025.'},\n",
       "  'student_aid_expense': {'anyOf': [{'type': 'integer'}, {'type': 'null'}],\n",
       "   'description': 'Scholarships and fellowships recognized as expense, not offsets to revenue.'},\n",
       "  'other_operating_expense': {'anyOf': [{'type': 'integer'}, {'type': 'null'}],\n",
       "   'description': \"All other functional operating expenses for 2024–2025, if labeled as 'Other Exp'.\"},\n",
       "  'total_operating_expense': {'anyOf': [{'type': 'integer'}, {'type': 'null'}],\n",
       "   'description': 'Total of all functional operating expenses for 2024–2025. Only extract if labeled.'},\n",
       "  'net_operating_income': {'anyOf': [{'type': 'integer'}, {'type': 'null'}],\n",
       "   'description': \"Net income from operations (Total Revenue - Total Expenses). Do not compute. Only extract if labeled 'Net Operating Income' or equivalent.\"},\n",
       "  'plant_maintenance_expense': {'anyOf': [{'type': 'integer'},\n",
       "    {'type': 'null'}],\n",
       "   'description': 'Plant operations and maintenance expense for 2024–2025.'},\n",
       "  'depreciation_amortization_expense': {'anyOf': [{'type': 'integer'},\n",
       "    {'type': 'null'}],\n",
       "   'description': 'Depreciation and amortization expense reported for 2024–2025.'},\n",
       "  'interest_expense': {'anyOf': [{'type': 'integer'}, {'type': 'null'}],\n",
       "   'description': 'Interest expense on borrowings reported for 2024–2025.'},\n",
       "  'non_op_realized_gains': {'anyOf': [{'type': 'integer'}, {'type': 'null'}],\n",
       "   'description': 'Realized gains from investments reported as non-operating in 2024–2025.'},\n",
       "  'other_non_op_revenue': {'anyOf': [{'type': 'integer'}, {'type': 'null'}],\n",
       "   'description': 'Other non-operating revenue for 2024–2025, if not itemized elsewhere.'},\n",
       "  'non_operating_revenue': {'anyOf': [{'type': 'integer'}, {'type': 'null'}],\n",
       "   'description': 'Total non-operating revenue if explicitly labeled.'},\n",
       "  'non_op_realized_losses': {'anyOf': [{'type': 'integer'}, {'type': 'null'}],\n",
       "   'description': 'Realized losses from investments reported as non-operating in 2024–2025.'},\n",
       "  'other_non_op_expense': {'anyOf': [{'type': 'integer'}, {'type': 'null'}],\n",
       "   'description': 'Other non-operating expenses not otherwise listed.'},\n",
       "  'non_operating_expense': {'anyOf': [{'type': 'integer'}, {'type': 'null'}],\n",
       "   'description': 'Total non-operating expenses, if explicitly labeled.'},\n",
       "  'non_op_realized_gains_with_restrictions': {'anyOf': [{'type': 'integer'},\n",
       "    {'type': 'null'}],\n",
       "   'description': 'Realized investment gains with donor restrictions. Only extract if explicitly labeled with restrictions.'},\n",
       "  'extraordinary_gain_or_loss': {'anyOf': [{'type': 'integer'},\n",
       "    {'type': 'null'}],\n",
       "   'description': 'Extraordinary or one-time gain/loss for 2024–2025.'},\n",
       "  'net_assets_released_for_capital': {'anyOf': [{'type': 'integer'},\n",
       "    {'type': 'null'}],\n",
       "   'description': 'Net assets released from restriction for capital use in 2024–2025.'},\n",
       "  'change_fair_value_derivatives': {'anyOf': [{'type': 'integer'},\n",
       "    {'type': 'null'}],\n",
       "   'description': 'Change in fair market value of derivative instruments.'},\n",
       "  'capital_grants_gifts': {'anyOf': [{'type': 'integer'}, {'type': 'null'}],\n",
       "   'description': 'Capital grants and gifts received during 2024–2025.'},\n",
       "  'net_unrealized_investment_income': {'anyOf': [{'type': 'integer'},\n",
       "    {'type': 'null'}],\n",
       "   'description': 'Net unrealized gains/losses on investments not included elsewhere.'},\n",
       "  'other_adj_net_assets_without_restrictions': {'anyOf': [{'type': 'integer'},\n",
       "    {'type': 'null'}],\n",
       "   'description': 'Other adjustments to net assets without donor restrictions.'},\n",
       "  'change_net_assets_without_donor_restrictions': {'anyOf': [{'type': 'integer'},\n",
       "    {'type': 'null'}],\n",
       "   'description': 'Net change in unrestricted net assets for 2024–2025.'},\n",
       "  'change_net_assets_with_donor_restrictions': {'anyOf': [{'type': 'integer'},\n",
       "    {'type': 'null'}],\n",
       "   'description': 'Net change in restricted net assets for 2024–2025.'},\n",
       "  'change_temp_restricted_net_assets': {'anyOf': [{'type': 'integer'},\n",
       "    {'type': 'null'}],\n",
       "   'description': 'Change in temporarily restricted net assets for 2024–2025.'},\n",
       "  'change_perm_restricted_net_assets': {'anyOf': [{'type': 'integer'},\n",
       "    {'type': 'null'}],\n",
       "   'description': 'Change in permanently restricted net assets for 2024–2025.'},\n",
       "  'other_adj_to_net_assets': {'anyOf': [{'type': 'integer'}, {'type': 'null'}],\n",
       "   'description': 'Other general adjustments to net assets for the period.'},\n",
       "  'total_change_in_net_assets': {'anyOf': [{'type': 'integer'},\n",
       "    {'type': 'null'}],\n",
       "   'description': 'Final bottom-line change in total net assets for 2024–2025. Only extract if explicitly stated. Do not derive.'}},\n",
       " 'required': ['gross_tuition_revenue',\n",
       "  'financial_aid',\n",
       "  'net_tuition_revenue',\n",
       "  'federal_grants_contracts',\n",
       "  'state_local_grants_contracts',\n",
       "  'government_grants_contracts_total',\n",
       "  'state_appropriations',\n",
       "  'private_gifts_grants_contracts',\n",
       "  'total_gifts_contracts_other_support',\n",
       "  'private_gifts_with_donor_restrictions',\n",
       "  'investment_income_operations',\n",
       "  'other_investment_income',\n",
       "  'investment_income_total',\n",
       "  'realized_gains_losses',\n",
       "  'unrealized_gains_losses',\n",
       "  'realized_unrealized_gains_combined',\n",
       "  'total_operating_investment_return',\n",
       "  'investment_income_with_donor_restrictions',\n",
       "  'auxiliary_enterprise_revenue',\n",
       "  'healthcare_clinical_revenue',\n",
       "  'net_assets_released_from_restrictions',\n",
       "  'other_operating_revenue',\n",
       "  'total_operating_revenue',\n",
       "  'instructional_expense',\n",
       "  'research_expense',\n",
       "  'instructional_research_expense',\n",
       "  'auxiliary_enterprise_expense',\n",
       "  'healthcare_clinical_expense',\n",
       "  'academic_support',\n",
       "  'student_services',\n",
       "  'institutional_support',\n",
       "  'public_service_expense',\n",
       "  'student_aid_expense',\n",
       "  'other_operating_expense',\n",
       "  'total_operating_expense',\n",
       "  'net_operating_income',\n",
       "  'plant_maintenance_expense',\n",
       "  'depreciation_amortization_expense',\n",
       "  'interest_expense',\n",
       "  'non_op_realized_gains',\n",
       "  'other_non_op_revenue',\n",
       "  'non_operating_revenue',\n",
       "  'non_op_realized_losses',\n",
       "  'other_non_op_expense',\n",
       "  'non_operating_expense',\n",
       "  'non_op_realized_gains_with_restrictions',\n",
       "  'extraordinary_gain_or_loss',\n",
       "  'net_assets_released_for_capital',\n",
       "  'change_fair_value_derivatives',\n",
       "  'capital_grants_gifts',\n",
       "  'net_unrealized_investment_income',\n",
       "  'other_adj_net_assets_without_restrictions',\n",
       "  'change_net_assets_without_donor_restrictions',\n",
       "  'change_net_assets_with_donor_restrictions',\n",
       "  'change_temp_restricted_net_assets',\n",
       "  'change_perm_restricted_net_assets',\n",
       "  'other_adj_to_net_assets',\n",
       "  'total_change_in_net_assets'],\n",
       " 'type': 'object'}"
      ]
     },
     "execution_count": 5,
     "metadata": {},
     "output_type": "execute_result"
    }
   ],
   "source": [
    "agent.data_schema"
   ]
  },
  {
   "cell_type": "markdown",
   "id": "6449229a-af1c-4e6f-8219-6497a0a1bc94",
   "metadata": {},
   "source": [
    "The following two cell blocks extract all schools' info into one excel file per school."
   ]
  },
  {
   "cell_type": "code",
   "execution_count": 7,
   "id": "36077e96-e5ec-4352-afef-d76b8f78be2d",
   "metadata": {},
   "outputs": [],
   "source": [
    "def process_school(school_name, school_dir):\n",
    "    combined   = {}\n",
    "    first_keys = None\n",
    "\n",
    "    for fname in sorted(os.listdir(school_dir)):\n",
    "        if not fname.lower().endswith(\".pdf\"):\n",
    "            continue\n",
    "        path = os.path.join(school_dir, fname)\n",
    "        print(f\"Extracting data from {fname}\")\n",
    "        try:\n",
    "            run  = agent.extract(path)\n",
    "            data = run.data or {}\n",
    "            if first_keys is None:\n",
    "                first_keys = list(data.keys())\n",
    "                combined  = {k: None for k in first_keys}\n",
    "            for k, v in data.items():\n",
    "                if v not in (None, \"\", []):\n",
    "                    combined[k] = v\n",
    "        except Exception as err:\n",
    "            print(f\"Skipped {fname}: {err}\")\n",
    "\n",
    "    if first_keys:\n",
    "        df = pd.DataFrame.from_dict(combined, orient=\"index\", columns=[\"2024-25\"])\n",
    "        df.index.name = \"Metric\"\n",
    "        outfile = os.path.join(OUTPUT_ROOT, f\"{school_name}.xlsx\")\n",
    "        df.to_excel(outfile)\n",
    "        print(f\"Saved output to {outfile}\")\n",
    "    else:\n",
    "        print(f\"No PDF data found for {school_name}\")"
   ]
  },
  {
   "cell_type": "code",
   "execution_count": null,
   "id": "a7256b8f-8158-48f2-8b89-5e1ae36760c1",
   "metadata": {},
   "outputs": [
    {
     "name": "stdout",
     "output_type": "stream",
     "text": [
      "Processing school: ARIZONA_STATE_UNIVERSITY\n",
      "Extracting data from FY_2024_Arizona_State_University_Annual_Comprehensive_Financial_Report_for_the_year_ended_06_30_2024__4.1_MB_.pdf\n"
     ]
    },
    {
     "name": "stderr",
     "output_type": "stream",
     "text": [
      "Uploading files: 100%|██████████| 1/1 [00:01<00:00,  1.75s/it]\n",
      "Creating extraction jobs: 100%|██████████| 1/1 [00:01<00:00,  1.45s/it]\n",
      "Extracting files: 100%|██████████| 1/1 [00:24<00:00, 24.88s/it]\n"
     ]
    },
    {
     "name": "stdout",
     "output_type": "stream",
     "text": [
      "Extracting data from FY_2024_Arizona_State_University_Continuing_Disclosure_Undertaking_for_the_year_ended_06_30_2024__160_KB_.pdf\n"
     ]
    },
    {
     "name": "stderr",
     "output_type": "stream",
     "text": [
      "Uploading files: 100%|██████████| 1/1 [00:00<00:00,  1.11it/s]\n",
      "Creating extraction jobs: 100%|██████████| 1/1 [00:00<00:00,  2.05it/s]\n",
      "Extracting files: 100%|██████████| 1/1 [00:12<00:00, 12.11s/it]\n"
     ]
    },
    {
     "name": "stdout",
     "output_type": "stream",
     "text": [
      "Saved output to output_fin_incomestatement_nk_v1/ARIZONA_STATE_UNIVERSITY.xlsx\n",
      "Processing school: BRADLEY_UNIVERSITY\n",
      "Extracting data from Annual_Financial_Information_and_Operating_Data__Rule_15c2-12__for_FY24_for_the_year_ended_05_31_2024__227_KB_.pdf\n"
     ]
    },
    {
     "name": "stderr",
     "output_type": "stream",
     "text": [
      "Uploading files: 100%|██████████| 1/1 [00:01<00:00,  1.18s/it]\n",
      "Creating extraction jobs: 100%|██████████| 1/1 [00:00<00:00,  1.70it/s]\n",
      "Extracting files: 100%|██████████| 1/1 [00:09<00:00,  9.29s/it]\n"
     ]
    },
    {
     "name": "stdout",
     "output_type": "stream",
     "text": [
      "Extracting data from Audited_Financial_Statements_or_ACFR__Rule_15c2-12__for_FY24_for_the_year_ended_05_31_2024__541_KB_.pdf\n"
     ]
    },
    {
     "name": "stderr",
     "output_type": "stream",
     "text": [
      "Uploading files: 100%|██████████| 1/1 [00:01<00:00,  1.06s/it]\n",
      "Creating extraction jobs: 100%|██████████| 1/1 [00:00<00:00,  1.92it/s]\n",
      "Extracting files: 100%|██████████| 1/1 [01:10<00:00, 70.42s/it]\n"
     ]
    },
    {
     "name": "stdout",
     "output_type": "stream",
     "text": [
      "Saved output to output_fin_incomestatement_nk_v1/BRADLEY_UNIVERSITY.xlsx\n",
      "Processing school: CALIFORNIA_STATE_UNIVERSITY\n",
      "Extracting data from Exhibit_1_CSU_Combined_Financial_Stmts_6-30-24_for_the_year_ended_06_30_2024__15.6_MB_.pdf\n"
     ]
    },
    {
     "name": "stderr",
     "output_type": "stream",
     "text": [
      "Uploading files: 100%|██████████| 1/1 [00:03<00:00,  3.68s/it]\n",
      "Creating extraction jobs: 100%|██████████| 1/1 [00:00<00:00,  1.96it/s]\n",
      "Extracting files: 100%|██████████| 1/1 [01:30<00:00, 90.21s/it]\n"
     ]
    },
    {
     "name": "stdout",
     "output_type": "stream",
     "text": [
      "Extracting data from Exhibit_1_CSU_Combined_Financial_Stmts_6-30-24_for_the_year_ended_06_30_2024__308_KB_.pdf\n"
     ]
    },
    {
     "name": "stderr",
     "output_type": "stream",
     "text": [
      "Uploading files: 100%|██████████| 1/1 [00:02<00:00,  2.86s/it]\n",
      "Creating extraction jobs: 100%|██████████| 1/1 [00:00<00:00,  2.07it/s]\n",
      "Extracting files: 100%|██████████| 1/1 [00:21<00:00, 21.42s/it]\n"
     ]
    },
    {
     "name": "stdout",
     "output_type": "stream",
     "text": [
      "Extracting data from Exhibit_1_DRAFT_UNAUDITED_CSU_Combined_Financial_Statements_6-30-24_for_the_year_ended_06_30_2024__1.2_MB_.pdf\n"
     ]
    },
    {
     "name": "stderr",
     "output_type": "stream",
     "text": [
      "Uploading files: 100%|██████████| 1/1 [00:01<00:00,  1.22s/it]\n",
      "Creating extraction jobs: 100%|██████████| 1/1 [00:00<00:00,  2.07it/s]\n",
      "Extracting files:   0%|          | 0/1 [00:00<?, ?it/s]"
     ]
    },
    {
     "name": "stdout",
     "output_type": "stream",
     "text": [
      "Skipped Exhibit_1_DRAFT_UNAUDITED_CSU_Combined_Financial_Statements_6-30-24_for_the_year_ended_06_30_2024__1.2_MB_.pdf: Network error: \n",
      "Extracting data from Exhibit_1_DRAFT_UNAUDITED_CSU_Combined_Financial_Statements_6-30-24_for_the_year_ended_06_30_2024__298_KB_.pdf\n"
     ]
    },
    {
     "name": "stderr",
     "output_type": "stream",
     "text": [
      "Uploading files: 100%|██████████| 1/1 [00:02<00:00,  2.51s/it]\n",
      "Creating extraction jobs: 100%|██████████| 1/1 [00:01<00:00,  1.31s/it]\n",
      "Extracting files: 100%|██████████| 1/1 [01:38<00:00, 98.29s/it]\n"
     ]
    },
    {
     "name": "stdout",
     "output_type": "stream",
     "text": [
      "Saved output to output_fin_incomestatement_nk_v1/CALIFORNIA_STATE_UNIVERSITY.xlsx\n",
      "Processing school: CORNELL_UNIVERSITY\n",
      "Extracting data from 2024_Audited_Financial_Statements_for_the_year_ended_06_30_2024__788_KB_.pdf\n"
     ]
    },
    {
     "name": "stderr",
     "output_type": "stream",
     "text": [
      "Uploading files: 100%|██████████| 1/1 [00:02<00:00,  2.41s/it]\n",
      "Creating extraction jobs: 100%|██████████| 1/1 [00:00<00:00,  1.81it/s]\n",
      "Extracting files:   0%|          | 0/1 [04:33<?, ?it/s]\n",
      "Extracting files: 100%|██████████| 1/1 [00:51<00:00, 51.58s/it]\n"
     ]
    },
    {
     "name": "stdout",
     "output_type": "stream",
     "text": [
      "Extracting data from 2024_Operating_Data_for_the_year_ended_06_30_2024__109_KB_.pdf\n"
     ]
    },
    {
     "name": "stderr",
     "output_type": "stream",
     "text": [
      "Uploading files: 100%|██████████| 1/1 [00:01<00:00,  1.62s/it]\n",
      "Creating extraction jobs: 100%|██████████| 1/1 [00:00<00:00,  2.06it/s]\n",
      "Extracting files: 100%|██████████| 1/1 [00:12<00:00, 12.52s/it]\n"
     ]
    },
    {
     "name": "stdout",
     "output_type": "stream",
     "text": [
      "Extracting data from Incorporate_OS_by_Reference_as_of_04_25_2024__2.4_MB_.pdf\n"
     ]
    },
    {
     "name": "stderr",
     "output_type": "stream",
     "text": [
      "Uploading files: 100%|██████████| 1/1 [00:01<00:00,  1.76s/it]\n",
      "Creating extraction jobs: 100%|██████████| 1/1 [00:00<00:00,  1.04it/s]\n",
      "Extracting files: 100%|██████████| 1/1 [02:01<00:00, 121.78s/it]\n"
     ]
    },
    {
     "name": "stdout",
     "output_type": "stream",
     "text": [
      "Saved output to output_fin_incomestatement_nk_v1/CORNELL_UNIVERSITY.xlsx\n",
      "Processing school: CULINARY_INSTITUTE_OF_AMERICA_THE\n",
      "Extracting data from 2024_Annual_Report_-_Corrected_for_the_year_ended_05_31_2024__130_KB_.pdf\n"
     ]
    },
    {
     "name": "stderr",
     "output_type": "stream",
     "text": [
      "Uploading files: 100%|██████████| 1/1 [00:00<00:00,  1.01it/s]\n",
      "Creating extraction jobs: 100%|██████████| 1/1 [00:00<00:00,  1.55it/s]\n",
      "Extracting files: 100%|██████████| 1/1 [00:18<00:00, 18.40s/it]\n"
     ]
    },
    {
     "name": "stdout",
     "output_type": "stream",
     "text": [
      "Extracting data from 2024_Annual_Report_for_the_year_ended_05_31_2024__129_KB_.pdf\n"
     ]
    },
    {
     "name": "stderr",
     "output_type": "stream",
     "text": [
      "Uploading files: 100%|██████████| 1/1 [00:01<00:00,  1.83s/it]\n",
      "Creating extraction jobs: 100%|██████████| 1/1 [00:00<00:00,  2.16it/s]\n",
      "Extracting files: 100%|██████████| 1/1 [01:18<00:00, 78.07s/it]\n"
     ]
    },
    {
     "name": "stdout",
     "output_type": "stream",
     "text": [
      "Extracting data from 2024_Audited_Financial_Statements_for_the_year_ended_05_31_2024__277_KB_.pdf\n"
     ]
    },
    {
     "name": "stderr",
     "output_type": "stream",
     "text": [
      "Uploading files: 100%|██████████| 1/1 [00:02<00:00,  2.23s/it]\n",
      "Creating extraction jobs: 100%|██████████| 1/1 [00:00<00:00,  1.25it/s]\n",
      "Extracting files: 100%|██████████| 1/1 [01:06<00:00, 66.36s/it]\n"
     ]
    },
    {
     "name": "stdout",
     "output_type": "stream",
     "text": [
      "Saved output to output_fin_incomestatement_nk_v1/CULINARY_INSTITUTE_OF_AMERICA_THE.xlsx\n",
      "Processing school: GANNON_UNIVERSITY\n",
      "Extracting data from Audited_Financial_Statements_for_the_year_ended_06_30_2024__786_KB_.pdf\n"
     ]
    },
    {
     "name": "stderr",
     "output_type": "stream",
     "text": [
      "Uploading files: 100%|██████████| 1/1 [00:01<00:00,  1.50s/it]\n",
      "Creating extraction jobs: 100%|██████████| 1/1 [00:00<00:00,  1.14it/s]\n",
      "Extracting files: 100%|██████████| 1/1 [01:09<00:00, 69.81s/it]\n"
     ]
    },
    {
     "name": "stdout",
     "output_type": "stream",
     "text": [
      "Extracting data from Continued_Disclosures_Fall_2024_for_the_year_ended_06_30_2024_Document1__203_KB_.pdf\n"
     ]
    },
    {
     "name": "stderr",
     "output_type": "stream",
     "text": [
      "Uploading files: 100%|██████████| 1/1 [00:02<00:00,  2.55s/it]\n",
      "Creating extraction jobs: 100%|██████████| 1/1 [00:00<00:00,  2.17it/s]\n",
      "Extracting files: 100%|██████████| 1/1 [00:13<00:00, 13.71s/it]\n"
     ]
    },
    {
     "name": "stdout",
     "output_type": "stream",
     "text": [
      "Saved output to output_fin_incomestatement_nk_v1/GANNON_UNIVERSITY.xlsx\n",
      "Processing school: LEWIS_UNIVERSITY\n",
      "Extracting data from Audited_Financial_Statements_for_the_year_ended_06_30_2024__430_KB_.pdf\n"
     ]
    },
    {
     "name": "stderr",
     "output_type": "stream",
     "text": [
      "Uploading files: 100%|██████████| 1/1 [00:01<00:00,  1.49s/it]\n",
      "Creating extraction jobs: 100%|██████████| 1/1 [00:00<00:00,  1.40it/s]\n",
      "Extracting files: 100%|██████████| 1/1 [00:50<00:00, 50.38s/it]\n"
     ]
    },
    {
     "name": "stdout",
     "output_type": "stream",
     "text": [
      "Extracting data from Continuing_Disclosure_for_the_year_ended_06_30_2024__298_KB_.pdf\n"
     ]
    },
    {
     "name": "stderr",
     "output_type": "stream",
     "text": [
      "Uploading files: 100%|██████████| 1/1 [00:00<00:00,  1.04it/s]\n",
      "Creating extraction jobs: 100%|██████████| 1/1 [00:00<00:00,  2.08it/s]\n",
      "Extracting files: 100%|██████████| 1/1 [00:14<00:00, 14.98s/it]\n"
     ]
    },
    {
     "name": "stdout",
     "output_type": "stream",
     "text": [
      "Saved output to output_fin_incomestatement_nk_v1/LEWIS_UNIVERSITY.xlsx\n",
      "Processing school: MICHIGAN_STATE_UNIVERSITY\n",
      "Extracting data from Updates_of_Tables_of_Operating_Information_for_the_year_ended_06_30_2024_Document1__143_KB_.pdf\n"
     ]
    },
    {
     "name": "stderr",
     "output_type": "stream",
     "text": [
      "Uploading files: 100%|██████████| 1/1 [00:00<00:00,  1.42it/s]\n",
      "Creating extraction jobs: 100%|██████████| 1/1 [00:00<00:00,  1.29it/s]\n",
      "Extracting files: 100%|██████████| 1/1 [00:33<00:00, 33.02s/it]\n"
     ]
    },
    {
     "name": "stdout",
     "output_type": "stream",
     "text": [
      "Extracting data from Updates_of_Tables_of_Operating_Information_for_the_year_ended_06_30_2024_Document2__8.4_MB_.pdf\n"
     ]
    },
    {
     "name": "stderr",
     "output_type": "stream",
     "text": [
      "Uploading files: 100%|██████████| 1/1 [00:03<00:00,  3.28s/it]\n",
      "Creating extraction jobs: 100%|██████████| 1/1 [00:00<00:00,  1.29it/s]\n",
      "Extracting files: 100%|██████████| 1/1 [01:14<00:00, 74.36s/it]\n"
     ]
    },
    {
     "name": "stdout",
     "output_type": "stream",
     "text": [
      "Saved output to output_fin_incomestatement_nk_v1/MICHIGAN_STATE_UNIVERSITY.xlsx\n",
      "Processing school: MOLLOY_COLLEGE\n",
      "Extracting data from Financial_Operating_Filing_for_the_year_ended_06_30_2024_Document1__304_KB_.pdf\n"
     ]
    },
    {
     "name": "stderr",
     "output_type": "stream",
     "text": [
      "Uploading files: 100%|██████████| 1/1 [00:01<00:00,  1.34s/it]\n",
      "Creating extraction jobs: 100%|██████████| 1/1 [00:00<00:00,  1.86it/s]\n",
      "Extracting files: 100%|██████████| 1/1 [00:51<00:00, 51.11s/it]\n"
     ]
    },
    {
     "name": "stdout",
     "output_type": "stream",
     "text": [
      "Extracting data from Financial_Operating_Filing_for_the_year_ended_06_30_2024_Document2__142_KB_.pdf\n"
     ]
    },
    {
     "name": "stderr",
     "output_type": "stream",
     "text": [
      "Uploading files: 100%|██████████| 1/1 [00:00<00:00,  1.10it/s]\n",
      "Creating extraction jobs: 100%|██████████| 1/1 [00:00<00:00,  2.30it/s]\n",
      "Extracting files: 100%|██████████| 1/1 [00:15<00:00, 15.53s/it]\n"
     ]
    },
    {
     "name": "stdout",
     "output_type": "stream",
     "text": [
      "Saved output to output_fin_incomestatement_nk_v1/MOLLOY_COLLEGE.xlsx\n",
      "Processing school: MOUNT_ST_MARY_S_UNIVERSITY_INC\n",
      "Extracting data from Audited_Annual_Financials_for_the_year_ended_06_30_2024_Document1__29.1_MB_.pdf\n"
     ]
    },
    {
     "name": "stderr",
     "output_type": "stream",
     "text": [
      "Uploading files: 100%|██████████| 1/1 [00:05<00:00,  5.72s/it]\n",
      "Creating extraction jobs: 100%|██████████| 1/1 [00:00<00:00,  1.27it/s]\n",
      "Extracting files: 100%|██████████| 1/1 [01:43<00:00, 103.03s/it]\n"
     ]
    },
    {
     "name": "stdout",
     "output_type": "stream",
     "text": [
      "Extracting data from Audited_Annual_Financials_for_the_year_ended_06_30_2024_Document2__5_MB_.pdf\n"
     ]
    },
    {
     "name": "stderr",
     "output_type": "stream",
     "text": [
      "Uploading files: 100%|██████████| 1/1 [00:02<00:00,  2.96s/it]\n",
      "Creating extraction jobs: 100%|██████████| 1/1 [00:00<00:00,  1.26it/s]\n",
      "Extracting files: 100%|██████████| 1/1 [00:31<00:00, 31.97s/it]\n"
     ]
    },
    {
     "name": "stdout",
     "output_type": "stream",
     "text": [
      "Saved output to output_fin_incomestatement_nk_v1/MOUNT_ST_MARY_S_UNIVERSITY_INC.xlsx\n",
      "Processing school: NEW_YORK_UNIVERSITY\n",
      "Extracting data from 2024_Certificate_of_Compliance_-_Audit_for_the_year_ended_06_30_2024__330_KB_.pdf\n"
     ]
    },
    {
     "name": "stderr",
     "output_type": "stream",
     "text": [
      "Uploading files: 100%|██████████| 1/1 [00:02<00:00,  2.05s/it]\n",
      "Creating extraction jobs: 100%|██████████| 1/1 [00:00<00:00,  1.76it/s]\n",
      "Extracting files: 100%|██████████| 1/1 [00:44<00:00, 44.99s/it]\n"
     ]
    },
    {
     "name": "stdout",
     "output_type": "stream",
     "text": [
      "Extracting data from 2024_Certificate_of_Compliance_for_the_year_ended_06_30_2024__323_KB_.pdf\n"
     ]
    },
    {
     "name": "stderr",
     "output_type": "stream",
     "text": [
      "Uploading files: 100%|██████████| 1/1 [00:01<00:00,  1.39s/it]\n",
      "Creating extraction jobs: 100%|██████████| 1/1 [00:01<00:00,  1.24s/it]\n",
      "Extracting files: 100%|██████████| 1/1 [01:14<00:00, 74.85s/it]\n"
     ]
    },
    {
     "name": "stdout",
     "output_type": "stream",
     "text": [
      "Extracting data from 2024_Consolidated_Financial_Statements_New_York_University_for_the_year_ended_06_30_2024__466_KB_.pdf\n"
     ]
    },
    {
     "name": "stderr",
     "output_type": "stream",
     "text": [
      "Uploading files: 100%|██████████| 1/1 [00:01<00:00,  1.42s/it]\n",
      "Creating extraction jobs: 100%|██████████| 1/1 [00:00<00:00,  1.46it/s]\n",
      "Extracting files: 100%|██████████| 1/1 [01:15<00:00, 75.50s/it]\n"
     ]
    },
    {
     "name": "stdout",
     "output_type": "stream",
     "text": [
      "Extracting data from 2024_Operating_Data_for_the_year_ended_06_30_2024__244_KB_.pdf\n"
     ]
    },
    {
     "name": "stderr",
     "output_type": "stream",
     "text": [
      "Uploading files: 100%|██████████| 1/1 [00:01<00:00,  1.41s/it]\n",
      "Creating extraction jobs: 100%|██████████| 1/1 [00:00<00:00,  1.50it/s]\n",
      "Extracting files: 100%|██████████| 1/1 [00:10<00:00, 10.54s/it]\n"
     ]
    },
    {
     "name": "stdout",
     "output_type": "stream",
     "text": [
      "Saved output to output_fin_incomestatement_nk_v1/NEW_YORK_UNIVERSITY.xlsx\n",
      "Processing school: OHIO_STATE_UNIVERSITY_THE\n",
      "Extracting data from The_Ohio_State_University_Annual_Update_to_Bondholders_for_the_year_ended_06_30_2024__577_KB_.pdf\n"
     ]
    },
    {
     "name": "stderr",
     "output_type": "stream",
     "text": [
      "Uploading files: 100%|██████████| 1/1 [00:01<00:00,  1.42s/it]\n",
      "Creating extraction jobs: 100%|██████████| 1/1 [00:00<00:00,  1.08it/s]\n",
      "Extracting files: 100%|██████████| 1/1 [00:15<00:00, 15.52s/it]\n"
     ]
    },
    {
     "name": "stdout",
     "output_type": "stream",
     "text": [
      "Extracting data from The_Ohio_State_University_Quarterly_Update_to_Bondholders_for_the_quarter_ended_03_31_2024__577_KB_.pdf\n"
     ]
    },
    {
     "name": "stderr",
     "output_type": "stream",
     "text": [
      "Uploading files: 100%|██████████| 1/1 [00:01<00:00,  1.90s/it]\n",
      "Creating extraction jobs: 100%|██████████| 1/1 [00:00<00:00,  2.48it/s]\n",
      "Extracting files: 100%|██████████| 1/1 [01:06<00:00, 66.06s/it]\n"
     ]
    },
    {
     "name": "stdout",
     "output_type": "stream",
     "text": [
      "Extracting data from The_Ohio_State_University_Quarterly_Update_to_Bondholders_for_the_quarter_ended_06_30_2024__576_KB_.pdf\n"
     ]
    },
    {
     "name": "stderr",
     "output_type": "stream",
     "text": [
      "Uploading files: 100%|██████████| 1/1 [00:01<00:00,  1.00s/it]\n",
      "Creating extraction jobs: 100%|██████████| 1/1 [00:00<00:00,  2.08it/s]\n",
      "Extracting files: 100%|██████████| 1/1 [01:15<00:00, 75.02s/it]\n"
     ]
    },
    {
     "name": "stdout",
     "output_type": "stream",
     "text": [
      "Extracting data from The_Ohio_State_University_Quarterly_Update_to_Bondholders_for_the_quarter_ended_09_30_2024__574_KB_.pdf\n"
     ]
    },
    {
     "name": "stderr",
     "output_type": "stream",
     "text": [
      "Uploading files: 100%|██████████| 1/1 [00:02<00:00,  2.03s/it]\n",
      "Creating extraction jobs: 100%|██████████| 1/1 [00:00<00:00,  2.40it/s]\n",
      "Extracting files: 100%|██████████| 1/1 [01:03<00:00, 63.30s/it]\n"
     ]
    },
    {
     "name": "stdout",
     "output_type": "stream",
     "text": [
      "Extracting data from The_Ohio_State_University_Quarterly_Update_to_Bondholders_for_the_quarter_ended_12_31_2024__815_KB_.pdf\n"
     ]
    },
    {
     "name": "stderr",
     "output_type": "stream",
     "text": [
      "Uploading files: 100%|██████████| 1/1 [00:01<00:00,  1.67s/it]\n",
      "Creating extraction jobs: 100%|██████████| 1/1 [00:00<00:00,  1.76it/s]\n",
      "Extracting files: 100%|██████████| 1/1 [02:16<00:00, 136.69s/it]\n"
     ]
    },
    {
     "name": "stdout",
     "output_type": "stream",
     "text": [
      "Saved output to output_fin_incomestatement_nk_v1/OHIO_STATE_UNIVERSITY_THE.xlsx\n",
      "Processing school: PRESIDENT___FELLOWS_OF_HARVARD_COLLEGE\n",
      "Extracting data from Harvard_University_Audited_Financial_Information_for_the_year_ended_06_30_2024__10.6_MB_.pdf\n"
     ]
    },
    {
     "name": "stderr",
     "output_type": "stream",
     "text": [
      "Uploading files: 100%|██████████| 1/1 [00:07<00:00,  7.59s/it]\n",
      "Creating extraction jobs: 100%|██████████| 1/1 [00:00<00:00,  2.42it/s]\n",
      "Extracting files: 100%|██████████| 1/1 [01:15<00:00, 75.46s/it]\n"
     ]
    },
    {
     "name": "stdout",
     "output_type": "stream",
     "text": [
      "Extracting data from Harvard_University_Financial_Report_for_the_year_ended_06_30_2024__10.6_MB_.pdf\n"
     ]
    },
    {
     "name": "stderr",
     "output_type": "stream",
     "text": [
      "Uploading files: 100%|██████████| 1/1 [00:03<00:00,  3.88s/it]\n",
      "Creating extraction jobs: 100%|██████████| 1/1 [00:00<00:00,  2.06it/s]\n",
      "Extracting files: 100%|██████████| 1/1 [00:18<00:00, 18.15s/it]\n"
     ]
    },
    {
     "name": "stdout",
     "output_type": "stream",
     "text": [
      "Extracting data from Harvard_University_Student_Applications_and_Enrollment_for_the_year_ended_06_30_2024__557_KB_.pdf\n"
     ]
    },
    {
     "name": "stderr",
     "output_type": "stream",
     "text": [
      "Uploading files: 100%|██████████| 1/1 [00:00<00:00,  1.02it/s]\n",
      "Creating extraction jobs: 100%|██████████| 1/1 [00:00<00:00,  2.21it/s]\n",
      "Extracting files: 100%|██████████| 1/1 [00:14<00:00, 14.28s/it]\n"
     ]
    },
    {
     "name": "stdout",
     "output_type": "stream",
     "text": [
      "Saved output to output_fin_incomestatement_nk_v1/PRESIDENT___FELLOWS_OF_HARVARD_COLLEGE.xlsx\n",
      "Processing school: STEVENSON_UNIVERSITY_INC\n",
      "Extracting data from 2024_Annual_Compliance_Certificate__EagleBank__for_the_year_ended_06_30_2024__3_MB_.pdf\n"
     ]
    },
    {
     "name": "stderr",
     "output_type": "stream",
     "text": [
      "Uploading files: 100%|██████████| 1/1 [00:02<00:00,  2.62s/it]\n",
      "Creating extraction jobs: 100%|██████████| 1/1 [00:00<00:00,  2.40it/s]\n",
      "Extracting files: 100%|██████████| 1/1 [01:56<00:00, 116.75s/it]\n"
     ]
    },
    {
     "name": "stdout",
     "output_type": "stream",
     "text": [
      "Extracting data from 2024_Annual_Compliance_Certificate_for_the_year_ended_06_30_2024__2.8_MB_.pdf\n"
     ]
    },
    {
     "name": "stderr",
     "output_type": "stream",
     "text": [
      "Uploading files: 100%|██████████| 1/1 [00:02<00:00,  2.65s/it]\n",
      "Creating extraction jobs: 100%|██████████| 1/1 [00:00<00:00,  2.34it/s]\n",
      "Extracting files: 100%|██████████| 1/1 [00:35<00:00, 35.47s/it]\n"
     ]
    },
    {
     "name": "stdout",
     "output_type": "stream",
     "text": [
      "Extracting data from 2024_Audited_Financial_Statements_for_the_year_ended_06_30_2024__348_KB_.pdf\n"
     ]
    },
    {
     "name": "stderr",
     "output_type": "stream",
     "text": [
      "Uploading files: 100%|██████████| 1/1 [00:00<00:00,  1.07it/s]\n",
      "Creating extraction jobs: 100%|██████████| 1/1 [00:00<00:00,  1.63it/s]\n",
      "Extracting files: 100%|██████████| 1/1 [00:54<00:00, 54.46s/it]\n"
     ]
    },
    {
     "name": "stdout",
     "output_type": "stream",
     "text": [
      "Extracting data from 2024_Operating_Data_for_the_year_ended_06_30_2024__196_KB_.pdf\n"
     ]
    },
    {
     "name": "stderr",
     "output_type": "stream",
     "text": [
      "Uploading files: 100%|██████████| 1/1 [00:00<00:00,  1.30it/s]\n",
      "Creating extraction jobs: 100%|██████████| 1/1 [00:00<00:00,  1.94it/s]\n",
      "Extracting files: 100%|██████████| 1/1 [00:11<00:00, 11.55s/it]\n"
     ]
    },
    {
     "name": "stdout",
     "output_type": "stream",
     "text": [
      "Saved output to output_fin_incomestatement_nk_v1/STEVENSON_UNIVERSITY_INC.xlsx\n",
      "Processing school: STEVENS_INSTITUTE_OF_TECHNOLOGY\n",
      "Extracting data from Annual_Report_for_the_year_ended_06_30_2024__216_KB_.pdf\n"
     ]
    },
    {
     "name": "stderr",
     "output_type": "stream",
     "text": [
      "Uploading files: 100%|██████████| 1/1 [00:00<00:00,  1.20it/s]\n",
      "Creating extraction jobs: 100%|██████████| 1/1 [00:00<00:00,  1.40it/s]\n",
      "Extracting files: 100%|██████████| 1/1 [00:12<00:00, 12.24s/it]\n"
     ]
    },
    {
     "name": "stdout",
     "output_type": "stream",
     "text": [
      "Extracting data from Audit_Financial_Statement_for_the_year_ended_06_30_2024__626_KB_.pdf\n"
     ]
    },
    {
     "name": "stderr",
     "output_type": "stream",
     "text": [
      "Uploading files: 100%|██████████| 1/1 [00:01<00:00,  1.07s/it]\n",
      "Creating extraction jobs: 100%|██████████| 1/1 [00:00<00:00,  2.09it/s]\n",
      "Extracting files: 100%|██████████| 1/1 [00:48<00:00, 48.82s/it]\n"
     ]
    },
    {
     "name": "stdout",
     "output_type": "stream",
     "text": [
      "Saved output to output_fin_incomestatement_nk_v1/STEVENS_INSTITUTE_OF_TECHNOLOGY.xlsx\n",
      "Processing school: ST_LOUIS_UNIVERSITY_US\n",
      "Extracting data from Amendment_to_Continuing_Disclosure_Undertaking_dated_01_05_2024__392_KB_.pdf\n"
     ]
    },
    {
     "name": "stderr",
     "output_type": "stream",
     "text": [
      "Uploading files: 100%|██████████| 1/1 [00:00<00:00,  1.02it/s]\n",
      "Creating extraction jobs: 100%|██████████| 1/1 [00:00<00:00,  1.90it/s]\n",
      "Extracting files: 100%|██████████| 1/1 [00:25<00:00, 25.30s/it]\n"
     ]
    },
    {
     "name": "stdout",
     "output_type": "stream",
     "text": [
      "Extracting data from Audited_Financials_and_Operating_Data_for_the_year_ended_06_30_2024_Document1__561_KB_.pdf\n"
     ]
    },
    {
     "name": "stderr",
     "output_type": "stream",
     "text": [
      "Uploading files: 100%|██████████| 1/1 [00:01<00:00,  1.15s/it]\n",
      "Creating extraction jobs: 100%|██████████| 1/1 [00:00<00:00,  1.32it/s]\n",
      "Extracting files: 100%|██████████| 1/1 [00:44<00:00, 44.25s/it]\n"
     ]
    },
    {
     "name": "stdout",
     "output_type": "stream",
     "text": [
      "Extracting data from Audited_Financials_and_Operating_Data_for_the_year_ended_06_30_2024_Document2__174_KB_.pdf\n"
     ]
    },
    {
     "name": "stderr",
     "output_type": "stream",
     "text": [
      "Uploading files: 100%|██████████| 1/1 [00:02<00:00,  2.33s/it]\n",
      "Creating extraction jobs: 100%|██████████| 1/1 [00:00<00:00,  1.66it/s]\n",
      "Extracting files: 100%|██████████| 1/1 [00:16<00:00, 16.65s/it]\n"
     ]
    },
    {
     "name": "stdout",
     "output_type": "stream",
     "text": [
      "Saved output to output_fin_incomestatement_nk_v1/ST_LOUIS_UNIVERSITY_US.xlsx\n",
      "Processing school: TEXAS_A_M_UNIVERSITY\n",
      "Extracting data from FY_2024_Continuing_Disclosure_Annual_Report_for_the_year_ended_08_31_2024__2.3_MB_.pdf\n"
     ]
    },
    {
     "name": "stderr",
     "output_type": "stream",
     "text": [
      "Uploading files: 100%|██████████| 1/1 [00:02<00:00,  2.04s/it]\n",
      "Creating extraction jobs: 100%|██████████| 1/1 [00:00<00:00,  2.03it/s]\n",
      "Extracting files: 100%|██████████| 1/1 [00:31<00:00, 31.03s/it]\n"
     ]
    },
    {
     "name": "stdout",
     "output_type": "stream",
     "text": [
      "Extracting data from Texas_A_M_University_System_Unaudited_Annual_Financial_Reports_for_the_year_ended_08_31_2024__2_MB_.pdf\n"
     ]
    },
    {
     "name": "stderr",
     "output_type": "stream",
     "text": [
      "Uploading files: 100%|██████████| 1/1 [00:02<00:00,  2.50s/it]\n",
      "Creating extraction jobs: 100%|██████████| 1/1 [00:00<00:00,  2.06it/s]\n",
      "Extracting files: 100%|██████████| 1/1 [01:37<00:00, 97.70s/it]\n"
     ]
    },
    {
     "name": "stdout",
     "output_type": "stream",
     "text": [
      "Saved output to output_fin_incomestatement_nk_v1/TEXAS_A_M_UNIVERSITY.xlsx\n",
      "Processing school: UNIVERSITY_OF_COLORADO\n",
      "Extracting data from Financial_and_Operating_Data__Fiscal_Year_2024_for_the_year_ended_06_30_2024__278_KB_.pdf\n"
     ]
    },
    {
     "name": "stderr",
     "output_type": "stream",
     "text": [
      "Uploading files: 100%|██████████| 1/1 [00:00<00:00,  1.08it/s]\n",
      "Creating extraction jobs: 100%|██████████| 1/1 [00:00<00:00,  1.96it/s]\n",
      "Extracting files: 100%|██████████| 1/1 [00:18<00:00, 18.80s/it]\n"
     ]
    },
    {
     "name": "stdout",
     "output_type": "stream",
     "text": [
      "Saved output to output_fin_incomestatement_nk_v1/UNIVERSITY_OF_COLORADO.xlsx\n",
      "Processing school: UNIVERSITY_OF_MINNESOTA\n",
      "Extracting data from Annual_Financial_Information_and_Operating_Data_for_the_year_ended_06_30_2024_Document1__1.3_MB_.pdf\n"
     ]
    },
    {
     "name": "stderr",
     "output_type": "stream",
     "text": [
      "Uploading files: 100%|██████████| 1/1 [00:01<00:00,  1.19s/it]\n",
      "Creating extraction jobs: 100%|██████████| 1/1 [00:00<00:00,  1.71it/s]\n",
      "Extracting files: 100%|██████████| 1/1 [01:29<00:00, 89.86s/it]\n"
     ]
    },
    {
     "name": "stdout",
     "output_type": "stream",
     "text": [
      "Extracting data from Annual_Financial_Information_and_Operating_Data_for_the_year_ended_06_30_2024_Document2__315_KB_.pdf\n"
     ]
    },
    {
     "name": "stderr",
     "output_type": "stream",
     "text": [
      "Uploading files: 100%|██████████| 1/1 [00:00<00:00,  1.09it/s]\n",
      "Creating extraction jobs: 100%|██████████| 1/1 [00:00<00:00,  2.05it/s]\n",
      "Extracting files: 100%|██████████| 1/1 [00:18<00:00, 18.28s/it]"
     ]
    },
    {
     "name": "stdout",
     "output_type": "stream",
     "text": [
      "Saved output to output_fin_incomestatement_nk_v1/UNIVERSITY_OF_MINNESOTA.xlsx\n",
      "Extraction complete.\n"
     ]
    },
    {
     "name": "stderr",
     "output_type": "stream",
     "text": [
      "\n"
     ]
    },
    {
     "name": "stderr",
     "output_type": "stream",
     "text": [
      "Uploading files: 100%|██████████| 1/1 [00:02<00:00,  2.65s/it]\n",
      "Creating extraction jobs: 100%|██████████| 1/1 [00:00<00:00,  1.98it/s]\n",
      "Extracting files: 100%|██████████| 1/1 [00:24<00:00, 24.75s/it]\n",
      "Uploading files: 100%|██████████| 1/1 [00:00<00:00,  1.31it/s]\n",
      "Creating extraction jobs: 100%|██████████| 1/1 [00:00<00:00,  2.43it/s]\n",
      "Extracting files: 100%|██████████| 1/1 [00:13<00:00, 13.73s/it]\n",
      "Uploading files: 100%|██████████| 1/1 [00:00<00:00,  1.10it/s]\n",
      "Creating extraction jobs: 100%|██████████| 1/1 [00:00<00:00,  1.54it/s]\n",
      "Extracting files: 100%|██████████| 1/1 [00:15<00:00, 15.34s/it]\n",
      "Uploading files: 100%|██████████| 1/1 [00:00<00:00,  1.00it/s]\n",
      "Creating extraction jobs: 100%|██████████| 1/1 [00:00<00:00,  2.07it/s]\n",
      "Extracting files: 100%|██████████| 1/1 [00:15<00:00, 15.83s/it]\n",
      "Uploading files: 100%|██████████| 1/1 [00:04<00:00,  4.35s/it]\n",
      "Creating extraction jobs: 100%|██████████| 1/1 [00:00<00:00,  1.96it/s]\n",
      "Extracting files: 100%|██████████| 1/1 [00:42<00:00, 42.10s/it]\n",
      "Uploading files: 100%|██████████| 1/1 [00:01<00:00,  1.08s/it]\n",
      "Creating extraction jobs: 100%|██████████| 1/1 [00:00<00:00,  2.44it/s]\n",
      "Extracting files: 100%|██████████| 1/1 [00:16<00:00, 16.53s/it]\n",
      "Uploading files: 100%|██████████| 1/1 [00:01<00:00,  1.15s/it]\n",
      "Creating extraction jobs: 100%|██████████| 1/1 [00:00<00:00,  2.31it/s]\n",
      "Extracting files: 100%|██████████| 1/1 [00:12<00:00, 12.90s/it]\n",
      "Uploading files: 100%|██████████| 1/1 [00:00<00:00,  1.13it/s]\n",
      "Creating extraction jobs: 100%|██████████| 1/1 [00:00<00:00,  2.21it/s]\n",
      "Extracting files: 100%|██████████| 1/1 [00:13<00:00, 13.19s/it]\n",
      "Uploading files: 100%|██████████| 1/1 [00:00<00:00,  1.02it/s]\n",
      "Creating extraction jobs: 100%|██████████| 1/1 [00:00<00:00,  2.02it/s]\n",
      "Extracting files: 100%|██████████| 1/1 [00:14<00:00, 14.67s/it]\n",
      "Uploading files: 100%|██████████| 1/1 [00:00<00:00,  1.36it/s]\n",
      "Creating extraction jobs: 100%|██████████| 1/1 [00:00<00:00,  2.19it/s]\n",
      "Extracting files: 100%|██████████| 1/1 [00:10<00:00, 10.28s/it]\n",
      "Uploading files: 100%|██████████| 1/1 [00:04<00:00,  4.35s/it]\n",
      "Creating extraction jobs: 100%|██████████| 1/1 [00:00<00:00,  2.09it/s]\n",
      "Extracting files: 100%|██████████| 1/1 [03:41<00:00, 221.06s/it]\n",
      "Uploading files: 100%|██████████| 1/1 [00:01<00:00,  1.32s/it]\n",
      "Creating extraction jobs: 100%|██████████| 1/1 [00:00<00:00,  1.99it/s]\n",
      "Extracting files: 100%|██████████| 1/1 [00:17<00:00, 17.36s/it]\n",
      "Uploading files: 100%|██████████| 1/1 [00:00<00:00,  1.40it/s]\n",
      "Creating extraction jobs: 100%|██████████| 1/1 [00:00<00:00,  2.46it/s]\n",
      "Extracting files: 100%|██████████| 1/1 [00:13<00:00, 13.43s/it]\n",
      "Uploading files: 100%|██████████| 1/1 [00:00<00:00,  1.05it/s]\n",
      "Creating extraction jobs: 100%|██████████| 1/1 [00:01<00:00,  1.05s/it]\n",
      "Extracting files: 100%|██████████| 1/1 [00:16<00:00, 16.59s/it]\n",
      "Uploading files: 100%|██████████| 1/1 [00:01<00:00,  1.39s/it]\n",
      "Creating extraction jobs: 100%|██████████| 1/1 [00:00<00:00,  1.91it/s]\n",
      "Extracting files: 100%|██████████| 1/1 [00:18<00:00, 18.61s/it]\n",
      "Uploading files: 100%|██████████| 1/1 [00:00<00:00,  1.07it/s]\n",
      "Creating extraction jobs: 100%|██████████| 1/1 [00:02<00:00,  2.51s/it]\n",
      "Extracting files: 100%|██████████| 1/1 [00:14<00:00, 14.79s/it]\n",
      "Uploading files: 100%|██████████| 1/1 [00:01<00:00,  1.38s/it]\n",
      "Creating extraction jobs: 100%|██████████| 1/1 [00:01<00:00,  1.25s/it]\n",
      "Extracting files: 100%|██████████| 1/1 [00:15<00:00, 15.98s/it]\n",
      "Uploading files: 100%|██████████| 1/1 [00:01<00:00,  1.16s/it]\n",
      "Creating extraction jobs: 100%|██████████| 1/1 [00:00<00:00,  2.37it/s]\n",
      "Extracting files: 100%|██████████| 1/1 [00:14<00:00, 14.31s/it]\n",
      "Uploading files: 100%|██████████| 1/1 [00:01<00:00,  1.03s/it]\n",
      "Creating extraction jobs: 100%|██████████| 1/1 [00:00<00:00,  2.54it/s]\n",
      "Extracting files: 100%|██████████| 1/1 [00:12<00:00, 12.82s/it]\n",
      "Uploading files: 100%|██████████| 1/1 [00:02<00:00,  2.85s/it]\n",
      "Creating extraction jobs: 100%|██████████| 1/1 [00:00<00:00,  2.06it/s]\n",
      "Extracting files: 100%|██████████| 1/1 [00:31<00:00, 31.19s/it]\n",
      "Uploading files: 100%|██████████| 1/1 [00:01<00:00,  1.70s/it]\n",
      "Creating extraction jobs: 100%|██████████| 1/1 [00:00<00:00,  2.32it/s]\n",
      "Extracting files: 100%|██████████| 1/1 [00:20<00:00, 20.44s/it]\n",
      "Uploading files: 100%|██████████| 1/1 [00:01<00:00,  1.00s/it]\n",
      "Creating extraction jobs: 100%|██████████| 1/1 [00:00<00:00,  2.60it/s]\n",
      "Extracting files: 100%|██████████| 1/1 [00:20<00:00, 20.09s/it]\n",
      "Uploading files: 100%|██████████| 1/1 [00:03<00:00,  3.77s/it]\n",
      "Creating extraction jobs: 100%|██████████| 1/1 [00:02<00:00,  2.04s/it]\n",
      "Extracting files: 100%|██████████| 1/1 [00:25<00:00, 25.63s/it]\n",
      "Uploading files: 100%|██████████| 1/1 [00:01<00:00,  1.40s/it]\n",
      "Creating extraction jobs: 100%|██████████| 1/1 [00:00<00:00,  2.11it/s]\n",
      "Extracting files: 100%|██████████| 1/1 [00:26<00:00, 26.24s/it]\n",
      "Uploading files: 100%|██████████| 1/1 [00:00<00:00,  1.06it/s]\n",
      "Creating extraction jobs: 100%|██████████| 1/1 [00:00<00:00,  1.77it/s]\n",
      "Extracting files: 100%|██████████| 1/1 [00:15<00:00, 15.05s/it]\n",
      "Uploading files: 100%|██████████| 1/1 [00:00<00:00,  1.19it/s]\n",
      "Creating extraction jobs: 100%|██████████| 1/1 [00:00<00:00,  1.57it/s]\n",
      "Extracting files: 100%|██████████| 1/1 [00:13<00:00, 13.66s/it]\n",
      "Uploading files: 100%|██████████| 1/1 [00:02<00:00,  2.54s/it]\n",
      "Creating extraction jobs: 100%|██████████| 1/1 [00:00<00:00,  1.74it/s]\n",
      "Extracting files: 100%|██████████| 1/1 [00:11<00:00, 11.61s/it]\n",
      "Uploading files: 100%|██████████| 1/1 [00:00<00:00,  1.10it/s]\n",
      "Creating extraction jobs: 100%|██████████| 1/1 [00:00<00:00,  1.92it/s]\n",
      "Extracting files: 100%|██████████| 1/1 [00:15<00:00, 15.86s/it]\n",
      "Uploading files: 100%|██████████| 1/1 [00:01<00:00,  1.24s/it]\n",
      "Creating extraction jobs: 100%|██████████| 1/1 [00:00<00:00,  2.27it/s]\n",
      "Extracting files: 100%|██████████| 1/1 [00:20<00:00, 20.02s/it]\n",
      "Uploading files: 100%|██████████| 1/1 [00:01<00:00,  1.19s/it]\n",
      "Creating extraction jobs: 100%|██████████| 1/1 [00:00<00:00,  2.08it/s]\n",
      "Extracting files: 100%|██████████| 1/1 [00:14<00:00, 14.57s/it]\n",
      "Uploading files: 100%|██████████| 1/1 [00:01<00:00,  1.31s/it]\n",
      "Creating extraction jobs: 100%|██████████| 1/1 [00:00<00:00,  1.70it/s]\n",
      "Extracting files: 100%|██████████| 1/1 [00:14<00:00, 14.36s/it]\n",
      "Uploading files: 100%|██████████| 1/1 [00:01<00:00,  1.09s/it]\n",
      "Creating extraction jobs: 100%|██████████| 1/1 [00:00<00:00,  1.93it/s]\n",
      "Extracting files: 100%|██████████| 1/1 [00:17<00:00, 17.73s/it]\n",
      "Uploading files: 100%|██████████| 1/1 [00:01<00:00,  1.72s/it]\n",
      "Creating extraction jobs: 100%|██████████| 1/1 [00:02<00:00,  2.33s/it]\n",
      "Extracting files: 100%|██████████| 1/1 [01:14<00:00, 74.62s/it]\n",
      "Uploading files: 100%|██████████| 1/1 [00:02<00:00,  2.04s/it]\n",
      "Creating extraction jobs: 100%|██████████| 1/1 [00:00<00:00,  1.54it/s]\n",
      "Extracting files: 100%|██████████| 1/1 [00:22<00:00, 22.90s/it]\n",
      "Uploading files: 100%|██████████| 1/1 [00:03<00:00,  3.51s/it]\n",
      "Creating extraction jobs: 100%|██████████| 1/1 [00:00<00:00,  2.24it/s]\n",
      "Extracting files: 100%|██████████| 1/1 [00:20<00:00, 20.65s/it]\n",
      "Uploading files: 100%|██████████| 1/1 [00:01<00:00,  1.71s/it]\n",
      "Creating extraction jobs: 100%|██████████| 1/1 [00:00<00:00,  1.85it/s]\n",
      "Extracting files: 100%|██████████| 1/1 [00:11<00:00, 11.95s/it]\n",
      "Uploading files: 100%|██████████| 1/1 [00:01<00:00,  1.22s/it]\n",
      "Creating extraction jobs: 100%|██████████| 1/1 [00:00<00:00,  2.09it/s]\n",
      "Extracting files: 100%|██████████| 1/1 [00:12<00:00, 12.83s/it]\n",
      "Uploading files: 100%|██████████| 1/1 [00:01<00:00,  1.70s/it]\n",
      "Creating extraction jobs: 100%|██████████| 1/1 [00:00<00:00,  2.57it/s]\n",
      "Extracting files: 100%|██████████| 1/1 [00:15<00:00, 15.92s/it]\n",
      "Uploading files: 100%|██████████| 1/1 [00:01<00:00,  1.00s/it]\n",
      "Creating extraction jobs: 100%|██████████| 1/1 [00:00<00:00,  2.50it/s]\n",
      "Extracting files: 100%|██████████| 1/1 [00:13<00:00, 13.94s/it]\n",
      "Uploading files: 100%|██████████| 1/1 [00:00<00:00,  1.11it/s]\n",
      "Creating extraction jobs: 100%|██████████| 1/1 [00:00<00:00,  1.47it/s]\n",
      "Extracting files: 100%|██████████| 1/1 [00:10<00:00, 10.77s/it]\n",
      "Uploading files: 100%|██████████| 1/1 [00:00<00:00,  1.24it/s]\n",
      "Creating extraction jobs: 100%|██████████| 1/1 [00:00<00:00,  1.98it/s]\n",
      "Extracting files: 100%|██████████| 1/1 [00:11<00:00, 11.16s/it]\n",
      "Uploading files: 100%|██████████| 1/1 [00:01<00:00,  1.00s/it]\n",
      "Creating extraction jobs: 100%|██████████| 1/1 [00:00<00:00,  1.71it/s]\n",
      "Extracting files: 100%|██████████| 1/1 [00:17<00:00, 17.54s/it]\n",
      "Uploading files: 100%|██████████| 1/1 [00:00<00:00,  1.12it/s]\n",
      "Creating extraction jobs: 100%|██████████| 1/1 [00:00<00:00,  1.73it/s]\n",
      "Extracting files: 100%|██████████| 1/1 [00:09<00:00,  9.56s/it]\n",
      "Uploading files: 100%|██████████| 1/1 [00:01<00:00,  1.62s/it]\n",
      "Creating extraction jobs: 100%|██████████| 1/1 [00:00<00:00,  1.79it/s]\n",
      "Extracting files: 100%|██████████| 1/1 [00:15<00:00, 15.78s/it]\n",
      "Uploading files: 100%|██████████| 1/1 [00:00<00:00,  1.36it/s]\n",
      "Creating extraction jobs: 100%|██████████| 1/1 [00:00<00:00,  1.27it/s]\n",
      "Extracting files: 100%|██████████| 1/1 [00:10<00:00, 10.57s/it]\n",
      "Uploading files: 100%|██████████| 1/1 [00:01<00:00,  1.16s/it]\n",
      "Creating extraction jobs: 100%|██████████| 1/1 [00:00<00:00,  2.10it/s]\n",
      "Extracting files: 100%|██████████| 1/1 [00:29<00:00, 29.05s/it]\n",
      "Uploading files: 100%|██████████| 1/1 [00:01<00:00,  1.31s/it]\n",
      "Creating extraction jobs: 100%|██████████| 1/1 [00:01<00:00,  1.03s/it]\n",
      "Extracting files: 100%|██████████| 1/1 [00:23<00:00, 23.85s/it]\n",
      "Uploading files: 100%|██████████| 1/1 [00:00<00:00,  1.18it/s]\n",
      "Creating extraction jobs: 100%|██████████| 1/1 [00:00<00:00,  1.03it/s]\n",
      "Extracting files: 100%|██████████| 1/1 [00:15<00:00, 15.55s/it]\n",
      "Uploading files: 100%|██████████| 1/1 [00:02<00:00,  2.16s/it]\n",
      "Creating extraction jobs: 100%|██████████| 1/1 [00:00<00:00,  1.66it/s]\n",
      "Extracting files: 100%|██████████| 1/1 [00:12<00:00, 12.50s/it]\n",
      "Uploading files: 100%|██████████| 1/1 [00:00<00:00,  1.02it/s]\n",
      "Creating extraction jobs: 100%|██████████| 1/1 [00:01<00:00,  1.13s/it]\n",
      "Extracting files: 100%|██████████| 1/1 [00:18<00:00, 18.03s/it]\n"
     ]
    }
   ],
   "source": [
    "# Loop over schools\n",
    "for school in sorted(os.listdir(PDF_ROOT)):\n",
    "    school_dir = os.path.join(PDF_ROOT, school)\n",
    "    if not os.path.isdir(school_dir):\n",
    "        continue\n",
    "    print(f\"Processing school: {school}\")\n",
    "    process_school(school, school_dir)\n",
    "\n",
    "print(\"Extraction complete.\")"
   ]
  },
  {
   "cell_type": "markdown",
   "id": "8b385406-d4f6-48e5-94b5-f999ee2e9f04",
   "metadata": {},
   "source": [
    "The following cell block extracts all the schools' info into one excel sheet but in different tabs."
   ]
  },
  {
   "cell_type": "code",
   "execution_count": 9,
   "id": "dbed9f78-2b07-4696-8bd9-2ad2281d255d",
   "metadata": {},
   "outputs": [
    {
     "name": "stdout",
     "output_type": "stream",
     "text": [
      "Extracting data from ARIZONA_STATE_UNIVERSITY/FY_2024_Arizona_State_University_Annual_Comprehensive_Financial_Report_for_the_year_ended_06_30_2024__4.1_MB_.pdf\n",
      "Extracting data from ARIZONA_STATE_UNIVERSITY/FY_2024_Arizona_State_University_Continuing_Disclosure_Undertaking_for_the_year_ended_06_30_2024__160_KB_.pdf\n",
      "Extracting data from BRADLEY_UNIVERSITY/Annual_Financial_Information_and_Operating_Data__Rule_15c2-12__for_FY24_for_the_year_ended_05_31_2024__227_KB_.pdf\n",
      "Extracting data from BRADLEY_UNIVERSITY/Audited_Financial_Statements_or_ACFR__Rule_15c2-12__for_FY24_for_the_year_ended_05_31_2024__541_KB_.pdf\n",
      "Extracting data from CALIFORNIA_STATE_UNIVERSITY/Exhibit_1_CSU_Combined_Financial_Stmts_6-30-24_for_the_year_ended_06_30_2024__15.6_MB_.pdf\n",
      "Extracting data from CALIFORNIA_STATE_UNIVERSITY/Exhibit_1_CSU_Combined_Financial_Stmts_6-30-24_for_the_year_ended_06_30_2024__308_KB_.pdf\n",
      "Extracting data from CALIFORNIA_STATE_UNIVERSITY/Exhibit_1_DRAFT_UNAUDITED_CSU_Combined_Financial_Statements_6-30-24_for_the_year_ended_06_30_2024__1.2_MB_.pdf\n",
      "Extracting data from CALIFORNIA_STATE_UNIVERSITY/Exhibit_1_DRAFT_UNAUDITED_CSU_Combined_Financial_Statements_6-30-24_for_the_year_ended_06_30_2024__298_KB_.pdf\n",
      "Extracting data from CORNELL_UNIVERSITY/2024_Audited_Financial_Statements_for_the_year_ended_06_30_2024__788_KB_.pdf\n",
      "Extracting data from CORNELL_UNIVERSITY/2024_Operating_Data_for_the_year_ended_06_30_2024__109_KB_.pdf\n",
      "Extracting data from CORNELL_UNIVERSITY/Incorporate_OS_by_Reference_as_of_04_25_2024__2.4_MB_.pdf\n",
      "Extracting data from CULINARY_INSTITUTE_OF_AMERICA_THE/2024_Annual_Report_-_Corrected_for_the_year_ended_05_31_2024__130_KB_.pdf\n",
      "Extracting data from CULINARY_INSTITUTE_OF_AMERICA_THE/2024_Annual_Report_for_the_year_ended_05_31_2024__129_KB_.pdf\n",
      "Extracting data from CULINARY_INSTITUTE_OF_AMERICA_THE/2024_Audited_Financial_Statements_for_the_year_ended_05_31_2024__277_KB_.pdf\n",
      "Extracting data from GANNON_UNIVERSITY/Audited_Financial_Statements_for_the_year_ended_06_30_2024__786_KB_.pdf\n",
      "Extracting data from GANNON_UNIVERSITY/Continued_Disclosures_Fall_2024_for_the_year_ended_06_30_2024_Document1__203_KB_.pdf\n",
      "Extracting data from LEWIS_UNIVERSITY/Audited_Financial_Statements_for_the_year_ended_06_30_2024__430_KB_.pdf\n",
      "Extracting data from LEWIS_UNIVERSITY/Continuing_Disclosure_for_the_year_ended_06_30_2024__298_KB_.pdf\n",
      "Extracting data from MICHIGAN_STATE_UNIVERSITY/Updates_of_Tables_of_Operating_Information_for_the_year_ended_06_30_2024_Document1__143_KB_.pdf\n",
      "Extracting data from MICHIGAN_STATE_UNIVERSITY/Updates_of_Tables_of_Operating_Information_for_the_year_ended_06_30_2024_Document2__8.4_MB_.pdf\n",
      "Extracting data from MOLLOY_COLLEGE/Financial_Operating_Filing_for_the_year_ended_06_30_2024_Document1__304_KB_.pdf\n",
      "Extracting data from MOLLOY_COLLEGE/Financial_Operating_Filing_for_the_year_ended_06_30_2024_Document2__142_KB_.pdf\n",
      "Extracting data from MOUNT_ST_MARY_S_UNIVERSITY_INC/Audited_Annual_Financials_for_the_year_ended_06_30_2024_Document1__29.1_MB_.pdf\n",
      "Extracting data from MOUNT_ST_MARY_S_UNIVERSITY_INC/Audited_Annual_Financials_for_the_year_ended_06_30_2024_Document2__5_MB_.pdf\n",
      "Extracting data from NEW_YORK_UNIVERSITY/2024_Certificate_of_Compliance_-_Audit_for_the_year_ended_06_30_2024__330_KB_.pdf\n",
      "Extracting data from NEW_YORK_UNIVERSITY/2024_Certificate_of_Compliance_for_the_year_ended_06_30_2024__323_KB_.pdf\n",
      "Extracting data from NEW_YORK_UNIVERSITY/2024_Consolidated_Financial_Statements_New_York_University_for_the_year_ended_06_30_2024__466_KB_.pdf\n",
      "Extracting data from NEW_YORK_UNIVERSITY/2024_Operating_Data_for_the_year_ended_06_30_2024__244_KB_.pdf\n",
      "Extracting data from OHIO_STATE_UNIVERSITY_THE/The_Ohio_State_University_Annual_Update_to_Bondholders_for_the_year_ended_06_30_2024__577_KB_.pdf\n",
      "Extracting data from OHIO_STATE_UNIVERSITY_THE/The_Ohio_State_University_Quarterly_Update_to_Bondholders_for_the_quarter_ended_03_31_2024__577_KB_.pdf\n",
      "Extracting data from OHIO_STATE_UNIVERSITY_THE/The_Ohio_State_University_Quarterly_Update_to_Bondholders_for_the_quarter_ended_06_30_2024__576_KB_.pdf\n",
      "Extracting data from OHIO_STATE_UNIVERSITY_THE/The_Ohio_State_University_Quarterly_Update_to_Bondholders_for_the_quarter_ended_09_30_2024__574_KB_.pdf\n",
      "Extracting data from OHIO_STATE_UNIVERSITY_THE/The_Ohio_State_University_Quarterly_Update_to_Bondholders_for_the_quarter_ended_12_31_2024__815_KB_.pdf\n",
      "Extracting data from PRESIDENT___FELLOWS_OF_HARVARD_COLLEGE/Harvard_University_Audited_Financial_Information_for_the_year_ended_06_30_2024__10.6_MB_.pdf\n",
      "Extracting data from PRESIDENT___FELLOWS_OF_HARVARD_COLLEGE/Harvard_University_Financial_Report_for_the_year_ended_06_30_2024__10.6_MB_.pdf\n",
      "Extracting data from PRESIDENT___FELLOWS_OF_HARVARD_COLLEGE/Harvard_University_Student_Applications_and_Enrollment_for_the_year_ended_06_30_2024__557_KB_.pdf\n",
      "Extracting data from STEVENSON_UNIVERSITY_INC/2024_Annual_Compliance_Certificate__EagleBank__for_the_year_ended_06_30_2024__3_MB_.pdf\n",
      "Extracting data from STEVENSON_UNIVERSITY_INC/2024_Annual_Compliance_Certificate_for_the_year_ended_06_30_2024__2.8_MB_.pdf\n",
      "Extracting data from STEVENSON_UNIVERSITY_INC/2024_Audited_Financial_Statements_for_the_year_ended_06_30_2024__348_KB_.pdf\n",
      "Extracting data from STEVENSON_UNIVERSITY_INC/2024_Operating_Data_for_the_year_ended_06_30_2024__196_KB_.pdf\n",
      "Extracting data from STEVENS_INSTITUTE_OF_TECHNOLOGY/Annual_Report_for_the_year_ended_06_30_2024__216_KB_.pdf\n",
      "Extracting data from STEVENS_INSTITUTE_OF_TECHNOLOGY/Audit_Financial_Statement_for_the_year_ended_06_30_2024__626_KB_.pdf\n",
      "Extracting data from ST_LOUIS_UNIVERSITY_US/Amendment_to_Continuing_Disclosure_Undertaking_dated_01_05_2024__392_KB_.pdf\n",
      "Extracting data from ST_LOUIS_UNIVERSITY_US/Audited_Financials_and_Operating_Data_for_the_year_ended_06_30_2024_Document1__561_KB_.pdf\n",
      "Extracting data from ST_LOUIS_UNIVERSITY_US/Audited_Financials_and_Operating_Data_for_the_year_ended_06_30_2024_Document2__174_KB_.pdf\n",
      "Extracting data from TEXAS_A_M_UNIVERSITY/FY_2024_Continuing_Disclosure_Annual_Report_for_the_year_ended_08_31_2024__2.3_MB_.pdf\n",
      "Extracting data from TEXAS_A_M_UNIVERSITY/Texas_A_M_University_System_Unaudited_Annual_Financial_Reports_for_the_year_ended_08_31_2024__2_MB_.pdf\n",
      "Extracting data from UNIVERSITY_OF_COLORADO/Financial_and_Operating_Data__Fiscal_Year_2024_for_the_year_ended_06_30_2024__278_KB_.pdf\n",
      "Extracting data from UNIVERSITY_OF_MINNESOTA/Annual_Financial_Information_and_Operating_Data_for_the_year_ended_06_30_2024_Document1__1.3_MB_.pdf\n",
      "Extracting data from UNIVERSITY_OF_MINNESOTA/Annual_Financial_Information_and_Operating_Data_for_the_year_ended_06_30_2024_Document2__315_KB_.pdf\n",
      "All schools written to output_fin_incomestatement_nk_v1/all_schools.xlsx\n"
     ]
    }
   ],
   "source": [
    "OUTPUT_FILE = os.path.join(OUTPUT_ROOT, \"all_schools.xlsx\")\n",
    "\n",
    "writer = pd.ExcelWriter(OUTPUT_FILE, engine=\"openpyxl\")\n",
    "\n",
    "for school in sorted(os.listdir(PDF_ROOT)):\n",
    "    school_dir = os.path.join(PDF_ROOT, school)\n",
    "    if not os.path.isdir(school_dir):\n",
    "        continue\n",
    "\n",
    "    combined   = {}\n",
    "    first_keys = None\n",
    "    for fname in sorted(os.listdir(school_dir)):\n",
    "        if not fname.lower().endswith(\".pdf\"):\n",
    "            continue\n",
    "        path = os.path.join(school_dir, fname)\n",
    "        print(f\"Extracting data from {school}/{fname}\")\n",
    "        try:\n",
    "            run  = agent.extract(path)\n",
    "            data = run.data or {}\n",
    "            if first_keys is None:\n",
    "                first_keys = list(data.keys())\n",
    "                combined  = {k: None for k in first_keys}\n",
    "            for k, v in data.items():\n",
    "                if v not in (None, \"\", []):\n",
    "                    combined[k] = v\n",
    "        except Exception as err:\n",
    "            print(f\"Skipped {fname}: {err}\")\n",
    "\n",
    "    if first_keys:\n",
    "        df = pd.DataFrame.from_dict(combined, orient=\"index\", columns=[\"2024-25\"])\n",
    "        df.index.name = \"Metric\"\n",
    "        sheet_name = school[:31]\n",
    "        df.to_excel(writer, sheet_name=sheet_name)\n",
    "    else:\n",
    "        print(f\"No data for {school}.\")\n",
    "\n",
    "writer.close()\n",
    "print(f\"All schools written to {OUTPUT_FILE}\")"
   ]
  },
  {
   "cell_type": "code",
   "execution_count": 10,
   "id": "47a6c073-4b51-4770-abc4-f5942a1f772a",
   "metadata": {},
   "outputs": [
    {
     "name": "stdout",
     "output_type": "stream",
     "text": [
      "Saved: output_fin_incomestatement_nk_v1/all_schools_combined.xlsx\n"
     ]
    }
   ],
   "source": [
    "#Combine all the tabs into one sheet if wanted\n",
    "file_path   = \"output_fin_incomestatement_nk_v1/all_schools.xlsx\"\n",
    "output_path = \"output_fin_incomestatement_nk_v1/all_schools_combined.xlsx\"\n",
    "\n",
    "raw = pd.read_excel(file_path, sheet_name=None, index_col=0)\n",
    "\n",
    "school_series = {\n",
    "    school: df.iloc[:, 0]                      # first (only) value column\n",
    "    for school, df in raw.items()\n",
    "}\n",
    "\n",
    "df_comb = pd.DataFrame(school_series).T\n",
    "df_comb.index.name = \"School\"                 \n",
    "df_comb.insert(0, \"Year\", \"2023‑2024\")\n",
    "\n",
    "#df_comb.loc['Texas_A&M', ['Total_Headcount','Undergraduate_Headcount']] = \\\n",
    "    #df_comb.loc['Texas_A&M', ['Undergraduate_Headcount','Total_Headcount']].values\n",
    "\n",
    "# df_comb.loc['California_state_university', 'Undergraduate_Headcount'] = None \n",
    "with pd.ExcelWriter(output_path, engine=\"openpyxl\") as writer:\n",
    "    df_comb.to_excel(writer, sheet_name=\"Combined\")\n",
    "\n",
    "print(\"Saved:\", output_path)"
   ]
  },
  {
   "cell_type": "code",
   "execution_count": null,
   "id": "cdd5ba9c-4240-49fe-8707-9c4fde4a09b6",
   "metadata": {},
   "outputs": [],
   "source": []
  }
 ],
 "metadata": {
  "kernelspec": {
   "display_name": "Python (.venv)",
   "language": "python",
   "name": ".venv"
  },
  "language_info": {
   "codemirror_mode": {
    "name": "ipython",
    "version": 3
   },
   "file_extension": ".py",
   "mimetype": "text/x-python",
   "name": "python",
   "nbconvert_exporter": "python",
   "pygments_lexer": "ipython3",
   "version": "3.11.8"
  }
 },
 "nbformat": 4,
 "nbformat_minor": 5
}
