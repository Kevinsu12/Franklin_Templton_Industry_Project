{
 "cells": [
  {
   "cell_type": "markdown",
   "metadata": {
    "id": "xYQa8UEuVue4"
   },
   "source": [
    "# Parsing Code using Llama Parse v2.0\n",
    "UCB MFE FT ID GROUP - RL \\\\\n",
    "In order to run this code, you need api from llama Cloud: \\\\\n",
    "you would need LLAMA_CLOUD_API_KEY @ https://cloud.llamaindex.ai/project/bf1f404e-ee25-4695-a2e6-eb5519ac661a \\\\\n",
    "Documentation: https://docs.cloud.llamaindex.ai/llamaparse/getting_started/python\n",
    "\n",
    "For the data porting, we choose to use openai to handel all the information and data cleaning and organisation, so that it looks exactly like the excel format which was provided by Luis."
   ]
  },
  {
   "cell_type": "code",
   "execution_count": 1,
   "metadata": {
    "id": "wRBa3A0lk-Ov"
   },
   "outputs": [],
   "source": [
    "from llama_cloud_services import LlamaParse, LlamaReport, LlamaExtract\n",
    "from pydantic import BaseModel, Field\n",
    "from typing import Optional\n",
    "from dotenv import load_dotenv\n",
    "import os\n",
    "import pandas as pd\n",
    "import nest_asyncio\n",
    "from typing import List, Optional, Dict\n",
    "from pathlib import Path\n",
    "import json\n",
    "\n",
    "load_dotenv()\n",
    "nest_asyncio.apply()"
   ]
  },
  {
   "cell_type": "code",
   "execution_count": 2,
   "metadata": {
    "id": "Cd97lcRBlMdE"
   },
   "outputs": [],
   "source": [
    "os.environ[\"LLAMA_CLOUD_API_KEY\"]=\"llx-f6YYjXtedyymyFDxyFp793XAlgjy3IIBKZ2lday5PL5pX5CY\""
   ]
  },
  {
   "cell_type": "code",
   "execution_count": 3,
   "metadata": {
    "id": "K2LG__pWll21"
   },
   "outputs": [],
   "source": [
    "from llama_parse import LlamaParse"
   ]
  },
  {
   "cell_type": "code",
   "execution_count": 4,
   "metadata": {
    "id": "q36T_jwF0X0k"
   },
   "outputs": [],
   "source": [
    "# Agent 1: Financial Position\n",
    "class FinancialPosition(BaseModel):\n",
    "    year: int\n",
    "    cash_and_short_term_investments: Optional[int]\n",
    "    student_receivables_net: Optional[int]\n",
    "    accounts_receivable: Optional[int]\n",
    "    contributions_receivable: Optional[int]\n",
    "    notes_receivable: Optional[int]\n",
    "    loans_receivable_net: Optional[int]\n",
    "    other_assets: Optional[int]\n",
    "    investments: Optional[int]\n",
    "    right_of_use_assets: Optional[int]\n",
    "    land_buildings_equipment_net: Optional[int]\n",
    "    accumulated_depreciation: Optional[int]\n",
    "    rou_assets_finance_lease: Optional[int]\n",
    "    rou_assets_operating_lease: Optional[int]\n",
    "    current_portion_long_term_debt: Optional[int]\n",
    "    current_portion_operating_lease: Optional[int]\n",
    "    short_term_debt: Optional[int]\n",
    "    total_assets: Optional[int]\n",
    "    accounts_payable: Optional[int]\n",
    "    student_deposits_and_deferred_revenue: Optional[int]\n",
    "    tenant_capital_improvements: Optional[int]\n",
    "    bonds_payable_net: Optional[int]\n",
    "    refundable_advances_us_govt: Optional[int]\n",
    "    lease_obligations: Optional[int]\n",
    "    liabilities_under_split_interest_agreements: Optional[int]\n",
    "    liabilities_associated_with_investments: Optional[int]\n",
    "    non_controlling_interests: Optional[int]\n",
    "    total_liabilities: Optional[int]\n",
    "    net_assets_with_donor_restrictions: Optional[int]\n",
    "    net_assets_without_donor_restrictions: Optional[int]\n",
    "    total_net_assets: Optional[int]\n",
    "    total_liabilities_and_net_assets: Optional[int]\n",
    "\n",
    "\n",
    "# Agent 2: Statement of Activities\n",
    "class StatementOfActivities(BaseModel):\n",
    "    year: int\n",
    "    tuition_and_fees_net: Optional[int]\n",
    "    auxiliary_enterprises: Optional[int]\n",
    "    government_grants: Optional[int]\n",
    "    contributions_with_donor_restrictions: Optional[int]\n",
    "    contributions_without_donor_restrictions: Optional[int]\n",
    "    investment_income_operations_with_donor: Optional[int]\n",
    "    investment_income_operations_without_donor: Optional[int]\n",
    "    other_investment_income: Optional[int]\n",
    "    other_sources: Optional[int]\n",
    "    total_revenue: Optional[int]\n",
    "    net_assets_released_from_restrictions: Optional[int]\n",
    "    compensation: Optional[int]\n",
    "    fringe_benefits: Optional[int]\n",
    "    supplies_services_general: Optional[int]\n",
    "    depreciation: Optional[int]\n",
    "    interest: Optional[int]\n",
    "    utilities_occupancy: Optional[int]\n",
    "    total_expenses: Optional[int]\n",
    "    change_in_net_assets_with_donor_restrictions: Optional[int]\n",
    "    change_in_net_assets_without_donor_restrictions: Optional[int]\n",
    "    total_change_in_net_assets: Optional[int]\n",
    "\n",
    "\n",
    "# Agent 3: Cash Flows\n",
    "class CashFlows(BaseModel):\n",
    "    year: int\n",
    "    net_cash_from_operating_activities: Optional[int]\n",
    "    purchases_of_investments: Optional[int]\n",
    "    sales_of_investments: Optional[int]\n",
    "    purchases_of_capex: Optional[int]\n",
    "    proceeds_from_sale_of_assets: Optional[int]\n",
    "    net_cash_from_investing_activities: Optional[int]\n",
    "    bond_repayment: Optional[int]\n",
    "    govt_grant_reduction: Optional[int]\n",
    "    restricted_contributions_for_long_term: Optional[int]\n",
    "    net_cash_from_financing_activities: Optional[int]\n",
    "    net_change_in_cash: Optional[int]\n",
    "    cash_beginning_of_year: Optional[int]\n",
    "    cash_end_of_year: Optional[int]\n",
    "\n",
    "\n",
    "# Agent 4: Endowment Breakdown\n",
    "class EndowmentBreakdown(BaseModel):\n",
    "    year: int\n",
    "    donor_restricted_start: Optional[int]\n",
    "    board_designated_start: Optional[int]\n",
    "    investment_income_donor: Optional[int]\n",
    "    investment_gains_donor: Optional[int]\n",
    "    investment_income_board: Optional[int]\n",
    "    investment_gains_board: Optional[int]\n",
    "    new_contributions: Optional[int]\n",
    "    appropriated_donor: Optional[int]\n",
    "    appropriated_board: Optional[int]\n",
    "    donor_restricted_end: Optional[int]\n",
    "    board_designated_end: Optional[int]\n",
    "\n",
    "\n",
    "# Agent 5: Investment Valuation\n",
    "class InvestmentValuation(BaseModel):\n",
    "    year: int\n",
    "    total_investments: Optional[int]\n",
    "    domestic_fixed_income: Optional[int]\n",
    "    domestic_equity: Optional[int]\n",
    "    international_equity: Optional[int]\n",
    "    private_equity_nav: Optional[int]\n",
    "    real_assets_nav: Optional[int]\n",
    "    hedge_funds_nav: Optional[int]\n",
    "    level_1_total: Optional[int]\n",
    "    nav_total: Optional[int]\n",
    "\n",
    "\n",
    "# Agent 6: Notes Summary (lease_payments_schedule removed)\n",
    "class NotesSummary(BaseModel):\n",
    "    year: int\n",
    "    financial_assets_within_12_months: Optional[int]\n",
    "    lines_of_credit: Optional[int]\n",
    "    available_liquidity_total: Optional[int]\n",
    "    lease_liability: Optional[int]\n",
    "    instruction_with_donor: Optional[int]\n",
    "    academic_support_with_donor: Optional[int]\n",
    "    student_aid_with_donor: Optional[int]\n",
    "    general_institutional_with_donor: Optional[int]\n",
    "\n",
    "\n",
    "# Final schema container\n",
    "class FinancialStatement_2425(BaseModel):\n",
    "    financial_position: List[FinancialPosition]\n",
    "    statement_of_activities: List[StatementOfActivities]\n",
    "    cash_flows: List[CashFlows]\n",
    "    endowment: List[EndowmentBreakdown]\n",
    "    investment_valuation: List[InvestmentValuation]\n",
    "    notes_summary: List[NotesSummary]"
   ]
  },
  {
   "cell_type": "code",
   "execution_count": 5,
   "metadata": {},
   "outputs": [],
   "source": [
    "# we are only allowed to have 100 fields. hence have to exclude these\n",
    "\n",
    "# # === Agent 6: Notes Summary ===\n",
    "# class NotesSummary(BaseModel):\n",
    "#     year: int\n",
    "#     financial_assets_within_12_months: Optional[int]\n",
    "#     lines_of_credit: Optional[int]\n",
    "#     available_liquidity_total: Optional[int]\n",
    "#     lease_liability: Optional[int]\n",
    "#     lease_payments_schedule: Optional[List[LeasePaymentEntry]]\n",
    "#     instruction_with_donor: Optional[int]\n",
    "#     academic_support_with_donor: Optional[int]\n",
    "#     student_aid_with_donor: Optional[int]\n",
    "#     general_institutional_with_donor: Optional[int]\n",
    "\n",
    "\n",
    "# # === Agent 7: Financial Aid Summary ===\n",
    "# class FinancialAidSummary(BaseModel):\n",
    "#     year: int\n",
    "#     financial_aid_gifts_grants: Optional[int]\n",
    "#     financial_aid_loans: Optional[int]\n",
    "#     financial_aid_work_study: Optional[int]\n",
    "#     total_financial_aid: Optional[int]\n",
    "#     institutional_funds: Optional[int]\n",
    "#     restricted_grants: Optional[int]\n",
    "#     total_student_aid: Optional[int]\n",
    "\n",
    "# # === Agent 9: Operating Budget ===\n",
    "# class OperatingBudget(BaseModel):\n",
    "#     year: int\n",
    "#     operating_budget_total: Optional[int]\n",
    "#     operating_budget_bloomington: Optional[int]\n",
    "#     operating_budget_indianapolis: Optional[int]\n",
    "#     operating_budget_regionals: Optional[int]\n",
    "#     operating_budget_admin: Optional[int]\n",
    "\n",
    "\n",
    "# # === Agent 10: State Appropriations ===\n",
    "# class StateAppropriations(BaseModel):\n",
    "#     year: int\n",
    "#     state_appropriations: Optional[int]\n",
    "#     capital_appropriations: Optional[int]\n",
    "\n",
    "\n",
    "# # === Agent 11: Cash Position Breakout ===\n",
    "# class CashPositionBreakout(BaseModel):\n",
    "#     year: int\n",
    "#     restricted_cash_end_of_year: Optional[int]\n",
    "#     unrestricted_cash_end_of_year: Optional[int]\n",
    "#     right_to_use_asset_lease: Optional[int]\n",
    "#     unrestricted_cash_and_cash_equivalents: Optional[int]\n",
    "#     total_cash_and_investments: Optional[int]\n",
    "\n",
    "\n",
    "# # === Agent 12: Debt Service Summary ===\n",
    "# class DebtServiceSummary(BaseModel):\n",
    "#     year: int\n",
    "#     long_term_debt_total: Optional[int]\n",
    "#     annual_debt_service: Optional[int]\n",
    "#     net_revenue_for_debt_service: Optional[int]\n",
    "#     debt_service_coverage_ratio: Optional[float]\n",
    "#     change_in_net_assets: Optional[int]\n",
    "#     investment_losses: Optional[int]\n",
    "#     post_retirement_benefit_obligation: Optional[int]\n",
    "#     depreciation: Optional[int]\n",
    "#     interest_expense: Optional[int]\n",
    "\n",
    "\n",
    "#     operating_budget: List[OperatingBudget]\n",
    "#     state_appropriations: List[StateAppropriations]\n",
    "#     cash_position_breakout: List[CashPositionBreakout]\n",
    "#     debt_service_summary: List[DebtServiceSummary]\n",
    "\n",
    "\n",
    "# # === Combined Schema ===\n",
    "# class FinancialStatement_2425(BaseModel):\n",
    "#     financial_position: List[FinancialPosition]\n",
    "#     statement_of_activities: List[StatementOfActivities]\n",
    "#     cash_flows: List[CashFlows]\n",
    "#     endowment: List[EndowmentBreakdown]\n",
    "#     investment_valuation: List[InvestmentValuation]\n",
    "#     notes_summary: List[NotesSummary]\n",
    "#     financial_aid_summary: List[FinancialAidSummary]\n",
    "#     tuition_cost: List[TuitionCost]\n",
    "#     operating_budget: List[OperatingBudget]\n",
    "#     state_appropriations: List[StateAppropriations]\n",
    "#     cash_position_breakout: List[CashPositionBreakout]\n",
    "#     debt_service_summary: List[DebtServiceSummary]"
   ]
  },
  {
   "cell_type": "code",
   "execution_count": 6,
   "metadata": {
    "colab": {
     "base_uri": "https://localhost:8080/"
    },
    "id": "gKia7LxM4_VW",
    "outputId": "3e031049-cfd7-4787-cccc-2c76b7a122d6"
   },
   "outputs": [
    {
     "name": "stdout",
     "output_type": "stream",
     "text": [
      "No project_id provided, fetching default project.\n"
     ]
    },
    {
     "ename": "ApiError",
     "evalue": "status_code: 400, body: {'detail': 'schema_validation: Schema exceeds maximum of 100 properties.\\nSee: https://docs.cloud.llamaindex.ai/llamaextract/features/schema_restrictions'}",
     "output_type": "error",
     "traceback": [
      "\u001b[0;31m---------------------------------------------------------------------------\u001b[0m",
      "\u001b[0;31mApiError\u001b[0m                                  Traceback (most recent call last)",
      "Cell \u001b[0;32mIn[6], line 7\u001b[0m\n\u001b[1;32m      4\u001b[0m agent \u001b[38;5;241m=\u001b[39m extractor\u001b[38;5;241m.\u001b[39mget_agent(\u001b[38;5;28mid\u001b[39m\u001b[38;5;241m=\u001b[39m\u001b[38;5;124m\"\u001b[39m\u001b[38;5;124md48a8828-497b-4cf7-88fe-aef9e1c4b95e\u001b[39m\u001b[38;5;124m\"\u001b[39m)\n\u001b[1;32m      6\u001b[0m \u001b[38;5;66;03m# Assign your updated schema\u001b[39;00m\n\u001b[0;32m----> 7\u001b[0m \u001b[43magent\u001b[49m\u001b[38;5;241;43m.\u001b[39;49m\u001b[43mdata_schema\u001b[49m \u001b[38;5;241m=\u001b[39m FinancialStatement_2425\n\u001b[1;32m      8\u001b[0m agent\u001b[38;5;241m.\u001b[39msave()\n",
      "File \u001b[0;32m/Library/Frameworks/Python.framework/Versions/3.10/lib/python3.10/site-packages/llama_cloud_services/extract/extract.py:199\u001b[0m, in \u001b[0;36mExtractionAgent.data_schema\u001b[0;34m(self, data_schema)\u001b[0m\n\u001b[1;32m    195\u001b[0m \u001b[38;5;28;01melse\u001b[39;00m:\n\u001b[1;32m    196\u001b[0m     \u001b[38;5;28;01mraise\u001b[39;00m \u001b[38;5;167;01mValueError\u001b[39;00m(\n\u001b[1;32m    197\u001b[0m         \u001b[38;5;124m\"\u001b[39m\u001b[38;5;124mdata_schema must be either a dictionary or a Pydantic model\u001b[39m\u001b[38;5;124m\"\u001b[39m\n\u001b[1;32m    198\u001b[0m     )\n\u001b[0;32m--> 199\u001b[0m validated_schema \u001b[38;5;241m=\u001b[39m \u001b[38;5;28;43mself\u001b[39;49m\u001b[38;5;241;43m.\u001b[39;49m\u001b[43m_run_in_thread\u001b[49m\u001b[43m(\u001b[49m\n\u001b[1;32m    200\u001b[0m \u001b[43m    \u001b[49m\u001b[38;5;28;43mself\u001b[39;49m\u001b[38;5;241;43m.\u001b[39;49m\u001b[43m_client\u001b[49m\u001b[38;5;241;43m.\u001b[39;49m\u001b[43mllama_extract\u001b[49m\u001b[38;5;241;43m.\u001b[39;49m\u001b[43mvalidate_extraction_schema\u001b[49m\u001b[43m(\u001b[49m\n\u001b[1;32m    201\u001b[0m \u001b[43m        \u001b[49m\u001b[43mdata_schema\u001b[49m\u001b[38;5;241;43m=\u001b[39;49m\u001b[43mprocessed_schema\u001b[49m\n\u001b[1;32m    202\u001b[0m \u001b[43m    \u001b[49m\u001b[43m)\u001b[49m\n\u001b[1;32m    203\u001b[0m \u001b[43m\u001b[49m\u001b[43m)\u001b[49m\n\u001b[1;32m    204\u001b[0m \u001b[38;5;28mself\u001b[39m\u001b[38;5;241m.\u001b[39m_data_schema \u001b[38;5;241m=\u001b[39m validated_schema\u001b[38;5;241m.\u001b[39mdata_schema\n",
      "File \u001b[0;32m/Library/Frameworks/Python.framework/Versions/3.10/lib/python3.10/site-packages/llama_cloud_services/extract/extract.py:217\u001b[0m, in \u001b[0;36mExtractionAgent._run_in_thread\u001b[0;34m(self, coro)\u001b[0m\n\u001b[1;32m    215\u001b[0m \u001b[38;5;28;01mdef\u001b[39;00m\u001b[38;5;250m \u001b[39m\u001b[38;5;21m_run_in_thread\u001b[39m(\u001b[38;5;28mself\u001b[39m, coro: Coroutine[Any, Any, T]) \u001b[38;5;241m-\u001b[39m\u001b[38;5;241m>\u001b[39m T:\n\u001b[1;32m    216\u001b[0m \u001b[38;5;250m    \u001b[39m\u001b[38;5;124;03m\"\"\"Run coroutine in a separate thread to avoid event loop issues\"\"\"\u001b[39;00m\n\u001b[0;32m--> 217\u001b[0m     \u001b[38;5;28;01mreturn\u001b[39;00m \u001b[43mrun_in_thread\u001b[49m\u001b[43m(\u001b[49m\n\u001b[1;32m    218\u001b[0m \u001b[43m        \u001b[49m\u001b[43mcoro\u001b[49m\u001b[43m,\u001b[49m\n\u001b[1;32m    219\u001b[0m \u001b[43m        \u001b[49m\u001b[38;5;28;43mself\u001b[39;49m\u001b[38;5;241;43m.\u001b[39;49m\u001b[43m_thread_pool\u001b[49m\u001b[43m,\u001b[49m\n\u001b[1;32m    220\u001b[0m \u001b[43m        \u001b[49m\u001b[38;5;28;43mself\u001b[39;49m\u001b[38;5;241;43m.\u001b[39;49m\u001b[43mverify\u001b[49m\u001b[43m,\u001b[49m\u001b[43m  \u001b[49m\u001b[38;5;66;43;03m# type: ignore\u001b[39;49;00m\n\u001b[1;32m    221\u001b[0m \u001b[43m        \u001b[49m\u001b[38;5;28;43mself\u001b[39;49m\u001b[38;5;241;43m.\u001b[39;49m\u001b[43mhttpx_timeout\u001b[49m\u001b[43m,\u001b[49m\u001b[43m  \u001b[49m\u001b[38;5;66;43;03m# type: ignore\u001b[39;49;00m\n\u001b[1;32m    222\u001b[0m \u001b[43m        \u001b[49m\u001b[38;5;28;43mself\u001b[39;49m\u001b[38;5;241;43m.\u001b[39;49m\u001b[43m_client\u001b[49m\u001b[38;5;241;43m.\u001b[39;49m\u001b[43m_client_wrapper\u001b[49m\u001b[43m,\u001b[49m\n\u001b[1;32m    223\u001b[0m \u001b[43m    \u001b[49m\u001b[43m)\u001b[49m\n",
      "File \u001b[0;32m/Library/Frameworks/Python.framework/Versions/3.10/lib/python3.10/site-packages/llama_cloud_services/extract/extract.py:119\u001b[0m, in \u001b[0;36mrun_in_thread\u001b[0;34m(coro, thread_pool, verify, httpx_timeout, client_wrapper)\u001b[0m\n\u001b[1;32m    116\u001b[0m     \u001b[38;5;28;01mexcept\u001b[39;00m httpx\u001b[38;5;241m.\u001b[39mNetworkError \u001b[38;5;28;01mas\u001b[39;00m e:\n\u001b[1;32m    117\u001b[0m         \u001b[38;5;28;01mraise\u001b[39;00m \u001b[38;5;167;01mConnectionError\u001b[39;00m(\u001b[38;5;124mf\u001b[39m\u001b[38;5;124m\"\u001b[39m\u001b[38;5;124mNetwork error: \u001b[39m\u001b[38;5;132;01m{\u001b[39;00m\u001b[38;5;28mstr\u001b[39m(e)\u001b[38;5;132;01m}\u001b[39;00m\u001b[38;5;124m\"\u001b[39m) \u001b[38;5;28;01mfrom\u001b[39;00m\u001b[38;5;250m \u001b[39m\u001b[38;5;21;01me\u001b[39;00m\n\u001b[0;32m--> 119\u001b[0m \u001b[38;5;28;01mreturn\u001b[39;00m \u001b[43mthread_pool\u001b[49m\u001b[38;5;241;43m.\u001b[39;49m\u001b[43msubmit\u001b[49m\u001b[43m(\u001b[49m\u001b[43mrun_coro\u001b[49m\u001b[43m)\u001b[49m\u001b[38;5;241;43m.\u001b[39;49m\u001b[43mresult\u001b[49m\u001b[43m(\u001b[49m\u001b[43m)\u001b[49m\n",
      "File \u001b[0;32m/Library/Frameworks/Python.framework/Versions/3.10/lib/python3.10/concurrent/futures/_base.py:458\u001b[0m, in \u001b[0;36mFuture.result\u001b[0;34m(self, timeout)\u001b[0m\n\u001b[1;32m    456\u001b[0m     \u001b[38;5;28;01mraise\u001b[39;00m CancelledError()\n\u001b[1;32m    457\u001b[0m \u001b[38;5;28;01melif\u001b[39;00m \u001b[38;5;28mself\u001b[39m\u001b[38;5;241m.\u001b[39m_state \u001b[38;5;241m==\u001b[39m FINISHED:\n\u001b[0;32m--> 458\u001b[0m     \u001b[38;5;28;01mreturn\u001b[39;00m \u001b[38;5;28;43mself\u001b[39;49m\u001b[38;5;241;43m.\u001b[39;49m\u001b[43m__get_result\u001b[49m\u001b[43m(\u001b[49m\u001b[43m)\u001b[49m\n\u001b[1;32m    459\u001b[0m \u001b[38;5;28;01melse\u001b[39;00m:\n\u001b[1;32m    460\u001b[0m     \u001b[38;5;28;01mraise\u001b[39;00m \u001b[38;5;167;01mTimeoutError\u001b[39;00m()\n",
      "File \u001b[0;32m/Library/Frameworks/Python.framework/Versions/3.10/lib/python3.10/concurrent/futures/_base.py:403\u001b[0m, in \u001b[0;36mFuture.__get_result\u001b[0;34m(self)\u001b[0m\n\u001b[1;32m    401\u001b[0m \u001b[38;5;28;01mif\u001b[39;00m \u001b[38;5;28mself\u001b[39m\u001b[38;5;241m.\u001b[39m_exception:\n\u001b[1;32m    402\u001b[0m     \u001b[38;5;28;01mtry\u001b[39;00m:\n\u001b[0;32m--> 403\u001b[0m         \u001b[38;5;28;01mraise\u001b[39;00m \u001b[38;5;28mself\u001b[39m\u001b[38;5;241m.\u001b[39m_exception\n\u001b[1;32m    404\u001b[0m     \u001b[38;5;28;01mfinally\u001b[39;00m:\n\u001b[1;32m    405\u001b[0m         \u001b[38;5;66;03m# Break a reference cycle with the exception in self._exception\u001b[39;00m\n\u001b[1;32m    406\u001b[0m         \u001b[38;5;28mself\u001b[39m \u001b[38;5;241m=\u001b[39m \u001b[38;5;28;01mNone\u001b[39;00m\n",
      "File \u001b[0;32m/Library/Frameworks/Python.framework/Versions/3.10/lib/python3.10/concurrent/futures/thread.py:58\u001b[0m, in \u001b[0;36m_WorkItem.run\u001b[0;34m(self)\u001b[0m\n\u001b[1;32m     55\u001b[0m     \u001b[38;5;28;01mreturn\u001b[39;00m\n\u001b[1;32m     57\u001b[0m \u001b[38;5;28;01mtry\u001b[39;00m:\n\u001b[0;32m---> 58\u001b[0m     result \u001b[38;5;241m=\u001b[39m \u001b[38;5;28;43mself\u001b[39;49m\u001b[38;5;241;43m.\u001b[39;49m\u001b[43mfn\u001b[49m\u001b[43m(\u001b[49m\u001b[38;5;241;43m*\u001b[39;49m\u001b[38;5;28;43mself\u001b[39;49m\u001b[38;5;241;43m.\u001b[39;49m\u001b[43margs\u001b[49m\u001b[43m,\u001b[49m\u001b[43m \u001b[49m\u001b[38;5;241;43m*\u001b[39;49m\u001b[38;5;241;43m*\u001b[39;49m\u001b[38;5;28;43mself\u001b[39;49m\u001b[38;5;241;43m.\u001b[39;49m\u001b[43mkwargs\u001b[49m\u001b[43m)\u001b[49m\n\u001b[1;32m     59\u001b[0m \u001b[38;5;28;01mexcept\u001b[39;00m \u001b[38;5;167;01mBaseException\u001b[39;00m \u001b[38;5;28;01mas\u001b[39;00m exc:\n\u001b[1;32m     60\u001b[0m     \u001b[38;5;28mself\u001b[39m\u001b[38;5;241m.\u001b[39mfuture\u001b[38;5;241m.\u001b[39mset_exception(exc)\n",
      "File \u001b[0;32m/Library/Frameworks/Python.framework/Versions/3.10/lib/python3.10/site-packages/llama_cloud_services/extract/extract.py:113\u001b[0m, in \u001b[0;36mrun_in_thread.<locals>.run_coro\u001b[0;34m()\u001b[0m\n\u001b[1;32m    111\u001b[0m \u001b[38;5;28;01mdef\u001b[39;00m\u001b[38;5;250m \u001b[39m\u001b[38;5;21mrun_coro\u001b[39m() \u001b[38;5;241m-\u001b[39m\u001b[38;5;241m>\u001b[39m T:\n\u001b[1;32m    112\u001b[0m     \u001b[38;5;28;01mtry\u001b[39;00m:\n\u001b[0;32m--> 113\u001b[0m         \u001b[38;5;28;01mreturn\u001b[39;00m \u001b[43masyncio\u001b[49m\u001b[38;5;241;43m.\u001b[39;49m\u001b[43mrun\u001b[49m\u001b[43m(\u001b[49m\u001b[43mwrapped_coro\u001b[49m\u001b[43m(\u001b[49m\u001b[43m)\u001b[49m\u001b[43m)\u001b[49m\n\u001b[1;32m    114\u001b[0m     \u001b[38;5;28;01mexcept\u001b[39;00m httpx\u001b[38;5;241m.\u001b[39mTimeoutException \u001b[38;5;28;01mas\u001b[39;00m e:\n\u001b[1;32m    115\u001b[0m         \u001b[38;5;28;01mraise\u001b[39;00m \u001b[38;5;167;01mTimeoutError\u001b[39;00m(\u001b[38;5;124mf\u001b[39m\u001b[38;5;124m\"\u001b[39m\u001b[38;5;124mRequest timed out: \u001b[39m\u001b[38;5;132;01m{\u001b[39;00m\u001b[38;5;28mstr\u001b[39m(e)\u001b[38;5;132;01m}\u001b[39;00m\u001b[38;5;124m\"\u001b[39m) \u001b[38;5;28;01mfrom\u001b[39;00m\u001b[38;5;250m \u001b[39m\u001b[38;5;21;01me\u001b[39;00m\n",
      "File \u001b[0;32m/Library/Frameworks/Python.framework/Versions/3.10/lib/python3.10/site-packages/nest_asyncio.py:30\u001b[0m, in \u001b[0;36m_patch_asyncio.<locals>.run\u001b[0;34m(main, debug)\u001b[0m\n\u001b[1;32m     28\u001b[0m task \u001b[38;5;241m=\u001b[39m asyncio\u001b[38;5;241m.\u001b[39mensure_future(main)\n\u001b[1;32m     29\u001b[0m \u001b[38;5;28;01mtry\u001b[39;00m:\n\u001b[0;32m---> 30\u001b[0m     \u001b[38;5;28;01mreturn\u001b[39;00m \u001b[43mloop\u001b[49m\u001b[38;5;241;43m.\u001b[39;49m\u001b[43mrun_until_complete\u001b[49m\u001b[43m(\u001b[49m\u001b[43mtask\u001b[49m\u001b[43m)\u001b[49m\n\u001b[1;32m     31\u001b[0m \u001b[38;5;28;01mfinally\u001b[39;00m:\n\u001b[1;32m     32\u001b[0m     \u001b[38;5;28;01mif\u001b[39;00m \u001b[38;5;129;01mnot\u001b[39;00m task\u001b[38;5;241m.\u001b[39mdone():\n",
      "File \u001b[0;32m/Library/Frameworks/Python.framework/Versions/3.10/lib/python3.10/site-packages/nest_asyncio.py:98\u001b[0m, in \u001b[0;36m_patch_loop.<locals>.run_until_complete\u001b[0;34m(self, future)\u001b[0m\n\u001b[1;32m     95\u001b[0m \u001b[38;5;28;01mif\u001b[39;00m \u001b[38;5;129;01mnot\u001b[39;00m f\u001b[38;5;241m.\u001b[39mdone():\n\u001b[1;32m     96\u001b[0m     \u001b[38;5;28;01mraise\u001b[39;00m \u001b[38;5;167;01mRuntimeError\u001b[39;00m(\n\u001b[1;32m     97\u001b[0m         \u001b[38;5;124m'\u001b[39m\u001b[38;5;124mEvent loop stopped before Future completed.\u001b[39m\u001b[38;5;124m'\u001b[39m)\n\u001b[0;32m---> 98\u001b[0m \u001b[38;5;28;01mreturn\u001b[39;00m \u001b[43mf\u001b[49m\u001b[38;5;241;43m.\u001b[39;49m\u001b[43mresult\u001b[49m\u001b[43m(\u001b[49m\u001b[43m)\u001b[49m\n",
      "File \u001b[0;32m/Library/Frameworks/Python.framework/Versions/3.10/lib/python3.10/asyncio/futures.py:201\u001b[0m, in \u001b[0;36mFuture.result\u001b[0;34m(self)\u001b[0m\n\u001b[1;32m    199\u001b[0m \u001b[38;5;28mself\u001b[39m\u001b[38;5;241m.\u001b[39m__log_traceback \u001b[38;5;241m=\u001b[39m \u001b[38;5;28;01mFalse\u001b[39;00m\n\u001b[1;32m    200\u001b[0m \u001b[38;5;28;01mif\u001b[39;00m \u001b[38;5;28mself\u001b[39m\u001b[38;5;241m.\u001b[39m_exception \u001b[38;5;129;01mis\u001b[39;00m \u001b[38;5;129;01mnot\u001b[39;00m \u001b[38;5;28;01mNone\u001b[39;00m:\n\u001b[0;32m--> 201\u001b[0m     \u001b[38;5;28;01mraise\u001b[39;00m \u001b[38;5;28mself\u001b[39m\u001b[38;5;241m.\u001b[39m_exception\u001b[38;5;241m.\u001b[39mwith_traceback(\u001b[38;5;28mself\u001b[39m\u001b[38;5;241m.\u001b[39m_exception_tb)\n\u001b[1;32m    202\u001b[0m \u001b[38;5;28;01mreturn\u001b[39;00m \u001b[38;5;28mself\u001b[39m\u001b[38;5;241m.\u001b[39m_result\n",
      "File \u001b[0;32m/Library/Frameworks/Python.framework/Versions/3.10/lib/python3.10/asyncio/tasks.py:232\u001b[0m, in \u001b[0;36mTask.__step\u001b[0;34m(***failed resolving arguments***)\u001b[0m\n\u001b[1;32m    228\u001b[0m \u001b[38;5;28;01mtry\u001b[39;00m:\n\u001b[1;32m    229\u001b[0m     \u001b[38;5;28;01mif\u001b[39;00m exc \u001b[38;5;129;01mis\u001b[39;00m \u001b[38;5;28;01mNone\u001b[39;00m:\n\u001b[1;32m    230\u001b[0m         \u001b[38;5;66;03m# We use the `send` method directly, because coroutines\u001b[39;00m\n\u001b[1;32m    231\u001b[0m         \u001b[38;5;66;03m# don't have `__iter__` and `__next__` methods.\u001b[39;00m\n\u001b[0;32m--> 232\u001b[0m         result \u001b[38;5;241m=\u001b[39m \u001b[43mcoro\u001b[49m\u001b[38;5;241;43m.\u001b[39;49m\u001b[43msend\u001b[49m\u001b[43m(\u001b[49m\u001b[38;5;28;43;01mNone\u001b[39;49;00m\u001b[43m)\u001b[49m\n\u001b[1;32m    233\u001b[0m     \u001b[38;5;28;01melse\u001b[39;00m:\n\u001b[1;32m    234\u001b[0m         result \u001b[38;5;241m=\u001b[39m coro\u001b[38;5;241m.\u001b[39mthrow(exc)\n",
      "File \u001b[0;32m/Library/Frameworks/Python.framework/Versions/3.10/lib/python3.10/site-packages/llama_cloud_services/extract/extract.py:106\u001b[0m, in \u001b[0;36mrun_in_thread.<locals>.wrapped_coro\u001b[0;34m()\u001b[0m\n\u001b[1;32m    104\u001b[0m \u001b[38;5;28;01mtry\u001b[39;00m:\n\u001b[1;32m    105\u001b[0m     client_wrapper\u001b[38;5;241m.\u001b[39mhttpx_client \u001b[38;5;241m=\u001b[39m client\n\u001b[0;32m--> 106\u001b[0m     \u001b[38;5;28;01mreturn\u001b[39;00m \u001b[38;5;28;01mawait\u001b[39;00m coro\n\u001b[1;32m    107\u001b[0m \u001b[38;5;28;01mfinally\u001b[39;00m:\n\u001b[1;32m    108\u001b[0m     client_wrapper\u001b[38;5;241m.\u001b[39mhttpx_client \u001b[38;5;241m=\u001b[39m original_client\n",
      "File \u001b[0;32m/Library/Frameworks/Python.framework/Versions/3.10/lib/python3.10/site-packages/llama_cloud/resources/llama_extract/client.py:900\u001b[0m, in \u001b[0;36mAsyncLlamaExtractClient.validate_extraction_schema\u001b[0;34m(self, data_schema)\u001b[0m\n\u001b[1;32m    898\u001b[0m \u001b[38;5;28;01mexcept\u001b[39;00m JSONDecodeError:\n\u001b[1;32m    899\u001b[0m     \u001b[38;5;28;01mraise\u001b[39;00m ApiError(status_code\u001b[38;5;241m=\u001b[39m_response\u001b[38;5;241m.\u001b[39mstatus_code, body\u001b[38;5;241m=\u001b[39m_response\u001b[38;5;241m.\u001b[39mtext)\n\u001b[0;32m--> 900\u001b[0m \u001b[38;5;28;01mraise\u001b[39;00m ApiError(status_code\u001b[38;5;241m=\u001b[39m_response\u001b[38;5;241m.\u001b[39mstatus_code, body\u001b[38;5;241m=\u001b[39m_response_json)\n",
      "\u001b[0;31mApiError\u001b[0m: status_code: 400, body: {'detail': 'schema_validation: Schema exceeds maximum of 100 properties.\\nSee: https://docs.cloud.llamaindex.ai/llamaextract/features/schema_restrictions'}"
     ]
    }
   ],
   "source": [
    "extractor = LlamaExtract()\n",
    "\n",
    "# Get your existing agent or create a new one\n",
    "agent = extractor.get_agent(id=\"d48a8828-497b-4cf7-88fe-aef9e1c4b95e\")\n",
    "\n",
    "# Assign your updated schema\n",
    "agent.data_schema = FinancialStatement_2425\n",
    "agent.save()"
   ]
  },
  {
   "cell_type": "code",
   "execution_count": null,
   "metadata": {
    "colab": {
     "base_uri": "https://localhost:8080/",
     "height": 374
    },
    "id": "Ddse7uGr6xEu",
    "outputId": "b55711f7-2bf5-4e7e-db81-8010c15bb548"
   },
   "outputs": [],
   "source": [
    "\n",
    "# ✅ 1. Use actual file path (Path object ensures compatibility)\n",
    "pdf_path = Path(\"/Users/lirichard/Desktop/FT/Franklin Templeton Industrial Project/PDF/P21856488-P21421176-P21864772.pdf\")\n",
    "\n",
    "# ✅ 2. Run agent.extract with raw file path (not parsed documents)\n",
    "extractions = agent.extract(str(pdf_path))  # <-- pass as string\n",
    "\n",
    "# ✅ 3. View structured output\n",
    "print(json.dumps(extractions.result, indent=2))"
   ]
  },
  {
   "cell_type": "code",
   "execution_count": null,
   "metadata": {
    "id": "RS-ezmHd6w41"
   },
   "outputs": [],
   "source": [
    "print(extractions.data)"
   ]
  },
  {
   "cell_type": "code",
   "execution_count": null,
   "metadata": {},
   "outputs": [],
   "source": [
    "!pip install xlsxwriter"
   ]
  },
  {
   "cell_type": "code",
   "execution_count": null,
   "metadata": {},
   "outputs": [],
   "source": [
    "import xlsxwriter\n",
    "def save_extraction_to_excel(data: dict, output_path: str):\n",
    "    all_blocks = []\n",
    "    for key, value in data.items():\n",
    "        # Convert list of dicts to DataFrame and transpose\n",
    "        if isinstance(value, list) and all(isinstance(item, dict) for item in value):\n",
    "            df = pd.DataFrame(value)\n",
    "            df = df.set_index(\"year\").T.reset_index().rename(columns={\"index\": \"field\"})\n",
    "        else:\n",
    "            df = pd.DataFrame([value])\n",
    "        # Insert section header as the first row of the block\n",
    "        section_header = pd.DataFrame([[f\"== {key.upper()} ==\"] + [\"\"] * (df.shape[1] - 1)], columns=df.columns)\n",
    "        all_blocks.extend([section_header, df, pd.DataFrame([[\"\"] * df.shape[1]])])  # add empty row after each section\n",
    "\n",
    "    # Combine all blocks\n",
    "    combined_df = pd.concat(all_blocks, ignore_index=True)\n",
    "\n",
    "    # Write to Excel\n",
    "    with pd.ExcelWriter(output_path, engine='xlsxwriter') as writer:\n",
    "        combined_df.to_excel(writer, sheet_name=\"Financials\", index=False)\n",
    "\n",
    "    return output_path"
   ]
  },
  {
   "cell_type": "code",
   "execution_count": null,
   "metadata": {},
   "outputs": [],
   "source": [
    "output_path = \"yale_extracted_2024.xlsx\"\n",
    "save_extraction_to_excel(extractions.data, output_path)"
   ]
  },
  {
   "cell_type": "code",
   "execution_count": null,
   "metadata": {},
   "outputs": [],
   "source": []
  }
 ],
 "metadata": {
  "colab": {
   "provenance": []
  },
  "kernelspec": {
   "display_name": "Python 3 (ipykernel)",
   "language": "python",
   "name": "python3"
  },
  "language_info": {
   "codemirror_mode": {
    "name": "ipython",
    "version": 3
   },
   "file_extension": ".py",
   "mimetype": "text/x-python",
   "name": "python",
   "nbconvert_exporter": "python",
   "pygments_lexer": "ipython3",
   "version": "3.12.7"
  }
 },
 "nbformat": 4,
 "nbformat_minor": 4
}
