{
 "cells": [
  {
   "cell_type": "code",
   "execution_count": 1,
   "id": "5c9627dd-5608-4da8-9f1a-8ea9589a003b",
   "metadata": {},
   "outputs": [],
   "source": [
    "import os\n",
    "import pandas as pd\n",
    "from llama_cloud_services import LlamaExtract\n",
    "from schemas import Enrollment2024_25  #This could be adjusted through schemas.py\n",
    "from dotenv import load_dotenv"
   ]
  },
  {
   "cell_type": "code",
   "execution_count": 2,
   "id": "cf875a82-1028-4b54-8807-1d1dde9cca33",
   "metadata": {},
   "outputs": [
    {
     "data": {
      "text/plain": [
       "True"
      ]
     },
     "execution_count": 2,
     "metadata": {},
     "output_type": "execute_result"
    }
   ],
   "source": [
    "PDF_ROOT = \"university_pdfs_hy_e\"\n",
    "OUTPUT_ROOT = \"output_scrapping\"\n",
    "os.makedirs(OUTPUT_ROOT, exist_ok=True)  \n",
    "AGENT_ID = \"ca221e4c-b3b2-4bf1-8862-d26016c9943a\" #Different based on your LLamaCloud account\n",
    "load_dotenv() #make sure the API key is in the .env file"
   ]
  },
  {
   "cell_type": "code",
   "execution_count": 3,
   "id": "47855a29-4fc8-4dae-b036-4626be1954da",
   "metadata": {},
   "outputs": [],
   "source": [
    "extractor = LlamaExtract(project_id = '8c10e62e-3810-4193-915d-d2d11105826d')\n",
    "\n",
    "#uncomment the below line if you are creating the agent for the first time\n",
    "# agent = extractor.create_agent(name = \"enrollment-parser-2024\", data_schema=Enrollment2024_25)\n",
    "\n",
    "agent = extractor.get_agent(id = AGENT_ID)\n",
    "\n",
    "#uncomment the following lines if you updated the schema\n",
    "agent.data_schema = Enrollment2024_25\n",
    "agent.save()\n",
    "agent = extractor.get_agent(id = AGENT_ID)\n"
   ]
  },
  {
   "cell_type": "code",
   "execution_count": 6,
   "id": "f81a8d24-9e3e-40eb-a1c0-9fe4e2025a35",
   "metadata": {},
   "outputs": [
    {
     "data": {
      "text/plain": [
       "{'additionalProperties': False,\n",
       " 'description': 'Statement of Cash Flows for the fiscal year 2024 or 2023–2024.\\nOnly extract data from the 2023–2024 fiscal period (e.g. statements labeled ‘Fiscal Year 2024’ or date ranges covering 2023–2024).\\nIgnore any figures outside this period.',\n",
       " 'properties': {'Undergraduate_Headcount': {'anyOf': [{'type': 'integer'},\n",
       "    {'type': 'null'}],\n",
       "   'description': \"Total undergraduate headcount for the 2024–2025 academic year (Different than undergraduate FTE. Sometimes you need to combine both full-time and part time).Search around the tables to locate what type of enrollment information it is.Only extract data for the 2024–2025 year or terms labeled Fall 2024, etcignore any data from other years or terms (e.g. 2023, 2023–2024, Fall 2023, Fall 2022, 2022). it's possible for a school to have multiple campuses, so combine all campuses' count or online and in-person count if applicable.If it didn't specify what kind of headcount is it, do not assume it's undergraduate headcount!!!Combine online and in-person if applicable.look around the table to see what type of data is it Do not derive or hallucinate the data unless the field is actually in the document.\"},\n",
       "  'Undergraduate_Headcount_Full_Time': {'anyOf': [{'type': 'integer'},\n",
       "    {'type': 'null'}],\n",
       "   'description': \"Undergraduate full-time or FT headcount for the 2024–2025 academic year. This is different than FTE(full-time equivalent).Only extract data for the 2024–2025 year or terms labeled Fall 2024, etc. ignore any data from other years or terms (e.g. 2023, 2023–2024, Fall 2023, Fall 2022, 2022). Combine across all campuses if the institution has multiple locations.Don't assume it's undergraduate full time unless it says undergraduate in the data description.When there is no specification of what kind of full-time it is, it should be total full-time.\"},\n",
       "  'Undergraduate_Headcount_Part_Time': {'anyOf': [{'type': 'integer'},\n",
       "    {'type': 'null'}],\n",
       "   'description': \"Undergraduate part-time (PT) headcount for the 2024–2025 academic year. Only extract data for the 2024–2025 year or terms labeled Fall 2024, etc. ignore any data from other years or terms (e.g. 2023, 2023–2024, Fall 2023, Fall 2022, 2022). Combine across all campuses if the institution has multiple locations. Do not derive or hallucinate the data unless the field is actually in the document.Don't assume it's undergraduate part time unless it says undergraduate in the data description.When there is no specification of what kind of part-time it is, it should be total part-time.\"},\n",
       "  'Graduate_Headcount': {'anyOf': [{'type': 'integer'}, {'type': 'null'}],\n",
       "   'description': \"Total graduate headcount for the 2024–2025 academic year. Post baccalaureate is considered a graduate headcount.(Different than graduate FTE. Sometimes you need to combine both full-time and part time), Combine enrollment across all graduate schools (e.g. Business, Education, etc.), if the graduate headcount included both professional and graduate headcount, it's fine to just put them under graduate headcount.Combine online and in-person if applicable.which may be labeled “GR”, “Grad”, or “Graduate”. Only extract data for the 2024–2025 year or terms labeled Fall 2024, etcignore any data from other years or terms (e.g. 2023, 2023–2024, Fall 2023, Fall 2022, 2022). it's possible for a school to have multiple campuses, so combine all campuses' count or online and in-person count if applicable. Do not derive or hallucinate the data unless the field is actually in the document.\"},\n",
       "  'Graduate_Headcount_Full_Time': {'anyOf': [{'type': 'integer'},\n",
       "    {'type': 'null'}],\n",
       "   'description': \"Graduate full-time (FT) headcount for the 2024–2025 academic year. Post baccalaureate is considered a graduate headcount.This is different than FTE(full-time equivalent).Combine across all graduate schools. Only extract data for the 2024–2025 year or terms labeled Fall 2024, etc. ignore any data from other years or terms (e.g. 2023, 2023–2024, Fall 2023, Fall 2022, 2022). Combine across campuses if needed. Do not derive or hallucinate the data unless the field is actually in the document.Don't assume it's graduate full-time unless it says undergraduate in the data description.When there is no specification of what kind of full-time it is, it should be total full-time.\"},\n",
       "  'Graduate_Headcount_Part_Time': {'anyOf': [{'type': 'integer'},\n",
       "    {'type': 'null'}],\n",
       "   'description': \"Graduate part-time (PT) headcount for the 2024–2025 academic year. Post baccalaureate is considered a graduate headcount.Combine across all graduate schools. Only extract data for the 2024–2025 year or terms labeled Fall 2024, etc. ignore any data from other years or terms (e.g. 2023, 2023–2024, Fall 2023, Fall 2022, 2022). Combine across campuses if needed. Do not derive or hallucinate the data unless the field is actually in the document.Don't assume it's graduate part time unless it says undergraduate in the data description.When there is no specification of what kind of part-time it is, it should be total part-time.\"},\n",
       "  'Professional_Headcount': {'anyOf': [{'type': 'integer'}, {'type': 'null'}],\n",
       "   'description': \"Combined professional school headcount (e.g. med, law) for 2024–2025. (Different than professional FTE. Sometimes you need to combine both full-time and part time).Only extract data for the 2024–2025 year or terms labeled Fall 2024, etcignore any data from other years or terms (e.g. 2023, 2023–2024, Fall 2023, Fall 2022, 2022). it's possible for a school to have multiple campuses, so combine all campuses' count if applicable. Do not derive or hallucinate the data unless the field is actually in the document.\"},\n",
       "  'Non_Degree_Headcount': {'anyOf': [{'type': 'integer'}, {'type': 'null'}],\n",
       "   'description': \"(Different than Non-Degree FTE. Sometimes you need to combine both full-time and part time).Sometimes, Non-Degree is listed as Non-creditOnly extract data for the 2024–2025 year or terms labeled Fall 2024, etcignore any data from other years or terms (e.g. 2023, 2023–2024, Fall 2023, Fall 2022, 2022). it's possible for a school to have multiple campuses, so combine all campuses' count if applicable. Do not derive or hallucinate the data unless the field is actually in the document.\"},\n",
       "  'Total_Headcount': {'anyOf': [{'type': 'integer'}, {'type': 'null'}],\n",
       "   'description': \"Overall student headcount for 2024–2025 do **not** compute it by adding Undergraduate, Graduate, Professional, etc.Only extract data for the 2024–2025 year or terms labeled Fall 2024, etcignore any data from other years or terms (e.g. 2023, 2023–2024, Fall 2023, Fall 2022, 2022). it's possible for a school to have multiple campuses, so combine all campuses' count if applicable. Do not derive or hallucinate the data unless the field is actually in the document.\"},\n",
       "  'Total_Headcount_Full_Time': {'anyOf': [{'type': 'integer'},\n",
       "    {'type': 'null'}],\n",
       "   'description': 'Total full-time headcount for 2024–2025 across all student categories. This is different than FTE(full-time equivalent).If not explicitly provided, sum Undergraduate_Headcount_Full_Time + Graduate_Headcount_Full_Time. Only extract data for the 2024–2025 year or terms labeled Fall 2024. ignore any data from other years or terms (e.g. 2023, 2023–2024, Fall 2023, Fall 2022, 2022). do **not** derive it by summing individual full‑time headcounts. Do not derive or hallucinate the data unless the field is actually in the document.When there is no specification of what kind of full-time it is, it should be total full-time.'},\n",
       "  'Total_Headcount_Part_Time': {'anyOf': [{'type': 'integer'},\n",
       "    {'type': 'null'}],\n",
       "   'description': 'Total part-time headcount for 2024–2025 across all student categories. If not explicitly provided, sum Undergraduate_Headcount_Part_Time + Graduate_Headcount_Part_Time. Only extract data for the 2024–2025 year or terms labeled Fall 2024. ignore any data from other years or terms (e.g. 2023, 2023–2024, Fall 2023, Fall 2022, 2022). do **not** derive it by summing individual part‑time headcounts. Do not derive or hallucinate the data unless the field is actually in the document.When there is no specification of what kind of full-time it is, it should be total full-time.'},\n",
       "  'Undergraduate_FTE': {'anyOf': [{'type': 'integer'}, {'type': 'null'}],\n",
       "   'description': \"Undergraduate full-time equivalent headcount or FTE for 2024–2025. FTE (full-time equivalent) is different than full-time, or FT.Only extract data for the 2024–2025 year or terms labeled Fall 2024, etcignore any data from other years or terms (e.g. 2023, 2023–2024, Fall 2023, Fall 2022, 2022). it's possible for a school to have multiple campuses, so combine all campuses' count if applicable. Do not derive or hallucinate the data unless the field is actually in the document.\"},\n",
       "  'Graduate_FTE': {'anyOf': [{'type': 'integer'}, {'type': 'null'}],\n",
       "   'description': \"Graduate full-time headcount or FTE for 2024–2025. Post baccalaureate is considered a graduate headcount.FTE (full-time equivalent) is different than full-time, or FT.Combine enrollment across all graduate schools (e.g. Business, Education, etc.), which may be labeled “GR”, “Grad”, or “Graduate”. Only extract data for the 2024–2025 year or terms labeled Fall 2024, etcignore any data from other years or terms (e.g. 2023, 2023–2024, Fall 2023, Fall 2022, 2022). it's possible for a school to have multiple campuses, so combine all campuses' count if applicable. Do not derive or hallucinate the data unless the field is actually in the document.\"},\n",
       "  'Professional_FTE': {'anyOf': [{'type': 'integer'}, {'type': 'null'}],\n",
       "   'description': \"Professional school full-time headcount or FTE for 2024–2025. FTE (full-time equivalent) is different than full-time, or FT.Only extract data for the 2024–2025 year or terms labeled Fall 2024, etcignore any data from other years or terms (e.g. 2023, 2023–2024, Fall 2023, Fall 2022, 2022). it's possible for a school to have multiple campuses, so combine all campuses' count if applicable. Do not derive or hallucinate the data unless the field is actually in the document.\"},\n",
       "  'Total_Full_Time_Equivalent_Students': {'anyOf': [{'type': 'integer'},\n",
       "    {'type': 'null'}],\n",
       "   'description': \"Total full-time equivalent students (FTE) for the 2024–2025 academic year.Only extract data for the 2024–2025 year or terms labeled Fall 2024, etcignore any data from other years or terms (e.g. 2023, 2023–2024, Fall 2023, Fall 2022, 2022). it's possible for a school to have multiple campuses, so combine all campuses' count if applicable.do **not** derive it by summing the individual FTE fields. Do not derive or hallucinate the data unless the field is actually in the document.\"},\n",
       "  'Undergraduate_Applications_Rcvd': {'anyOf': [{'type': 'integer'},\n",
       "    {'type': 'null'}],\n",
       "   'description': 'Total undergraduate applications received for the 2024–2025 cycle (e.g. Fall\\xa02024). Ignore other years/terms. ignore any data from other years or terms (e.g. 2023, 2023–2024, Fall 2023, Fall 2022, 2022). Combine all campuses if applicable. Do not derive or hallucinate the data unless the field is actually in the document.'},\n",
       "  'Graduate_Applications_Rcvd': {'anyOf': [{'type': 'integer'},\n",
       "    {'type': 'null'}],\n",
       "   'description': 'Total graduate applications received for the 2024–2025 cycle (e.g. Fall\\xa02024). Ignore other years/terms. ignore any data from other years or terms (e.g. 2023, 2023–2024, Fall 2023, Fall 2022, 2022). Combine all campuses if applicable. Do not derive or hallucinate the data unless the field is actually in the document.'},\n",
       "  'Transfer_Applications_Rcvd': {'anyOf': [{'type': 'integer'},\n",
       "    {'type': 'null'}],\n",
       "   'description': 'Total transfer applications received for the 2024–2025 cycle (e.g. Fall\\xa02024). Ignore other years/terms. ignore any data from other years or terms (e.g. 2023, 2023–2024, Fall 2023, Fall 2022, 2022). Combine all campuses if applicable. Do not derive or hallucinate the data unless the field is actually in the document.'},\n",
       "  'Undergraduate_Acceptances': {'anyOf': [{'type': 'integer'},\n",
       "    {'type': 'null'}],\n",
       "   'description': 'Total undergraduate acceptances for the 2024–2025 cycle (e.g. Fall\\xa02024). Ignore other years/terms. ignore any data from other years or terms (e.g. 2023, 2023–2024, Fall 2023, Fall 2022, 2022). Combine all campuses if applicable. Do not derive or hallucinate the data unless the field is actually in the document.'},\n",
       "  'Graduate_Acceptances': {'anyOf': [{'type': 'integer'}, {'type': 'null'}],\n",
       "   'description': 'Total graduate acceptances for the 2024–2025 cycle (e.g. Fall\\xa02024). Ignore other years/terms. ignore any data from other years or terms (e.g. 2023, 2023–2024, Fall 2023, Fall 2022, 2022). Combine all campuses if applicable. Do not derive or hallucinate the data unless the field is actually in the document.'},\n",
       "  'Transfer_Acceptances': {'anyOf': [{'type': 'integer'}, {'type': 'null'}],\n",
       "   'description': 'Total transfer acceptances for the 2024–2025 cycle (e.g. Fall\\xa02024). Ignore other years/terms. ignore any data from other years or terms (e.g. 2023, 2023–2024, Fall 2023, Fall 2022, 2022). Combine all campuses if applicable. Do not derive or hallucinate the data unless the field is actually in the document.'},\n",
       "  'Undergraduate_Matriculants': {'anyOf': [{'type': 'integer'},\n",
       "    {'type': 'null'}],\n",
       "   'description': 'Number of undergraduate students who matriculated in Fall\\xa02024 / 2024–2025. ignore any data from other years or terms (e.g. 2023, 2023–2024, Fall 2023, Fall 2022, 2022). Combine all campuses if applicable. Do not derive or hallucinate the data unless the field is actually in the document.'},\n",
       "  'Graduate_Matriculants': {'anyOf': [{'type': 'integer'}, {'type': 'null'}],\n",
       "   'description': 'Number of graduate students who matriculated in Fall\\xa02024 / 2024–2025. ignore any data from other years or terms (e.g. 2023, 2023–2024, Fall 2023, Fall 2022, 2022). Combine all campuses if applicable. Do not derive or hallucinate the data unless the field is actually in the document.'},\n",
       "  'Transfer_Matriculants': {'anyOf': [{'type': 'integer'}, {'type': 'null'}],\n",
       "   'description': 'Number of transfer students who matriculated in Fall\\xa02024 / 2024–2025. ignore any data from other years or terms (e.g. 2023, 2023–2024, Fall 2023, Fall 2022, 2022). Combine all campuses if applicable. Do not derive or hallucinate the data unless the field is actually in the document.'},\n",
       "  'Retention_Rate': {'anyOf': [{'type': 'number'}, {'type': 'null'}],\n",
       "   'description': \"Retention rate % for the 2024–2025 entering class. Only extract data for the 2024–2025 year or terms labeled Fall 2024, etc.; ignore any data from other years or terms (e.g. 2023, 2023–2024, Fall 2023, Fall 2022, 2022). it's possible for a school to have multiple campuses, so combine all campuses' count if applicable. Do not derive or hallucinate the data unless the field is actually in the document.\"},\n",
       "  'Full_Time_Employee_Equivalents': {'anyOf': [{'type': 'integer'},\n",
       "    {'type': 'null'}],\n",
       "   'description': \"Full-time employee equivalents (staff/faculty) in 2024–2025. Only extract data for the 2024–2025 year or terms labeled Fall 2024, etc.; ignore any data from other years or terms (e.g. 2023, 2023–2024, Fall 2023, Fall 2022, 2022). it's possible for a school to have multiple campuses, so combine all campuses' count if applicable. Do not derive or hallucinate the data unless the field is actually in the document.\"},\n",
       "  'Tuition': {'anyOf': [{'type': 'integer'}, {'type': 'null'}],\n",
       "   'description': \"Undergraduate tuition rate for the 2024–2025 academic year. This is different than revenue generated by tuition or any financial accounting dataOnly extract data for the 2024–2025 year or terms labeled Fall 2024, etc.; ignore any data from other years or terms (e.g. 2023, 2023–2024, Fall 2023, Fall 2022, 2022). it's possible for a school to have multiple campuses, so average the tuition per student per campus. Do not derive or hallucinate the data unless the field is actually in the document.\"},\n",
       "  'Room_and_Board_20_meals': {'anyOf': [{'type': 'integer'}, {'type': 'null'}],\n",
       "   'description': \"Room & board cost (20-meal plan) for the 2024–2025 year. Only extract data for the 2024–2025 year or terms labeled Fall 2024, etc.; ignore any data from other years or terms (e.g. 2023, 2023–2024, Fall 2023, Fall 2022, 2022). it's possible for a school to have multiple campuses, so combine all campuses' count if applicable. Do not derive or hallucinate the data unless the field is actually in the document.\"}},\n",
       " 'required': ['Undergraduate_Headcount',\n",
       "  'Undergraduate_Headcount_Full_Time',\n",
       "  'Undergraduate_Headcount_Part_Time',\n",
       "  'Graduate_Headcount',\n",
       "  'Graduate_Headcount_Full_Time',\n",
       "  'Graduate_Headcount_Part_Time',\n",
       "  'Professional_Headcount',\n",
       "  'Non_Degree_Headcount',\n",
       "  'Total_Headcount',\n",
       "  'Total_Headcount_Full_Time',\n",
       "  'Total_Headcount_Part_Time',\n",
       "  'Undergraduate_FTE',\n",
       "  'Graduate_FTE',\n",
       "  'Professional_FTE',\n",
       "  'Total_Full_Time_Equivalent_Students',\n",
       "  'Undergraduate_Applications_Rcvd',\n",
       "  'Graduate_Applications_Rcvd',\n",
       "  'Transfer_Applications_Rcvd',\n",
       "  'Undergraduate_Acceptances',\n",
       "  'Graduate_Acceptances',\n",
       "  'Transfer_Acceptances',\n",
       "  'Undergraduate_Matriculants',\n",
       "  'Graduate_Matriculants',\n",
       "  'Transfer_Matriculants',\n",
       "  'Retention_Rate',\n",
       "  'Full_Time_Employee_Equivalents',\n",
       "  'Tuition',\n",
       "  'Room_and_Board_20_meals'],\n",
       " 'type': 'object'}"
      ]
     },
     "execution_count": 6,
     "metadata": {},
     "output_type": "execute_result"
    }
   ],
   "source": [
    "agent.data_schema"
   ]
  },
  {
   "cell_type": "markdown",
   "id": "8b385406-d4f6-48e5-94b5-f999ee2e9f04",
   "metadata": {},
   "source": [
    "The following cell block extracts all the schools' info into one excel sheet but in different tabs."
   ]
  },
  {
   "cell_type": "code",
   "execution_count": 9,
   "id": "dbed9f78-2b07-4696-8bd9-2ad2281d255d",
   "metadata": {},
   "outputs": [
    {
     "name": "stdout",
     "output_type": "stream",
     "text": [
      "Extracting data from ABILENE_CHRISTIAN_UNIVERSITY/Abilene_Christian_University_-_Audited_Financial_Statements_for_the_year_ended_05_31_2024__276_KB_.pdf\n"
     ]
    },
    {
     "name": "stderr",
     "output_type": "stream",
     "text": [
      "Uploading files: 100%|████████████████████████████████| 1/1 [00:01<00:00,  1.18s/it]\n",
      "Creating extraction jobs: 100%|███████████████████████| 1/1 [00:00<00:00,  1.28it/s]\n",
      "Extracting files: 100%|███████████████████████████████| 1/1 [00:09<00:00,  9.25s/it]\n"
     ]
    },
    {
     "name": "stdout",
     "output_type": "stream",
     "text": [
      "Extracting data from ADELPHI_UNIVERSITY/2024_Financial_Information_and_Operating_Data_-_Adelphi_University_for_the_year_ended_08_31_2024__544_KB_.pdf\n"
     ]
    },
    {
     "name": "stderr",
     "output_type": "stream",
     "text": [
      "Uploading files: 100%|████████████████████████████████| 1/1 [00:01<00:00,  1.89s/it]\n",
      "Creating extraction jobs: 100%|███████████████████████| 1/1 [00:01<00:00,  1.29s/it]\n",
      "Extracting files: 100%|███████████████████████████████| 1/1 [00:19<00:00, 19.13s/it]\n"
     ]
    },
    {
     "name": "stdout",
     "output_type": "stream",
     "text": [
      "Extracting data from ALBANY_COLLEGE_OF_PHARMACY_AND_HEALTH_SCIENCES/Audited_Financial_Statement_for_the_year_ended_06_30_2024__204_KB_.pdf\n"
     ]
    },
    {
     "name": "stderr",
     "output_type": "stream",
     "text": [
      "Uploading files: 100%|████████████████████████████████| 1/1 [00:01<00:00,  1.55s/it]\n",
      "Creating extraction jobs: 100%|███████████████████████| 1/1 [00:01<00:00,  1.08s/it]\n",
      "Extracting files: 100%|███████████████████████████████| 1/1 [00:08<00:00,  8.96s/it]\n"
     ]
    },
    {
     "name": "stdout",
     "output_type": "stream",
     "text": [
      "Extracting data from ALFRED_UNIVERSITY/2024_Annual_Report_for_the_year_ended_06_30_2024__143_KB_.pdf\n"
     ]
    },
    {
     "name": "stderr",
     "output_type": "stream",
     "text": [
      "Uploading files: 100%|████████████████████████████████| 1/1 [00:02<00:00,  2.44s/it]\n",
      "Creating extraction jobs: 100%|███████████████████████| 1/1 [00:04<00:00,  4.43s/it]\n",
      "Extracting files: 100%|███████████████████████████████| 1/1 [00:08<00:00,  8.74s/it]\n"
     ]
    },
    {
     "name": "stdout",
     "output_type": "stream",
     "text": [
      "Extracting data from AQUINAS_COLLEGE/Financial_statements_and_annual_reporting_for_the_year_ended_6_30_2024_for_the_year_ended_06_30_2024__535_KB_.pdf\n"
     ]
    },
    {
     "name": "stderr",
     "output_type": "stream",
     "text": [
      "Uploading files: 100%|████████████████████████████████| 1/1 [00:02<00:00,  2.63s/it]\n",
      "Creating extraction jobs: 100%|███████████████████████| 1/1 [00:01<00:00,  1.50s/it]\n",
      "Extracting files: 100%|███████████████████████████████| 1/1 [00:28<00:00, 28.62s/it]\n"
     ]
    },
    {
     "name": "stdout",
     "output_type": "stream",
     "text": [
      "Extracting data from ARCADIA_UNIVERSITY/Fall_2024_Enrollment_Data__Tuition_Fees_05_31_2024.pdf\n"
     ]
    },
    {
     "name": "stderr",
     "output_type": "stream",
     "text": [
      "Uploading files: 100%|████████████████████████████████| 1/1 [00:03<00:00,  3.12s/it]\n",
      "Creating extraction jobs: 100%|███████████████████████| 1/1 [00:02<00:00,  3.00s/it]\n",
      "Extracting files: 100%|███████████████████████████████| 1/1 [00:19<00:00, 19.75s/it]\n"
     ]
    },
    {
     "name": "stdout",
     "output_type": "stream",
     "text": [
      "Extracting data from AUGSBURG_UNIVERSITY/FY24_Augsburg_University_Financial_Statements_for_the_year_ended_05_31_2024__495_KB_.pdf\n"
     ]
    },
    {
     "name": "stderr",
     "output_type": "stream",
     "text": [
      "Uploading files: 100%|████████████████████████████████| 1/1 [00:00<00:00,  1.06it/s]\n",
      "Creating extraction jobs: 100%|███████████████████████| 1/1 [00:01<00:00,  1.54s/it]\n",
      "Extracting files: 100%|███████████████████████████████| 1/1 [00:09<00:00,  9.74s/it]\n"
     ]
    },
    {
     "name": "stdout",
     "output_type": "stream",
     "text": [
      "Extracting data from AUGUSTANA_COLLEGE_ASSOCIATION_THE/Appendix_A_for_the_year_ended_07_31_2024__562_KB_.pdf\n"
     ]
    },
    {
     "name": "stderr",
     "output_type": "stream",
     "text": [
      "Uploading files: 100%|████████████████████████████████| 1/1 [00:01<00:00,  1.69s/it]\n",
      "Creating extraction jobs: 100%|███████████████████████| 1/1 [00:03<00:00,  3.71s/it]\n",
      "Extracting files: 100%|███████████████████████████████| 1/1 [00:08<00:00,  8.99s/it]\n"
     ]
    },
    {
     "name": "stdout",
     "output_type": "stream",
     "text": [
      "Extracting data from BENTLEY_UNIVERSITY/Audited_Financial_Statements_for_the_year_ended_06_30_2024__132_KB_.pdf\n"
     ]
    },
    {
     "name": "stderr",
     "output_type": "stream",
     "text": [
      "Uploading files: 100%|████████████████████████████████| 1/1 [00:00<00:00,  1.03it/s]\n",
      "Creating extraction jobs: 100%|███████████████████████| 1/1 [00:02<00:00,  2.83s/it]\n",
      "Extracting files: 100%|███████████████████████████████| 1/1 [00:08<00:00,  8.79s/it]\n"
     ]
    },
    {
     "name": "stdout",
     "output_type": "stream",
     "text": [
      "Extracting data from BRADLEY_UNIVERSITY/Annual_Financial_Information_and_Operating_Data__Rule_15c2-12__for_FY24_for_the_year_ended_05_31_2024__227_KB_.pdf\n"
     ]
    },
    {
     "name": "stderr",
     "output_type": "stream",
     "text": [
      "Uploading files: 100%|████████████████████████████████| 1/1 [00:01<00:00,  1.43s/it]\n",
      "Creating extraction jobs: 100%|███████████████████████| 1/1 [00:01<00:00,  1.50s/it]\n",
      "Extracting files: 100%|███████████████████████████████| 1/1 [00:10<00:00, 10.58s/it]\n"
     ]
    },
    {
     "name": "stdout",
     "output_type": "stream",
     "text": [
      "Extracting data from BRANDEIS_UNIVERSITY/2024_Annual_Report_for_the_year_ended_06_30_2024__473_KB_.pdf\n"
     ]
    },
    {
     "name": "stderr",
     "output_type": "stream",
     "text": [
      "Uploading files: 100%|████████████████████████████████| 1/1 [00:01<00:00,  1.09s/it]\n",
      "Creating extraction jobs: 100%|███████████████████████| 1/1 [00:02<00:00,  2.22s/it]\n",
      "Extracting files: 100%|███████████████████████████████| 1/1 [00:10<00:00, 10.99s/it]\n"
     ]
    },
    {
     "name": "stdout",
     "output_type": "stream",
     "text": [
      "Extracting data from CALIFORNIA_BAPTIST_UNIVERSITY/Continuing_Disclosure_Annual_Report_for_the_year_ended_06_30_2024_Document2__704_KB_.pdf\n"
     ]
    },
    {
     "name": "stderr",
     "output_type": "stream",
     "text": [
      "Uploading files: 100%|████████████████████████████████| 1/1 [00:01<00:00,  1.09s/it]\n",
      "Creating extraction jobs: 100%|███████████████████████| 1/1 [00:03<00:00,  3.19s/it]\n",
      "Extracting files: 100%|███████████████████████████████| 1/1 [00:14<00:00, 14.57s/it]\n"
     ]
    },
    {
     "name": "stdout",
     "output_type": "stream",
     "text": [
      "Extracting data from CALVIN_UNIVERSITY_OBLIGATED_GROUP/Calvin_University_Annual_Report_-_Updated_Financial_Information_and_Operating_Data_for_the_year_ended_06_30_2024__192_KB_.pdf\n"
     ]
    },
    {
     "name": "stderr",
     "output_type": "stream",
     "text": [
      "Uploading files: 100%|████████████████████████████████| 1/1 [00:01<00:00,  1.04s/it]\n",
      "Creating extraction jobs: 100%|███████████████████████| 1/1 [00:01<00:00,  1.07s/it]\n",
      "Extracting files: 100%|███████████████████████████████| 1/1 [00:09<00:00,  9.05s/it]\n"
     ]
    },
    {
     "name": "stdout",
     "output_type": "stream",
     "text": [
      "Extracting data from CAMPBELL_UNIVERSITY_INC/Consolidated_Financial_Statements_for_the_year_ended_05_31_2024__181_KB_.pdf\n"
     ]
    },
    {
     "name": "stderr",
     "output_type": "stream",
     "text": [
      "Uploading files: 100%|████████████████████████████████| 1/1 [00:01<00:00,  1.59s/it]\n",
      "Creating extraction jobs: 100%|███████████████████████| 1/1 [00:02<00:00,  2.21s/it]\n",
      "Extracting files: 100%|███████████████████████████████| 1/1 [00:08<00:00,  8.15s/it]\n"
     ]
    },
    {
     "name": "stdout",
     "output_type": "stream",
     "text": [
      "Extracting data from CAPITAL_UNIVERSITY/Financial_Operating_Filing_for_the_year_ended_06_30_2024__1.4_MB_.pdf\n"
     ]
    },
    {
     "name": "stderr",
     "output_type": "stream",
     "text": [
      "Uploading files: 100%|████████████████████████████████| 1/1 [00:01<00:00,  1.77s/it]\n",
      "Creating extraction jobs: 100%|███████████████████████| 1/1 [00:02<00:00,  2.01s/it]\n",
      "Extracting files: 100%|███████████████████████████████| 1/1 [00:16<00:00, 16.93s/it]\n"
     ]
    },
    {
     "name": "stdout",
     "output_type": "stream",
     "text": [
      "Extracting data from CATHOLIC_UNIVERSITY_OF_AMERICA_THE/Continuing_Disclosure_for_the_year_ended_04_30_2024__156_KB_.pdf\n"
     ]
    },
    {
     "name": "stderr",
     "output_type": "stream",
     "text": [
      "Uploading files: 100%|████████████████████████████████| 1/1 [00:01<00:00,  1.07s/it]\n",
      "Creating extraction jobs: 100%|███████████████████████| 1/1 [00:00<00:00,  1.02it/s]\n",
      "Extracting files: 100%|███████████████████████████████| 1/1 [00:11<00:00, 11.86s/it]\n"
     ]
    },
    {
     "name": "stdout",
     "output_type": "stream",
     "text": [
      "Extracting data from CENTRAL_MICHIGAN_UNIVERSITY/Municipal_Secondary_Market_Disclosure_for_the_year_ended_06_30_2024__272_KB_.pdf\n"
     ]
    },
    {
     "name": "stderr",
     "output_type": "stream",
     "text": [
      "Uploading files: 100%|████████████████████████████████| 1/1 [00:01<00:00,  1.09s/it]\n",
      "Creating extraction jobs: 100%|███████████████████████| 1/1 [00:01<00:00,  1.85s/it]\n",
      "Extracting files: 100%|███████████████████████████████| 1/1 [00:10<00:00, 10.27s/it]\n"
     ]
    },
    {
     "name": "stdout",
     "output_type": "stream",
     "text": [
      "Extracting data from CHAPMAN_UNIVERSITY/Amendment_to_Section_B_Exhibit_B_of_the_Continuing_Disclosure_Report_for_the_year_ended_05_31_2024__95_KB_.pdf\n"
     ]
    },
    {
     "name": "stderr",
     "output_type": "stream",
     "text": [
      "Uploading files: 100%|████████████████████████████████| 1/1 [00:01<00:00,  1.41s/it]\n",
      "Creating extraction jobs: 100%|███████████████████████| 1/1 [00:01<00:00,  1.58s/it]\n",
      "Extracting files: 100%|███████████████████████████████| 1/1 [00:09<00:00,  9.25s/it]\n"
     ]
    },
    {
     "name": "stdout",
     "output_type": "stream",
     "text": [
      "Extracting data from CHICAGO_SCHOOL_-_CALIFORNIA_INC_THE/2024_Annual_Operating_Data_-_The_Chicago_School_for_the_year_ended_05_31_2024__126_KB_.pdf\n"
     ]
    },
    {
     "name": "stderr",
     "output_type": "stream",
     "text": [
      "Uploading files: 100%|████████████████████████████████| 1/1 [00:07<00:00,  7.73s/it]\n",
      "Creating extraction jobs: 100%|███████████████████████| 1/1 [00:02<00:00,  2.17s/it]\n",
      "Extracting files: 100%|███████████████████████████████| 1/1 [00:08<00:00,  8.47s/it]\n"
     ]
    },
    {
     "name": "stdout",
     "output_type": "stream",
     "text": [
      "Extracting data from CLARKSON_UNIVERSITY/2020-2024_Annual_Report_for_the_year_ended_06_30_2024__152_KB_.pdf\n"
     ]
    },
    {
     "name": "stderr",
     "output_type": "stream",
     "text": [
      "Uploading files: 100%|████████████████████████████████| 1/1 [00:05<00:00,  5.38s/it]\n",
      "Creating extraction jobs: 100%|███████████████████████| 1/1 [00:01<00:00,  1.50s/it]\n",
      "Extracting files: 100%|███████████████████████████████| 1/1 [00:15<00:00, 15.91s/it]\n"
     ]
    },
    {
     "name": "stdout",
     "output_type": "stream",
     "text": [
      "Extracting data from CLEVELAND_INSTITUTE_OF_MUSIC_THE/Statement_of_Annual_Information_for_the_year_ended_06_30_2024__238_KB_.pdf\n"
     ]
    },
    {
     "name": "stderr",
     "output_type": "stream",
     "text": [
      "Uploading files: 100%|████████████████████████████████| 1/1 [00:01<00:00,  1.30s/it]\n",
      "Creating extraction jobs: 100%|███████████████████████| 1/1 [00:03<00:00,  3.22s/it]\n",
      "Extracting files: 100%|███████████████████████████████| 1/1 [00:10<00:00, 10.07s/it]\n"
     ]
    },
    {
     "name": "stdout",
     "output_type": "stream",
     "text": [
      "Extracting data from COLLEGE_OF_NEW_JERSEY_THE/Unaudited_Financial_Statement_and_Report_for_the_year_ended_06_30_2024__2.1_MB_.pdf\n"
     ]
    },
    {
     "name": "stderr",
     "output_type": "stream",
     "text": [
      "Uploading files: 100%|████████████████████████████████| 1/1 [00:01<00:00,  1.63s/it]\n",
      "Creating extraction jobs: 100%|███████████████████████| 1/1 [00:01<00:00,  1.56s/it]\n",
      "Extracting files: 100%|███████████████████████████████| 1/1 [00:17<00:00, 17.74s/it]\n"
     ]
    },
    {
     "name": "stdout",
     "output_type": "stream",
     "text": [
      "Extracting data from COLLEGE_OF_ST_BENEDICT/Financial_and_Operating_Data_for_the_year_ended_06_30_2024__390_KB_.pdf\n"
     ]
    },
    {
     "name": "stderr",
     "output_type": "stream",
     "text": [
      "Uploading files: 100%|████████████████████████████████| 1/1 [00:01<00:00,  1.28s/it]\n",
      "Creating extraction jobs: 100%|███████████████████████| 1/1 [00:07<00:00,  7.09s/it]\n",
      "Extracting files: 100%|███████████████████████████████| 1/1 [00:07<00:00,  7.86s/it]\n"
     ]
    },
    {
     "name": "stdout",
     "output_type": "stream",
     "text": [
      "Extracting data from COLLEGE_OF_ST_SCHOLASTICA_INC/Financial_and_Operating_Data_for_the_year_ended_06_30_2024__185_KB_.pdf\n"
     ]
    },
    {
     "name": "stderr",
     "output_type": "stream",
     "text": [
      "Uploading files: 100%|████████████████████████████████| 1/1 [00:01<00:00,  1.83s/it]\n",
      "Creating extraction jobs: 100%|███████████████████████| 1/1 [00:00<00:00,  1.28it/s]\n",
      "Extracting files: 100%|███████████████████████████████| 1/1 [00:09<00:00,  9.01s/it]\n"
     ]
    },
    {
     "name": "stdout",
     "output_type": "stream",
     "text": [
      "Extracting data from CONCORDIA_COLLEGE_MN/Annual_Report_Information_for_the_year_ended_04_30_2024__107_KB_.pdf\n"
     ]
    },
    {
     "name": "stderr",
     "output_type": "stream",
     "text": [
      "Uploading files: 100%|████████████████████████████████| 1/1 [00:01<00:00,  1.32s/it]\n",
      "Creating extraction jobs: 100%|███████████████████████| 1/1 [00:01<00:00,  1.71s/it]\n",
      "Extracting files: 100%|███████████████████████████████| 1/1 [00:14<00:00, 14.91s/it]\n"
     ]
    },
    {
     "name": "stdout",
     "output_type": "stream",
     "text": [
      "Extracting data from CONNECTICUT_COLLEGE/Connecticut_College_for_the_year_ended_06_30_2024__684_KB_.pdf\n"
     ]
    },
    {
     "name": "stderr",
     "output_type": "stream",
     "text": [
      "Uploading files: 100%|████████████████████████████████| 1/1 [00:01<00:00,  1.82s/it]\n",
      "Creating extraction jobs: 100%|███████████████████████| 1/1 [00:02<00:00,  2.94s/it]\n",
      "Extracting files: 100%|███████████████████████████████| 1/1 [00:10<00:00, 10.44s/it]\n"
     ]
    },
    {
     "name": "stdout",
     "output_type": "stream",
     "text": [
      "Extracting data from CORP_OF_MERCER_UNIVERSITY_THE/Spring_2024_Headcount_for_the_quarter_ended_03_31_2024__176_KB_.pdf\n"
     ]
    },
    {
     "name": "stderr",
     "output_type": "stream",
     "text": [
      "Uploading files: 100%|████████████████████████████████| 1/1 [00:06<00:00,  6.64s/it]\n",
      "Creating extraction jobs: 100%|███████████████████████| 1/1 [00:01<00:00,  1.40s/it]\n",
      "Extracting files: 100%|███████████████████████████████| 1/1 [00:12<00:00, 12.73s/it]\n"
     ]
    },
    {
     "name": "stdout",
     "output_type": "stream",
     "text": [
      "Extracting data from CREIGHTON_UNIVERSITY/Annual_Audit_and_Operating_Data_for_the_year_ended_06_30_2024_Document2__4.6_MB_.pdf\n"
     ]
    },
    {
     "name": "stderr",
     "output_type": "stream",
     "text": [
      "Uploading files: 100%|████████████████████████████████| 1/1 [00:02<00:00,  2.30s/it]\n",
      "Creating extraction jobs: 100%|███████████████████████| 1/1 [00:01<00:00,  1.90s/it]\n",
      "Extracting files: 100%|███████████████████████████████| 1/1 [00:19<00:00, 19.50s/it]\n"
     ]
    },
    {
     "name": "stdout",
     "output_type": "stream",
     "text": [
      "Extracting data from CULINARY_INSTITUTE_OF_AMERICA_THE/2024_Annual_Report_-_Corrected_for_the_year_ended_05_31_2024__130_KB_.pdf\n"
     ]
    },
    {
     "name": "stderr",
     "output_type": "stream",
     "text": [
      "Uploading files: 100%|████████████████████████████████| 1/1 [00:03<00:00,  3.97s/it]\n",
      "Creating extraction jobs: 100%|███████████████████████| 1/1 [00:01<00:00,  1.60s/it]\n",
      "Extracting files: 100%|███████████████████████████████| 1/1 [00:11<00:00, 11.61s/it]\n"
     ]
    },
    {
     "name": "stdout",
     "output_type": "stream",
     "text": [
      "Extracting data from DELAWARE_VALLEY_UNIVERSITY/2024_Annual_Report_for_the_year_ended_06_30_2024__115_KB_.pdf\n"
     ]
    },
    {
     "name": "stderr",
     "output_type": "stream",
     "text": [
      "Uploading files: 100%|████████████████████████████████| 1/1 [00:01<00:00,  1.08s/it]\n",
      "Creating extraction jobs: 100%|███████████████████████| 1/1 [00:06<00:00,  6.01s/it]\n",
      "Extracting files: 100%|███████████████████████████████| 1/1 [00:08<00:00,  8.64s/it]\n"
     ]
    },
    {
     "name": "stdout",
     "output_type": "stream",
     "text": [
      "Extracting data from DUQUESNE_UNIVERSITY_OF_THE_HOLY_SPIRIT/Duquesne_University_Annual_Operating_Data_for_the_year_ended_06_30_2024__277_KB_.pdf\n"
     ]
    },
    {
     "name": "stderr",
     "output_type": "stream",
     "text": [
      "Uploading files: 100%|████████████████████████████████| 1/1 [00:06<00:00,  6.71s/it]\n",
      "Creating extraction jobs: 100%|███████████████████████| 1/1 [00:01<00:00,  1.19s/it]\n",
      "Extracting files: 100%|███████████████████████████████| 1/1 [00:09<00:00,  9.16s/it]\n"
     ]
    },
    {
     "name": "stdout",
     "output_type": "stream",
     "text": [
      "Extracting data from D_YOUVILLE_COLLEGE/2024_Annual_Report_with_Certificate_-_D_Youville_College_for_the_year_ended_05_31_2024__162_KB_.pdf\n"
     ]
    },
    {
     "name": "stderr",
     "output_type": "stream",
     "text": [
      "Uploading files: 100%|████████████████████████████████| 1/1 [00:01<00:00,  1.39s/it]\n",
      "Creating extraction jobs: 100%|███████████████████████| 1/1 [00:02<00:00,  2.42s/it]\n",
      "Extracting files: 100%|███████████████████████████████| 1/1 [00:11<00:00, 11.52s/it]\n"
     ]
    },
    {
     "name": "stdout",
     "output_type": "stream",
     "text": [
      "Extracting data from ELIZABETHTOWN_COLLEGE/2024_Annual_Report_-_Elizabethtown_College_for_the_year_ended_06_30_2024__138_KB_.pdf\n"
     ]
    },
    {
     "name": "stderr",
     "output_type": "stream",
     "text": [
      "Uploading files: 100%|████████████████████████████████| 1/1 [00:02<00:00,  2.01s/it]\n",
      "Creating extraction jobs: 100%|███████████████████████| 1/1 [00:02<00:00,  2.63s/it]\n",
      "Extracting files: 100%|███████████████████████████████| 1/1 [00:10<00:00, 10.46s/it]\n"
     ]
    },
    {
     "name": "stdout",
     "output_type": "stream",
     "text": [
      "Extracting data from EMERSON_COLLEGE/Annual_Financial_Information_and_Operating_Data__for_the_year_ended_06_30_20234_for_the_year_ended_06_30_2024_Document2__561_KB_.pdf\n"
     ]
    },
    {
     "name": "stderr",
     "output_type": "stream",
     "text": [
      "Uploading files: 100%|████████████████████████████████| 1/1 [00:01<00:00,  1.52s/it]\n",
      "Creating extraction jobs: 100%|███████████████████████| 1/1 [00:02<00:00,  2.73s/it]\n",
      "Extracting files: 100%|███████████████████████████████| 1/1 [00:11<00:00, 11.27s/it]\n"
     ]
    },
    {
     "name": "stdout",
     "output_type": "stream",
     "text": [
      "Extracting data from EMERSON_COLLEGE/Annual_Financial_Information_and_Operating_Data__for_the_year_ended_06_30_20234_for_the_year_ended_06_30_2024_Document3__368_KB_.pdf\n"
     ]
    },
    {
     "name": "stderr",
     "output_type": "stream",
     "text": [
      "Uploading files: 100%|████████████████████████████████| 1/1 [00:00<00:00,  1.10it/s]\n",
      "Creating extraction jobs: 100%|███████████████████████| 1/1 [00:02<00:00,  2.30s/it]\n",
      "Extracting files: 100%|███████████████████████████████| 1/1 [00:07<00:00,  7.42s/it]\n"
     ]
    },
    {
     "name": "stdout",
     "output_type": "stream",
     "text": [
      "Extracting data from FAIRFIELD_UNIVERSITY/Financial_Operating_Filing_for_the_year_ended_06_30_2024_Document1__68_KB_.pdf\n"
     ]
    },
    {
     "name": "stderr",
     "output_type": "stream",
     "text": [
      "Uploading files: 100%|████████████████████████████████| 1/1 [00:00<00:00,  1.02it/s]\n",
      "Creating extraction jobs: 100%|███████████████████████| 1/1 [00:03<00:00,  3.23s/it]\n",
      "Extracting files: 100%|███████████████████████████████| 1/1 [00:37<00:00, 37.62s/it]\n"
     ]
    },
    {
     "name": "stdout",
     "output_type": "stream",
     "text": [
      "Extracting data from FAIRFIELD_UNIVERSITY/Financial_Operating_Filing_for_the_year_ended_06_30_2024_Document2__67_KB_.pdf\n"
     ]
    },
    {
     "name": "stderr",
     "output_type": "stream",
     "text": [
      "Uploading files: 100%|████████████████████████████████| 1/1 [00:00<00:00,  1.14it/s]\n",
      "Creating extraction jobs: 100%|███████████████████████| 1/1 [00:01<00:00,  1.00s/it]\n",
      "Extracting files: 100%|███████████████████████████████| 1/1 [00:07<00:00,  7.55s/it]\n"
     ]
    },
    {
     "name": "stdout",
     "output_type": "stream",
     "text": [
      "Extracting data from FISHER_COLLEGE/Fisher_College_for_the_year_ended_06_30_2024_Document2__1.2_MB_.pdf\n"
     ]
    },
    {
     "name": "stderr",
     "output_type": "stream",
     "text": [
      "Uploading files: 100%|████████████████████████████████| 1/1 [00:01<00:00,  1.68s/it]\n",
      "Creating extraction jobs: 100%|███████████████████████| 1/1 [00:04<00:00,  4.68s/it]\n",
      "Extracting files: 100%|███████████████████████████████| 1/1 [00:26<00:00, 26.35s/it]\n"
     ]
    },
    {
     "name": "stdout",
     "output_type": "stream",
     "text": [
      "Extracting data from FLORIDA_INSTITUTE_OF_TECHNOLOGY_INC/2024_Annual_Report_-_Florida_Institute_of_Technology_for_the_year_ended_06_30_2024__162_KB_.pdf\n"
     ]
    },
    {
     "name": "stderr",
     "output_type": "stream",
     "text": [
      "Uploading files: 100%|████████████████████████████████| 1/1 [00:00<00:00,  1.30it/s]\n",
      "Creating extraction jobs: 100%|███████████████████████| 1/1 [00:01<00:00,  1.05s/it]\n",
      "Extracting files: 100%|███████████████████████████████| 1/1 [00:14<00:00, 14.23s/it]\n"
     ]
    },
    {
     "name": "stdout",
     "output_type": "stream",
     "text": [
      "Extracting data from FORDHAM_UNIVERSITY/2024_Operating_Data_for_the_year_ended_06_30_2024__94_KB_.pdf\n"
     ]
    },
    {
     "name": "stderr",
     "output_type": "stream",
     "text": [
      "Uploading files: 100%|████████████████████████████████| 1/1 [00:01<00:00,  1.02s/it]\n",
      "Creating extraction jobs: 100%|███████████████████████| 1/1 [00:01<00:00,  1.15s/it]\n",
      "Extracting files: 100%|███████████████████████████████| 1/1 [00:09<00:00,  9.48s/it]\n"
     ]
    },
    {
     "name": "stdout",
     "output_type": "stream",
     "text": [
      "Extracting data from FRANKLIN_W_OLIN_COLLEGE_OF_ENGINEERING_INC/Olin_College_FY24_Annual_Financial_Information_and_Operating_Data_for_the_year_ended_06_30_2024__1.3_MB_.pdf\n"
     ]
    },
    {
     "name": "stderr",
     "output_type": "stream",
     "text": [
      "Uploading files: 100%|████████████████████████████████| 1/1 [00:02<00:00,  2.11s/it]\n",
      "Creating extraction jobs: 100%|███████████████████████| 1/1 [00:00<00:00,  1.44it/s]\n",
      "Extracting files: 100%|███████████████████████████████| 1/1 [00:11<00:00, 11.40s/it]\n"
     ]
    },
    {
     "name": "stdout",
     "output_type": "stream",
     "text": [
      "Extracting data from GANNON_UNIVERSITY/Audited_Financial_Statements_for_the_year_ended_06_30_2024__203_KB_.pdf\n"
     ]
    },
    {
     "name": "stderr",
     "output_type": "stream",
     "text": [
      "Uploading files: 100%|████████████████████████████████| 1/1 [00:01<00:00,  1.00s/it]\n",
      "Creating extraction jobs: 100%|███████████████████████| 1/1 [00:07<00:00,  7.34s/it]\n",
      "Extracting files: 100%|███████████████████████████████| 1/1 [00:13<00:00, 13.45s/it]\n"
     ]
    },
    {
     "name": "stdout",
     "output_type": "stream",
     "text": [
      "Extracting data from GEORGE_FOX_UNIVERSITY/George_Fox_University_for_the_year_ended_06_30_2024__5.8_MB_.pdf\n"
     ]
    },
    {
     "name": "stderr",
     "output_type": "stream",
     "text": [
      "Uploading files: 100%|████████████████████████████████| 1/1 [00:02<00:00,  2.87s/it]\n",
      "Creating extraction jobs: 100%|███████████████████████| 1/1 [00:02<00:00,  2.39s/it]\n",
      "Extracting files: 100%|███████████████████████████████| 1/1 [00:11<00:00, 11.41s/it]\n"
     ]
    },
    {
     "name": "stdout",
     "output_type": "stream",
     "text": [
      "Extracting data from GRAND_VALLEY_STATE_UNIVERSITY/2024_Financial_and_Operating_Data_for_the_year_ended_06_30_2024_Document1__203_KB_.pdf\n"
     ]
    },
    {
     "name": "stderr",
     "output_type": "stream",
     "text": [
      "Uploading files: 100%|████████████████████████████████| 1/1 [00:02<00:00,  2.13s/it]\n",
      "Creating extraction jobs: 100%|███████████████████████| 1/1 [00:01<00:00,  1.71s/it]\n",
      "Extracting files: 100%|███████████████████████████████| 1/1 [00:08<00:00,  8.53s/it]\n"
     ]
    },
    {
     "name": "stdout",
     "output_type": "stream",
     "text": [
      "Extracting data from GROSSMONT_-_PALOMAR_-_SHASTA_-_Insured/Continuing_Disclosure_Annual_Report_for_the_year_ended_06_30_2024__2.9_MB_.pdf\n"
     ]
    },
    {
     "name": "stderr",
     "output_type": "stream",
     "text": [
      "Uploading files: 100%|████████████████████████████████| 1/1 [00:01<00:00,  1.75s/it]\n",
      "Creating extraction jobs: 100%|███████████████████████| 1/1 [00:01<00:00,  1.68s/it]\n",
      "Extracting files: 100%|███████████████████████████████| 1/1 [00:17<00:00, 17.25s/it]\n"
     ]
    },
    {
     "name": "stdout",
     "output_type": "stream",
     "text": [
      "Extracting data from GWYNEDD_MERCY_UNIVERSITY/Gwynedd_Mercy_University_Summary_of_Financial_Performance_and_Operating_Data_for_the_year_ended_06_30_2024__243_KB_.pdf\n"
     ]
    },
    {
     "name": "stderr",
     "output_type": "stream",
     "text": [
      "Uploading files: 100%|████████████████████████████████| 1/1 [00:01<00:00,  1.29s/it]\n",
      "Creating extraction jobs: 100%|███████████████████████| 1/1 [00:01<00:00,  1.92s/it]\n",
      "Extracting files: 100%|███████████████████████████████| 1/1 [00:08<00:00,  8.52s/it]\n"
     ]
    },
    {
     "name": "stdout",
     "output_type": "stream",
     "text": [
      "Extracting data from HOFSTRA_UNIVERSITY/Annual_Continue_Disclosure_Agreements_for_the_year_ended_08_31_2024__1.1_MB_.pdf\n"
     ]
    },
    {
     "name": "stderr",
     "output_type": "stream",
     "text": [
      "Uploading files: 100%|████████████████████████████████| 1/1 [00:01<00:00,  1.49s/it]\n",
      "Creating extraction jobs: 100%|███████████████████████| 1/1 [00:00<00:00,  1.76it/s]\n",
      "Extracting files:   0%|                                       | 0/1 [09:26<?, ?it/s]\n"
     ]
    },
    {
     "name": "stdout",
     "output_type": "stream",
     "text": [
      "Skipped Annual_Continue_Disclosure_Agreements_for_the_year_ended_08_31_2024__1.1_MB_.pdf: Network error: \n",
      "No data for HOFSTRA_UNIVERSITY.\n",
      "Extracting data from HOUSTON_BAPTIST_UNIVERSITY/CDA_Section_4b_Operating_Data_for_the_period_from_06_01_2023_to_05_31_2024__385_KB_.pdf\n"
     ]
    },
    {
     "name": "stderr",
     "output_type": "stream",
     "text": [
      "Uploading files: 100%|████████████████████████████████| 1/1 [00:02<00:00,  2.43s/it]\n",
      "Creating extraction jobs: 100%|███████████████████████| 1/1 [00:05<00:00,  5.39s/it]\n",
      "Extracting files:   0%|                                       | 0/1 [02:33<?, ?it/s]\n"
     ]
    },
    {
     "name": "stdout",
     "output_type": "stream",
     "text": [
      "Skipped CDA_Section_4b_Operating_Data_for_the_period_from_06_01_2023_to_05_31_2024__385_KB_.pdf: Request timed out: \n",
      "No data for HOUSTON_BAPTIST_UNIVERSITY.\n",
      "Extracting data from ITHACA_COLLEGE/2024_Annual_Operating_Financial_Information_for_the_year_ended_06_30_2024__333_KB_.pdf\n"
     ]
    },
    {
     "name": "stderr",
     "output_type": "stream",
     "text": [
      "Uploading files: 100%|████████████████████████████████| 1/1 [00:02<00:00,  2.80s/it]\n",
      "Creating extraction jobs: 100%|███████████████████████| 1/1 [00:02<00:00,  2.21s/it]\n",
      "Extracting files: 100%|███████████████████████████████| 1/1 [00:09<00:00,  9.18s/it]\n"
     ]
    },
    {
     "name": "stdout",
     "output_type": "stream",
     "text": [
      "Extracting data from JACKSONVILLE_STATE_UNIVERSITY/2024_Annual_Report_for_the_year_ended_09_30_2024__149_KB_.pdf\n"
     ]
    },
    {
     "name": "stderr",
     "output_type": "stream",
     "text": [
      "Uploading files: 100%|████████████████████████████████| 1/1 [00:00<00:00,  1.10it/s]\n",
      "Creating extraction jobs: 100%|███████████████████████| 1/1 [00:02<00:00,  2.76s/it]\n",
      "Extracting files: 100%|███████████████████████████████| 1/1 [00:12<00:00, 12.01s/it]\n"
     ]
    },
    {
     "name": "stdout",
     "output_type": "stream",
     "text": [
      "Extracting data from JUNIATA_COLLEGE/Audited_Financial_Statements_and_Institutional_Data_for_the_year_ended_05_31_2024_Document1__1.7_MB_.pdf\n"
     ]
    },
    {
     "name": "stderr",
     "output_type": "stream",
     "text": [
      "Uploading files: 100%|████████████████████████████████| 1/1 [00:01<00:00,  1.52s/it]\n",
      "Creating extraction jobs: 100%|███████████████████████| 1/1 [00:07<00:00,  7.91s/it]\n",
      "Extracting files: 100%|███████████████████████████████| 1/1 [00:09<00:00,  9.56s/it]\n"
     ]
    },
    {
     "name": "stdout",
     "output_type": "stream",
     "text": [
      "Extracting data from KANSAS_CITY_UNIVERSITY_OF_MEDICINE_AND_BIOSCIENCES/FY24_Bond_Compliance_Annual_Report_for_the_year_ended_06_30_2024_Document2__316_KB_.pdf\n"
     ]
    },
    {
     "name": "stderr",
     "output_type": "stream",
     "text": [
      "Uploading files: 100%|████████████████████████████████| 1/1 [00:01<00:00,  1.69s/it]\n",
      "Creating extraction jobs: 100%|███████████████████████| 1/1 [00:02<00:00,  2.06s/it]\n",
      "Extracting files: 100%|███████████████████████████████| 1/1 [00:08<00:00,  8.40s/it]\n"
     ]
    },
    {
     "name": "stdout",
     "output_type": "stream",
     "text": [
      "Extracting data from KENYON_COLLEGE/Financial_Operating_Filing_for_the_year_ended_06_30_2024__529_KB_.pdf\n"
     ]
    },
    {
     "name": "stderr",
     "output_type": "stream",
     "text": [
      "Uploading files: 100%|████████████████████████████████| 1/1 [00:01<00:00,  1.67s/it]\n",
      "Creating extraction jobs: 100%|███████████████████████| 1/1 [00:02<00:00,  2.32s/it]\n",
      "Extracting files: 100%|███████████████████████████████| 1/1 [00:16<00:00, 16.53s/it]\n"
     ]
    },
    {
     "name": "stdout",
     "output_type": "stream",
     "text": [
      "Extracting data from KETTERING_UNIVERSITY_PROJECT/Annual_Enrollment_Retention_Report_2024_for_the_year_ended_06_30_2024__184_KB_.pdf\n"
     ]
    },
    {
     "name": "stderr",
     "output_type": "stream",
     "text": [
      "Uploading files: 100%|████████████████████████████████| 1/1 [00:02<00:00,  2.10s/it]\n",
      "Creating extraction jobs: 100%|███████████████████████| 1/1 [00:02<00:00,  2.64s/it]\n",
      "Extracting files: 100%|███████████████████████████████| 1/1 [00:12<00:00, 12.84s/it]\n"
     ]
    },
    {
     "name": "stdout",
     "output_type": "stream",
     "text": [
      "Extracting data from KING_S_COLLEGE_PA/Appendix_A-Annual_Financial_Information_and_Operating_Data_December_2024_for_the_year_ended_06_30_2024__652_KB_.pdf\n"
     ]
    },
    {
     "name": "stderr",
     "output_type": "stream",
     "text": [
      "Uploading files: 100%|████████████████████████████████| 1/1 [00:01<00:00,  1.47s/it]\n",
      "Creating extraction jobs: 100%|███████████████████████| 1/1 [00:02<00:00,  2.73s/it]\n",
      "Extracting files: 100%|███████████████████████████████| 1/1 [00:14<00:00, 14.98s/it]\n"
     ]
    },
    {
     "name": "stdout",
     "output_type": "stream",
     "text": [
      "Extracting data from LASELL_UNIVERSITY/Annual_Report_for_the_year_ended_06_30_2024__288_KB_.pdf\n"
     ]
    },
    {
     "name": "stderr",
     "output_type": "stream",
     "text": [
      "Uploading files: 100%|████████████████████████████████| 1/1 [00:01<00:00,  1.38s/it]\n",
      "Creating extraction jobs: 100%|███████████████████████| 1/1 [00:02<00:00,  2.61s/it]\n",
      "Extracting files: 100%|███████████████████████████████| 1/1 [00:47<00:00, 47.97s/it]\n"
     ]
    },
    {
     "name": "stdout",
     "output_type": "stream",
     "text": [
      "Extracting data from LAWRENCE_TECHNOLOGICAL_UNIVERSITY_OBLIGATED_GROUP/Financial_Operating_Filing_for_the_year_ended_06_30_2024__531_KB_.pdf\n"
     ]
    },
    {
     "name": "stderr",
     "output_type": "stream",
     "text": [
      "Uploading files: 100%|████████████████████████████████| 1/1 [00:01<00:00,  1.61s/it]\n",
      "Creating extraction jobs: 100%|███████████████████████| 1/1 [00:02<00:00,  2.33s/it]\n",
      "Extracting files: 100%|███████████████████████████████| 1/1 [00:18<00:00, 18.11s/it]\n"
     ]
    },
    {
     "name": "stdout",
     "output_type": "stream",
     "text": [
      "Extracting data from LESLEY_UNIVERSITY/2024_Annual_Report_for_the_year_ended_06_30_2024__88_KB_.pdf\n"
     ]
    },
    {
     "name": "stderr",
     "output_type": "stream",
     "text": [
      "Uploading files: 100%|████████████████████████████████| 1/1 [00:01<00:00,  1.31s/it]\n",
      "Creating extraction jobs: 100%|███████████████████████| 1/1 [00:02<00:00,  2.21s/it]\n",
      "Extracting files: 100%|███████████████████████████████| 1/1 [00:07<00:00,  7.07s/it]\n"
     ]
    },
    {
     "name": "stdout",
     "output_type": "stream",
     "text": [
      "Extracting data from LEWIS_UNIVERSITY/Continuing_Disclosure_for_the_year_ended_06_30_2024__298_KB_.pdf\n"
     ]
    },
    {
     "name": "stderr",
     "output_type": "stream",
     "text": [
      "Uploading files: 100%|████████████████████████████████| 1/1 [00:01<00:00,  1.62s/it]\n",
      "Creating extraction jobs: 100%|███████████████████████| 1/1 [00:02<00:00,  2.11s/it]\n",
      "Extracting files: 100%|███████████████████████████████| 1/1 [00:10<00:00, 10.38s/it]\n"
     ]
    },
    {
     "name": "stdout",
     "output_type": "stream",
     "text": [
      "Extracting data from LE_MOYNE_COLLEGE/Annual_Report_for_the_year_ended_05_31_2024__224_KB_.pdf\n"
     ]
    },
    {
     "name": "stderr",
     "output_type": "stream",
     "text": [
      "Uploading files: 100%|████████████████████████████████| 1/1 [00:00<00:00,  1.42it/s]\n",
      "Creating extraction jobs: 100%|███████████████████████| 1/1 [00:06<00:00,  6.34s/it]\n",
      "Extracting files: 100%|███████████████████████████████| 1/1 [00:10<00:00, 10.11s/it]\n"
     ]
    },
    {
     "name": "stdout",
     "output_type": "stream",
     "text": [
      "Extracting data from LINDSEY_WILSON_COLLEGE_INC/Operating_Statistics_-_FY24_for_the_year_ended_06_30_2024_for_the_year_ended_06_30_2024__89_KB_.pdf\n"
     ]
    },
    {
     "name": "stderr",
     "output_type": "stream",
     "text": [
      "Uploading files: 100%|████████████████████████████████| 1/1 [00:00<00:00,  1.02it/s]\n",
      "Creating extraction jobs: 100%|███████████████████████| 1/1 [00:06<00:00,  6.51s/it]\n",
      "Extracting files: 100%|███████████████████████████████| 1/1 [00:15<00:00, 15.20s/it]\n"
     ]
    },
    {
     "name": "stdout",
     "output_type": "stream",
     "text": [
      "Extracting data from LOMA_LINDA_UNIVERSITY/Loma_Linda_University_Annual_Disclosure_Report_for_the_year_ended_06_30_2024__326_KB_.pdf\n"
     ]
    },
    {
     "name": "stderr",
     "output_type": "stream",
     "text": [
      "Uploading files: 100%|████████████████████████████████| 1/1 [00:02<00:00,  2.01s/it]\n",
      "Creating extraction jobs: 100%|███████████████████████| 1/1 [00:02<00:00,  2.23s/it]\n",
      "Extracting files: 100%|███████████████████████████████| 1/1 [00:07<00:00,  7.88s/it]\n"
     ]
    },
    {
     "name": "stdout",
     "output_type": "stream",
     "text": [
      "Extracting data from LOYOLA_MARYMOUNT_UNIVERSITY_-_Insured/Financial_Operating_Filing_for_the_year_ended_05_31_2024__415_KB_.pdf\n"
     ]
    },
    {
     "name": "stderr",
     "output_type": "stream",
     "text": [
      "Uploading files: 100%|████████████████████████████████| 1/1 [00:01<00:00,  1.71s/it]\n",
      "Creating extraction jobs: 100%|███████████████████████| 1/1 [00:02<00:00,  2.11s/it]\n",
      "Extracting files: 100%|███████████████████████████████| 1/1 [00:08<00:00,  8.76s/it]\n"
     ]
    },
    {
     "name": "stdout",
     "output_type": "stream",
     "text": [
      "Extracting data from LOYOLA_UNIVERSITY_MARYLAND_INC/2024_Operating_Data_for_the_year_ended_05_31_2024__232_KB_.pdf\n"
     ]
    },
    {
     "name": "stderr",
     "output_type": "stream",
     "text": [
      "Uploading files: 100%|████████████████████████████████| 1/1 [00:03<00:00,  3.31s/it]\n",
      "Creating extraction jobs: 100%|███████████████████████| 1/1 [00:02<00:00,  2.62s/it]\n",
      "Extracting files: 100%|███████████████████████████████| 1/1 [00:08<00:00,  8.12s/it]\n"
     ]
    },
    {
     "name": "stdout",
     "output_type": "stream",
     "text": [
      "Extracting data from LOYOLA_UNIVERSITY_NEW_ORLEANS/2024_Annual_Report_-_Loyola_University_New_Orleans__LA_for_the_year_ended_07_31_2024__258_KB_.pdf\n"
     ]
    },
    {
     "name": "stderr",
     "output_type": "stream",
     "text": [
      "Uploading files: 100%|████████████████████████████████| 1/1 [00:01<00:00,  1.18s/it]\n",
      "Creating extraction jobs: 100%|███████████████████████| 1/1 [00:02<00:00,  2.69s/it]\n",
      "Extracting files: 100%|███████████████████████████████| 1/1 [00:09<00:00,  9.29s/it]\n"
     ]
    },
    {
     "name": "stdout",
     "output_type": "stream",
     "text": [
      "Extracting data from LSU_NICHOLSON_GATEWAY/LSU_System_Financial_Audit_June_30_2024.pdf_for_the_year_ended_06_30_2024__516_KB_.pdf\n"
     ]
    },
    {
     "name": "stderr",
     "output_type": "stream",
     "text": [
      "Uploading files: 100%|████████████████████████████████| 1/1 [00:01<00:00,  1.38s/it]\n",
      "Creating extraction jobs: 100%|███████████████████████| 1/1 [00:02<00:00,  2.32s/it]\n",
      "Extracting files: 100%|███████████████████████████████| 1/1 [00:10<00:00, 10.79s/it]\n"
     ]
    },
    {
     "name": "stdout",
     "output_type": "stream",
     "text": [
      "Extracting data from MANHATTAN_COLLEGE/2024_Operating_Data_for_the_year_ended_06_30_2024__712_KB_.pdf\n"
     ]
    },
    {
     "name": "stderr",
     "output_type": "stream",
     "text": [
      "Uploading files: 100%|████████████████████████████████| 1/1 [00:01<00:00,  1.15s/it]\n",
      "Creating extraction jobs: 100%|███████████████████████| 1/1 [00:01<00:00,  1.83s/it]\n",
      "Extracting files: 100%|███████████████████████████████| 1/1 [00:09<00:00,  9.56s/it]\n"
     ]
    },
    {
     "name": "stdout",
     "output_type": "stream",
     "text": [
      "Extracting data from MARYLAND_INSTITUTE_COLLEGE_OF_ART/Continuing_Disclosures_For_Series_2016_Bonds_for_the_year_ended_05_31_2024__2.9_MB_.pdf\n"
     ]
    },
    {
     "name": "stderr",
     "output_type": "stream",
     "text": [
      "Uploading files: 100%|████████████████████████████████| 1/1 [00:01<00:00,  1.18s/it]\n",
      "Creating extraction jobs: 100%|███████████████████████| 1/1 [00:01<00:00,  1.29s/it]\n",
      "Extracting files: 100%|███████████████████████████████| 1/1 [00:08<00:00,  8.70s/it]\n"
     ]
    },
    {
     "name": "stdout",
     "output_type": "stream",
     "text": [
      "Extracting data from MARYVILLE_UNIVERSITY_OF_ST_LOUIS/Maryville_University_Audited_Financial_Statements_and_Updates_to_Appendix_A_of_OS_for_the_year_ended_05_31_2024__3.9_MB_.pdf\n"
     ]
    },
    {
     "name": "stderr",
     "output_type": "stream",
     "text": [
      "Uploading files: 100%|████████████████████████████████| 1/1 [00:02<00:00,  2.14s/it]\n",
      "Creating extraction jobs: 100%|███████████████████████| 1/1 [00:02<00:00,  2.47s/it]\n",
      "Extracting files: 100%|███████████████████████████████| 1/1 [00:12<00:00, 12.37s/it]\n"
     ]
    },
    {
     "name": "stdout",
     "output_type": "stream",
     "text": [
      "Extracting data from MICHIGAN_FINANCE_AUTHORITY/Annual_Financial_Information_Continuing_Disclosure_for_the_year_ended_08_31_2024__2.1_MB_.pdf\n"
     ]
    },
    {
     "name": "stderr",
     "output_type": "stream",
     "text": [
      "Uploading files: 100%|████████████████████████████████| 1/1 [00:04<00:00,  4.56s/it]\n",
      "Creating extraction jobs: 100%|███████████████████████| 1/1 [00:02<00:00,  2.21s/it]\n",
      "Extracting files: 100%|███████████████████████████████| 1/1 [00:08<00:00,  8.64s/it]\n"
     ]
    },
    {
     "name": "stdout",
     "output_type": "stream",
     "text": [
      "Extracting data from MICHIGAN_TECHNOLOGICAL_UNIVERSITY/Michigan_Technological_University_FYE_2024_Audited_Financial_Statements_for_the_year_ended_06_30_2024__177_KB_.pdf\n"
     ]
    },
    {
     "name": "stderr",
     "output_type": "stream",
     "text": [
      "Uploading files: 100%|████████████████████████████████| 1/1 [00:01<00:00,  1.79s/it]\n",
      "Creating extraction jobs: 100%|███████████████████████| 1/1 [00:02<00:00,  2.31s/it]\n",
      "Extracting files: 100%|███████████████████████████████| 1/1 [00:09<00:00,  9.05s/it]\n"
     ]
    },
    {
     "name": "stdout",
     "output_type": "stream",
     "text": [
      "Extracting data from MISERICORDIA_UNIVERSITY/Fall_2024_Continuing_Disclosure_Info_for_the_year_ended_09_30_2024_Document1__654_KB_.pdf\n"
     ]
    },
    {
     "name": "stderr",
     "output_type": "stream",
     "text": [
      "Uploading files: 100%|████████████████████████████████| 1/1 [00:02<00:00,  2.20s/it]\n",
      "Creating extraction jobs: 100%|███████████████████████| 1/1 [00:02<00:00,  2.10s/it]\n",
      "Extracting files: 100%|███████████████████████████████| 1/1 [00:13<00:00, 13.67s/it]\n"
     ]
    },
    {
     "name": "stdout",
     "output_type": "stream",
     "text": [
      "Extracting data from MOLLOY_COLLEGE/Financial_Operating_Filing_for_the_year_ended_06_30_2024_Document2__142_KB_.pdf\n"
     ]
    },
    {
     "name": "stderr",
     "output_type": "stream",
     "text": [
      "Uploading files: 100%|████████████████████████████████| 1/1 [00:01<00:00,  1.58s/it]\n",
      "Creating extraction jobs: 100%|███████████████████████| 1/1 [00:03<00:00,  3.65s/it]\n",
      "Extracting files: 100%|███████████████████████████████| 1/1 [00:07<00:00,  7.72s/it]\n"
     ]
    },
    {
     "name": "stdout",
     "output_type": "stream",
     "text": [
      "Extracting data from MORAVIAN_UNIVERSITY_OBLIGATED_GROUP/Moravian_University_2024_Operating_Data_for_the_year_ended_06_30_2024__141_KB_.pdf\n"
     ]
    },
    {
     "name": "stderr",
     "output_type": "stream",
     "text": [
      "Uploading files: 100%|████████████████████████████████| 1/1 [00:01<00:00,  1.77s/it]\n",
      "Creating extraction jobs: 100%|███████████████████████| 1/1 [00:01<00:00,  1.43s/it]\n",
      "Extracting files: 100%|███████████████████████████████| 1/1 [00:07<00:00,  7.50s/it]\n"
     ]
    },
    {
     "name": "stdout",
     "output_type": "stream",
     "text": [
      "Extracting data from MUHLENBERG_COLLEGE/2024_Annual_Report_for_the_year_ended_06_30_2024__257_KB_.pdf\n"
     ]
    },
    {
     "name": "stderr",
     "output_type": "stream",
     "text": [
      "Uploading files: 100%|████████████████████████████████| 1/1 [00:01<00:00,  1.51s/it]\n",
      "Creating extraction jobs: 100%|███████████████████████| 1/1 [00:01<00:00,  1.54s/it]\n",
      "Extracting files: 100%|███████████████████████████████| 1/1 [00:14<00:00, 14.02s/it]\n"
     ]
    },
    {
     "name": "stdout",
     "output_type": "stream",
     "text": [
      "Extracting data from NATIONAL_UNIVERSITY/2024_Operating_Data_Annual_Report_-_National_University_for_the_year_ended_06_30_2024__573_KB_.pdf\n"
     ]
    },
    {
     "name": "stderr",
     "output_type": "stream",
     "text": [
      "Uploading files: 100%|████████████████████████████████| 1/1 [00:01<00:00,  1.49s/it]\n",
      "Creating extraction jobs: 100%|███████████████████████| 1/1 [00:03<00:00,  3.95s/it]\n",
      "Extracting files: 100%|███████████████████████████████| 1/1 [00:07<00:00,  7.15s/it]\n"
     ]
    },
    {
     "name": "stdout",
     "output_type": "stream",
     "text": [
      "Extracting data from NEW_JERSEY_INSTITUTE_OF_TECHNOLOGY_NJ/NJIT_Activity_Report_for_the_year_ended_06_30_2024__2.7_MB_.pdf\n"
     ]
    },
    {
     "name": "stderr",
     "output_type": "stream",
     "text": [
      "Uploading files: 100%|████████████████████████████████| 1/1 [00:01<00:00,  1.24s/it]\n",
      "Creating extraction jobs: 100%|███████████████████████| 1/1 [00:00<00:00,  1.14it/s]\n",
      "Extracting files: 100%|███████████████████████████████| 1/1 [00:13<00:00, 13.76s/it]\n"
     ]
    },
    {
     "name": "stdout",
     "output_type": "stream",
     "text": [
      "Extracting data from NEW_SCHOOL_THE/2024_Annual_Report_for_the_year_ended_06_30_2024__118_KB_.pdf\n"
     ]
    },
    {
     "name": "stderr",
     "output_type": "stream",
     "text": [
      "Uploading files: 100%|████████████████████████████████| 1/1 [00:00<00:00,  1.03it/s]\n",
      "Creating extraction jobs: 100%|███████████████████████| 1/1 [00:01<00:00,  1.70s/it]\n",
      "Extracting files: 100%|███████████████████████████████| 1/1 [00:11<00:00, 11.09s/it]\n"
     ]
    },
    {
     "name": "stdout",
     "output_type": "stream",
     "text": [
      "Extracting data from NEW_YORK_INSTITUTE_OF_TECHNOLOGY/2024_Operating_Data_for_the_year_ended_06_30_2024__118_KB_.pdf\n"
     ]
    },
    {
     "name": "stderr",
     "output_type": "stream",
     "text": [
      "Uploading files: 100%|████████████████████████████████| 1/1 [00:01<00:00,  1.38s/it]\n",
      "Creating extraction jobs: 100%|███████████████████████| 1/1 [00:03<00:00,  3.13s/it]\n",
      "Extracting files: 100%|███████████████████████████████| 1/1 [00:06<00:00,  6.83s/it]\n"
     ]
    },
    {
     "name": "stdout",
     "output_type": "stream",
     "text": [
      "Extracting data from NORTHEAST_OHIO_MEDICAL_UNIVERSITY_FOUNDATION/Enrollment_Data_As_Of_12_1_23_for_the_year_ended_06_30_2024__72_KB_.pdf\n"
     ]
    },
    {
     "name": "stderr",
     "output_type": "stream",
     "text": [
      "Uploading files: 100%|████████████████████████████████| 1/1 [00:00<00:00,  1.33it/s]\n",
      "Creating extraction jobs: 100%|███████████████████████| 1/1 [00:00<00:00,  1.02it/s]\n",
      "Extracting files: 100%|███████████████████████████████| 1/1 [00:09<00:00,  9.15s/it]\n"
     ]
    },
    {
     "name": "stdout",
     "output_type": "stream",
     "text": [
      "Extracting data from NORTHEAST_OHIO_MEDICAL_UNIVERSITY_FOUNDATION/FY24_Annual_Filing_for_the_year_ended_06_30_2024__172_KB_.pdf\n"
     ]
    },
    {
     "name": "stderr",
     "output_type": "stream",
     "text": [
      "Uploading files: 100%|████████████████████████████████| 1/1 [00:05<00:00,  5.79s/it]\n",
      "Creating extraction jobs: 100%|███████████████████████| 1/1 [00:01<00:00,  1.45s/it]\n",
      "Extracting files: 100%|███████████████████████████████| 1/1 [00:08<00:00,  8.38s/it]\n"
     ]
    },
    {
     "name": "stdout",
     "output_type": "stream",
     "text": [
      "Extracting data from NORTHWEST_NAZARENE_UNIVERSITY_INC/Audited_Financial_Statements_and_Continuing_Disclosure_for_the_year_ended_06_30_2024_Document1__608_KB_.pdf\n"
     ]
    },
    {
     "name": "stderr",
     "output_type": "stream",
     "text": [
      "Uploading files: 100%|████████████████████████████████| 1/1 [00:01<00:00,  1.17s/it]\n",
      "Creating extraction jobs: 100%|███████████████████████| 1/1 [00:02<00:00,  2.43s/it]\n",
      "Extracting files: 100%|███████████████████████████████| 1/1 [00:16<00:00, 16.19s/it]\n"
     ]
    },
    {
     "name": "stdout",
     "output_type": "stream",
     "text": [
      "Extracting data from NORTH_CAROLINA_CENTRAL_UNIVERSITY/Unaudited_Annual_Financial_Information_and_Operating_Data_for_the_year_ended_06_30_2024_Document2__169_KB_.pdf\n"
     ]
    },
    {
     "name": "stderr",
     "output_type": "stream",
     "text": [
      "Uploading files: 100%|████████████████████████████████| 1/1 [00:01<00:00,  1.21s/it]\n",
      "Creating extraction jobs: 100%|███████████████████████| 1/1 [00:02<00:00,  2.18s/it]\n",
      "Extracting files: 100%|███████████████████████████████| 1/1 [00:12<00:00, 12.05s/it]\n"
     ]
    },
    {
     "name": "stdout",
     "output_type": "stream",
     "text": [
      "Extracting data from OAKLAND_UNIVERSITY/Annual_Financial_Information_and_Operating_Data__Rule_15c2-12__for_the_year_ended_06_30_2024_Document1__1_MB_.pdf\n"
     ]
    },
    {
     "name": "stderr",
     "output_type": "stream",
     "text": [
      "Uploading files: 100%|████████████████████████████████| 1/1 [00:01<00:00,  1.90s/it]\n",
      "Creating extraction jobs: 100%|███████████████████████| 1/1 [00:03<00:00,  3.64s/it]\n",
      "Extracting files: 100%|███████████████████████████████| 1/1 [00:07<00:00,  7.98s/it]\n"
     ]
    },
    {
     "name": "stdout",
     "output_type": "stream",
     "text": [
      "Extracting data from PACE_UNIVERSITY/2024_Operating_Data_for_the_year_ended_06_30_2024__217_KB_.pdf\n"
     ]
    },
    {
     "name": "stderr",
     "output_type": "stream",
     "text": [
      "Uploading files: 100%|████████████████████████████████| 1/1 [00:00<00:00,  1.23it/s]\n",
      "Creating extraction jobs: 100%|███████████████████████| 1/1 [00:04<00:00,  4.88s/it]\n",
      "Extracting files: 100%|███████████████████████████████| 1/1 [00:08<00:00,  8.54s/it]\n"
     ]
    },
    {
     "name": "stdout",
     "output_type": "stream",
     "text": [
      "Extracting data from PALM_BEACH_ATLANTIC_UNIVERSITY_OBLIGATED_GROUP/2024_Annual_Report_for_the_year_ended_06_30_2024__280_KB_.pdf\n"
     ]
    },
    {
     "name": "stderr",
     "output_type": "stream",
     "text": [
      "Uploading files: 100%|████████████████████████████████| 1/1 [00:03<00:00,  3.32s/it]\n",
      "Creating extraction jobs: 100%|███████████████████████| 1/1 [00:03<00:00,  3.01s/it]\n",
      "Extracting files: 100%|███████████████████████████████| 1/1 [00:07<00:00,  7.94s/it]\n"
     ]
    },
    {
     "name": "stdout",
     "output_type": "stream",
     "text": [
      "Extracting data from QUINNIPIAC_UNIVERSITY/Annual_Financial_Statement_for_the_year_ended_06_30_2024__1.1_MB_.pdf\n"
     ]
    },
    {
     "name": "stderr",
     "output_type": "stream",
     "text": [
      "Uploading files: 100%|████████████████████████████████| 1/1 [00:02<00:00,  2.12s/it]\n",
      "Creating extraction jobs: 100%|███████████████████████| 1/1 [00:02<00:00,  2.42s/it]\n",
      "Extracting files: 100%|███████████████████████████████| 1/1 [00:16<00:00, 16.83s/it]\n"
     ]
    },
    {
     "name": "stdout",
     "output_type": "stream",
     "text": [
      "Extracting data from REGENT_UNIV_PROJECT/2024_Operating_Data_Annual_Report_-_Regent_University_for_the_year_ended_06_30_2024__297_KB_.pdf\n"
     ]
    },
    {
     "name": "stderr",
     "output_type": "stream",
     "text": [
      "Uploading files: 100%|████████████████████████████████| 1/1 [00:01<00:00,  1.38s/it]\n",
      "Creating extraction jobs: 100%|███████████████████████| 1/1 [00:02<00:00,  3.00s/it]\n",
      "Extracting files: 100%|███████████████████████████████| 1/1 [00:12<00:00, 12.67s/it]\n"
     ]
    },
    {
     "name": "stdout",
     "output_type": "stream",
     "text": [
      "Extracting data from REGENT_UNIV_PROJECT/2024_Operating_Data_Annual_Report__Revised__-_Regent_University_for_the_year_ended_06_30_2024__325_KB_.pdf\n"
     ]
    },
    {
     "name": "stderr",
     "output_type": "stream",
     "text": [
      "Uploading files: 100%|████████████████████████████████| 1/1 [00:01<00:00,  1.38s/it]\n",
      "Creating extraction jobs: 100%|███████████████████████| 1/1 [00:03<00:00,  3.04s/it]\n",
      "Extracting files: 100%|███████████████████████████████| 1/1 [00:08<00:00,  8.33s/it]\n"
     ]
    },
    {
     "name": "stdout",
     "output_type": "stream",
     "text": [
      "Extracting data from REGENT_UNIV_PROJECT/Virginia_Community_College_System_Annual_Report_for_fiscal_Year_Ending_June_30__2024_for_the_year_ended_06_30_2024_Document1__339_KB_.pdf\n"
     ]
    },
    {
     "name": "stderr",
     "output_type": "stream",
     "text": [
      "Uploading files: 100%|████████████████████████████████| 1/1 [00:01<00:00,  1.03s/it]\n",
      "Creating extraction jobs: 100%|███████████████████████| 1/1 [00:03<00:00,  3.50s/it]\n",
      "Extracting files: 100%|███████████████████████████████| 1/1 [00:08<00:00,  8.84s/it]\n"
     ]
    },
    {
     "name": "stdout",
     "output_type": "stream",
     "text": [
      "Extracting data from REGENT_UNIV_PROJECT/Virginia_Community_College_System_Annual_Report_for_fiscal_Year_Ending_June_30__2024_for_the_year_ended_06_30_2024_Document2__146_KB_.pdf\n"
     ]
    },
    {
     "name": "stderr",
     "output_type": "stream",
     "text": [
      "Uploading files: 100%|████████████████████████████████| 1/1 [00:01<00:00,  1.49s/it]\n",
      "Creating extraction jobs: 100%|███████████████████████| 1/1 [00:01<00:00,  1.42s/it]\n",
      "Extracting files: 100%|███████████████████████████████| 1/1 [00:09<00:00,  9.13s/it]\n"
     ]
    },
    {
     "name": "stdout",
     "output_type": "stream",
     "text": [
      "Extracting data from RHODES_COLLEGE/Rhodes_College_Continuing_Disclosure_for_the_year_ended_06_30_2024_Document1__540_KB_.pdf\n"
     ]
    },
    {
     "name": "stderr",
     "output_type": "stream",
     "text": [
      "Uploading files: 100%|████████████████████████████████| 1/1 [00:02<00:00,  2.04s/it]\n",
      "Creating extraction jobs: 100%|███████████████████████| 1/1 [00:03<00:00,  3.60s/it]\n",
      "Extracting files: 100%|███████████████████████████████| 1/1 [00:07<00:00,  7.71s/it]\n"
     ]
    },
    {
     "name": "stdout",
     "output_type": "stream",
     "text": [
      "Extracting data from ROANOKE_COLLEGE/Appendix_A_for_Series_2020_Bonds_for_Year_Ending_06.30.24_for_the_year_ended_06_30_2024_Document2__109_KB_.pdf\n"
     ]
    },
    {
     "name": "stderr",
     "output_type": "stream",
     "text": [
      "Uploading files: 100%|████████████████████████████████| 1/1 [00:01<00:00,  1.08s/it]\n",
      "Creating extraction jobs: 100%|███████████████████████| 1/1 [00:01<00:00,  1.70s/it]\n",
      "Extracting files: 100%|███████████████████████████████| 1/1 [00:06<00:00,  6.59s/it]\n"
     ]
    },
    {
     "name": "stdout",
     "output_type": "stream",
     "text": [
      "Extracting data from ROBERT_MORRIS_UNIVERSITY_PA/Continuing_Disclosure_material_2024_for_the_year_ended_05_31_2024__617_KB_.pdf\n"
     ]
    },
    {
     "name": "stderr",
     "output_type": "stream",
     "text": [
      "Uploading files: 100%|████████████████████████████████| 1/1 [00:02<00:00,  2.62s/it]\n",
      "Creating extraction jobs: 100%|███████████████████████| 1/1 [00:02<00:00,  2.00s/it]\n",
      "Extracting files: 100%|███████████████████████████████| 1/1 [00:07<00:00,  7.85s/it]\n"
     ]
    },
    {
     "name": "stdout",
     "output_type": "stream",
     "text": [
      "Extracting data from ROCHESTER_INSTITUTE_OF_TECHNOLOGY/2024_Operating_Data_for_the_year_ended_06_30_2024__591_KB_.pdf\n"
     ]
    },
    {
     "name": "stderr",
     "output_type": "stream",
     "text": [
      "Uploading files: 100%|████████████████████████████████| 1/1 [00:01<00:00,  1.04s/it]\n",
      "Creating extraction jobs: 100%|███████████████████████| 1/1 [00:04<00:00,  4.15s/it]\n",
      "Extracting files: 100%|███████████████████████████████| 1/1 [00:11<00:00, 11.20s/it]\n"
     ]
    },
    {
     "name": "stdout",
     "output_type": "stream",
     "text": [
      "Extracting data from ROLLINS_COLLEGE/Incorporate_OS_by_Reference_as_of_10_31_2024__2.5_MB_.pdf\n"
     ]
    },
    {
     "name": "stderr",
     "output_type": "stream",
     "text": [
      "Uploading files: 100%|████████████████████████████████| 1/1 [00:01<00:00,  1.29s/it]\n",
      "Creating extraction jobs: 100%|███████████████████████| 1/1 [00:02<00:00,  2.06s/it]\n",
      "Extracting files: 100%|███████████████████████████████| 1/1 [01:17<00:00, 77.08s/it]\n"
     ]
    },
    {
     "name": "stdout",
     "output_type": "stream",
     "text": [
      "Extracting data from ROSALIND_FRANKLIN_UNIVERSITY_OF_MEDICINE_AND_SCIENCE/2024_Operating_Data_for_the_year_ended_06_30_2024__172_KB_.pdf\n"
     ]
    },
    {
     "name": "stderr",
     "output_type": "stream",
     "text": [
      "Uploading files: 100%|████████████████████████████████| 1/1 [00:01<00:00,  1.77s/it]\n",
      "Creating extraction jobs: 100%|███████████████████████| 1/1 [00:01<00:00,  1.66s/it]\n",
      "Extracting files: 100%|███████████████████████████████| 1/1 [00:07<00:00,  7.89s/it]\n"
     ]
    },
    {
     "name": "stdout",
     "output_type": "stream",
     "text": [
      "Extracting data from ROWAN_UNIVERSITY/2024_Operating_Data_-_Rowan_University_for_the_year_ended_06_30_2024__491_KB_.pdf\n"
     ]
    },
    {
     "name": "stderr",
     "output_type": "stream",
     "text": [
      "Uploading files: 100%|████████████████████████████████| 1/1 [00:01<00:00,  1.31s/it]\n",
      "Creating extraction jobs: 100%|███████████████████████| 1/1 [00:01<00:00,  2.00s/it]\n",
      "Extracting files: 100%|███████████████████████████████| 1/1 [00:08<00:00,  8.39s/it]\n"
     ]
    },
    {
     "name": "stdout",
     "output_type": "stream",
     "text": [
      "Extracting data from SACRED_HEART_UNIVERSITY_INC/Sacred_Heart_University_for_the_year_ended_06_30_2024__40_KB_.pdf\n"
     ]
    },
    {
     "name": "stderr",
     "output_type": "stream",
     "text": [
      "Uploading files: 100%|████████████████████████████████| 1/1 [00:01<00:00,  1.13s/it]\n",
      "Creating extraction jobs: 100%|███████████████████████| 1/1 [00:01<00:00,  1.19s/it]\n",
      "Extracting files: 100%|███████████████████████████████| 1/1 [00:09<00:00,  9.05s/it]\n"
     ]
    },
    {
     "name": "stdout",
     "output_type": "stream",
     "text": [
      "Extracting data from SAMFORD_UNIVERSITY/2024_Annual_Report_for_the_year_ended_06_30_2024__1.1_MB_.pdf\n"
     ]
    },
    {
     "name": "stderr",
     "output_type": "stream",
     "text": [
      "Uploading files: 100%|████████████████████████████████| 1/1 [00:01<00:00,  1.21s/it]\n",
      "Creating extraction jobs: 100%|███████████████████████| 1/1 [00:06<00:00,  6.69s/it]\n",
      "Extracting files: 100%|███████████████████████████████| 1/1 [00:11<00:00, 11.57s/it]\n"
     ]
    },
    {
     "name": "stdout",
     "output_type": "stream",
     "text": [
      "Extracting data from SETON_HALL_UNIVERSITY/2024_Operating_Data__Seton_Hall_University__for_the_year_ended_06_30_2024__275_KB_.pdf\n"
     ]
    },
    {
     "name": "stderr",
     "output_type": "stream",
     "text": [
      "Uploading files: 100%|████████████████████████████████| 1/1 [00:01<00:00,  1.21s/it]\n",
      "Creating extraction jobs: 100%|███████████████████████| 1/1 [00:09<00:00,  9.79s/it]\n",
      "Extracting files: 100%|███████████████████████████████| 1/1 [00:16<00:00, 16.52s/it]\n"
     ]
    },
    {
     "name": "stdout",
     "output_type": "stream",
     "text": [
      "Extracting data from SETON_HILL_UNIVERSITY/Continuing_Disclosures_Seton_Hill_University_063024_for_the_year_ended_06_30_2024_Document2__368_KB_.pdf\n"
     ]
    },
    {
     "name": "stderr",
     "output_type": "stream",
     "text": [
      "Uploading files: 100%|████████████████████████████████| 1/1 [00:01<00:00,  1.17s/it]\n",
      "Creating extraction jobs: 100%|███████████████████████| 1/1 [00:01<00:00,  1.80s/it]\n",
      "Extracting files: 100%|███████████████████████████████| 1/1 [00:14<00:00, 14.88s/it]\n"
     ]
    },
    {
     "name": "stdout",
     "output_type": "stream",
     "text": [
      "Extracting data from SIMMONS_UNIVERSITY/Continuing_Compliance_FY2024_for_the_year_ended_06_30_2024__108_KB_.pdf\n"
     ]
    },
    {
     "name": "stderr",
     "output_type": "stream",
     "text": [
      "Uploading files: 100%|████████████████████████████████| 1/1 [00:03<00:00,  3.23s/it]\n",
      "Creating extraction jobs: 100%|███████████████████████| 1/1 [00:02<00:00,  2.80s/it]\n",
      "Extracting files: 100%|███████████████████████████████| 1/1 [00:07<00:00,  7.53s/it]\n"
     ]
    },
    {
     "name": "stdout",
     "output_type": "stream",
     "text": [
      "Extracting data from SOUTHEAST_MISSOURI_STATE_UNIVERSITY/Annual_Audited_Financials___Operating_Data_for_the_year_ended_06_30_2024_Document2__1.7_MB_.pdf\n"
     ]
    },
    {
     "name": "stderr",
     "output_type": "stream",
     "text": [
      "Uploading files: 100%|████████████████████████████████| 1/1 [00:01<00:00,  1.18s/it]\n",
      "Creating extraction jobs: 100%|███████████████████████| 1/1 [00:01<00:00,  1.60s/it]\n",
      "Extracting files: 100%|███████████████████████████████| 1/1 [00:14<00:00, 14.28s/it]\n"
     ]
    },
    {
     "name": "stdout",
     "output_type": "stream",
     "text": [
      "Extracting data from SOUTHWESTERN_UNIVERSITY/Southwestern_University__TX_2024_Disclosure_Report_for_the_year_ended_06_30_2024__166_KB_.pdf\n"
     ]
    },
    {
     "name": "stderr",
     "output_type": "stream",
     "text": [
      "Uploading files: 100%|████████████████████████████████| 1/1 [00:01<00:00,  1.80s/it]\n",
      "Creating extraction jobs: 100%|███████████████████████| 1/1 [00:01<00:00,  1.22s/it]\n",
      "Extracting files: 100%|███████████████████████████████| 1/1 [00:14<00:00, 14.76s/it]\n"
     ]
    },
    {
     "name": "stdout",
     "output_type": "stream",
     "text": [
      "Extracting data from STEVENS_INSTITUTE_OF_TECHNOLOGY/Annual_Report_for_the_year_ended_06_30_2024__216_KB_.pdf\n"
     ]
    },
    {
     "name": "stderr",
     "output_type": "stream",
     "text": [
      "Uploading files: 100%|████████████████████████████████| 1/1 [00:02<00:00,  2.05s/it]\n",
      "Creating extraction jobs: 100%|███████████████████████| 1/1 [00:01<00:00,  1.98s/it]\n",
      "Extracting files: 100%|███████████████████████████████| 1/1 [00:14<00:00, 14.13s/it]\n"
     ]
    },
    {
     "name": "stdout",
     "output_type": "stream",
     "text": [
      "Extracting data from ST_CATHERINE_UNIVERSITY/Financial_and_Operating_Data_FY24_for_the_year_ended_05_31_2024__137_KB_.pdf\n"
     ]
    },
    {
     "name": "stderr",
     "output_type": "stream",
     "text": [
      "Uploading files: 100%|████████████████████████████████| 1/1 [00:01<00:00,  1.07s/it]\n",
      "Creating extraction jobs: 100%|███████████████████████| 1/1 [00:03<00:00,  3.60s/it]\n",
      "Extracting files: 100%|███████████████████████████████| 1/1 [00:15<00:00, 15.75s/it]\n"
     ]
    },
    {
     "name": "stdout",
     "output_type": "stream",
     "text": [
      "Extracting data from ST_JOHN_S_UNIVERSITY_MN/Financial_and_Operating_Data_-_FY24_for_the_year_ended_06_30_2024__1.1_MB_.pdf\n"
     ]
    },
    {
     "name": "stderr",
     "output_type": "stream",
     "text": [
      "Uploading files: 100%|████████████████████████████████| 1/1 [00:03<00:00,  3.64s/it]\n",
      "Creating extraction jobs: 100%|███████████████████████| 1/1 [00:03<00:00,  3.13s/it]\n",
      "Extracting files: 100%|███████████████████████████████| 1/1 [00:09<00:00,  9.02s/it]\n"
     ]
    },
    {
     "name": "stdout",
     "output_type": "stream",
     "text": [
      "Extracting data from ST_JOSEPH_S_COLLEGE_BROOKLYN_NY/2024_Annual_Report___Final_for_the_year_ended_06_30_2024__93_KB_.pdf\n"
     ]
    },
    {
     "name": "stderr",
     "output_type": "stream",
     "text": [
      "Uploading files: 100%|████████████████████████████████| 1/1 [00:02<00:00,  2.05s/it]\n",
      "Creating extraction jobs: 100%|███████████████████████| 1/1 [00:03<00:00,  3.23s/it]\n",
      "Extracting files: 100%|███████████████████████████████| 1/1 [00:16<00:00, 16.17s/it]\n"
     ]
    },
    {
     "name": "stdout",
     "output_type": "stream",
     "text": [
      "Extracting data from ST_LAWRENCE_UNIVERSITY/SEC_Operating_Info-_SLU_2023-2024_for_the_year_ended_06_30_2024__80_KB_.pdf\n"
     ]
    },
    {
     "name": "stderr",
     "output_type": "stream",
     "text": [
      "Uploading files: 100%|████████████████████████████████| 1/1 [00:02<00:00,  2.67s/it]\n",
      "Creating extraction jobs: 100%|███████████████████████| 1/1 [00:02<00:00,  2.18s/it]\n",
      "Extracting files: 100%|███████████████████████████████| 1/1 [00:08<00:00,  8.12s/it]\n"
     ]
    },
    {
     "name": "stdout",
     "output_type": "stream",
     "text": [
      "Extracting data from ST_LEO_UNIVERSITY_INC_OBLIGATED_GROUP/2024_Annual_Report_for_the_year_ended_06_30_2024__148_KB_.pdf\n"
     ]
    },
    {
     "name": "stderr",
     "output_type": "stream",
     "text": [
      "Uploading files: 100%|████████████████████████████████| 1/1 [00:01<00:00,  1.28s/it]\n",
      "Creating extraction jobs: 100%|███████████████████████| 1/1 [00:01<00:00,  1.52s/it]\n",
      "Extracting files: 100%|███████████████████████████████| 1/1 [00:12<00:00, 12.29s/it]\n"
     ]
    },
    {
     "name": "stdout",
     "output_type": "stream",
     "text": [
      "Extracting data from ST_MARY_S_COLLEGE_OF_CALIFORNIA/Continuing_Disclosure_Report_for_the_year_ended_06_30_2024__766_KB_.pdf\n"
     ]
    },
    {
     "name": "stderr",
     "output_type": "stream",
     "text": [
      "Uploading files: 100%|████████████████████████████████| 1/1 [00:01<00:00,  1.28s/it]\n",
      "Creating extraction jobs: 100%|███████████████████████| 1/1 [00:01<00:00,  1.50s/it]\n",
      "Extracting files: 100%|███████████████████████████████| 1/1 [00:14<00:00, 14.41s/it]\n"
     ]
    },
    {
     "name": "stdout",
     "output_type": "stream",
     "text": [
      "Extracting data from SUFFOLK_UNIVERSITY/Suffolk_University_Financial_Information_and_Operating_Data__for_the_year_ended_06_30_2024__177_KB_.pdf\n"
     ]
    },
    {
     "name": "stderr",
     "output_type": "stream",
     "text": [
      "Uploading files: 100%|████████████████████████████████| 1/1 [00:01<00:00,  1.09s/it]\n",
      "Creating extraction jobs: 100%|███████████████████████| 1/1 [00:02<00:00,  2.33s/it]\n",
      "Extracting files: 100%|███████████████████████████████| 1/1 [00:08<00:00,  8.67s/it]\n"
     ]
    },
    {
     "name": "stdout",
     "output_type": "stream",
     "text": [
      "Extracting data from TEACHERS_COLLEGE/2024_Annual_Report_Operating_Data_for_the_year_ended_08_31_2024__107_KB_.pdf\n"
     ]
    },
    {
     "name": "stderr",
     "output_type": "stream",
     "text": [
      "Uploading files: 100%|████████████████████████████████| 1/1 [00:00<00:00,  1.11it/s]\n",
      "Creating extraction jobs: 100%|███████████████████████| 1/1 [00:01<00:00,  1.62s/it]\n",
      "Extracting files: 100%|███████████████████████████████| 1/1 [00:10<00:00, 10.12s/it]\n"
     ]
    },
    {
     "name": "stdout",
     "output_type": "stream",
     "text": [
      "Extracting data from TRANSYLVANIA_UNIVERSITY/Continuing_Disclosure_for_the_year_ended_06_30_2024_for_the_year_ended_06_30_2024__604_KB_.pdf\n"
     ]
    },
    {
     "name": "stderr",
     "output_type": "stream",
     "text": [
      "Uploading files: 100%|████████████████████████████████| 1/1 [00:02<00:00,  2.61s/it]\n",
      "Creating extraction jobs: 100%|███████████████████████| 1/1 [00:01<00:00,  1.70s/it]\n",
      "Extracting files: 100%|███████████████████████████████| 1/1 [00:11<00:00, 11.50s/it]\n"
     ]
    },
    {
     "name": "stdout",
     "output_type": "stream",
     "text": [
      "Extracting data from TRINITY_COLLEGE_INC_HARTFORD_CT/Trinity_College_Series_R_Bond_Issue_Secondary_Market_Disclosures_for_the_year_ended_06_30_2024_Document1__1.5_MB_.pdf\n"
     ]
    },
    {
     "name": "stderr",
     "output_type": "stream",
     "text": [
      "Uploading files: 100%|████████████████████████████████| 1/1 [00:01<00:00,  2.00s/it]\n",
      "Creating extraction jobs: 100%|███████████████████████| 1/1 [00:02<00:00,  2.72s/it]\n",
      "Extracting files: 100%|███████████████████████████████| 1/1 [00:11<00:00, 11.71s/it]\n"
     ]
    },
    {
     "name": "stdout",
     "output_type": "stream",
     "text": [
      "Extracting data from TRUSTEES_OF_UNION_COLLEGE/2024_Operating_Data_-_Union_College_for_the_year_ended_06_30_2024__175_KB_.pdf\n"
     ]
    },
    {
     "name": "stderr",
     "output_type": "stream",
     "text": [
      "Uploading files: 100%|████████████████████████████████| 1/1 [00:01<00:00,  1.08s/it]\n",
      "Creating extraction jobs: 100%|███████████████████████| 1/1 [00:03<00:00,  3.13s/it]\n",
      "Extracting files: 100%|███████████████████████████████| 1/1 [00:10<00:00, 10.58s/it]\n"
     ]
    },
    {
     "name": "stdout",
     "output_type": "stream",
     "text": [
      "Extracting data from TULANE_UNIVERSITY/Financial_Operating_Filing_for_the_year_ended_06_30_2024__2.8_MB_.pdf\n"
     ]
    },
    {
     "name": "stderr",
     "output_type": "stream",
     "text": [
      "Uploading files: 100%|████████████████████████████████| 1/1 [00:02<00:00,  2.31s/it]\n",
      "Creating extraction jobs: 100%|███████████████████████| 1/1 [00:02<00:00,  2.67s/it]\n",
      "Extracting files: 100%|███████████████████████████████| 1/1 [00:21<00:00, 21.23s/it]\n"
     ]
    },
    {
     "name": "stdout",
     "output_type": "stream",
     "text": [
      "Extracting data from UNIVERSITY_OF_DAYTON/University_of_Dayton_FY_2024_Continuing_Disclosure_with_Transmittal_Letter_for_the_year_ended_06_30_2024__830_KB_.pdf\n"
     ]
    },
    {
     "name": "stderr",
     "output_type": "stream",
     "text": [
      "Uploading files: 100%|████████████████████████████████| 1/1 [00:01<00:00,  1.23s/it]\n",
      "Creating extraction jobs: 100%|███████████████████████| 1/1 [00:02<00:00,  2.02s/it]\n",
      "Extracting files: 100%|███████████████████████████████| 1/1 [00:20<00:00, 20.19s/it]\n"
     ]
    },
    {
     "name": "stdout",
     "output_type": "stream",
     "text": [
      "Extracting data from UNIVERSITY_OF_DETROIT_MERCY_OBLIGATED_GROUP/Financial_Operating_Filing_for_the_year_ended_06_30_2024__215_KB_.pdf\n"
     ]
    },
    {
     "name": "stderr",
     "output_type": "stream",
     "text": [
      "Uploading files: 100%|████████████████████████████████| 1/1 [00:01<00:00,  1.24s/it]\n",
      "Creating extraction jobs: 100%|███████████████████████| 1/1 [00:02<00:00,  2.28s/it]\n",
      "Extracting files: 100%|███████████████████████████████| 1/1 [00:10<00:00, 10.18s/it]\n"
     ]
    },
    {
     "name": "stdout",
     "output_type": "stream",
     "text": [
      "Extracting data from UNIVERSITY_OF_EVANSVILLE/University_of_Evansville_Continuing_Disclosures_for_the_year_ended_05_31_2024_Document1__353_KB_.pdf\n"
     ]
    },
    {
     "name": "stderr",
     "output_type": "stream",
     "text": [
      "Uploading files: 100%|████████████████████████████████| 1/1 [00:01<00:00,  1.09s/it]\n",
      "Creating extraction jobs: 100%|███████████████████████| 1/1 [00:01<00:00,  1.38s/it]\n",
      "Extracting files: 100%|███████████████████████████████| 1/1 [00:13<00:00, 13.09s/it]\n"
     ]
    },
    {
     "name": "stdout",
     "output_type": "stream",
     "text": [
      "Extracting data from UNIVERSITY_OF_HARTFORD_THE/Audited_Financials_with_Balance_of_Annual_Report_for_the_year_ended_06_30_2024__1.1_MB_.pdf\n"
     ]
    },
    {
     "name": "stderr",
     "output_type": "stream",
     "text": [
      "Uploading files: 100%|████████████████████████████████| 1/1 [00:01<00:00,  1.23s/it]\n",
      "Creating extraction jobs: 100%|███████████████████████| 1/1 [00:02<00:00,  2.44s/it]\n",
      "Extracting files: 100%|███████████████████████████████| 1/1 [00:15<00:00, 15.57s/it]\n"
     ]
    },
    {
     "name": "stdout",
     "output_type": "stream",
     "text": [
      "Extracting data from UNIVERSITY_OF_HEALTH_SCIENCES___PHARMACY_IN_ST_LOUIS/St._Louis_College_of_Pharmacy_Annual_Financials_June_30_2024_for_the_year_ended_06_30_2024__619_KB_.pdf\n"
     ]
    },
    {
     "name": "stderr",
     "output_type": "stream",
     "text": [
      "Uploading files: 100%|████████████████████████████████| 1/1 [00:01<00:00,  1.70s/it]\n",
      "Creating extraction jobs: 100%|███████████████████████| 1/1 [00:05<00:00,  5.90s/it]\n",
      "Extracting files: 100%|███████████████████████████████| 1/1 [00:22<00:00, 22.16s/it]\n"
     ]
    },
    {
     "name": "stdout",
     "output_type": "stream",
     "text": [
      "Extracting data from UNIVERSITY_OF_ILLINOIS_HEALTH_SERVICES_FACILITIES_SYSTEM/Continuing_Disclosure_Report_FY24_for_the_year_ended_06_30_2024__593_KB_.pdf\n"
     ]
    },
    {
     "name": "stderr",
     "output_type": "stream",
     "text": [
      "Uploading files: 100%|████████████████████████████████| 1/1 [00:01<00:00,  1.38s/it]\n",
      "Creating extraction jobs: 100%|███████████████████████| 1/1 [00:01<00:00,  1.50s/it]\n",
      "Extracting files: 100%|███████████████████████████████| 1/1 [00:09<00:00,  9.52s/it]\n"
     ]
    },
    {
     "name": "stdout",
     "output_type": "stream",
     "text": [
      "Extracting data from UNIVERSITY_OF_LA_VERNE/Continuing_Disclosure_Annual_Report_and_Student_Enrollment_Statistics_2024_for_the_year_ended_06_30_2024__105_KB_.pdf\n"
     ]
    },
    {
     "name": "stderr",
     "output_type": "stream",
     "text": [
      "Uploading files: 100%|████████████████████████████████| 1/1 [00:01<00:00,  1.11s/it]\n",
      "Creating extraction jobs: 100%|███████████████████████| 1/1 [00:03<00:00,  3.75s/it]\n",
      "Extracting files: 100%|███████████████████████████████| 1/1 [00:07<00:00,  7.21s/it]\n"
     ]
    },
    {
     "name": "stdout",
     "output_type": "stream",
     "text": [
      "Extracting data from UNIVERSITY_OF_MARY/Fall_Demand_Metrics_for_the_year_ended_06_30_2024__1.6_MB_.pdf\n"
     ]
    },
    {
     "name": "stderr",
     "output_type": "stream",
     "text": [
      "Uploading files: 100%|████████████████████████████████| 1/1 [00:01<00:00,  1.79s/it]\n",
      "Creating extraction jobs: 100%|███████████████████████| 1/1 [00:01<00:00,  1.88s/it]\n",
      "Extracting files: 100%|███████████████████████████████| 1/1 [00:11<00:00, 11.31s/it]\n"
     ]
    },
    {
     "name": "stdout",
     "output_type": "stream",
     "text": [
      "Extracting data from UNIVERSITY_OF_NEW_HAVEN_INC/Annual_Audited_Financial_Statement_for_the_year_ended_06_30_2024__534_KB_.pdf\n"
     ]
    },
    {
     "name": "stderr",
     "output_type": "stream",
     "text": [
      "Uploading files: 100%|████████████████████████████████| 1/1 [00:00<00:00,  1.01it/s]\n",
      "Creating extraction jobs: 100%|███████████████████████| 1/1 [00:01<00:00,  1.90s/it]\n",
      "Extracting files: 100%|███████████████████████████████| 1/1 [00:13<00:00, 13.55s/it]\n"
     ]
    },
    {
     "name": "stdout",
     "output_type": "stream",
     "text": [
      "Extracting data from UNIVERSITY_OF_REDLANDS/Annual_Report_for_the_year_ended_06_30_2024__329_KB_.pdf\n"
     ]
    },
    {
     "name": "stderr",
     "output_type": "stream",
     "text": [
      "Uploading files: 100%|████████████████████████████████| 1/1 [00:01<00:00,  1.19s/it]\n",
      "Creating extraction jobs: 100%|███████████████████████| 1/1 [00:02<00:00,  2.61s/it]\n",
      "Extracting files: 100%|███████████████████████████████| 1/1 [00:11<00:00, 11.50s/it]\n"
     ]
    },
    {
     "name": "stdout",
     "output_type": "stream",
     "text": [
      "Extracting data from UNIVERSITY_OF_SCIENCES/2024_Annual_Report_-_Updated_-_Saint_Joseph_s_University_for_the_year_ended_05_31_2024__279_KB_.pdf\n"
     ]
    },
    {
     "name": "stderr",
     "output_type": "stream",
     "text": [
      "Uploading files: 100%|████████████████████████████████| 1/1 [00:01<00:00,  1.28s/it]\n",
      "Creating extraction jobs: 100%|███████████████████████| 1/1 [00:01<00:00,  1.96s/it]\n",
      "Extracting files: 100%|███████████████████████████████| 1/1 [00:08<00:00,  8.68s/it]\n"
     ]
    },
    {
     "name": "stdout",
     "output_type": "stream",
     "text": [
      "Extracting data from UNIVERSITY_OF_ST_THOMAS_MINNEAPOLIS/Financial_and_Operating_Data_Update_FY24_for_the_year_ended_06_30_2024__115_KB_.pdf\n"
     ]
    },
    {
     "name": "stderr",
     "output_type": "stream",
     "text": [
      "Uploading files: 100%|████████████████████████████████| 1/1 [00:00<00:00,  1.03it/s]\n",
      "Creating extraction jobs: 100%|███████████████████████| 1/1 [00:02<00:00,  2.31s/it]\n",
      "Extracting files: 100%|███████████████████████████████| 1/1 [00:10<00:00, 10.99s/it]\n"
     ]
    },
    {
     "name": "stdout",
     "output_type": "stream",
     "text": [
      "Extracting data from UNIVERSITY_OF_THE_INCARNATE_WORD/Annual_Financial_Information_and_Operating_Data__Rule_15c2-12__for_the_year_ended_05_31_2024__641_KB_.pdf\n"
     ]
    },
    {
     "name": "stderr",
     "output_type": "stream",
     "text": [
      "Uploading files: 100%|████████████████████████████████| 1/1 [00:01<00:00,  1.18s/it]\n",
      "Creating extraction jobs: 100%|███████████████████████| 1/1 [00:03<00:00,  3.85s/it]\n",
      "Extracting files: 100%|███████████████████████████████| 1/1 [00:10<00:00, 10.68s/it]\n"
     ]
    },
    {
     "name": "stdout",
     "output_type": "stream",
     "text": [
      "Extracting data from UNIVERSITY_OF_THE_PACIFIC/Continuing_Disclosure_Statement_for_the_year_ended_06_30_2024__392_KB_.pdf\n"
     ]
    },
    {
     "name": "stderr",
     "output_type": "stream",
     "text": [
      "Uploading files: 100%|████████████████████████████████| 1/1 [00:02<00:00,  2.31s/it]\n",
      "Creating extraction jobs: 100%|███████████████████████| 1/1 [00:03<00:00,  3.04s/it]\n",
      "Extracting files: 100%|███████████████████████████████| 1/1 [00:08<00:00,  8.41s/it]\n"
     ]
    },
    {
     "name": "stdout",
     "output_type": "stream",
     "text": [
      "Extracting data from WAGNER_COLLEGE/2024_Annual_Report_-_Wagner_College_for_the_year_ended_08_31_2024__89_KB_.pdf\n"
     ]
    },
    {
     "name": "stderr",
     "output_type": "stream",
     "text": [
      "Uploading files: 100%|████████████████████████████████| 1/1 [00:01<00:00,  1.19s/it]\n",
      "Creating extraction jobs: 100%|███████████████████████| 1/1 [00:01<00:00,  1.49s/it]\n",
      "Extracting files: 100%|███████████████████████████████| 1/1 [00:12<00:00, 12.94s/it]\n"
     ]
    },
    {
     "name": "stdout",
     "output_type": "stream",
     "text": [
      "Extracting data from WENTWORTH_INSTITUTE_OF_TECHNOLOGY_INC/Wentworth_Statistical_Data_FY2024_for_the_year_ended_06_30_2024__167_KB_.pdf\n"
     ]
    },
    {
     "name": "stderr",
     "output_type": "stream",
     "text": [
      "Uploading files: 100%|████████████████████████████████| 1/1 [00:01<00:00,  1.69s/it]\n",
      "Creating extraction jobs: 100%|███████████████████████| 1/1 [00:01<00:00,  1.81s/it]\n",
      "Extracting files: 100%|███████████████████████████████| 1/1 [00:08<00:00,  8.54s/it]\n"
     ]
    },
    {
     "name": "stdout",
     "output_type": "stream",
     "text": [
      "Extracting data from WIDENER_UNIVERSITY/FY_2024_Appendix_A_Final_for_the_year_ended_06_30_2024__845_KB_.pdf\n"
     ]
    },
    {
     "name": "stderr",
     "output_type": "stream",
     "text": [
      "Uploading files: 100%|████████████████████████████████| 1/1 [00:01<00:00,  1.28s/it]\n",
      "Creating extraction jobs: 100%|███████████████████████| 1/1 [00:03<00:00,  3.03s/it]\n",
      "Extracting files: 100%|███████████████████████████████| 1/1 [00:15<00:00, 15.60s/it]\n"
     ]
    },
    {
     "name": "stdout",
     "output_type": "stream",
     "text": [
      "Extracting data from WILLAMETTE_UNIVERSITY/Operating_Data_for_the_year_ended_06_30_2024__166_KB_.pdf\n"
     ]
    },
    {
     "name": "stderr",
     "output_type": "stream",
     "text": [
      "Uploading files: 100%|████████████████████████████████| 1/1 [00:03<00:00,  3.84s/it]\n",
      "Creating extraction jobs: 100%|███████████████████████| 1/1 [00:01<00:00,  1.75s/it]\n",
      "Extracting files: 100%|███████████████████████████████| 1/1 [00:09<00:00,  9.32s/it]\n"
     ]
    },
    {
     "name": "stdout",
     "output_type": "stream",
     "text": [
      "Extracting data from XAVIER_UNIVERSITY/2024_Annual_Information_for_the_year_ended_06_30_2024__154_KB_.pdf\n"
     ]
    },
    {
     "name": "stderr",
     "output_type": "stream",
     "text": [
      "Uploading files: 100%|████████████████████████████████| 1/1 [00:00<00:00,  1.14it/s]\n",
      "Creating extraction jobs: 100%|███████████████████████| 1/1 [00:01<00:00,  1.65s/it]\n",
      "Extracting files: 100%|███████████████████████████████| 1/1 [00:08<00:00,  8.99s/it]\n"
     ]
    },
    {
     "name": "stdout",
     "output_type": "stream",
     "text": [
      "Extracting data from YOUNGSTOWN_STATE_UNIVERSITY/Financial_Operating_Filing_for_the_year_ended_06_30_2024_Document1__287_KB_.pdf\n"
     ]
    },
    {
     "name": "stderr",
     "output_type": "stream",
     "text": [
      "Uploading files: 100%|████████████████████████████████| 1/1 [00:01<00:00,  1.18s/it]\n",
      "Creating extraction jobs: 100%|███████████████████████| 1/1 [00:01<00:00,  1.49s/it]\n",
      "Extracting files: 100%|███████████████████████████████| 1/1 [00:11<00:00, 11.55s/it]"
     ]
    },
    {
     "name": "stdout",
     "output_type": "stream",
     "text": [
      "All schools written to output_scrapping/all_schools.xlsx\n"
     ]
    },
    {
     "name": "stderr",
     "output_type": "stream",
     "text": [
      "\n"
     ]
    }
   ],
   "source": [
    "# Set the output Excel file path\n",
    "OUTPUT_FILE = os.path.join(OUTPUT_ROOT, \"all_schools.xlsx\")\n",
    "\n",
    "# Create an Excel writer using the openpyxl engine\n",
    "writer = pd.ExcelWriter(OUTPUT_FILE, engine=\"openpyxl\")\n",
    "\n",
    "# Iterate through each folder (school) in the PDF_ROOT directory\n",
    "for school in sorted(os.listdir(PDF_ROOT)):\n",
    "    school_dir = os.path.join(PDF_ROOT, school)\n",
    "    \n",
    "    # Skip if not a directory (e.g., if it's a file)\n",
    "    if not os.path.isdir(school_dir):\n",
    "        continue\n",
    "\n",
    "    combined   = {}       # Dictionary to accumulate extracted values\n",
    "    first_keys = None     # Tracks the metric keys from the first valid PDF\n",
    "\n",
    "    # Loop over each PDF file within the school's folder\n",
    "    for fname in sorted(os.listdir(school_dir)):\n",
    "        if not fname.lower().endswith(\".pdf\"):\n",
    "            continue  # Skip non-PDF files\n",
    "\n",
    "        path = os.path.join(school_dir, fname)\n",
    "        print(f\"Extracting data from {school}/{fname}\")\n",
    "        try:\n",
    "            # Extract data from the PDF using the agent\n",
    "            run  = agent.extract(path)\n",
    "            data = run.data or {}  # Use empty dict if data is None\n",
    "\n",
    "            # Initialize keys on the first successful PDF extraction\n",
    "            if first_keys is None:\n",
    "                first_keys = list(data.keys())\n",
    "                combined   = {k: None for k in first_keys}\n",
    "\n",
    "            # Update combined dictionary with non-empty values\n",
    "            for k, v in data.items():\n",
    "                if v not in (None, \"\", []):\n",
    "                    combined[k] = v\n",
    "\n",
    "        except Exception as err:\n",
    "            print(f\"Skipped {fname}: {err}\")  # Log extraction errors\n",
    "\n",
    "    # If we have extracted any data at all, write to Excel\n",
    "    if first_keys:\n",
    "        # Create a DataFrame from the combined dictionary\n",
    "        df = pd.DataFrame.from_dict(combined, orient=\"index\", columns=[\"2024-25\"])\n",
    "        df.index.name = \"Metric\"  # Set index name for clarity\n",
    "\n",
    "        # Sheet name must be ≤31 characters due to Excel limitations\n",
    "        sheet_name = school[:31]\n",
    "        df.to_excel(writer, sheet_name=sheet_name)\n",
    "    else:\n",
    "        print(f\"No data for {school}.\")  # Log schools with no extractable content\n",
    "\n",
    "# Save the Excel file with all the individual sheets\n",
    "writer.close()\n",
    "print(f\"All schools written to {OUTPUT_FILE}\")\n"
   ]
  },
  {
   "cell_type": "code",
   "execution_count": 10,
   "id": "47a6c073-4b51-4770-abc4-f5942a1f772a",
   "metadata": {},
   "outputs": [
    {
     "name": "stdout",
     "output_type": "stream",
     "text": [
      "Saved: output_scrapping/all_schools_combined.xlsx\n"
     ]
    }
   ],
   "source": [
    "#Combine all the tabs into one sheet if wanted\n",
    "file_path   = \"output_scrapping/all_schools.xlsx\"\n",
    "output_path = \"output_scrapping/all_schools_combined.xlsx\"\n",
    "\n",
    "raw = pd.read_excel(file_path, sheet_name=None, index_col=0)\n",
    "\n",
    "school_series = {\n",
    "    school: df.iloc[:, 0]                      # first (only) value column\n",
    "    for school, df in raw.items()\n",
    "}\n",
    "\n",
    "df_comb = pd.DataFrame(school_series).T\n",
    "df_comb.index.name = \"School\"                 \n",
    "df_comb.insert(0, \"Year\", \"2024‑2025\")\n",
    "f\n",
    "# df_comb.loc['Texas_A&M', ['Total_Headcount','Undergraduate_Headcount']] = \\\n",
    "#     df_comb.loc['Texas_A&M', ['Undergraduate_Headcount','Total_Headcount']].values\n",
    "\n",
    "# df_comb.loc['California_state_university', 'Undergraduate_Headcount'] = None \n",
    "with pd.ExcelWriter(output_path, engine=\"openpyxl\") as writer:\n",
    "    df_comb.to_excel(writer, sheet_name=\"Combined\")\n",
    "\n",
    "print(\"Saved:\", output_path)"
   ]
  },
  {
   "cell_type": "code",
   "execution_count": null,
   "id": "cdd5ba9c-4240-49fe-8707-9c4fde4a09b6",
   "metadata": {},
   "outputs": [],
   "source": []
  }
 ],
 "metadata": {
  "kernelspec": {
   "display_name": "Python [conda env:base] *",
   "language": "python",
   "name": "conda-base-py"
  },
  "language_info": {
   "codemirror_mode": {
    "name": "ipython",
    "version": 3
   },
   "file_extension": ".py",
   "mimetype": "text/x-python",
   "name": "python",
   "nbconvert_exporter": "python",
   "pygments_lexer": "ipython3",
   "version": "3.12.7"
  }
 },
 "nbformat": 4,
 "nbformat_minor": 5
}
