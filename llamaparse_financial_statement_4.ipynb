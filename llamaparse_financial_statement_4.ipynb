{
 "cells": [
  {
   "cell_type": "markdown",
   "metadata": {
    "id": "xYQa8UEuVue4"
   },
   "source": [
    "# Parsing Code using Llama Parse v2.0\n",
    "UCB MFE FT ID GROUP - RL \\\\\n",
    "In order to run this code, you need api from llama Cloud: \\\\\n",
    "you would need LLAMA_CLOUD_API_KEY @ https://cloud.llamaindex.ai/project/bf1f404e-ee25-4695-a2e6-eb5519ac661a \\\\\n",
    "Documentation: https://docs.cloud.llamaindex.ai/llamaparse/getting_started/python\n",
    "\n",
    "For the data porting, we choose to use openai to handel all the information and data cleaning and organisation, so that it looks exactly like the excel format which was provided by Luis."
   ]
  },
  {
   "cell_type": "code",
   "execution_count": 1,
   "metadata": {
    "id": "wRBa3A0lk-Ov"
   },
   "outputs": [],
   "source": [
    "from llama_cloud_services import LlamaParse, LlamaReport, LlamaExtract\n",
    "from pydantic import BaseModel, Field\n",
    "from typing import Optional\n",
    "from dotenv import load_dotenv\n",
    "import os\n",
    "import pandas as pd\n",
    "import nest_asyncio\n",
    "from typing import List, Optional, Dict\n",
    "from pathlib import Path\n",
    "import json\n",
    "import xlsxwriter\n",
    "\n",
    "load_dotenv()\n",
    "nest_asyncio.apply()"
   ]
  },
  {
   "cell_type": "code",
   "execution_count": 2,
   "metadata": {
    "id": "Cd97lcRBlMdE"
   },
   "outputs": [],
   "source": [
    "os.environ[\"LLAMA_CLOUD_API_KEY\"]=\"llx-kS6nFu8QgI84j17LsTPY7n1uNMtrVVxKEdsZqRpT3KegS06w\""
   ]
  },
  {
   "cell_type": "code",
   "execution_count": 47,
   "metadata": {},
   "outputs": [],
   "source": [
    "class FinancialPosition(BaseModel):\n",
    "    year: int = Field(\n",
    "        description=(\n",
    "            \"Fiscal year for which the balance sheet data applies. \"\n",
    "            \"Only extract data where year == 2024; ignore entries for any other years.\"\n",
    "        )\n",
    "    )\n",
    "    cash_and_short_term_investments: Optional[int] = Field(\n",
    "        description=(\n",
    "            \"Total unrestricted cash and short-term investments at year-end (2024). \"\n",
    "            \"Exclude restricted cash or endowments. Include cash equivalents and highly liquid instruments.\"\n",
    "        )\n",
    "    )\n",
    "    student_receivables_net: Optional[int] = Field(\n",
    "        description=(\n",
    "            \"Net student receivables (2024) after allowance for doubtful accounts. \"\n",
    "            \"Only include the net figure; ignore separate gross and allowance values.\"\n",
    "        )\n",
    "    )\n",
    "    accounts_receivable: Optional[int] = Field(\n",
    "        description=(\n",
    "            \"Total accounts receivable at year-end 2024. Exclude intercompany or intra-campus balances.\"\n",
    "        )\n",
    "    )\n",
    "    contributions_receivable: Optional[int] = Field(\n",
    "        description=(\n",
    "            \"Pledges and donations receivable for 2024 that are not yet collected. \"\n",
    "            \"Exclude amounts already recognized as income or for prior/future periods.\"\n",
    "        )\n",
    "    )\n",
    "    notes_receivable: Optional[int] = Field(\n",
    "        description=(\n",
    "            \"Outstanding notes receivable (2024), usually loan-based. Extract only current-year figures.\"\n",
    "        )\n",
    "    )\n",
    "    loans_receivable_net: Optional[int] = Field(\n",
    "        description=(\n",
    "            \"Student or institutional loans receivable for 2024, net of allowances. \"\n",
    "            \"Exclude gross figures or those from past fiscal years.\"\n",
    "        )\n",
    "    )\n",
    "    other_assets: Optional[int] = Field(\n",
    "        description=(\n",
    "            \"Other assets not listed separately for 2024. Review footnotes to avoid duplication. \"\n",
    "            \"Only include items related to the 2024 reporting period.\"\n",
    "        )\n",
    "    )\n",
    "    investments: Optional[int] = Field(\n",
    "        description=(\n",
    "            \"Investments held at fair value as of 2024, including equities and bonds. \"\n",
    "            \"Exclude endowment funds if reported separately.\"\n",
    "        )\n",
    "    )\n",
    "    right_of_use_assets: Optional[int] = Field(\n",
    "        description=(\n",
    "            \"Total right-of-use (ROU) assets under ASC 842 for 2024, including both operating and finance leases. \"\n",
    "            \"Confirm they are assets, not liabilities.\"\n",
    "        )\n",
    "    )\n",
    "    land_buildings_equipment_net: Optional[int] = Field(\n",
    "        description=(\n",
    "            \"Net book value of fixed assets (land, buildings, equipment) as of 2024, after accumulated depreciation.\"\n",
    "        )\n",
    "    )\n",
    "    accumulated_depreciation: Optional[int] = Field(\n",
    "        description=(\n",
    "            \"Total accumulated depreciation recorded against PP&E as of year-end 2024. \"\n",
    "            \"Confirm this is a negative contra-asset.\"\n",
    "        )\n",
    "    )\n",
    "    rou_assets_finance_lease: Optional[int] = Field(\n",
    "        description=(\n",
    "            \"Right-of-use assets under finance leases for 2024 (not operating leases). Confirm lease classification.\"\n",
    "        )\n",
    "    )\n",
    "    rou_assets_operating_lease: Optional[int] = Field(\n",
    "        description=(\n",
    "            \"Right-of-use assets under operating leases for 2024. Confirm segregation from finance leases.\"\n",
    "        )\n",
    "    )\n",
    "    current_portion_long_term_debt: Optional[int] = Field(\n",
    "        description=(\n",
    "            \"Portion of long-term debt due within one year as of 2024. Exclude total debt figures.\"\n",
    "        )\n",
    "    )\n",
    "    current_portion_operating_lease: Optional[int] = Field(\n",
    "        description=(\n",
    "            \"Current-year portion (2024) of operating lease liabilities.\"\n",
    "        )\n",
    "    )\n",
    "    short_term_debt: Optional[int] = Field(\n",
    "        description=(\n",
    "            \"Short-term borrowings due within 2024 (e.g., commercial paper, credit lines).\"\n",
    "        )\n",
    "    )\n",
    "    total_assets: Optional[int] = Field(\n",
    "        description=(\n",
    "            \"Sum of all reported assets as of December 31, 2024. \"\n",
    "            \"Use only if explicitly reported; otherwise infer via component summation.\"\n",
    "        )\n",
    "    )\n",
    "    accounts_payable: Optional[int] = Field(\n",
    "        description=(\n",
    "            \"Total trade payables and invoices owed as of year-end 2024.\"\n",
    "        )\n",
    "    )\n",
    "    student_deposits_and_deferred_revenue: Optional[int] = Field(\n",
    "        description=(\n",
    "            \"Unearned tuition or fees collected in advance for 2024. \"\n",
    "            \"Exclude other deferred revenues not related to students.\"\n",
    "        )\n",
    "    )\n",
    "    tenant_capital_improvements: Optional[int] = Field(\n",
    "        description=(\n",
    "            \"Leasehold obligations for tenant improvements as of 2024. Extract only if explicitly stated.\"\n",
    "        )\n",
    "    )\n",
    "    bonds_payable_net: Optional[int] = Field(\n",
    "        description=(\n",
    "            \"Long-term bonds payable, net of discounts/premiums, as of 2024. \"\n",
    "            \"Exclude gross issuance values if not amortized.\"\n",
    "        )\n",
    "    )\n",
    "    refundable_advances_us_govt: Optional[int] = Field(\n",
    "        description=(\n",
    "            \"Federal grants or advances (e.g., Pell grants) that are refundable at year-end 2024.\"\n",
    "        )\n",
    "    )\n",
    "    lease_obligations: Optional[int] = Field(\n",
    "        description=(\n",
    "            \"Total lease liabilities recognized (current + non-current) under ASC 842 for 2024.\"\n",
    "        )\n",
    "    )\n",
    "    liabilities_under_split_interest_agreements: Optional[int] = Field(\n",
    "        description=(\n",
    "            \"Liabilities under split-interest trusts (e.g., charitable remainder trusts) reported for 2024. \"\n",
    "            \"Refer to notes for detail.\"\n",
    "        )\n",
    "    )\n",
    "    liabilities_associated_with_investments: Optional[int] = Field(\n",
    "        description=(\n",
    "            \"Liabilities tied to investments (e.g., margin debt, derivatives) as of 2024.\"\n",
    "        )\n",
    "    )\n",
    "    non_controlling_interests: Optional[int] = Field(\n",
    "        description=(\n",
    "            \"Minority equity interests in consolidated subsidiaries as of 2024.\"\n",
    "        )\n",
    "    )\n",
    "    total_liabilities: Optional[int] = Field(\n",
    "        description=(\n",
    "            \"Sum of all liabilities reported for 2024. Extract explicitly if available.\"\n",
    "        )\n",
    "    )\n",
    "    net_assets_with_donor_restrictions: Optional[int] = Field(\n",
    "        description=(\n",
    "            \"Year-end 2024 net assets restricted by donors for time or purpose. \"\n",
    "            \"Exclude board-designated or unrestricted funds.\"\n",
    "        )\n",
    "    )\n",
    "    net_assets_without_donor_restrictions: Optional[int] = Field(\n",
    "        description=(\n",
    "            \"Unrestricted net assets as of 2024, not subject to donor conditions.\"\n",
    "        )\n",
    "    )\n",
    "    total_net_assets: Optional[int] = Field(\n",
    "        description=(\n",
    "            \"Sum of restricted and unrestricted net assets for 2024.\"\n",
    "        )\n",
    "    )\n",
    "    total_liabilities_and_net_assets: Optional[int] = Field(\n",
    "        description=(\n",
    "            \"Balance sheet total as of 2024. Should match total assets; verify consistency.\"\n",
    "        )\n",
    "    )"
   ]
  },
  {
   "cell_type": "code",
   "execution_count": 48,
   "metadata": {},
   "outputs": [],
   "source": [
    "\n",
    "class StatementOfActivities(BaseModel):\n",
    "    year: int = Field(\n",
    "        description=(\n",
    "            \"Fiscal year for which the income statement data applies. \"\n",
    "            \"Only extract data where year == 2024; ignore entries for any other years.\"\n",
    "        )\n",
    "    )\n",
    "    tuition_and_fees_net: Optional[int] = Field(\n",
    "        description=(\n",
    "            \"Tuition and fees revenue (net of scholarships, discounts, allowances) for 2024.\"\n",
    "        )\n",
    "    )\n",
    "    auxiliary_enterprises: Optional[int] = Field(\n",
    "        description=(\n",
    "            \"Revenue from auxiliary services (housing, dining, bookstores, etc.) in 2024.\"\n",
    "        )\n",
    "    )\n",
    "    government_grants: Optional[int] = Field(\n",
    "        description=(\n",
    "            \"Operating grants and appropriations received from government sources in 2024.\"\n",
    "        )\n",
    "    )\n",
    "    contributions_with_donor_restrictions: Optional[int] = Field(\n",
    "        description=(\n",
    "            \"Gifts/donations restricted by donor conditions for 2024. Exclude unrestricted funds.\"\n",
    "        )\n",
    "    )\n",
    "    contributions_without_donor_restrictions: Optional[int] = Field(\n",
    "        description=(\n",
    "            \"Unrestricted donations available for general use in 2024.\"\n",
    "        )\n",
    "    )\n",
    "    contributions: Optional[int] = Field(\n",
    "        description=(\n",
    "            \"Total contributions for the year 2024 (sum of restricted + unrestricted).\"\n",
    "        )\n",
    "    )\n",
    "    investment_income_operations_with_donor: Optional[int] = Field(\n",
    "        description=(\n",
    "            \"Income earned on donor-restricted investments (e.g., endowment) during 2024.\"\n",
    "        )\n",
    "    )\n",
    "    investment_income_operations_without_donor: Optional[int] = Field(\n",
    "        description=(\n",
    "            \"Income from investments without donor restriction (operating fund earnings) in 2024.\"\n",
    "        )\n",
    "    )\n",
    "    investment_income_operations: Optional[int] = Field(\n",
    "        description=(\n",
    "            \"Total investment income from operations for 2024. \"\n",
    "            \"Includes both donor-restricted and unrestricted lines.\"\n",
    "        )\n",
    "    )\n",
    "    other_investment_income: Optional[int] = Field(\n",
    "        description=(\n",
    "            \"Gains or losses not categorized under operating income (realized/unrealized) in 2024.\"\n",
    "        )\n",
    "    )\n",
    "    other_sources: Optional[int] = Field(\n",
    "        description=(\n",
    "            \"Other non-operating or miscellaneous revenues for 2024.\"\n",
    "        )\n",
    "    )\n",
    "    total_revenue: Optional[int] = Field(\n",
    "        description=(\n",
    "            \"Total revenues for 2024. Extract only if explicitly stated.\"\n",
    "        )\n",
    "    )\n",
    "    net_assets_released_from_restrictions: Optional[int] = Field(\n",
    "        description=(\n",
    "            \"Donor-restricted funds reclassified as unrestricted after satisfying restrictions in 2024.\"\n",
    "        )\n",
    "    )\n",
    "    compensation: Optional[int] = Field(\n",
    "        description=(\n",
    "            \"Salaries and wages for faculty, staff, and student workers during 2024.\"\n",
    "        )\n",
    "    )\n",
    "    fringe_benefits: Optional[int] = Field(\n",
    "        description=(\n",
    "            \"Employee benefits (healthcare, pension, etc.) for 2024.\"\n",
    "        )\n",
    "    )\n",
    "    supplies_services_general: Optional[int] = Field(\n",
    "        description=(\n",
    "            \"General expenditures on supplies and services (excluding compensation) in 2024.\"\n",
    "        )\n",
    "    )\n",
    "    depreciation: Optional[int] = Field(\n",
    "        description=(\n",
    "            \"Depreciation expense related to capital assets for the fiscal year 2024.\"\n",
    "        )\n",
    "    )\n",
    "    interest: Optional[int] = Field(\n",
    "        description=(\n",
    "            \"Interest expense on debt instruments (bonds, loans) during 2024.\"\n",
    "        )\n",
    "    )\n",
    "    utilities_occupancy: Optional[int] = Field(\n",
    "        description=(\n",
    "            \"Utilities costs and building occupancy expenses (rent, maintenance, etc.) for 2024.\"\n",
    "        )\n",
    "    )\n",
    "    total_expenses: Optional[int] = Field(\n",
    "        description=(\n",
    "            \"Total operating and non-operating expenses for 2024. Only extract if clearly labeled.\"\n",
    "        )\n",
    "    )\n",
    "    change_in_net_assets_with_donor_restrictions: Optional[int] = Field(\n",
    "        description=(\n",
    "            \"Net increase/decrease in donor-restricted net assets from operations/investment in 2024.\"\n",
    "        )\n",
    "    )\n",
    "    change_in_net_assets_without_donor_restrictions: Optional[int] = Field(\n",
    "        description=(\n",
    "            \"Net increase/decrease in unrestricted net assets for 2024.\"\n",
    "        )\n",
    "    )\n",
    "    total_change_in_net_assets: Optional[int] = Field(\n",
    "        description=(\n",
    "            \"Overall change in net assets for the fiscal year 2024.\"\n",
    "        )\n",
    "    )"
   ]
  },
  {
   "cell_type": "code",
   "execution_count": 49,
   "metadata": {
    "id": "q36T_jwF0X0k"
   },
   "outputs": [],
   "source": [
    "# Final schema container\n",
    "class FinancialStatement_2425(BaseModel):\n",
    "    financial_position: List[FinancialPosition]\n",
    "    statement_of_activities: List[StatementOfActivities]"
   ]
  },
  {
   "cell_type": "code",
   "execution_count": 7,
   "metadata": {
    "colab": {
     "base_uri": "https://localhost:8080/"
    },
    "id": "gKia7LxM4_VW",
    "outputId": "3e031049-cfd7-4787-cccc-2c76b7a122d6"
   },
   "outputs": [
    {
     "name": "stdout",
     "output_type": "stream",
     "text": [
      "No project_id provided, fetching default project.\n"
     ]
    }
   ],
   "source": [
    "extractor = LlamaExtract()\n",
    "agent_id = \"c6827d74-e760-4a28-ba87-c12bfc70d7af\"\n",
    "# agent = extractor.create_agent(name = \"fs-parser-2425\", data_schema=FinancialStatement_2425)"
   ]
  },
  {
   "cell_type": "code",
   "execution_count": 9,
   "metadata": {},
   "outputs": [],
   "source": [
    "agent = extractor.get_agent(id = agent_id)"
   ]
  },
  {
   "cell_type": "code",
   "execution_count": 50,
   "metadata": {},
   "outputs": [],
   "source": [
    "#uncomment the following lines if you updated the schema\n",
    "agent.data_schema = FinancialStatement_2425\n",
    "agent.save()\n",
    "agent = extractor.get_agent(id = agent_id)"
   ]
  },
  {
   "cell_type": "markdown",
   "metadata": {},
   "source": [
    "# This is a single school test to see if the extraction works accrodingly. Can choose to skip this part."
   ]
  },
  {
   "cell_type": "code",
   "execution_count": 27,
   "metadata": {
    "colab": {
     "base_uri": "https://localhost:8080/",
     "height": 374
    },
    "id": "Ddse7uGr6xEu",
    "outputId": "b55711f7-2bf5-4e7e-db81-8010c15bb548"
   },
   "outputs": [
    {
     "name": "stderr",
     "output_type": "stream",
     "text": [
      "Uploading files: 100%|████████████████████████████| 1/1 [00:01<00:00,  1.90s/it]\n",
      "Creating extraction jobs: 100%|███████████████████| 1/1 [00:01<00:00,  1.22s/it]\n",
      "Extracting files: 100%|███████████████████████████| 1/1 [00:44<00:00, 44.88s/it]\n"
     ]
    }
   ],
   "source": [
    "# ✅ 1. Use actual file path (Path object ensures compatibility)\n",
    "pdf_path = Path(\"/Users/richard_li/Franklin_Templton_Industry_Project/scrapping/university_pdfs/ARIZONA_STATE_UNIVERSITY/FY_2024_Arizona_State_University_Annual_Comprehensive_Financial_Report_for_the_year_ended_06_30_2024__4.1_MB_.pdf\")\n",
    "\n",
    "# ✅ 2. Run agent.extract with raw file path (not parsed documents)\n",
    "extractions = agent.extract(str(pdf_path))  # <-- pass as string"
   ]
  },
  {
   "cell_type": "code",
   "execution_count": 28,
   "metadata": {
    "id": "RS-ezmHd6w41"
   },
   "outputs": [
    {
     "name": "stdout",
     "output_type": "stream",
     "text": [
      "{'financial_position': [{'year': 2024, 'cash_and_short_term_investments': 645869, 'student_receivables_net': 203500000, 'accounts_receivable': 462300000, 'contributions_receivable': 242195, 'notes_receivable': None, 'loans_receivable_net': 2649, 'other_assets': 262480, 'investments': 2302337000, 'right_of_use_assets': 234616, 'land_buildings_equipment_net': 4087901, 'accumulated_depreciation': -2426794, 'rou_assets_finance_lease': None, 'rou_assets_operating_lease': 234616, 'current_portion_long_term_debt': 183414, 'current_portion_operating_lease': 21135, 'short_term_debt': None, 'total_assets': 6952605, 'accounts_payable': 139132, 'student_deposits_and_deferred_revenue': 407266, 'tenant_capital_improvements': None, 'bonds_payable_net': 2573772, 'refundable_advances_us_govt': None, 'lease_obligations': 303749, 'liabilities_under_split_interest_agreements': None, 'liabilities_associated_with_investments': None, 'non_controlling_interests': None, 'total_liabilities': 4478833, 'net_assets_with_donor_restrictions': 427025, 'net_assets_without_donor_restrictions': 626157, 'total_net_assets': 2297576, 'total_liabilities_and_net_assets': None}, {'year': 2023, 'cash_and_short_term_investments': 428276, 'student_receivables_net': None, 'accounts_receivable': 386671, 'contributions_receivable': None, 'notes_receivable': None, 'loans_receivable_net': 2868, 'other_assets': 20677, 'investments': 1004250, 'right_of_use_assets': None, 'land_buildings_equipment_net': 3798093, 'accumulated_depreciation': None, 'rou_assets_finance_lease': None, 'rou_assets_operating_lease': None, 'current_portion_long_term_debt': 172753, 'current_portion_operating_lease': None, 'short_term_debt': None, 'total_assets': 6390660, 'accounts_payable': 146610, 'student_deposits_and_deferred_revenue': 378133, 'tenant_capital_improvements': None, 'bonds_payable_net': 2303504, 'refundable_advances_us_govt': None, 'lease_obligations': 286260, 'liabilities_under_split_interest_agreements': None, 'liabilities_associated_with_investments': None, 'non_controlling_interests': None, 'total_liabilities': 4227967, 'net_assets_with_donor_restrictions': 410050, 'net_assets_without_donor_restrictions': 579506, 'total_net_assets': 2103487, 'total_liabilities_and_net_assets': None}], 'statement_of_activities': [{'year': 2023, 'tuition_and_fees_net': 1889421, 'auxiliary_enterprises': 253900, 'government_grants': 603500, 'contributions_with_donor_restrictions': None, 'contributions_without_donor_restrictions': None, 'contributions': None, 'investment_income_operations_with_donor': None, 'investment_income_operations_without_donor': 60214, 'investment_income_operations': 60214, 'other_investment_income': None, 'other_sources': 28420, 'total_revenue': 3802900, 'net_assets_released_from_restrictions': None, 'compensation': 1420014, 'fringe_benefits': 460506, 'supplies_services_general': 1118814, 'depreciation': 220984, 'interest': 84048, 'utilities_occupancy': None, 'total_expenses': 3528915, 'change_in_net_assets_with_donor_restrictions': None, 'change_in_net_assets_without_donor_restrictions': None, 'total_change_in_net_assets': 189903}, {'year': 2024, 'tuition_and_fees_net': 2028283, 'auxiliary_enterprises': 250411, 'government_grants': 690200, 'contributions_with_donor_restrictions': None, 'contributions_without_donor_restrictions': None, 'contributions': 109185, 'investment_income_operations_with_donor': None, 'investment_income_operations_without_donor': 126086, 'investment_income_operations': 138394, 'other_investment_income': None, 'other_sources': 157700, 'total_revenue': 4087200, 'net_assets_released_from_restrictions': None, 'compensation': 1579319, 'fringe_benefits': 496261, 'supplies_services_general': 1137111, 'depreciation': 231719, 'interest': 90472, 'utilities_occupancy': None, 'total_expenses': 3787961, 'change_in_net_assets_with_donor_restrictions': None, 'change_in_net_assets_without_donor_restrictions': None, 'total_change_in_net_assets': 194089}]}\n"
     ]
    }
   ],
   "source": [
    "print(extractions.data)"
   ]
  },
  {
   "cell_type": "code",
   "execution_count": 20,
   "metadata": {},
   "outputs": [],
   "source": [
    "def save_extraction_to_excel(data: dict, output_path: str):\n",
    "    all_blocks = []\n",
    "    for key, value in data.items():\n",
    "        # Convert list of dicts to DataFrame and transpose\n",
    "        if isinstance(value, list) and all(isinstance(item, dict) for item in value):\n",
    "            df = pd.DataFrame(value)\n",
    "            df = df.set_index(\"year\").T.reset_index().rename(columns={\"index\": \"field\"})\n",
    "        else:\n",
    "            df = pd.DataFrame([value])\n",
    "        # Insert section header as the first row of the block\n",
    "        section_header = pd.DataFrame([[f\"== {key.upper()} ==\"] + [\"\"] * (df.shape[1] - 1)], columns=df.columns)\n",
    "        all_blocks.extend([section_header, df, pd.DataFrame([[\"\"] * df.shape[1]])])  # add empty row after each section\n",
    "\n",
    "    # Combine all blocks\n",
    "    combined_df = pd.concat(all_blocks, ignore_index=True)\n",
    "\n",
    "    # Write to Excel\n",
    "    with pd.ExcelWriter(output_path, engine='xlsxwriter') as writer:\n",
    "        combined_df.to_excel(writer, sheet_name=\"Financials\", index=False)\n",
    "\n",
    "    return output_path"
   ]
  },
  {
   "cell_type": "code",
   "execution_count": null,
   "metadata": {},
   "outputs": [],
   "source": []
  },
  {
   "cell_type": "code",
   "execution_count": 21,
   "metadata": {},
   "outputs": [
    {
     "data": {
      "text/plain": [
       "'yale_extracted_2024.xlsx'"
      ]
     },
     "execution_count": 21,
     "metadata": {},
     "output_type": "execute_result"
    }
   ],
   "source": [
    "output_path = \"ASU_extracted_2024.xlsx\"\n",
    "save_extraction_to_excel(extractions.data, output_path)"
   ]
  },
  {
   "cell_type": "code",
   "execution_count": 22,
   "metadata": {},
   "outputs": [
    {
     "data": {
      "text/plain": [
       "False"
      ]
     },
     "execution_count": 22,
     "metadata": {},
     "output_type": "execute_result"
    }
   ],
   "source": [
    "PDF_ROOT = \"/Users/richard_li/Franklin_Templton_Industry_Project/scrapping/university_pdfs\"\n",
    "OUTPUT_ROOT = \"fs_output_1\"\n",
    "os.makedirs(OUTPUT_ROOT, exist_ok=True)\n",
    "load_dotenv()"
   ]
  },
  {
   "cell_type": "markdown",
   "metadata": {},
   "source": [
    "# ------------------- Here is the entire school list run----------------------------"
   ]
  },
  {
   "cell_type": "code",
   "execution_count": 51,
   "metadata": {},
   "outputs": [
    {
     "name": "stdout",
     "output_type": "stream",
     "text": [
      "No project_id provided, fetching default project.\n"
     ]
    }
   ],
   "source": [
    "# === Configure your agent ===\n",
    "extractor = LlamaExtract()\n",
    "agent = extractor.get_agent(id = agent_id)"
   ]
  },
  {
   "cell_type": "code",
   "execution_count": 52,
   "metadata": {},
   "outputs": [],
   "source": [
    "def process_school(school_name, school_dir):\n",
    "    combined   = {}\n",
    "    first_keys = None\n",
    "    for fname in sorted(os.listdir(school_dir)):\n",
    "        if not fname.lower().endswith(\".pdf\"):\n",
    "            continue\n",
    "        path = os.path.join(school_dir, fname)\n",
    "        print(f\"Extracting data from {fname}\")\n",
    "        try:\n",
    "            run  = agent.extract(path)\n",
    "            data = run.data or {}\n",
    "            if first_keys is None:\n",
    "                first_keys = list(data.keys())\n",
    "                combined  = {k: None for k in first_keys}\n",
    "            for k, v in data.items():\n",
    "                if v not in (None, \"\", []):\n",
    "                    combined[k] = v\n",
    "        except Exception as err:\n",
    "            print(f\"Skipped {fname}: {err}\")\n",
    "    \n",
    "    # ─── INSERT DIAGNOSTIC HERE ───────────────────────────────────────────────────\n",
    "    # Right after the loop above has populated “combined,” but before you build the DataFrame:\n",
    "    if first_keys:\n",
    "        for k, v in combined.items():\n",
    "            if isinstance(v, (list, tuple)) and len(v) != 1:\n",
    "                print(f\"→ '{k}' is a {type(v).__name__} of length {len(v)}: {v!r}\")\n",
    "    # ────────────────────────────────────────────────────────────────────────────────\n",
    "    if first_keys:\n",
    "        df = pd.DataFrame.from_dict(combined, orient=\"index\", columns=[\"2024-25\"])\n",
    "        df.index.name = \"Metric\"\n",
    "        outfile = os.path.join(OUTPUT_ROOT, f\"{school_name}.xlsx\")\n",
    "        df.to_excel(outfile)\n",
    "        print(f\"Saved output to {outfile}\")\n",
    "    else:\n",
    "        print(f\"No PDF data found for {school_name}\")"
   ]
  },
  {
   "cell_type": "code",
   "execution_count": 53,
   "metadata": {},
   "outputs": [
    {
     "name": "stdout",
     "output_type": "stream",
     "text": [
      "Processing school: ARIZONA_STATE_UNIVERSITY\n",
      "Extracting data from FY_2024_Arizona_State_University_Annual_Comprehensive_Financial_Report_for_the_year_ended_06_30_2024__4.1_MB_.pdf\n"
     ]
    },
    {
     "name": "stderr",
     "output_type": "stream",
     "text": [
      "Uploading files: 100%|████████████████████████████| 1/1 [00:04<00:00,  4.77s/it]\n",
      "Creating extraction jobs: 100%|███████████████████| 1/1 [00:01<00:00,  1.27s/it]\n",
      "Extracting files: 100%|███████████████████████████| 1/1 [00:32<00:00, 32.57s/it]\n"
     ]
    },
    {
     "name": "stdout",
     "output_type": "stream",
     "text": [
      "Extracting data from FY_2024_Arizona_State_University_Continuing_Disclosure_Undertaking_for_the_year_ended_06_30_2024__160_KB_.pdf\n"
     ]
    },
    {
     "name": "stderr",
     "output_type": "stream",
     "text": [
      "Uploading files: 100%|████████████████████████████| 1/1 [00:01<00:00,  1.02s/it]\n",
      "Creating extraction jobs: 100%|███████████████████| 1/1 [00:00<00:00,  1.44it/s]\n",
      "Extracting files: 100%|███████████████████████████| 1/1 [00:13<00:00, 13.56s/it]\n"
     ]
    },
    {
     "name": "stdout",
     "output_type": "stream",
     "text": [
      "Saved output to fs_output_1/ARIZONA_STATE_UNIVERSITY.xlsx\n",
      "Processing school: BRADLEY_UNIVERSITY\n",
      "Extracting data from Annual_Financial_Information_and_Operating_Data__Rule_15c2-12__for_FY24_for_the_year_ended_05_31_2024__227_KB_.pdf\n"
     ]
    },
    {
     "name": "stderr",
     "output_type": "stream",
     "text": [
      "Uploading files: 100%|████████████████████████████| 1/1 [00:01<00:00,  1.51s/it]\n",
      "Creating extraction jobs: 100%|███████████████████| 1/1 [00:00<00:00,  1.42it/s]\n",
      "Extracting files: 100%|███████████████████████████| 1/1 [00:11<00:00, 11.92s/it]\n"
     ]
    },
    {
     "name": "stdout",
     "output_type": "stream",
     "text": [
      "Extracting data from Audited_Financial_Statements_or_ACFR__Rule_15c2-12__for_FY24_for_the_year_ended_05_31_2024__541_KB_.pdf\n"
     ]
    },
    {
     "name": "stderr",
     "output_type": "stream",
     "text": [
      "Uploading files: 100%|████████████████████████████| 1/1 [00:01<00:00,  1.82s/it]\n",
      "Creating extraction jobs: 100%|███████████████████| 1/1 [00:01<00:00,  1.35s/it]\n",
      "Extracting files: 100%|███████████████████████████| 1/1 [00:15<00:00, 15.98s/it]\n"
     ]
    },
    {
     "name": "stdout",
     "output_type": "stream",
     "text": [
      "Saved output to fs_output_1/BRADLEY_UNIVERSITY.xlsx\n",
      "Processing school: CALIFORNIA_STATE_UNIVERSITY\n",
      "Extracting data from Exhibit_1_CSU_Combined_Financial_Stmts_6-30-24_for_the_year_ended_06_30_2024__15.6_MB_.pdf\n"
     ]
    },
    {
     "name": "stderr",
     "output_type": "stream",
     "text": [
      "Uploading files: 100%|████████████████████████████| 1/1 [00:02<00:00,  2.67s/it]\n",
      "Creating extraction jobs: 100%|███████████████████| 1/1 [00:03<00:00,  3.13s/it]\n",
      "Extracting files: 100%|███████████████████████████| 1/1 [00:37<00:00, 37.27s/it]\n"
     ]
    },
    {
     "name": "stdout",
     "output_type": "stream",
     "text": [
      "Extracting data from Exhibit_1_CSU_Combined_Financial_Stmts_6-30-24_for_the_year_ended_06_30_2024__308_KB_.pdf\n"
     ]
    },
    {
     "name": "stderr",
     "output_type": "stream",
     "text": [
      "Uploading files: 100%|████████████████████████████| 1/1 [00:02<00:00,  2.01s/it]\n",
      "Creating extraction jobs: 100%|███████████████████| 1/1 [00:02<00:00,  2.74s/it]\n",
      "Extracting files: 100%|███████████████████████████| 1/1 [00:09<00:00,  9.48s/it]\n"
     ]
    },
    {
     "name": "stdout",
     "output_type": "stream",
     "text": [
      "Extracting data from Exhibit_1_DRAFT_UNAUDITED_CSU_Combined_Financial_Statements_6-30-24_for_the_year_ended_06_30_2024__1.2_MB_.pdf\n"
     ]
    },
    {
     "name": "stderr",
     "output_type": "stream",
     "text": [
      "Uploading files: 100%|████████████████████████████| 1/1 [00:02<00:00,  2.64s/it]\n",
      "Creating extraction jobs: 100%|███████████████████| 1/1 [00:00<00:00,  1.11it/s]\n",
      "Extracting files: 100%|███████████████████████████| 1/1 [00:22<00:00, 22.26s/it]\n"
     ]
    },
    {
     "name": "stdout",
     "output_type": "stream",
     "text": [
      "Extracting data from Exhibit_1_DRAFT_UNAUDITED_CSU_Combined_Financial_Statements_6-30-24_for_the_year_ended_06_30_2024__298_KB_.pdf\n"
     ]
    },
    {
     "name": "stderr",
     "output_type": "stream",
     "text": [
      "Uploading files: 100%|████████████████████████████| 1/1 [00:06<00:00,  6.79s/it]\n",
      "Creating extraction jobs: 100%|███████████████████| 1/1 [00:03<00:00,  3.19s/it]\n",
      "Extracting files: 100%|███████████████████████████| 1/1 [00:21<00:00, 21.60s/it]\n"
     ]
    },
    {
     "name": "stdout",
     "output_type": "stream",
     "text": [
      "Saved output to fs_output_1/CALIFORNIA_STATE_UNIVERSITY.xlsx\n",
      "Processing school: CORNELL_UNIVERSITY\n",
      "Extracting data from 2024_Audited_Financial_Statements_for_the_year_ended_06_30_2024__788_KB_.pdf\n"
     ]
    },
    {
     "name": "stderr",
     "output_type": "stream",
     "text": [
      "Uploading files: 100%|████████████████████████████| 1/1 [00:01<00:00,  1.53s/it]\n",
      "Creating extraction jobs: 100%|███████████████████| 1/1 [00:01<00:00,  1.40s/it]\n",
      "Extracting files: 100%|███████████████████████████| 1/1 [00:19<00:00, 19.65s/it]\n"
     ]
    },
    {
     "name": "stdout",
     "output_type": "stream",
     "text": [
      "Extracting data from 2024_Operating_Data_for_the_year_ended_06_30_2024__109_KB_.pdf\n"
     ]
    },
    {
     "name": "stderr",
     "output_type": "stream",
     "text": [
      "Uploading files: 100%|████████████████████████████| 1/1 [00:00<00:00,  1.00it/s]\n",
      "Creating extraction jobs: 100%|███████████████████| 1/1 [00:00<00:00,  1.96it/s]\n",
      "Extracting files: 100%|███████████████████████████| 1/1 [00:07<00:00,  7.85s/it]\n"
     ]
    },
    {
     "name": "stdout",
     "output_type": "stream",
     "text": [
      "Extracting data from Incorporate_OS_by_Reference_as_of_04_25_2024__2.4_MB_.pdf\n"
     ]
    },
    {
     "name": "stderr",
     "output_type": "stream",
     "text": [
      "Uploading files: 100%|████████████████████████████| 1/1 [00:01<00:00,  1.60s/it]\n",
      "Creating extraction jobs: 100%|███████████████████| 1/1 [00:01<00:00,  1.49s/it]\n",
      "Extracting files: 100%|███████████████████████████| 1/1 [00:22<00:00, 22.06s/it]\n"
     ]
    },
    {
     "name": "stdout",
     "output_type": "stream",
     "text": [
      "Saved output to fs_output_1/CORNELL_UNIVERSITY.xlsx\n",
      "Processing school: CULINARY_INSTITUTE_OF_AMERICA_THE\n",
      "Extracting data from 2024_Annual_Report_-_Corrected_for_the_year_ended_05_31_2024__130_KB_.pdf\n"
     ]
    },
    {
     "name": "stderr",
     "output_type": "stream",
     "text": [
      "Uploading files: 100%|████████████████████████████| 1/1 [00:01<00:00,  1.40s/it]\n",
      "Creating extraction jobs: 100%|███████████████████| 1/1 [00:01<00:00,  1.07s/it]\n",
      "Extracting files: 100%|███████████████████████████| 1/1 [00:11<00:00, 11.61s/it]\n"
     ]
    },
    {
     "name": "stdout",
     "output_type": "stream",
     "text": [
      "Extracting data from 2024_Annual_Report_for_the_year_ended_05_31_2024__129_KB_.pdf\n"
     ]
    },
    {
     "name": "stderr",
     "output_type": "stream",
     "text": [
      "Uploading files: 100%|████████████████████████████| 1/1 [00:00<00:00,  1.45it/s]\n",
      "Creating extraction jobs: 100%|███████████████████| 1/1 [00:00<00:00,  2.46it/s]\n",
      "Extracting files: 100%|███████████████████████████| 1/1 [00:10<00:00, 10.48s/it]\n"
     ]
    },
    {
     "name": "stdout",
     "output_type": "stream",
     "text": [
      "Extracting data from 2024_Audited_Financial_Statements_for_the_year_ended_05_31_2024__277_KB_.pdf\n"
     ]
    },
    {
     "name": "stderr",
     "output_type": "stream",
     "text": [
      "Uploading files: 100%|████████████████████████████| 1/1 [00:00<00:00,  1.11it/s]\n",
      "Creating extraction jobs: 100%|███████████████████| 1/1 [00:00<00:00,  1.88it/s]\n",
      "Extracting files: 100%|███████████████████████████| 1/1 [00:17<00:00, 17.40s/it]\n"
     ]
    },
    {
     "name": "stdout",
     "output_type": "stream",
     "text": [
      "Saved output to fs_output_1/CULINARY_INSTITUTE_OF_AMERICA_THE.xlsx\n",
      "Processing school: GANNON_UNIVERSITY\n",
      "Extracting data from Audited_Financial_Statements_for_the_year_ended_06_30_2024__786_KB_.pdf\n"
     ]
    },
    {
     "name": "stderr",
     "output_type": "stream",
     "text": [
      "Uploading files: 100%|████████████████████████████| 1/1 [00:01<00:00,  1.65s/it]\n",
      "Creating extraction jobs: 100%|███████████████████| 1/1 [00:00<00:00,  1.78it/s]\n",
      "Extracting files: 100%|███████████████████████████| 1/1 [00:16<00:00, 16.02s/it]\n"
     ]
    },
    {
     "name": "stdout",
     "output_type": "stream",
     "text": [
      "Extracting data from Continued_Disclosures_Fall_2024_for_the_year_ended_06_30_2024_Document1__203_KB_.pdf\n"
     ]
    },
    {
     "name": "stderr",
     "output_type": "stream",
     "text": [
      "Uploading files: 100%|████████████████████████████| 1/1 [00:01<00:00,  1.86s/it]\n",
      "Creating extraction jobs: 100%|███████████████████| 1/1 [00:00<00:00,  1.15it/s]\n",
      "Extracting files: 100%|███████████████████████████| 1/1 [00:48<00:00, 48.15s/it]\n"
     ]
    },
    {
     "name": "stdout",
     "output_type": "stream",
     "text": [
      "Saved output to fs_output_1/GANNON_UNIVERSITY.xlsx\n",
      "Processing school: LEWIS_UNIVERSITY\n",
      "Extracting data from Audited_Financial_Statements_for_the_year_ended_06_30_2024__430_KB_.pdf\n"
     ]
    },
    {
     "name": "stderr",
     "output_type": "stream",
     "text": [
      "Uploading files: 100%|████████████████████████████| 1/1 [00:01<00:00,  1.98s/it]\n",
      "Creating extraction jobs: 100%|███████████████████| 1/1 [00:01<00:00,  1.48s/it]\n",
      "Extracting files: 100%|███████████████████████████| 1/1 [00:22<00:00, 22.24s/it]\n"
     ]
    },
    {
     "name": "stdout",
     "output_type": "stream",
     "text": [
      "Extracting data from Continuing_Disclosure_for_the_year_ended_06_30_2024__298_KB_.pdf\n"
     ]
    },
    {
     "name": "stderr",
     "output_type": "stream",
     "text": [
      "Uploading files: 100%|████████████████████████████| 1/1 [00:01<00:00,  1.25s/it]\n",
      "Creating extraction jobs: 100%|███████████████████| 1/1 [00:00<00:00,  1.50it/s]\n",
      "Extracting files: 100%|███████████████████████████| 1/1 [01:39<00:00, 99.35s/it]\n"
     ]
    },
    {
     "name": "stdout",
     "output_type": "stream",
     "text": [
      "Saved output to fs_output_1/LEWIS_UNIVERSITY.xlsx\n",
      "Processing school: MICHIGAN_STATE_UNIVERSITY\n",
      "Extracting data from Updates_of_Tables_of_Operating_Information_for_the_year_ended_06_30_2024_Document1__143_KB_.pdf\n"
     ]
    },
    {
     "name": "stderr",
     "output_type": "stream",
     "text": [
      "Uploading files: 100%|████████████████████████████| 1/1 [00:01<00:00,  1.51s/it]\n",
      "Creating extraction jobs: 100%|███████████████████| 1/1 [00:01<00:00,  1.15s/it]\n",
      "Extracting files: 100%|███████████████████████████| 1/1 [00:08<00:00,  8.57s/it]\n"
     ]
    },
    {
     "name": "stdout",
     "output_type": "stream",
     "text": [
      "Extracting data from Updates_of_Tables_of_Operating_Information_for_the_year_ended_06_30_2024_Document2__8.4_MB_.pdf\n"
     ]
    },
    {
     "name": "stderr",
     "output_type": "stream",
     "text": [
      "Uploading files: 100%|████████████████████████████| 1/1 [00:01<00:00,  1.58s/it]\n",
      "Creating extraction jobs: 100%|███████████████████| 1/1 [00:00<00:00,  1.68it/s]\n",
      "Extracting files: 100%|███████████████████████████| 1/1 [00:38<00:00, 38.07s/it]\n"
     ]
    },
    {
     "name": "stdout",
     "output_type": "stream",
     "text": [
      "Saved output to fs_output_1/MICHIGAN_STATE_UNIVERSITY.xlsx\n",
      "Processing school: MOLLOY_COLLEGE\n",
      "Extracting data from Financial_Operating_Filing_for_the_year_ended_06_30_2024_Document1__304_KB_.pdf\n"
     ]
    },
    {
     "name": "stderr",
     "output_type": "stream",
     "text": [
      "Uploading files: 100%|████████████████████████████| 1/1 [00:03<00:00,  3.02s/it]\n",
      "Creating extraction jobs: 100%|███████████████████| 1/1 [00:00<00:00,  1.05it/s]\n",
      "Extracting files: 100%|███████████████████████████| 1/1 [00:15<00:00, 15.24s/it]\n"
     ]
    },
    {
     "name": "stdout",
     "output_type": "stream",
     "text": [
      "Extracting data from Financial_Operating_Filing_for_the_year_ended_06_30_2024_Document2__142_KB_.pdf\n"
     ]
    },
    {
     "name": "stderr",
     "output_type": "stream",
     "text": [
      "Uploading files: 100%|████████████████████████████| 1/1 [00:00<00:00,  1.05it/s]\n",
      "Creating extraction jobs: 100%|███████████████████| 1/1 [00:00<00:00,  1.37it/s]\n",
      "Extracting files: 100%|███████████████████████████| 1/1 [01:00<00:00, 60.55s/it]\n"
     ]
    },
    {
     "name": "stdout",
     "output_type": "stream",
     "text": [
      "Saved output to fs_output_1/MOLLOY_COLLEGE.xlsx\n",
      "Processing school: MOUNT_ST_MARY_S_UNIVERSITY_INC\n",
      "Extracting data from Audited_Annual_Financials_for_the_year_ended_06_30_2024_Document1__29.1_MB_.pdf\n"
     ]
    },
    {
     "name": "stderr",
     "output_type": "stream",
     "text": [
      "Uploading files: 100%|████████████████████████████| 1/1 [00:04<00:00,  4.89s/it]\n",
      "Creating extraction jobs: 100%|███████████████████| 1/1 [00:00<00:00,  1.80it/s]\n",
      "Extracting files: 100%|███████████████████████████| 1/1 [00:38<00:00, 38.66s/it]\n"
     ]
    },
    {
     "name": "stdout",
     "output_type": "stream",
     "text": [
      "Extracting data from Audited_Annual_Financials_for_the_year_ended_06_30_2024_Document2__5_MB_.pdf\n"
     ]
    },
    {
     "name": "stderr",
     "output_type": "stream",
     "text": [
      "Uploading files: 100%|████████████████████████████| 1/1 [00:02<00:00,  2.94s/it]\n",
      "Creating extraction jobs: 100%|███████████████████| 1/1 [00:00<00:00,  1.46it/s]\n",
      "Extracting files: 100%|██████████████████████████| 1/1 [02:28<00:00, 148.07s/it]\n"
     ]
    },
    {
     "name": "stdout",
     "output_type": "stream",
     "text": [
      "Saved output to fs_output_1/MOUNT_ST_MARY_S_UNIVERSITY_INC.xlsx\n",
      "Processing school: NEW_YORK_UNIVERSITY\n",
      "Extracting data from 2024_Certificate_of_Compliance_-_Audit_for_the_year_ended_06_30_2024__330_KB_.pdf\n"
     ]
    },
    {
     "name": "stderr",
     "output_type": "stream",
     "text": [
      "Uploading files: 100%|████████████████████████████| 1/1 [00:00<00:00,  1.24it/s]\n",
      "Creating extraction jobs: 100%|███████████████████| 1/1 [00:00<00:00,  1.77it/s]\n",
      "Extracting files: 100%|███████████████████████████| 1/1 [00:09<00:00,  9.50s/it]\n"
     ]
    },
    {
     "name": "stdout",
     "output_type": "stream",
     "text": [
      "Extracting data from 2024_Certificate_of_Compliance_for_the_year_ended_06_30_2024__323_KB_.pdf\n"
     ]
    },
    {
     "name": "stderr",
     "output_type": "stream",
     "text": [
      "Uploading files: 100%|████████████████████████████| 1/1 [00:01<00:00,  1.84s/it]\n",
      "Creating extraction jobs: 100%|███████████████████| 1/1 [00:01<00:00,  1.43s/it]\n",
      "Extracting files: 100%|███████████████████████████| 1/1 [00:07<00:00,  7.86s/it]\n"
     ]
    },
    {
     "name": "stdout",
     "output_type": "stream",
     "text": [
      "Extracting data from 2024_Consolidated_Financial_Statements_New_York_University_for_the_year_ended_06_30_2024__466_KB_.pdf\n"
     ]
    },
    {
     "name": "stderr",
     "output_type": "stream",
     "text": [
      "Uploading files: 100%|████████████████████████████| 1/1 [00:01<00:00,  1.54s/it]\n",
      "Creating extraction jobs: 100%|███████████████████| 1/1 [00:04<00:00,  4.77s/it]\n",
      "Extracting files: 100%|███████████████████████████| 1/1 [00:20<00:00, 20.93s/it]\n"
     ]
    },
    {
     "name": "stdout",
     "output_type": "stream",
     "text": [
      "Extracting data from 2024_Operating_Data_for_the_year_ended_06_30_2024__244_KB_.pdf\n"
     ]
    },
    {
     "name": "stderr",
     "output_type": "stream",
     "text": [
      "Uploading files: 100%|████████████████████████████| 1/1 [00:00<00:00,  1.02it/s]\n",
      "Creating extraction jobs: 100%|███████████████████| 1/1 [00:00<00:00,  1.67it/s]\n",
      "Extracting files: 100%|███████████████████████████| 1/1 [00:55<00:00, 55.10s/it]\n"
     ]
    },
    {
     "name": "stdout",
     "output_type": "stream",
     "text": [
      "Saved output to fs_output_1/NEW_YORK_UNIVERSITY.xlsx\n",
      "Processing school: OHIO_STATE_UNIVERSITY_THE\n",
      "Extracting data from The_Ohio_State_University_Annual_Update_to_Bondholders_for_the_year_ended_06_30_2024__577_KB_.pdf\n"
     ]
    },
    {
     "name": "stderr",
     "output_type": "stream",
     "text": [
      "Uploading files: 100%|████████████████████████████| 1/1 [00:00<00:00,  1.00it/s]\n",
      "Creating extraction jobs: 100%|███████████████████| 1/1 [00:00<00:00,  2.00it/s]\n",
      "Extracting files: 100%|███████████████████████████| 1/1 [01:15<00:00, 75.96s/it]\n"
     ]
    },
    {
     "name": "stdout",
     "output_type": "stream",
     "text": [
      "Extracting data from The_Ohio_State_University_Quarterly_Update_to_Bondholders_for_the_quarter_ended_03_31_2024__577_KB_.pdf\n"
     ]
    },
    {
     "name": "stderr",
     "output_type": "stream",
     "text": [
      "Uploading files: 100%|████████████████████████████| 1/1 [00:02<00:00,  2.40s/it]\n",
      "Creating extraction jobs: 100%|███████████████████| 1/1 [00:10<00:00, 10.19s/it]\n",
      "Extracting files: 100%|███████████████████████████| 1/1 [00:08<00:00,  8.79s/it]\n"
     ]
    },
    {
     "name": "stdout",
     "output_type": "stream",
     "text": [
      "Extracting data from The_Ohio_State_University_Quarterly_Update_to_Bondholders_for_the_quarter_ended_06_30_2024__576_KB_.pdf\n"
     ]
    },
    {
     "name": "stderr",
     "output_type": "stream",
     "text": [
      "Uploading files: 100%|████████████████████████████| 1/1 [00:00<00:00,  1.01it/s]\n",
      "Creating extraction jobs: 100%|███████████████████| 1/1 [00:07<00:00,  7.49s/it]\n",
      "Extracting files: 100%|███████████████████████████| 1/1 [00:09<00:00,  9.25s/it]\n"
     ]
    },
    {
     "name": "stdout",
     "output_type": "stream",
     "text": [
      "Extracting data from The_Ohio_State_University_Quarterly_Update_to_Bondholders_for_the_quarter_ended_09_30_2024__574_KB_.pdf\n"
     ]
    },
    {
     "name": "stderr",
     "output_type": "stream",
     "text": [
      "Uploading files: 100%|████████████████████████████| 1/1 [00:01<00:00,  1.06s/it]\n",
      "Creating extraction jobs: 100%|███████████████████| 1/1 [00:00<00:00,  1.40it/s]\n",
      "Extracting files: 100%|███████████████████████████| 1/1 [00:07<00:00,  7.12s/it]\n"
     ]
    },
    {
     "name": "stdout",
     "output_type": "stream",
     "text": [
      "Extracting data from The_Ohio_State_University_Quarterly_Update_to_Bondholders_for_the_quarter_ended_12_31_2024__815_KB_.pdf\n"
     ]
    },
    {
     "name": "stderr",
     "output_type": "stream",
     "text": [
      "Uploading files: 100%|████████████████████████████| 1/1 [00:01<00:00,  1.24s/it]\n",
      "Creating extraction jobs: 100%|███████████████████| 1/1 [00:00<00:00,  2.39it/s]\n",
      "Extracting files: 100%|███████████████████████████| 1/1 [00:13<00:00, 13.33s/it]\n"
     ]
    },
    {
     "name": "stdout",
     "output_type": "stream",
     "text": [
      "Saved output to fs_output_1/OHIO_STATE_UNIVERSITY_THE.xlsx\n",
      "Processing school: PRESIDENT___FELLOWS_OF_HARVARD_COLLEGE\n",
      "Extracting data from Harvard_University_Audited_Financial_Information_for_the_year_ended_06_30_2024__10.6_MB_.pdf\n"
     ]
    },
    {
     "name": "stderr",
     "output_type": "stream",
     "text": [
      "Uploading files: 100%|████████████████████████████| 1/1 [00:04<00:00,  4.91s/it]\n",
      "Creating extraction jobs: 100%|███████████████████| 1/1 [00:01<00:00,  1.50s/it]\n",
      "Extracting files: 100%|███████████████████████████| 1/1 [00:26<00:00, 26.19s/it]\n"
     ]
    },
    {
     "name": "stdout",
     "output_type": "stream",
     "text": [
      "Extracting data from Harvard_University_Financial_Report_for_the_year_ended_06_30_2024__10.6_MB_.pdf\n"
     ]
    },
    {
     "name": "stderr",
     "output_type": "stream",
     "text": [
      "Uploading files: 100%|████████████████████████████| 1/1 [00:02<00:00,  2.38s/it]\n",
      "Creating extraction jobs: 100%|███████████████████| 1/1 [00:00<00:00,  2.10it/s]\n",
      "Extracting files: 100%|███████████████████████████| 1/1 [00:22<00:00, 22.20s/it]\n"
     ]
    },
    {
     "name": "stdout",
     "output_type": "stream",
     "text": [
      "Extracting data from Harvard_University_Student_Applications_and_Enrollment_for_the_year_ended_06_30_2024__557_KB_.pdf\n"
     ]
    },
    {
     "name": "stderr",
     "output_type": "stream",
     "text": [
      "Uploading files: 100%|████████████████████████████| 1/1 [00:01<00:00,  1.36s/it]\n",
      "Creating extraction jobs: 100%|███████████████████| 1/1 [00:00<00:00,  1.14it/s]\n",
      "Extracting files: 100%|███████████████████████████| 1/1 [00:06<00:00,  6.77s/it]\n"
     ]
    },
    {
     "name": "stdout",
     "output_type": "stream",
     "text": [
      "Saved output to fs_output_1/PRESIDENT___FELLOWS_OF_HARVARD_COLLEGE.xlsx\n",
      "Processing school: STEVENSON_UNIVERSITY_INC\n",
      "Extracting data from 2024_Annual_Compliance_Certificate__EagleBank__for_the_year_ended_06_30_2024__3_MB_.pdf\n"
     ]
    },
    {
     "name": "stderr",
     "output_type": "stream",
     "text": [
      "Uploading files: 100%|████████████████████████████| 1/1 [00:02<00:00,  2.16s/it]\n",
      "Creating extraction jobs: 100%|███████████████████| 1/1 [00:01<00:00,  1.17s/it]\n",
      "Extracting files: 100%|███████████████████████████| 1/1 [00:27<00:00, 27.17s/it]\n"
     ]
    },
    {
     "name": "stdout",
     "output_type": "stream",
     "text": [
      "Extracting data from 2024_Annual_Compliance_Certificate_for_the_year_ended_06_30_2024__2.8_MB_.pdf\n"
     ]
    },
    {
     "name": "stderr",
     "output_type": "stream",
     "text": [
      "Uploading files: 100%|████████████████████████████| 1/1 [00:01<00:00,  1.29s/it]\n",
      "Creating extraction jobs: 100%|███████████████████| 1/1 [00:00<00:00,  1.84it/s]\n",
      "Extracting files: 100%|███████████████████████████| 1/1 [00:12<00:00, 12.49s/it]\n"
     ]
    },
    {
     "name": "stdout",
     "output_type": "stream",
     "text": [
      "Extracting data from 2024_Audited_Financial_Statements_for_the_year_ended_06_30_2024__348_KB_.pdf\n"
     ]
    },
    {
     "name": "stderr",
     "output_type": "stream",
     "text": [
      "Uploading files: 100%|████████████████████████████| 1/1 [00:01<00:00,  1.75s/it]\n",
      "Creating extraction jobs: 100%|███████████████████| 1/1 [00:03<00:00,  3.04s/it]\n",
      "Extracting files: 100%|███████████████████████████| 1/1 [00:13<00:00, 13.49s/it]\n"
     ]
    },
    {
     "name": "stdout",
     "output_type": "stream",
     "text": [
      "Extracting data from 2024_Operating_Data_for_the_year_ended_06_30_2024__196_KB_.pdf\n"
     ]
    },
    {
     "name": "stderr",
     "output_type": "stream",
     "text": [
      "Uploading files: 100%|████████████████████████████| 1/1 [00:01<00:00,  1.33s/it]\n",
      "Creating extraction jobs: 100%|███████████████████| 1/1 [00:06<00:00,  6.53s/it]\n",
      "Extracting files: 100%|███████████████████████████| 1/1 [01:10<00:00, 70.19s/it]\n"
     ]
    },
    {
     "name": "stdout",
     "output_type": "stream",
     "text": [
      "Saved output to fs_output_1/STEVENSON_UNIVERSITY_INC.xlsx\n",
      "Processing school: STEVENS_INSTITUTE_OF_TECHNOLOGY\n",
      "Extracting data from Annual_Report_for_the_year_ended_06_30_2024__216_KB_.pdf\n"
     ]
    },
    {
     "name": "stderr",
     "output_type": "stream",
     "text": [
      "Uploading files: 100%|████████████████████████████| 1/1 [00:04<00:00,  4.47s/it]\n",
      "Creating extraction jobs: 100%|███████████████████| 1/1 [00:01<00:00,  1.23s/it]\n",
      "Extracting files: 100%|███████████████████████████| 1/1 [00:44<00:00, 44.10s/it]\n"
     ]
    },
    {
     "name": "stdout",
     "output_type": "stream",
     "text": [
      "Extracting data from Audit_Financial_Statement_for_the_year_ended_06_30_2024__626_KB_.pdf\n"
     ]
    },
    {
     "name": "stderr",
     "output_type": "stream",
     "text": [
      "Uploading files: 100%|████████████████████████████| 1/1 [00:01<00:00,  1.98s/it]\n",
      "Creating extraction jobs: 100%|███████████████████| 1/1 [00:07<00:00,  7.14s/it]\n",
      "Extracting files: 100%|███████████████████████████| 1/1 [00:11<00:00, 11.03s/it]\n"
     ]
    },
    {
     "name": "stdout",
     "output_type": "stream",
     "text": [
      "Saved output to fs_output_1/STEVENS_INSTITUTE_OF_TECHNOLOGY.xlsx\n",
      "Processing school: ST_LOUIS_UNIVERSITY_US\n",
      "Extracting data from Amendment_to_Continuing_Disclosure_Undertaking_dated_01_05_2024__392_KB_.pdf\n"
     ]
    },
    {
     "name": "stderr",
     "output_type": "stream",
     "text": [
      "Uploading files: 100%|████████████████████████████| 1/1 [00:01<00:00,  1.31s/it]\n",
      "Creating extraction jobs: 100%|███████████████████| 1/1 [00:03<00:00,  3.59s/it]\n",
      "Extracting files: 100%|███████████████████████████| 1/1 [00:06<00:00,  6.99s/it]\n"
     ]
    },
    {
     "name": "stdout",
     "output_type": "stream",
     "text": [
      "Extracting data from Audited_Financials_and_Operating_Data_for_the_year_ended_06_30_2024_Document1__561_KB_.pdf\n"
     ]
    },
    {
     "name": "stderr",
     "output_type": "stream",
     "text": [
      "Uploading files: 100%|████████████████████████████| 1/1 [00:06<00:00,  6.83s/it]\n",
      "Creating extraction jobs: 100%|███████████████████| 1/1 [00:00<00:00,  1.26it/s]\n",
      "Extracting files: 100%|███████████████████████████| 1/1 [00:15<00:00, 15.46s/it]\n"
     ]
    },
    {
     "name": "stdout",
     "output_type": "stream",
     "text": [
      "Extracting data from Audited_Financials_and_Operating_Data_for_the_year_ended_06_30_2024_Document2__174_KB_.pdf\n"
     ]
    },
    {
     "name": "stderr",
     "output_type": "stream",
     "text": [
      "Uploading files: 100%|████████████████████████████| 1/1 [00:02<00:00,  2.46s/it]\n",
      "Creating extraction jobs: 100%|███████████████████| 1/1 [00:16<00:00, 16.73s/it]\n",
      "Extracting files: 100%|███████████████████████████| 1/1 [00:06<00:00,  6.41s/it]\n"
     ]
    },
    {
     "name": "stdout",
     "output_type": "stream",
     "text": [
      "Saved output to fs_output_1/ST_LOUIS_UNIVERSITY_US.xlsx\n",
      "Processing school: TEXAS_A_M_UNIVERSITY\n",
      "Extracting data from FY_2024_Continuing_Disclosure_Annual_Report_for_the_year_ended_08_31_2024__2.3_MB_.pdf\n"
     ]
    },
    {
     "name": "stderr",
     "output_type": "stream",
     "text": [
      "Uploading files: 100%|████████████████████████████| 1/1 [00:01<00:00,  1.40s/it]\n",
      "Creating extraction jobs: 100%|███████████████████| 1/1 [00:00<00:00,  1.44it/s]\n",
      "Extracting files: 100%|██████████████████████████| 1/1 [03:43<00:00, 223.16s/it]\n"
     ]
    },
    {
     "name": "stdout",
     "output_type": "stream",
     "text": [
      "Extracting data from Texas_A_M_University_System_Unaudited_Annual_Financial_Reports_for_the_year_ended_08_31_2024__2_MB_.pdf\n"
     ]
    },
    {
     "name": "stderr",
     "output_type": "stream",
     "text": [
      "Uploading files: 100%|████████████████████████████| 1/1 [00:01<00:00,  1.78s/it]\n",
      "Creating extraction jobs: 100%|███████████████████| 1/1 [00:01<00:00,  1.68s/it]\n",
      "Extracting files: 100%|███████████████████████████| 1/1 [00:29<00:00, 29.73s/it]\n"
     ]
    },
    {
     "name": "stdout",
     "output_type": "stream",
     "text": [
      "Saved output to fs_output_1/TEXAS_A_M_UNIVERSITY.xlsx\n",
      "Processing school: UNIVERSITY_OF_COLORADO\n",
      "Extracting data from Financial_and_Operating_Data__Fiscal_Year_2024_for_the_year_ended_06_30_2024__278_KB_.pdf\n"
     ]
    },
    {
     "name": "stderr",
     "output_type": "stream",
     "text": [
      "Uploading files: 100%|████████████████████████████| 1/1 [00:01<00:00,  1.02s/it]\n",
      "Creating extraction jobs: 100%|███████████████████| 1/1 [00:00<00:00,  1.31it/s]\n",
      "Extracting files: 100%|███████████████████████████| 1/1 [01:01<00:00, 61.27s/it]\n"
     ]
    },
    {
     "name": "stdout",
     "output_type": "stream",
     "text": [
      "Saved output to fs_output_1/UNIVERSITY_OF_COLORADO.xlsx\n",
      "Processing school: UNIVERSITY_OF_MINNESOTA\n",
      "Extracting data from Annual_Financial_Information_and_Operating_Data_for_the_year_ended_06_30_2024_Document1__1.3_MB_.pdf\n"
     ]
    },
    {
     "name": "stderr",
     "output_type": "stream",
     "text": [
      "Uploading files: 100%|████████████████████████████| 1/1 [00:03<00:00,  3.01s/it]\n",
      "Creating extraction jobs: 100%|███████████████████| 1/1 [00:01<00:00,  1.25s/it]\n",
      "Extracting files: 100%|███████████████████████████| 1/1 [00:21<00:00, 21.32s/it]\n"
     ]
    },
    {
     "name": "stdout",
     "output_type": "stream",
     "text": [
      "Extracting data from Annual_Financial_Information_and_Operating_Data_for_the_year_ended_06_30_2024_Document2__315_KB_.pdf\n"
     ]
    },
    {
     "name": "stderr",
     "output_type": "stream",
     "text": [
      "Uploading files: 100%|████████████████████████████| 1/1 [00:01<00:00,  1.85s/it]\n",
      "Creating extraction jobs: 100%|███████████████████| 1/1 [00:01<00:00,  1.56s/it]\n",
      "Extracting files: 100%|███████████████████████████| 1/1 [00:51<00:00, 51.89s/it]"
     ]
    },
    {
     "name": "stdout",
     "output_type": "stream",
     "text": [
      "Saved output to fs_output_1/UNIVERSITY_OF_MINNESOTA.xlsx\n",
      "Extraction complete.\n"
     ]
    },
    {
     "name": "stderr",
     "output_type": "stream",
     "text": [
      "\n"
     ]
    }
   ],
   "source": [
    "# Loop over schools\n",
    "for school in sorted(os.listdir(PDF_ROOT)):\n",
    "    school_dir = os.path.join(PDF_ROOT, school)\n",
    "    if not os.path.isdir(school_dir):\n",
    "        continue\n",
    "    print(f\"Processing school: {school}\")\n",
    "    process_school(school, school_dir)\n",
    "\n",
    "print(\"Extraction complete.\")"
   ]
  },
  {
   "cell_type": "code",
   "execution_count": null,
   "metadata": {},
   "outputs": [],
   "source": []
  },
  {
   "cell_type": "code",
   "execution_count": 56,
   "metadata": {},
   "outputs": [
    {
     "name": "stdout",
     "output_type": "stream",
     "text": [
      "Extracting data from ARIZONA_STATE_UNIVERSITY/FY_2024_Arizona_State_University_Annual_Comprehensive_Financial_Report_for_the_year_ended_06_30_2024__4.1_MB_.pdf\n"
     ]
    },
    {
     "name": "stderr",
     "output_type": "stream",
     "text": [
      "Uploading files: 100%|████████████████████████████| 1/1 [00:02<00:00,  2.18s/it]\n",
      "Creating extraction jobs: 100%|███████████████████| 1/1 [00:00<00:00,  2.11it/s]\n",
      "Extracting files: 100%|███████████████████████████| 1/1 [00:28<00:00, 28.37s/it]\n"
     ]
    },
    {
     "name": "stdout",
     "output_type": "stream",
     "text": [
      "Extracting data from ARIZONA_STATE_UNIVERSITY/FY_2024_Arizona_State_University_Continuing_Disclosure_Undertaking_for_the_year_ended_06_30_2024__160_KB_.pdf\n"
     ]
    },
    {
     "name": "stderr",
     "output_type": "stream",
     "text": [
      "Uploading files: 100%|████████████████████████████| 1/1 [00:01<00:00,  1.24s/it]\n",
      "Creating extraction jobs: 100%|███████████████████| 1/1 [00:00<00:00,  1.23it/s]\n",
      "Extracting files: 100%|███████████████████████████| 1/1 [00:15<00:00, 15.13s/it]\n"
     ]
    },
    {
     "name": "stdout",
     "output_type": "stream",
     "text": [
      "Extracting data from BRADLEY_UNIVERSITY/Annual_Financial_Information_and_Operating_Data__Rule_15c2-12__for_FY24_for_the_year_ended_05_31_2024__227_KB_.pdf\n"
     ]
    },
    {
     "name": "stderr",
     "output_type": "stream",
     "text": [
      "Uploading files: 100%|████████████████████████████| 1/1 [00:02<00:00,  2.42s/it]\n",
      "Creating extraction jobs: 100%|███████████████████| 1/1 [00:01<00:00,  1.18s/it]\n",
      "Extracting files: 100%|███████████████████████████| 1/1 [00:08<00:00,  8.14s/it]\n"
     ]
    },
    {
     "name": "stdout",
     "output_type": "stream",
     "text": [
      "Extracting data from BRADLEY_UNIVERSITY/Audited_Financial_Statements_or_ACFR__Rule_15c2-12__for_FY24_for_the_year_ended_05_31_2024__541_KB_.pdf\n"
     ]
    },
    {
     "name": "stderr",
     "output_type": "stream",
     "text": [
      "Uploading files: 100%|████████████████████████████| 1/1 [00:01<00:00,  1.11s/it]\n",
      "Creating extraction jobs: 100%|███████████████████| 1/1 [00:00<00:00,  1.49it/s]\n",
      "Extracting files: 100%|███████████████████████████| 1/1 [00:12<00:00, 12.09s/it]\n"
     ]
    },
    {
     "name": "stdout",
     "output_type": "stream",
     "text": [
      "Extracting data from CALIFORNIA_STATE_UNIVERSITY/Exhibit_1_CSU_Combined_Financial_Stmts_6-30-24_for_the_year_ended_06_30_2024__15.6_MB_.pdf\n"
     ]
    },
    {
     "name": "stderr",
     "output_type": "stream",
     "text": [
      "Uploading files: 100%|████████████████████████████| 1/1 [00:07<00:00,  7.68s/it]\n",
      "Creating extraction jobs: 100%|███████████████████| 1/1 [00:00<00:00,  1.58it/s]\n",
      "Extracting files: 100%|███████████████████████████| 1/1 [00:30<00:00, 30.49s/it]\n"
     ]
    },
    {
     "name": "stdout",
     "output_type": "stream",
     "text": [
      "Extracting data from CALIFORNIA_STATE_UNIVERSITY/Exhibit_1_CSU_Combined_Financial_Stmts_6-30-24_for_the_year_ended_06_30_2024__308_KB_.pdf\n"
     ]
    },
    {
     "name": "stderr",
     "output_type": "stream",
     "text": [
      "Uploading files: 100%|████████████████████████████| 1/1 [00:01<00:00,  1.78s/it]\n",
      "Creating extraction jobs: 100%|███████████████████| 1/1 [00:00<00:00,  1.84it/s]\n",
      "Extracting files: 100%|███████████████████████████| 1/1 [00:07<00:00,  7.67s/it]\n"
     ]
    },
    {
     "name": "stdout",
     "output_type": "stream",
     "text": [
      "Extracting data from CALIFORNIA_STATE_UNIVERSITY/Exhibit_1_DRAFT_UNAUDITED_CSU_Combined_Financial_Statements_6-30-24_for_the_year_ended_06_30_2024__1.2_MB_.pdf\n"
     ]
    },
    {
     "name": "stderr",
     "output_type": "stream",
     "text": [
      "Uploading files: 100%|████████████████████████████| 1/1 [00:01<00:00,  1.21s/it]\n",
      "Creating extraction jobs: 100%|███████████████████| 1/1 [00:00<00:00,  1.92it/s]\n",
      "Extracting files: 100%|███████████████████████████| 1/1 [00:20<00:00, 20.67s/it]\n"
     ]
    },
    {
     "name": "stdout",
     "output_type": "stream",
     "text": [
      "Extracting data from CALIFORNIA_STATE_UNIVERSITY/Exhibit_1_DRAFT_UNAUDITED_CSU_Combined_Financial_Statements_6-30-24_for_the_year_ended_06_30_2024__298_KB_.pdf\n"
     ]
    },
    {
     "name": "stderr",
     "output_type": "stream",
     "text": [
      "Uploading files: 100%|████████████████████████████| 1/1 [00:01<00:00,  1.07s/it]\n",
      "Creating extraction jobs: 100%|███████████████████| 1/1 [00:00<00:00,  2.16it/s]\n",
      "Extracting files: 100%|███████████████████████████| 1/1 [00:11<00:00, 11.95s/it]\n"
     ]
    },
    {
     "name": "stdout",
     "output_type": "stream",
     "text": [
      "Extracting data from CORNELL_UNIVERSITY/2024_Audited_Financial_Statements_for_the_year_ended_06_30_2024__788_KB_.pdf\n"
     ]
    },
    {
     "name": "stderr",
     "output_type": "stream",
     "text": [
      "Uploading files: 100%|████████████████████████████| 1/1 [00:04<00:00,  4.86s/it]\n",
      "Creating extraction jobs: 100%|███████████████████| 1/1 [00:00<00:00,  1.46it/s]\n",
      "Extracting files: 100%|███████████████████████████| 1/1 [00:18<00:00, 18.13s/it]\n"
     ]
    },
    {
     "name": "stdout",
     "output_type": "stream",
     "text": [
      "Extracting data from CORNELL_UNIVERSITY/2024_Operating_Data_for_the_year_ended_06_30_2024__109_KB_.pdf\n"
     ]
    },
    {
     "name": "stderr",
     "output_type": "stream",
     "text": [
      "Uploading files: 100%|████████████████████████████| 1/1 [00:00<00:00,  1.11it/s]\n",
      "Creating extraction jobs: 100%|███████████████████| 1/1 [00:00<00:00,  1.63it/s]\n",
      "Extracting files: 100%|███████████████████████████| 1/1 [00:09<00:00,  9.18s/it]\n"
     ]
    },
    {
     "name": "stdout",
     "output_type": "stream",
     "text": [
      "Extracting data from CORNELL_UNIVERSITY/Incorporate_OS_by_Reference_as_of_04_25_2024__2.4_MB_.pdf\n"
     ]
    },
    {
     "name": "stderr",
     "output_type": "stream",
     "text": [
      "Uploading files: 100%|████████████████████████████| 1/1 [00:01<00:00,  1.69s/it]\n",
      "Creating extraction jobs: 100%|███████████████████| 1/1 [00:00<00:00,  1.64it/s]\n",
      "Extracting files: 100%|███████████████████████████| 1/1 [00:18<00:00, 18.47s/it]\n"
     ]
    },
    {
     "name": "stdout",
     "output_type": "stream",
     "text": [
      "Extracting data from CULINARY_INSTITUTE_OF_AMERICA_THE/2024_Annual_Report_-_Corrected_for_the_year_ended_05_31_2024__130_KB_.pdf\n"
     ]
    },
    {
     "name": "stderr",
     "output_type": "stream",
     "text": [
      "Uploading files: 100%|████████████████████████████| 1/1 [00:01<00:00,  1.22s/it]\n",
      "Creating extraction jobs: 100%|███████████████████| 1/1 [00:00<00:00,  1.60it/s]\n",
      "Extracting files: 100%|███████████████████████████| 1/1 [00:11<00:00, 11.00s/it]\n"
     ]
    },
    {
     "name": "stdout",
     "output_type": "stream",
     "text": [
      "Extracting data from CULINARY_INSTITUTE_OF_AMERICA_THE/2024_Annual_Report_for_the_year_ended_05_31_2024__129_KB_.pdf\n"
     ]
    },
    {
     "name": "stderr",
     "output_type": "stream",
     "text": [
      "Uploading files: 100%|████████████████████████████| 1/1 [00:00<00:00,  1.34it/s]\n",
      "Creating extraction jobs: 100%|███████████████████| 1/1 [00:00<00:00,  2.08it/s]\n",
      "Extracting files: 100%|███████████████████████████| 1/1 [00:11<00:00, 11.86s/it]\n"
     ]
    },
    {
     "name": "stdout",
     "output_type": "stream",
     "text": [
      "Extracting data from CULINARY_INSTITUTE_OF_AMERICA_THE/2024_Audited_Financial_Statements_for_the_year_ended_05_31_2024__277_KB_.pdf\n"
     ]
    },
    {
     "name": "stderr",
     "output_type": "stream",
     "text": [
      "Uploading files: 100%|████████████████████████████| 1/1 [00:02<00:00,  2.39s/it]\n",
      "Creating extraction jobs: 100%|███████████████████| 1/1 [00:00<00:00,  1.78it/s]\n",
      "Extracting files: 100%|███████████████████████████| 1/1 [00:12<00:00, 12.17s/it]\n"
     ]
    },
    {
     "name": "stdout",
     "output_type": "stream",
     "text": [
      "Extracting data from GANNON_UNIVERSITY/Audited_Financial_Statements_for_the_year_ended_06_30_2024__786_KB_.pdf\n"
     ]
    },
    {
     "name": "stderr",
     "output_type": "stream",
     "text": [
      "Uploading files: 100%|████████████████████████████| 1/1 [00:02<00:00,  2.10s/it]\n",
      "Creating extraction jobs: 100%|███████████████████| 1/1 [00:00<00:00,  1.83it/s]\n",
      "Extracting files: 100%|███████████████████████████| 1/1 [00:10<00:00, 10.98s/it]\n"
     ]
    },
    {
     "name": "stdout",
     "output_type": "stream",
     "text": [
      "Extracting data from GANNON_UNIVERSITY/Continued_Disclosures_Fall_2024_for_the_year_ended_06_30_2024_Document1__203_KB_.pdf\n"
     ]
    },
    {
     "name": "stderr",
     "output_type": "stream",
     "text": [
      "Uploading files: 100%|████████████████████████████| 1/1 [00:01<00:00,  1.31s/it]\n",
      "Creating extraction jobs: 100%|███████████████████| 1/1 [00:00<00:00,  1.27it/s]\n",
      "Extracting files: 100%|███████████████████████████| 1/1 [00:10<00:00, 10.71s/it]\n"
     ]
    },
    {
     "name": "stdout",
     "output_type": "stream",
     "text": [
      "Extracting data from LEWIS_UNIVERSITY/Audited_Financial_Statements_for_the_year_ended_06_30_2024__430_KB_.pdf\n"
     ]
    },
    {
     "name": "stderr",
     "output_type": "stream",
     "text": [
      "Uploading files: 100%|████████████████████████████| 1/1 [00:01<00:00,  1.41s/it]\n",
      "Creating extraction jobs: 100%|███████████████████| 1/1 [00:01<00:00,  1.04s/it]\n",
      "Extracting files: 100%|███████████████████████████| 1/1 [00:15<00:00, 15.82s/it]\n"
     ]
    },
    {
     "name": "stdout",
     "output_type": "stream",
     "text": [
      "Extracting data from LEWIS_UNIVERSITY/Continuing_Disclosure_for_the_year_ended_06_30_2024__298_KB_.pdf\n"
     ]
    },
    {
     "name": "stderr",
     "output_type": "stream",
     "text": [
      "Uploading files: 100%|████████████████████████████| 1/1 [00:01<00:00,  1.08s/it]\n",
      "Creating extraction jobs: 100%|███████████████████| 1/1 [00:00<00:00,  2.04it/s]\n",
      "Extracting files: 100%|███████████████████████████| 1/1 [00:11<00:00, 11.58s/it]\n"
     ]
    },
    {
     "name": "stdout",
     "output_type": "stream",
     "text": [
      "Extracting data from MICHIGAN_STATE_UNIVERSITY/Updates_of_Tables_of_Operating_Information_for_the_year_ended_06_30_2024_Document1__143_KB_.pdf\n"
     ]
    },
    {
     "name": "stderr",
     "output_type": "stream",
     "text": [
      "Uploading files: 100%|████████████████████████████| 1/1 [00:00<00:00,  1.24it/s]\n",
      "Creating extraction jobs: 100%|███████████████████| 1/1 [00:00<00:00,  1.64it/s]\n",
      "Extracting files: 100%|███████████████████████████| 1/1 [00:09<00:00,  9.31s/it]\n"
     ]
    },
    {
     "name": "stdout",
     "output_type": "stream",
     "text": [
      "Extracting data from MICHIGAN_STATE_UNIVERSITY/Updates_of_Tables_of_Operating_Information_for_the_year_ended_06_30_2024_Document2__8.4_MB_.pdf\n"
     ]
    },
    {
     "name": "stderr",
     "output_type": "stream",
     "text": [
      "Uploading files: 100%|████████████████████████████| 1/1 [00:03<00:00,  3.84s/it]\n",
      "Creating extraction jobs: 100%|███████████████████| 1/1 [00:01<00:00,  1.04s/it]\n",
      "Extracting files: 100%|███████████████████████████| 1/1 [00:39<00:00, 39.54s/it]\n"
     ]
    },
    {
     "name": "stdout",
     "output_type": "stream",
     "text": [
      "Extracting data from MOLLOY_COLLEGE/Financial_Operating_Filing_for_the_year_ended_06_30_2024_Document1__304_KB_.pdf\n"
     ]
    },
    {
     "name": "stderr",
     "output_type": "stream",
     "text": [
      "Uploading files: 100%|████████████████████████████| 1/1 [00:02<00:00,  2.71s/it]\n",
      "Creating extraction jobs: 100%|███████████████████| 1/1 [00:00<00:00,  2.24it/s]\n",
      "Extracting files: 100%|███████████████████████████| 1/1 [00:19<00:00, 19.87s/it]\n"
     ]
    },
    {
     "name": "stdout",
     "output_type": "stream",
     "text": [
      "Extracting data from MOLLOY_COLLEGE/Financial_Operating_Filing_for_the_year_ended_06_30_2024_Document2__142_KB_.pdf\n"
     ]
    },
    {
     "name": "stderr",
     "output_type": "stream",
     "text": [
      "Uploading files: 100%|████████████████████████████| 1/1 [00:01<00:00,  1.44s/it]\n",
      "Creating extraction jobs: 100%|███████████████████| 1/1 [00:01<00:00,  1.71s/it]\n",
      "Extracting files: 100%|███████████████████████████| 1/1 [00:10<00:00, 10.43s/it]\n"
     ]
    },
    {
     "name": "stdout",
     "output_type": "stream",
     "text": [
      "Extracting data from MOUNT_ST_MARY_S_UNIVERSITY_INC/Audited_Annual_Financials_for_the_year_ended_06_30_2024_Document1__29.1_MB_.pdf\n"
     ]
    },
    {
     "name": "stderr",
     "output_type": "stream",
     "text": [
      "Uploading files: 100%|████████████████████████████| 1/1 [00:18<00:00, 18.39s/it]\n",
      "Creating extraction jobs: 100%|███████████████████| 1/1 [00:00<00:00,  1.97it/s]\n",
      "Extracting files: 100%|███████████████████████████| 1/1 [00:23<00:00, 23.96s/it]\n"
     ]
    },
    {
     "name": "stdout",
     "output_type": "stream",
     "text": [
      "Extracting data from MOUNT_ST_MARY_S_UNIVERSITY_INC/Audited_Annual_Financials_for_the_year_ended_06_30_2024_Document2__5_MB_.pdf\n"
     ]
    },
    {
     "name": "stderr",
     "output_type": "stream",
     "text": [
      "Uploading files: 100%|████████████████████████████| 1/1 [00:02<00:00,  2.31s/it]\n",
      "Creating extraction jobs: 100%|███████████████████| 1/1 [00:00<00:00,  1.08it/s]\n",
      "Extracting files: 100%|███████████████████████████| 1/1 [00:29<00:00, 29.32s/it]\n"
     ]
    },
    {
     "name": "stdout",
     "output_type": "stream",
     "text": [
      "Extracting data from NEW_YORK_UNIVERSITY/2024_Certificate_of_Compliance_-_Audit_for_the_year_ended_06_30_2024__330_KB_.pdf\n"
     ]
    },
    {
     "name": "stderr",
     "output_type": "stream",
     "text": [
      "Uploading files: 100%|████████████████████████████| 1/1 [00:01<00:00,  1.07s/it]\n",
      "Creating extraction jobs: 100%|███████████████████| 1/1 [00:02<00:00,  2.52s/it]\n",
      "Extracting files: 100%|███████████████████████████| 1/1 [00:07<00:00,  7.98s/it]\n"
     ]
    },
    {
     "name": "stdout",
     "output_type": "stream",
     "text": [
      "Extracting data from NEW_YORK_UNIVERSITY/2024_Certificate_of_Compliance_for_the_year_ended_06_30_2024__323_KB_.pdf\n"
     ]
    },
    {
     "name": "stderr",
     "output_type": "stream",
     "text": [
      "Uploading files: 100%|████████████████████████████| 1/1 [00:01<00:00,  1.08s/it]\n",
      "Creating extraction jobs: 100%|███████████████████| 1/1 [00:00<00:00,  2.19it/s]\n",
      "Extracting files: 100%|███████████████████████████| 1/1 [00:06<00:00,  6.91s/it]\n"
     ]
    },
    {
     "name": "stdout",
     "output_type": "stream",
     "text": [
      "Extracting data from NEW_YORK_UNIVERSITY/2024_Consolidated_Financial_Statements_New_York_University_for_the_year_ended_06_30_2024__466_KB_.pdf\n"
     ]
    },
    {
     "name": "stderr",
     "output_type": "stream",
     "text": [
      "Uploading files: 100%|████████████████████████████| 1/1 [00:01<00:00,  1.10s/it]\n",
      "Creating extraction jobs: 100%|███████████████████| 1/1 [00:00<00:00,  2.21it/s]\n",
      "Extracting files: 100%|███████████████████████████| 1/1 [00:16<00:00, 16.51s/it]\n"
     ]
    },
    {
     "name": "stdout",
     "output_type": "stream",
     "text": [
      "Extracting data from NEW_YORK_UNIVERSITY/2024_Operating_Data_for_the_year_ended_06_30_2024__244_KB_.pdf\n"
     ]
    },
    {
     "name": "stderr",
     "output_type": "stream",
     "text": [
      "Uploading files: 100%|████████████████████████████| 1/1 [00:01<00:00,  1.07s/it]\n",
      "Creating extraction jobs: 100%|███████████████████| 1/1 [00:00<00:00,  1.58it/s]\n",
      "Extracting files: 100%|███████████████████████████| 1/1 [00:07<00:00,  7.42s/it]\n"
     ]
    },
    {
     "name": "stdout",
     "output_type": "stream",
     "text": [
      "Extracting data from OHIO_STATE_UNIVERSITY_THE/The_Ohio_State_University_Annual_Update_to_Bondholders_for_the_year_ended_06_30_2024__577_KB_.pdf\n"
     ]
    },
    {
     "name": "stderr",
     "output_type": "stream",
     "text": [
      "Uploading files: 100%|████████████████████████████| 1/1 [00:01<00:00,  1.21s/it]\n",
      "Creating extraction jobs: 100%|███████████████████| 1/1 [00:00<00:00,  1.33it/s]\n",
      "Extracting files: 100%|███████████████████████████| 1/1 [00:11<00:00, 11.69s/it]\n"
     ]
    },
    {
     "name": "stdout",
     "output_type": "stream",
     "text": [
      "Extracting data from OHIO_STATE_UNIVERSITY_THE/The_Ohio_State_University_Quarterly_Update_to_Bondholders_for_the_quarter_ended_03_31_2024__577_KB_.pdf\n"
     ]
    },
    {
     "name": "stderr",
     "output_type": "stream",
     "text": [
      "Uploading files: 100%|████████████████████████████| 1/1 [00:01<00:00,  1.14s/it]\n",
      "Creating extraction jobs: 100%|███████████████████| 1/1 [00:00<00:00,  1.74it/s]\n",
      "Extracting files: 100%|███████████████████████████| 1/1 [00:06<00:00,  6.61s/it]\n"
     ]
    },
    {
     "name": "stdout",
     "output_type": "stream",
     "text": [
      "Extracting data from OHIO_STATE_UNIVERSITY_THE/The_Ohio_State_University_Quarterly_Update_to_Bondholders_for_the_quarter_ended_06_30_2024__576_KB_.pdf\n"
     ]
    },
    {
     "name": "stderr",
     "output_type": "stream",
     "text": [
      "Uploading files: 100%|████████████████████████████| 1/1 [00:01<00:00,  1.55s/it]\n",
      "Creating extraction jobs: 100%|███████████████████| 1/1 [00:00<00:00,  1.58it/s]\n",
      "Extracting files: 100%|███████████████████████████| 1/1 [00:12<00:00, 12.58s/it]\n"
     ]
    },
    {
     "name": "stdout",
     "output_type": "stream",
     "text": [
      "Extracting data from OHIO_STATE_UNIVERSITY_THE/The_Ohio_State_University_Quarterly_Update_to_Bondholders_for_the_quarter_ended_09_30_2024__574_KB_.pdf\n"
     ]
    },
    {
     "name": "stderr",
     "output_type": "stream",
     "text": [
      "Uploading files: 100%|████████████████████████████| 1/1 [00:01<00:00,  1.26s/it]\n",
      "Creating extraction jobs: 100%|███████████████████| 1/1 [00:03<00:00,  3.99s/it]\n",
      "Extracting files: 100%|███████████████████████████| 1/1 [00:07<00:00,  7.31s/it]\n"
     ]
    },
    {
     "name": "stdout",
     "output_type": "stream",
     "text": [
      "Extracting data from OHIO_STATE_UNIVERSITY_THE/The_Ohio_State_University_Quarterly_Update_to_Bondholders_for_the_quarter_ended_12_31_2024__815_KB_.pdf\n"
     ]
    },
    {
     "name": "stderr",
     "output_type": "stream",
     "text": [
      "Uploading files: 100%|████████████████████████████| 1/1 [00:01<00:00,  1.38s/it]\n",
      "Creating extraction jobs: 100%|███████████████████| 1/1 [00:00<00:00,  1.09it/s]\n",
      "Extracting files: 100%|███████████████████████████| 1/1 [00:09<00:00,  9.30s/it]\n"
     ]
    },
    {
     "name": "stdout",
     "output_type": "stream",
     "text": [
      "Extracting data from PRESIDENT___FELLOWS_OF_HARVARD_COLLEGE/Harvard_University_Audited_Financial_Information_for_the_year_ended_06_30_2024__10.6_MB_.pdf\n"
     ]
    },
    {
     "name": "stderr",
     "output_type": "stream",
     "text": [
      "Uploading files: 100%|████████████████████████████| 1/1 [00:03<00:00,  3.51s/it]\n",
      "Creating extraction jobs: 100%|███████████████████| 1/1 [00:00<00:00,  1.46it/s]\n",
      "Extracting files: 100%|███████████████████████████| 1/1 [00:29<00:00, 29.84s/it]\n"
     ]
    },
    {
     "name": "stdout",
     "output_type": "stream",
     "text": [
      "Extracting data from PRESIDENT___FELLOWS_OF_HARVARD_COLLEGE/Harvard_University_Financial_Report_for_the_year_ended_06_30_2024__10.6_MB_.pdf\n"
     ]
    },
    {
     "name": "stderr",
     "output_type": "stream",
     "text": [
      "Uploading files: 100%|████████████████████████████| 1/1 [00:04<00:00,  4.99s/it]\n",
      "Creating extraction jobs: 100%|███████████████████| 1/1 [00:00<00:00,  1.31it/s]\n",
      "Extracting files: 100%|███████████████████████████| 1/1 [00:20<00:00, 20.30s/it]\n"
     ]
    },
    {
     "name": "stdout",
     "output_type": "stream",
     "text": [
      "Extracting data from PRESIDENT___FELLOWS_OF_HARVARD_COLLEGE/Harvard_University_Student_Applications_and_Enrollment_for_the_year_ended_06_30_2024__557_KB_.pdf\n"
     ]
    },
    {
     "name": "stderr",
     "output_type": "stream",
     "text": [
      "Uploading files: 100%|████████████████████████████| 1/1 [00:01<00:00,  1.04s/it]\n",
      "Creating extraction jobs: 100%|███████████████████| 1/1 [00:00<00:00,  2.13it/s]\n",
      "Extracting files: 100%|███████████████████████████| 1/1 [01:09<00:00, 69.18s/it]\n"
     ]
    },
    {
     "name": "stdout",
     "output_type": "stream",
     "text": [
      "Extracting data from STEVENSON_UNIVERSITY_INC/2024_Annual_Compliance_Certificate__EagleBank__for_the_year_ended_06_30_2024__3_MB_.pdf\n"
     ]
    },
    {
     "name": "stderr",
     "output_type": "stream",
     "text": [
      "Uploading files: 100%|████████████████████████████| 1/1 [00:03<00:00,  3.71s/it]\n",
      "Creating extraction jobs: 100%|███████████████████| 1/1 [00:00<00:00,  2.13it/s]\n",
      "Extracting files: 100%|███████████████████████████| 1/1 [00:13<00:00, 13.02s/it]\n"
     ]
    },
    {
     "name": "stdout",
     "output_type": "stream",
     "text": [
      "Extracting data from STEVENSON_UNIVERSITY_INC/2024_Annual_Compliance_Certificate_for_the_year_ended_06_30_2024__2.8_MB_.pdf\n"
     ]
    },
    {
     "name": "stderr",
     "output_type": "stream",
     "text": [
      "Uploading files: 100%|████████████████████████████| 1/1 [00:01<00:00,  1.51s/it]\n",
      "Creating extraction jobs: 100%|███████████████████| 1/1 [00:00<00:00,  1.62it/s]\n",
      "Extracting files: 100%|███████████████████████████| 1/1 [00:12<00:00, 12.04s/it]\n"
     ]
    },
    {
     "name": "stdout",
     "output_type": "stream",
     "text": [
      "Extracting data from STEVENSON_UNIVERSITY_INC/2024_Audited_Financial_Statements_for_the_year_ended_06_30_2024__348_KB_.pdf\n"
     ]
    },
    {
     "name": "stderr",
     "output_type": "stream",
     "text": [
      "Uploading files: 100%|████████████████████████████| 1/1 [00:01<00:00,  1.06s/it]\n",
      "Creating extraction jobs: 100%|███████████████████| 1/1 [00:01<00:00,  1.09s/it]\n",
      "Extracting files: 100%|███████████████████████████| 1/1 [00:17<00:00, 17.14s/it]\n"
     ]
    },
    {
     "name": "stdout",
     "output_type": "stream",
     "text": [
      "Extracting data from STEVENSON_UNIVERSITY_INC/2024_Operating_Data_for_the_year_ended_06_30_2024__196_KB_.pdf\n"
     ]
    },
    {
     "name": "stderr",
     "output_type": "stream",
     "text": [
      "Uploading files: 100%|████████████████████████████| 1/1 [00:01<00:00,  1.19s/it]\n",
      "Creating extraction jobs: 100%|███████████████████| 1/1 [00:00<00:00,  2.07it/s]\n",
      "Extracting files: 100%|███████████████████████████| 1/1 [00:12<00:00, 12.95s/it]\n"
     ]
    },
    {
     "name": "stdout",
     "output_type": "stream",
     "text": [
      "Extracting data from STEVENS_INSTITUTE_OF_TECHNOLOGY/Annual_Report_for_the_year_ended_06_30_2024__216_KB_.pdf\n"
     ]
    },
    {
     "name": "stderr",
     "output_type": "stream",
     "text": [
      "Uploading files: 100%|████████████████████████████| 1/1 [00:00<00:00,  1.00it/s]\n",
      "Creating extraction jobs: 100%|███████████████████| 1/1 [00:00<00:00,  1.78it/s]\n",
      "Extracting files: 100%|███████████████████████████| 1/1 [00:10<00:00, 10.49s/it]\n"
     ]
    },
    {
     "name": "stdout",
     "output_type": "stream",
     "text": [
      "Extracting data from STEVENS_INSTITUTE_OF_TECHNOLOGY/Audit_Financial_Statement_for_the_year_ended_06_30_2024__626_KB_.pdf\n"
     ]
    },
    {
     "name": "stderr",
     "output_type": "stream",
     "text": [
      "Uploading files: 100%|████████████████████████████| 1/1 [00:01<00:00,  1.14s/it]\n",
      "Creating extraction jobs: 100%|███████████████████| 1/1 [00:00<00:00,  2.17it/s]\n",
      "Extracting files: 100%|███████████████████████████| 1/1 [00:16<00:00, 16.01s/it]\n"
     ]
    },
    {
     "name": "stdout",
     "output_type": "stream",
     "text": [
      "Extracting data from ST_LOUIS_UNIVERSITY_US/Amendment_to_Continuing_Disclosure_Undertaking_dated_01_05_2024__392_KB_.pdf\n"
     ]
    },
    {
     "name": "stderr",
     "output_type": "stream",
     "text": [
      "Uploading files: 100%|████████████████████████████| 1/1 [00:01<00:00,  1.22s/it]\n",
      "Creating extraction jobs: 100%|███████████████████| 1/1 [00:00<00:00,  1.27it/s]\n",
      "Extracting files: 100%|███████████████████████████| 1/1 [00:07<00:00,  7.29s/it]\n"
     ]
    },
    {
     "name": "stdout",
     "output_type": "stream",
     "text": [
      "Extracting data from ST_LOUIS_UNIVERSITY_US/Audited_Financials_and_Operating_Data_for_the_year_ended_06_30_2024_Document1__561_KB_.pdf\n"
     ]
    },
    {
     "name": "stderr",
     "output_type": "stream",
     "text": [
      "Uploading files: 100%|████████████████████████████| 1/1 [00:01<00:00,  1.73s/it]\n",
      "Creating extraction jobs: 100%|███████████████████| 1/1 [00:05<00:00,  5.06s/it]\n",
      "Extracting files: 100%|███████████████████████████| 1/1 [00:11<00:00, 12.00s/it]\n"
     ]
    },
    {
     "name": "stdout",
     "output_type": "stream",
     "text": [
      "Extracting data from ST_LOUIS_UNIVERSITY_US/Audited_Financials_and_Operating_Data_for_the_year_ended_06_30_2024_Document2__174_KB_.pdf\n"
     ]
    },
    {
     "name": "stderr",
     "output_type": "stream",
     "text": [
      "Uploading files: 100%|████████████████████████████| 1/1 [00:00<00:00,  1.06it/s]\n",
      "Creating extraction jobs: 100%|███████████████████| 1/1 [00:00<00:00,  1.89it/s]\n",
      "Extracting files: 100%|███████████████████████████| 1/1 [00:40<00:00, 40.43s/it]\n"
     ]
    },
    {
     "name": "stdout",
     "output_type": "stream",
     "text": [
      "Extracting data from TEXAS_A_M_UNIVERSITY/FY_2024_Continuing_Disclosure_Annual_Report_for_the_year_ended_08_31_2024__2.3_MB_.pdf\n"
     ]
    },
    {
     "name": "stderr",
     "output_type": "stream",
     "text": [
      "Uploading files: 100%|████████████████████████████| 1/1 [00:01<00:00,  1.99s/it]\n",
      "Creating extraction jobs: 100%|███████████████████| 1/1 [00:00<00:00,  1.16it/s]\n",
      "Extracting files: 100%|███████████████████████████| 1/1 [00:24<00:00, 24.56s/it]\n"
     ]
    },
    {
     "name": "stdout",
     "output_type": "stream",
     "text": [
      "Extracting data from TEXAS_A_M_UNIVERSITY/Texas_A_M_University_System_Unaudited_Annual_Financial_Reports_for_the_year_ended_08_31_2024__2_MB_.pdf\n"
     ]
    },
    {
     "name": "stderr",
     "output_type": "stream",
     "text": [
      "Uploading files: 100%|████████████████████████████| 1/1 [00:01<00:00,  1.33s/it]\n",
      "Creating extraction jobs: 100%|███████████████████| 1/1 [00:00<00:00,  1.82it/s]\n",
      "Extracting files: 100%|███████████████████████████| 1/1 [00:31<00:00, 31.15s/it]\n"
     ]
    },
    {
     "name": "stdout",
     "output_type": "stream",
     "text": [
      "Extracting data from UNIVERSITY_OF_COLORADO/Financial_and_Operating_Data__Fiscal_Year_2024_for_the_year_ended_06_30_2024__278_KB_.pdf\n"
     ]
    },
    {
     "name": "stderr",
     "output_type": "stream",
     "text": [
      "Uploading files: 100%|████████████████████████████| 1/1 [00:02<00:00,  2.08s/it]\n",
      "Creating extraction jobs: 100%|███████████████████| 1/1 [00:01<00:00,  1.39s/it]\n",
      "Extracting files: 100%|███████████████████████████| 1/1 [00:10<00:00, 10.47s/it]\n"
     ]
    },
    {
     "name": "stdout",
     "output_type": "stream",
     "text": [
      "Extracting data from UNIVERSITY_OF_MINNESOTA/Annual_Financial_Information_and_Operating_Data_for_the_year_ended_06_30_2024_Document1__1.3_MB_.pdf\n"
     ]
    },
    {
     "name": "stderr",
     "output_type": "stream",
     "text": [
      "Uploading files: 100%|████████████████████████████| 1/1 [00:01<00:00,  1.14s/it]\n",
      "Creating extraction jobs: 100%|███████████████████| 1/1 [00:00<00:00,  1.80it/s]\n",
      "Extracting files: 100%|███████████████████████████| 1/1 [00:16<00:00, 16.52s/it]\n"
     ]
    },
    {
     "name": "stdout",
     "output_type": "stream",
     "text": [
      "Extracting data from UNIVERSITY_OF_MINNESOTA/Annual_Financial_Information_and_Operating_Data_for_the_year_ended_06_30_2024_Document2__315_KB_.pdf\n"
     ]
    },
    {
     "name": "stderr",
     "output_type": "stream",
     "text": [
      "Uploading files: 100%|████████████████████████████| 1/1 [00:01<00:00,  1.70s/it]\n",
      "Creating extraction jobs: 100%|███████████████████| 1/1 [00:00<00:00,  1.94it/s]\n",
      "Extracting files: 100%|███████████████████████████| 1/1 [00:15<00:00, 15.78s/it]"
     ]
    },
    {
     "name": "stdout",
     "output_type": "stream",
     "text": [
      "All schools written to fs_output_1/all_schools.xlsx\n"
     ]
    },
    {
     "name": "stderr",
     "output_type": "stream",
     "text": [
      "\n"
     ]
    }
   ],
   "source": [
    "OUTPUT_FILE = os.path.join(OUTPUT_ROOT, \"all_schools.xlsx\")\n",
    "\n",
    "writer = pd.ExcelWriter(OUTPUT_FILE, engine=\"openpyxl\")\n",
    "\n",
    "for school in sorted(os.listdir(PDF_ROOT)):\n",
    "    school_dir = os.path.join(PDF_ROOT, school)\n",
    "    if not os.path.isdir(school_dir):\n",
    "        continue\n",
    "\n",
    "    combined   = {}\n",
    "    first_keys = None\n",
    "    for fname in sorted(os.listdir(school_dir)):\n",
    "        if not fname.lower().endswith(\".pdf\"):\n",
    "            continue\n",
    "        path = os.path.join(school_dir, fname)\n",
    "        print(f\"Extracting data from {school}/{fname}\")\n",
    "        try:\n",
    "            run  = agent.extract(path)\n",
    "            data = run.data or {}\n",
    "            if first_keys is None:\n",
    "                first_keys = list(data.keys())\n",
    "                combined  = {k: None for k in first_keys}\n",
    "            for k, v in data.items():\n",
    "                if v not in (None, \"\", []):\n",
    "                    combined[k] = v\n",
    "        except Exception as err:\n",
    "            print(f\"Skipped {fname}: {err}\")\n",
    "\n",
    "    if first_keys:\n",
    "        df = pd.DataFrame.from_dict(combined, orient=\"index\", columns=[\"2024-25\"])\n",
    "        df.index.name = \"Metric\"\n",
    "        sheet_name = school[:31]\n",
    "        df.to_excel(writer, sheet_name=sheet_name)\n",
    "    else:\n",
    "        print(f\"No data for {school}.\")\n",
    "\n",
    "writer.close()\n",
    "print(f\"All schools written to {OUTPUT_FILE}\")"
   ]
  },
  {
   "cell_type": "code",
   "execution_count": 59,
   "metadata": {},
   "outputs": [
    {
     "name": "stdout",
     "output_type": "stream",
     "text": [
      "Saved: fs_output_1/all_schools_combined.xlsx\n"
     ]
    }
   ],
   "source": [
    "#Combine all the tabs into one sheet if wanted\n",
    "file_path   = \"fs_output_1/all_schools.xlsx\"\n",
    "output_path = \"fs_output_1/all_schools_combined.xlsx\"\n",
    "\n",
    "raw = pd.read_excel(file_path, sheet_name=None, index_col=0)\n",
    "\n",
    "school_series = {\n",
    "    school: df.iloc[:, 0]                      # first (only) value column\n",
    "    for school, df in raw.items()\n",
    "}\n",
    "\n",
    "df_comb = pd.DataFrame(school_series).T\n",
    "df_comb.index.name = \"School\"                 \n",
    "df_comb.insert(0, \"Year\", \"2024‑2025\")\n",
    "\n",
    "# df_comb.loc['Texas_A&M', ['Total_Headcount','Undergraduate_Headcount']] = \\\n",
    "#     df_comb.loc['Texas_A&M', ['Undergraduate_Headcount','Total_Headcount']].values\n",
    "\n",
    "# df_comb.loc['California_state_university', 'Undergraduate_Headcount'] = None \n",
    "with pd.ExcelWriter(output_path, engine=\"openpyxl\") as writer:\n",
    "    df_comb.to_excel(writer, sheet_name=\"Combined\")\n",
    "\n",
    "print(\"Saved:\", output_path)"
   ]
  },
  {
   "cell_type": "code",
   "execution_count": 62,
   "metadata": {},
   "outputs": [],
   "source": [
    "# 1. Read the existing Excel file\n",
    "df_all = pd.read_excel('fs_output_1/all_schools_combined.xlsx')\n",
    "\n",
    "# 2. Each row in 'financial_position' is a dict → expand to columns\n",
    "fp_expanded = df_all['financial_position'].apply(pd.Series)\n",
    "# (Optional) Add a prefix so you know these came from FP\n",
    "fp_expanded = fp_expanded.add_prefix('FP_')\n",
    "\n",
    "# 3. Each row in 'statement_of_activities' is a dict → expand to columns\n",
    "soa_expanded = df_all['statement_of_activities'].apply(pd.Series)\n",
    "soa_expanded = soa_expanded.add_prefix('SOA_')\n",
    "\n",
    "# 4. Concatenate the original 'School' & 'Year' columns with the two new DataFrames\n",
    "expanded_df = pd.concat([df_all[['School', 'Year']], fp_expanded, soa_expanded], axis=1)\n",
    "\n",
    "# 5. (Optional) Save back out to a new Excel file\n",
    "expanded_df.to_excel('all_schools_expanded.xlsx', index=False)                    "
   ]
  },
  {
   "cell_type": "code",
   "execution_count": 64,
   "metadata": {},
   "outputs": [
    {
     "name": "stdout",
     "output_type": "stream",
     "text": [
      "                            School       Year  FP_year  \\\n",
      "0         ARIZONA_STATE_UNIVERSITY  2024‑2025   2024.0   \n",
      "1               BRADLEY_UNIVERSITY  2024‑2025   2024.0   \n",
      "2      CALIFORNIA_STATE_UNIVERSITY  2024‑2025   2024.0   \n",
      "3               CORNELL_UNIVERSITY  2024‑2025   2024.0   \n",
      "4  CULINARY_INSTITUTE_OF_AMERICA_T  2024‑2025   2024.0   \n",
      "\n",
      "   FP_cash_and_short_term_investments  FP_student_receivables_net  \\\n",
      "0                            645869.0                         NaN   \n",
      "1                             17444.0                       678.0   \n",
      "2                           5793096.0                         NaN   \n",
      "3                            775832.0                         NaN   \n",
      "4                          54216000.0                   4477927.0   \n",
      "\n",
      "   FP_accounts_receivable  FP_contributions_receivable  FP_notes_receivable  \\\n",
      "0                462300.0                      20285.0                  NaN   \n",
      "1                  3909.0                       2041.0                  NaN   \n",
      "2                444940.0                          NaN             511581.0   \n",
      "3                743141.0                     803204.0                  NaN   \n",
      "4                271129.0                   30713671.0              62591.0   \n",
      "\n",
      "   FP_loans_receivable_net  FP_other_assets  ...  SOA_compensation  \\\n",
      "0                   2649.0          67637.0  ...               NaN   \n",
      "1                   1379.0           1370.0  ...           91913.0   \n",
      "2                  29262.0         108490.0  ...               NaN   \n",
      "3                      NaN         162168.0  ...         3589676.0   \n",
      "4                  62591.0        3057834.0  ...        77617067.0   \n",
      "\n",
      "   SOA_fringe_benefits  SOA_supplies_services_general  SOA_depreciation  \\\n",
      "0                  NaN                            NaN       231719000.0   \n",
      "1              15934.0                        25714.0           13530.0   \n",
      "2                  NaN                            NaN               NaN   \n",
      "3                  NaN                      1288146.0          308838.0   \n",
      "4           33522075.0                     27544847.0        10112852.0   \n",
      "\n",
      "   SOA_interest  SOA_utilities_occupancy  SOA_total_expenses  \\\n",
      "0    90472000.0                      NaN        3.787961e+09   \n",
      "1        5401.0                  18417.0        1.553870e+05   \n",
      "2   560948096.0                      NaN        2.527434e+09   \n",
      "3     6050000.0                      NaN        5.411033e+06   \n",
      "4     4767946.0                7420327.0        1.608852e+08   \n",
      "\n",
      "   SOA_change_in_net_assets_with_donor_restrictions  \\\n",
      "0                                               NaN   \n",
      "1                                            7807.0   \n",
      "2                                               NaN   \n",
      "3                                          252088.0   \n",
      "4                                         7309529.0   \n",
      "\n",
      "   SOA_change_in_net_assets_without_donor_restrictions  \\\n",
      "0                                                NaN     \n",
      "1                                            10123.0     \n",
      "2                                                NaN     \n",
      "3                                            71686.0     \n",
      "4                                         32013163.0     \n",
      "\n",
      "   SOA_total_change_in_net_assets  \n",
      "0                     194089000.0  \n",
      "1                         17930.0  \n",
      "2                             NaN  \n",
      "3                        323774.0  \n",
      "4                      39322692.0  \n",
      "\n",
      "[5 rows x 58 columns]\n"
     ]
    }
   ],
   "source": [
    "import pandas as pd\n",
    "import ast\n",
    "\n",
    "# 1) Load the combined file\n",
    "df_all = pd.read_excel('fs_output_1/all_schools_combined.xlsx')\n",
    "\n",
    "# 2) Convert each “dict‐string” back into a Python dict.\n",
    "#    If the cell is already a dict (unlikely after Excel→read_excel), leave it as-is.\n",
    "def to_dict_if_str(x):\n",
    "    if isinstance(x, str):\n",
    "        try:\n",
    "            # literal_eval will transform a string like \"{'year': 2024, ...}\" into a dict\n",
    "            return ast.literal_eval(x)\n",
    "        except Exception:\n",
    "            # If literal_eval fails for any reason, just return x unchanged\n",
    "            return x\n",
    "    else:\n",
    "        return x\n",
    "\n",
    "df_all['financial_position'] = df_all['financial_position'].apply(to_dict_if_str)\n",
    "df_all['statement_of_activities'] = df_all['statement_of_activities'].apply(to_dict_if_str)\n",
    "\n",
    "# 3) Now expand each column of real dicts into separate columns:\n",
    "fp_expanded = df_all['financial_position'].apply(pd.Series)\n",
    "fp_expanded = fp_expanded.add_prefix('FP_')\n",
    "\n",
    "soa_expanded = df_all['statement_of_activities'].apply(pd.Series)\n",
    "soa_expanded = soa_expanded.add_prefix('SOA_')\n",
    "\n",
    "# 4) Concatenate “School” & “Year” with the two expanded pieces\n",
    "expanded_df = pd.concat([df_all[['School', 'Year']], fp_expanded, soa_expanded], axis=1)\n",
    "\n",
    "# 5) Inspect the first few rows:\n",
    "print(expanded_df.head())\n",
    "\n",
    "# 6) (Optional) Save out to a new Excel so you can open it in Excel directly:\n",
    "expanded_df.to_excel('all_schools_expanded.xlsx', index=False)"
   ]
  },
  {
   "cell_type": "code",
   "execution_count": 63,
   "metadata": {},
   "outputs": [
    {
     "data": {
      "text/plain": [
       "<bound method NDFrame.head of                              School       Year  \\\n",
       "0          ARIZONA_STATE_UNIVERSITY  2024‑2025   \n",
       "1                BRADLEY_UNIVERSITY  2024‑2025   \n",
       "2       CALIFORNIA_STATE_UNIVERSITY  2024‑2025   \n",
       "3                CORNELL_UNIVERSITY  2024‑2025   \n",
       "4   CULINARY_INSTITUTE_OF_AMERICA_T  2024‑2025   \n",
       "5                 GANNON_UNIVERSITY  2024‑2025   \n",
       "6                  LEWIS_UNIVERSITY  2024‑2025   \n",
       "7         MICHIGAN_STATE_UNIVERSITY  2024‑2025   \n",
       "8                    MOLLOY_COLLEGE  2024‑2025   \n",
       "9    MOUNT_ST_MARY_S_UNIVERSITY_INC  2024‑2025   \n",
       "10              NEW_YORK_UNIVERSITY  2024‑2025   \n",
       "11        OHIO_STATE_UNIVERSITY_THE  2024‑2025   \n",
       "12  PRESIDENT___FELLOWS_OF_HARVARD_  2024‑2025   \n",
       "13         STEVENSON_UNIVERSITY_INC  2024‑2025   \n",
       "14  STEVENS_INSTITUTE_OF_TECHNOLOGY  2024‑2025   \n",
       "15           ST_LOUIS_UNIVERSITY_US  2024‑2025   \n",
       "16             TEXAS_A_M_UNIVERSITY  2024‑2025   \n",
       "17           UNIVERSITY_OF_COLORADO  2024‑2025   \n",
       "18          UNIVERSITY_OF_MINNESOTA  2024‑2025   \n",
       "\n",
       "                                                 FP_0  \\\n",
       "0   {'year': 2024, 'cash_and_short_term_investment...   \n",
       "1   {'year': 2024, 'cash_and_short_term_investment...   \n",
       "2   {'year': 2024, 'cash_and_short_term_investment...   \n",
       "3   {'year': 2024, 'cash_and_short_term_investment...   \n",
       "4   {'year': 2024, 'cash_and_short_term_investment...   \n",
       "5   {'year': 2024, 'cash_and_short_term_investment...   \n",
       "6   {'year': 2024, 'cash_and_short_term_investment...   \n",
       "7   {'year': 2024, 'cash_and_short_term_investment...   \n",
       "8   {'year': 2024, 'cash_and_short_term_investment...   \n",
       "9   {'year': 2024, 'cash_and_short_term_investment...   \n",
       "10  {'year': 2024, 'cash_and_short_term_investment...   \n",
       "11  {'year': 2024, 'cash_and_short_term_investment...   \n",
       "12  {'year': 2024, 'cash_and_short_term_investment...   \n",
       "13  {'year': 2024, 'cash_and_short_term_investment...   \n",
       "14  {'year': 2024, 'cash_and_short_term_investment...   \n",
       "15  {'year': 2024, 'cash_and_short_term_investment...   \n",
       "16  {'year': 2024, 'cash_and_short_term_investment...   \n",
       "17  {'year': 2024, 'cash_and_short_term_investment...   \n",
       "18  {'year': 2024, 'cash_and_short_term_investment...   \n",
       "\n",
       "                                                SOA_0  \n",
       "0   {'year': 2024, 'tuition_and_fees_net': 2028283...  \n",
       "1   {'year': 2024, 'tuition_and_fees_net': 84568, ...  \n",
       "2   {'year': 2024, 'tuition_and_fees_net': 3393236...  \n",
       "3   {'year': 2024, 'tuition_and_fees_net': 904425,...  \n",
       "4   {'year': 2024, 'tuition_and_fees_net': 1419732...  \n",
       "5   {'year': 2024, 'tuition_and_fees_net': 7703900...  \n",
       "6   {'year': 2024, 'tuition_and_fees_net': 5114987...  \n",
       "7   {'year': 2024, 'tuition_and_fees_net': 9310000...  \n",
       "8   {'year': 2024, 'tuition_and_fees_net': 114154,...  \n",
       "9   {'year': 2024, 'tuition_and_fees_net': 5637519...  \n",
       "10  {'year': 2024, 'tuition_and_fees_net': None, '...  \n",
       "11  {'year': 2024, 'tuition_and_fees_net': 1094229...  \n",
       "12  {'year': 2024, 'tuition_and_fees_net': 1382904...  \n",
       "13  {'year': 2024, 'tuition_and_fees_net': None, '...  \n",
       "14  {'year': 2024, 'tuition_and_fees_net': 253748,...  \n",
       "15  {'year': 2024, 'tuition_and_fees_net': None, '...  \n",
       "16  {'year': 2024, 'tuition_and_fees_net': 1381828...  \n",
       "17  {'year': 2024, 'tuition_and_fees_net': 1203627...  \n",
       "18  {'year': 2024, 'tuition_and_fees_net': None, '...  >"
      ]
     },
     "execution_count": 63,
     "metadata": {},
     "output_type": "execute_result"
    }
   ],
   "source": [
    "expanded_df.head"
   ]
  },
  {
   "cell_type": "code",
   "execution_count": null,
   "metadata": {},
   "outputs": [],
   "source": []
  }
 ],
 "metadata": {
  "colab": {
   "provenance": []
  },
  "kernelspec": {
   "display_name": "Python 3 (ipykernel)",
   "language": "python",
   "name": "python3"
  },
  "language_info": {
   "codemirror_mode": {
    "name": "ipython",
    "version": 3
   },
   "file_extension": ".py",
   "mimetype": "text/x-python",
   "name": "python",
   "nbconvert_exporter": "python",
   "pygments_lexer": "ipython3",
   "version": "3.12.7"
  }
 },
 "nbformat": 4,
 "nbformat_minor": 4
}
