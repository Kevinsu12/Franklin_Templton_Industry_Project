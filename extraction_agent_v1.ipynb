{
 "cells": [
  {
   "cell_type": "code",
   "execution_count": 1,
   "id": "5c9627dd-5608-4da8-9f1a-8ea9589a003b",
   "metadata": {},
   "outputs": [],
   "source": [
    "import os\n",
    "import pandas as pd\n",
    "from llama_cloud_services import LlamaExtract\n",
    "from schemas import Enrollment2024_25  #This could be adjusted through schemas.py\n",
    "from dotenv import load_dotenv"
   ]
  },
  {
   "cell_type": "code",
   "execution_count": 2,
   "id": "cf875a82-1028-4b54-8807-1d1dde9cca33",
   "metadata": {},
   "outputs": [
    {
     "data": {
      "text/plain": [
       "True"
      ]
     },
     "execution_count": 2,
     "metadata": {},
     "output_type": "execute_result"
    }
   ],
   "source": [
    "PDF_ROOT = \"university_pdfs_test\"\n",
    "OUTPUT_ROOT = \"output_4\"\n",
    "os.makedirs(OUTPUT_ROOT, exist_ok=True)  \n",
    "AGENT_ID = \"ca221e4c-b3b2-4bf1-8862-d26016c9943a\" #Different based on your LLamaCloud account\n",
    "load_dotenv() #make sure the API key is in the .env file"
   ]
  },
  {
   "cell_type": "code",
   "execution_count": 3,
   "id": "47855a29-4fc8-4dae-b036-4626be1954da",
   "metadata": {},
   "outputs": [],
   "source": [
    "extractor = LlamaExtract(project_id = '8c10e62e-3810-4193-915d-d2d11105826d')\n",
    "\n",
    "#uncomment the below line if you are creating the agent for the first time\n",
    "# agent = extractor.create_agent(name = \"enrollment-parser-2024\", data_schema=Enrollment2024_25)\n",
    "\n",
    "agent = extractor.get_agent(id = AGENT_ID)\n",
    "\n",
    "#uncomment the following lines if you updated the schema\n",
    "agent.data_schema = Enrollment2024_25\n",
    "agent.save()\n",
    "agent = extractor.get_agent(id = AGENT_ID)\n"
   ]
  },
  {
   "cell_type": "code",
   "execution_count": 5,
   "id": "f81a8d24-9e3e-40eb-a1c0-9fe4e2025a35",
   "metadata": {},
   "outputs": [
    {
     "data": {
      "text/plain": [
       "{'additionalProperties': False,\n",
       " 'properties': {'Undergraduate_Headcount': {'anyOf': [{'type': 'integer'},\n",
       "    {'type': 'null'}],\n",
       "   'description': \"Total undergraduate headcount for the 2024–2025 academic year (Different than undergraduate FTE. Sometimes you need to combine both full-time and part time).Search around the tables to locate what type of enrollment information it is.Only extract data for the 2024–2025 year or terms labeled Fall 2024, etcignore any data from other years or terms (e.g. 2023, 2023–2024, Fall 2023, Fall 2022, 2022). it's possible for a school to have multiple campuses, so combine all campuses' count or online and in-person count if applicable.If it didn't specify what kind of headcount is it, do not assume it's undergraduate headcount!!!Combine online and in-person if applicable.look around the table to see what type of data is it Do not derive or hallucinate the data unless the field is actually in the document.\"},\n",
       "  'Undergraduate_Headcount_Full_Time': {'anyOf': [{'type': 'integer'},\n",
       "    {'type': 'null'}],\n",
       "   'description': \"Undergraduate full-time or FT headcount for the 2024–2025 academic year. This is different than FTE(full-time equivalent).Only extract data for the 2024–2025 year or terms labeled Fall 2024, etc. ignore any data from other years or terms (e.g. 2023, 2023–2024, Fall 2023, Fall 2022, 2022). Combine across all campuses if the institution has multiple locations.Don't assume it's undergraduate full time unless it says undergraduate in the data description.When there is no specification of what kind of full-time it is, it should be total full-time.\"},\n",
       "  'Undergraduate_Headcount_Part_Time': {'anyOf': [{'type': 'integer'},\n",
       "    {'type': 'null'}],\n",
       "   'description': \"Undergraduate part-time (PT) headcount for the 2024–2025 academic year. Only extract data for the 2024–2025 year or terms labeled Fall 2024, etc. ignore any data from other years or terms (e.g. 2023, 2023–2024, Fall 2023, Fall 2022, 2022). Combine across all campuses if the institution has multiple locations. Do not derive or hallucinate the data unless the field is actually in the document.Don't assume it's undergraduate part time unless it says undergraduate in the data description.When there is no specification of what kind of part-time it is, it should be total part-time.\"},\n",
       "  'Graduate_Headcount': {'anyOf': [{'type': 'integer'}, {'type': 'null'}],\n",
       "   'description': \"Total graduate headcount for the 2024–2025 academic year. Post baccalaureate is considered a graduate headcount.(Different than graduate FTE. Sometimes you need to combine both full-time and part time), Combine enrollment across all graduate schools (e.g. Business, Education, etc.), Combine online and in-person if applicable.which may be labeled “GR”, “Grad”, or “Graduate”. Only extract data for the 2024–2025 year or terms labeled Fall 2024, etcignore any data from other years or terms (e.g. 2023, 2023–2024, Fall 2023, Fall 2022, 2022). it's possible for a school to have multiple campuses, so combine all campuses' count or online and in-person count if applicable. Do not derive or hallucinate the data unless the field is actually in the document.\"},\n",
       "  'Graduate_Headcount_Full_Time': {'anyOf': [{'type': 'integer'},\n",
       "    {'type': 'null'}],\n",
       "   'description': \"Graduate full-time (FT) headcount for the 2024–2025 academic year. Post baccalaureate is considered a graduate headcount.This is different than FTE(full-time equivalent).Combine across all graduate schools. Only extract data for the 2024–2025 year or terms labeled Fall 2024, etc. ignore any data from other years or terms (e.g. 2023, 2023–2024, Fall 2023, Fall 2022, 2022). Combine across campuses if needed. Do not derive or hallucinate the data unless the field is actually in the document.Don't assume it's graduate full-time unless it says undergraduate in the data description.When there is no specification of what kind of full-time it is, it should be total full-time.\"},\n",
       "  'Graduate_Headcount_Part_Time': {'anyOf': [{'type': 'integer'},\n",
       "    {'type': 'null'}],\n",
       "   'description': \"Graduate part-time (PT) headcount for the 2024–2025 academic year. Post baccalaureate is considered a graduate headcount.Combine across all graduate schools. Only extract data for the 2024–2025 year or terms labeled Fall 2024, etc. ignore any data from other years or terms (e.g. 2023, 2023–2024, Fall 2023, Fall 2022, 2022). Combine across campuses if needed. Do not derive or hallucinate the data unless the field is actually in the document.Don't assume it's graduate part time unless it says undergraduate in the data description.When there is no specification of what kind of part-time it is, it should be total part-time.\"},\n",
       "  'Professional_Headcount': {'anyOf': [{'type': 'integer'}, {'type': 'null'}],\n",
       "   'description': \"Combined professional school headcount (e.g. med, law) for 2024–2025. (Different than professional FTE. Sometimes you need to combine both full-time and part time).Only extract data for the 2024–2025 year or terms labeled Fall 2024, etcignore any data from other years or terms (e.g. 2023, 2023–2024, Fall 2023, Fall 2022, 2022). it's possible for a school to have multiple campuses, so combine all campuses' count if applicable. Do not derive or hallucinate the data unless the field is actually in the document.\"},\n",
       "  'Non_Degree_Headcount': {'anyOf': [{'type': 'integer'}, {'type': 'null'}],\n",
       "   'description': \"(Different than Non-Degree FTE. Sometimes you need to combine both full-time and part time).Sometimes, Non-Degree is listed as Non-creditOnly extract data for the 2024–2025 year or terms labeled Fall 2024, etcignore any data from other years or terms (e.g. 2023, 2023–2024, Fall 2023, Fall 2022, 2022). it's possible for a school to have multiple campuses, so combine all campuses' count if applicable. Do not derive or hallucinate the data unless the field is actually in the document.\"},\n",
       "  'Total_Headcount': {'anyOf': [{'type': 'integer'}, {'type': 'null'}],\n",
       "   'description': \"Overall student headcount for 2024–2025 do **not** compute it by adding Undergraduate, Graduate, Professional, etc.Only extract data for the 2024–2025 year or terms labeled Fall 2024, etcignore any data from other years or terms (e.g. 2023, 2023–2024, Fall 2023, Fall 2022, 2022). it's possible for a school to have multiple campuses, so combine all campuses' count if applicable. Do not derive or hallucinate the data unless the field is actually in the document.\"},\n",
       "  'Total_Headcount_Full_Time': {'anyOf': [{'type': 'integer'},\n",
       "    {'type': 'null'}],\n",
       "   'description': 'Total full-time headcount for 2024–2025 across all student categories. This is different than FTE(full-time equivalent).If not explicitly provided, sum Undergraduate_Headcount_Full_Time + Graduate_Headcount_Full_Time. Only extract data for the 2024–2025 year or terms labeled Fall 2024. ignore any data from other years or terms (e.g. 2023, 2023–2024, Fall 2023, Fall 2022, 2022). do **not** derive it by summing individual full‑time headcounts. Do not derive or hallucinate the data unless the field is actually in the document.When there is no specification of what kind of full-time it is, it should be total full-time.'},\n",
       "  'Total_Headcount_Part_Time': {'anyOf': [{'type': 'integer'},\n",
       "    {'type': 'null'}],\n",
       "   'description': 'Total part-time headcount for 2024–2025 across all student categories. If not explicitly provided, sum Undergraduate_Headcount_Part_Time + Graduate_Headcount_Part_Time. Only extract data for the 2024–2025 year or terms labeled Fall 2024. ignore any data from other years or terms (e.g. 2023, 2023–2024, Fall 2023, Fall 2022, 2022). do **not** derive it by summing individual part‑time headcounts. Do not derive or hallucinate the data unless the field is actually in the document.When there is no specification of what kind of full-time it is, it should be total full-time.'},\n",
       "  'Undergraduate_FTE': {'anyOf': [{'type': 'integer'}, {'type': 'null'}],\n",
       "   'description': \"Undergraduate full-time equivalent headcount or FTE for 2024–2025. FTE (full-time equivalent) is different than full-time, or FT.Only extract data for the 2024–2025 year or terms labeled Fall 2024, etcignore any data from other years or terms (e.g. 2023, 2023–2024, Fall 2023, Fall 2022, 2022). it's possible for a school to have multiple campuses, so combine all campuses' count if applicable. Do not derive or hallucinate the data unless the field is actually in the document.\"},\n",
       "  'Graduate_FTE': {'anyOf': [{'type': 'integer'}, {'type': 'null'}],\n",
       "   'description': \"Graduate full-time headcount or FTE for 2024–2025. Post baccalaureate is considered a graduate headcount.FTE (full-time equivalent) is different than full-time, or FT.Combine enrollment across all graduate schools (e.g. Business, Education, etc.), which may be labeled “GR”, “Grad”, or “Graduate”. Only extract data for the 2024–2025 year or terms labeled Fall 2024, etcignore any data from other years or terms (e.g. 2023, 2023–2024, Fall 2023, Fall 2022, 2022). it's possible for a school to have multiple campuses, so combine all campuses' count if applicable. Do not derive or hallucinate the data unless the field is actually in the document.\"},\n",
       "  'Professional_FTE': {'anyOf': [{'type': 'integer'}, {'type': 'null'}],\n",
       "   'description': \"Professional school full-time headcount or FTE for 2024–2025. FTE (full-time equivalent) is different than full-time, or FT.Only extract data for the 2024–2025 year or terms labeled Fall 2024, etcignore any data from other years or terms (e.g. 2023, 2023–2024, Fall 2023, Fall 2022, 2022). it's possible for a school to have multiple campuses, so combine all campuses' count if applicable. Do not derive or hallucinate the data unless the field is actually in the document.\"},\n",
       "  'Total_Full_Time_Equivalent_Students': {'anyOf': [{'type': 'integer'},\n",
       "    {'type': 'null'}],\n",
       "   'description': \"Total full-time equivalent students (FTE) for the 2024–2025 academic year.Only extract data for the 2024–2025 year or terms labeled Fall 2024, etcignore any data from other years or terms (e.g. 2023, 2023–2024, Fall 2023, Fall 2022, 2022). it's possible for a school to have multiple campuses, so combine all campuses' count if applicable.do **not** derive it by summing the individual FTE fields. Do not derive or hallucinate the data unless the field is actually in the document.\"},\n",
       "  'Undergraduate_Applications_Rcvd': {'anyOf': [{'type': 'integer'},\n",
       "    {'type': 'null'}],\n",
       "   'description': 'Total undergraduate applications received for the 2024–2025 cycle (e.g. Fall\\xa02024). Ignore other years/terms. ignore any data from other years or terms (e.g. 2023, 2023–2024, Fall 2023, Fall 2022, 2022). Combine all campuses if applicable. Do not derive or hallucinate the data unless the field is actually in the document.'},\n",
       "  'Graduate_Applications_Rcvd': {'anyOf': [{'type': 'integer'},\n",
       "    {'type': 'null'}],\n",
       "   'description': 'Total graduate applications received for the 2024–2025 cycle (e.g. Fall\\xa02024). Ignore other years/terms. ignore any data from other years or terms (e.g. 2023, 2023–2024, Fall 2023, Fall 2022, 2022). Combine all campuses if applicable. Do not derive or hallucinate the data unless the field is actually in the document.'},\n",
       "  'Transfer_Applications_Rcvd': {'anyOf': [{'type': 'integer'},\n",
       "    {'type': 'null'}],\n",
       "   'description': 'Total transfer applications received for the 2024–2025 cycle (e.g. Fall\\xa02024). Ignore other years/terms. ignore any data from other years or terms (e.g. 2023, 2023–2024, Fall 2023, Fall 2022, 2022). Combine all campuses if applicable. Do not derive or hallucinate the data unless the field is actually in the document.'},\n",
       "  'Undergraduate_Acceptances': {'anyOf': [{'type': 'integer'},\n",
       "    {'type': 'null'}],\n",
       "   'description': 'Total undergraduate acceptances for the 2024–2025 cycle (e.g. Fall\\xa02024). Ignore other years/terms. ignore any data from other years or terms (e.g. 2023, 2023–2024, Fall 2023, Fall 2022, 2022). Combine all campuses if applicable. Do not derive or hallucinate the data unless the field is actually in the document.'},\n",
       "  'Graduate_Acceptances': {'anyOf': [{'type': 'integer'}, {'type': 'null'}],\n",
       "   'description': 'Total graduate acceptances for the 2024–2025 cycle (e.g. Fall\\xa02024). Ignore other years/terms. ignore any data from other years or terms (e.g. 2023, 2023–2024, Fall 2023, Fall 2022, 2022). Combine all campuses if applicable. Do not derive or hallucinate the data unless the field is actually in the document.'},\n",
       "  'Transfer_Acceptances': {'anyOf': [{'type': 'integer'}, {'type': 'null'}],\n",
       "   'description': 'Total transfer acceptances for the 2024–2025 cycle (e.g. Fall\\xa02024). Ignore other years/terms. ignore any data from other years or terms (e.g. 2023, 2023–2024, Fall 2023, Fall 2022, 2022). Combine all campuses if applicable. Do not derive or hallucinate the data unless the field is actually in the document.'},\n",
       "  'Undergraduate_Matriculants': {'anyOf': [{'type': 'integer'},\n",
       "    {'type': 'null'}],\n",
       "   'description': 'Number of undergraduate students who matriculated in Fall\\xa02024 / 2024–2025. ignore any data from other years or terms (e.g. 2023, 2023–2024, Fall 2023, Fall 2022, 2022). Combine all campuses if applicable. Do not derive or hallucinate the data unless the field is actually in the document.'},\n",
       "  'Graduate_Matriculants': {'anyOf': [{'type': 'integer'}, {'type': 'null'}],\n",
       "   'description': 'Number of graduate students who matriculated in Fall\\xa02024 / 2024–2025. ignore any data from other years or terms (e.g. 2023, 2023–2024, Fall 2023, Fall 2022, 2022). Combine all campuses if applicable. Do not derive or hallucinate the data unless the field is actually in the document.'},\n",
       "  'Transfer_Matriculants': {'anyOf': [{'type': 'integer'}, {'type': 'null'}],\n",
       "   'description': 'Number of transfer students who matriculated in Fall\\xa02024 / 2024–2025. ignore any data from other years or terms (e.g. 2023, 2023–2024, Fall 2023, Fall 2022, 2022). Combine all campuses if applicable. Do not derive or hallucinate the data unless the field is actually in the document.'},\n",
       "  'Retention_Rate': {'anyOf': [{'type': 'number'}, {'type': 'null'}],\n",
       "   'description': \"Retention rate % for the 2024–2025 entering class. Only extract data for the 2024–2025 year or terms labeled Fall 2024, etc.; ignore any data from other years or terms (e.g. 2023, 2023–2024, Fall 2023, Fall 2022, 2022). it's possible for a school to have multiple campuses, so combine all campuses' count if applicable. Do not derive or hallucinate the data unless the field is actually in the document.\"},\n",
       "  'Full_Time_Employee_Equivalents': {'anyOf': [{'type': 'integer'},\n",
       "    {'type': 'null'}],\n",
       "   'description': \"Full-time employee equivalents (staff/faculty) in 2024–2025. Only extract data for the 2024–2025 year or terms labeled Fall 2024, etc.; ignore any data from other years or terms (e.g. 2023, 2023–2024, Fall 2023, Fall 2022, 2022). it's possible for a school to have multiple campuses, so combine all campuses' count if applicable. Do not derive or hallucinate the data unless the field is actually in the document.\"},\n",
       "  'Tuition': {'anyOf': [{'type': 'integer'}, {'type': 'null'}],\n",
       "   'description': \"Undergraduate tuition rate for the 2024–2025 academic year. This is different than revenue generated by tuition or any financial accounting dataOnly extract data for the 2024–2025 year or terms labeled Fall 2024, etc.; ignore any data from other years or terms (e.g. 2023, 2023–2024, Fall 2023, Fall 2022, 2022). it's possible for a school to have multiple campuses, so average the tuition per student per campus. Do not derive or hallucinate the data unless the field is actually in the document.\"},\n",
       "  'Room_and_Board_20_meals': {'anyOf': [{'type': 'integer'}, {'type': 'null'}],\n",
       "   'description': \"Room & board cost (20-meal plan) for the 2024–2025 year. Only extract data for the 2024–2025 year or terms labeled Fall 2024, etc.; ignore any data from other years or terms (e.g. 2023, 2023–2024, Fall 2023, Fall 2022, 2022). it's possible for a school to have multiple campuses, so combine all campuses' count if applicable. Do not derive or hallucinate the data unless the field is actually in the document.\"}},\n",
       " 'required': ['Undergraduate_Headcount',\n",
       "  'Undergraduate_Headcount_Full_Time',\n",
       "  'Undergraduate_Headcount_Part_Time',\n",
       "  'Graduate_Headcount',\n",
       "  'Graduate_Headcount_Full_Time',\n",
       "  'Graduate_Headcount_Part_Time',\n",
       "  'Professional_Headcount',\n",
       "  'Non_Degree_Headcount',\n",
       "  'Total_Headcount',\n",
       "  'Total_Headcount_Full_Time',\n",
       "  'Total_Headcount_Part_Time',\n",
       "  'Undergraduate_FTE',\n",
       "  'Graduate_FTE',\n",
       "  'Professional_FTE',\n",
       "  'Total_Full_Time_Equivalent_Students',\n",
       "  'Undergraduate_Applications_Rcvd',\n",
       "  'Graduate_Applications_Rcvd',\n",
       "  'Transfer_Applications_Rcvd',\n",
       "  'Undergraduate_Acceptances',\n",
       "  'Graduate_Acceptances',\n",
       "  'Transfer_Acceptances',\n",
       "  'Undergraduate_Matriculants',\n",
       "  'Graduate_Matriculants',\n",
       "  'Transfer_Matriculants',\n",
       "  'Retention_Rate',\n",
       "  'Full_Time_Employee_Equivalents',\n",
       "  'Tuition',\n",
       "  'Room_and_Board_20_meals'],\n",
       " 'type': 'object'}"
      ]
     },
     "execution_count": 5,
     "metadata": {},
     "output_type": "execute_result"
    }
   ],
   "source": [
    "agent.data_schema"
   ]
  },
  {
   "cell_type": "markdown",
   "id": "6449229a-af1c-4e6f-8219-6497a0a1bc94",
   "metadata": {},
   "source": [
    "The following two cell blocks extract all schools' info into one excel file per school."
   ]
  },
  {
   "cell_type": "code",
   "execution_count": 10,
   "id": "36077e96-e5ec-4352-afef-d76b8f78be2d",
   "metadata": {},
   "outputs": [],
   "source": [
    "def process_school(school_name, school_dir):\n",
    "    combined   = {}\n",
    "    first_keys = None\n",
    "\n",
    "    for fname in sorted(os.listdir(school_dir)):\n",
    "        if not fname.lower().endswith(\".pdf\"):\n",
    "            continue\n",
    "        path = os.path.join(school_dir, fname)\n",
    "        print(f\"Extracting data from {fname}\")\n",
    "        try:\n",
    "            run  = agent.extract(path)\n",
    "            data = run.data or {}\n",
    "            if first_keys is None:\n",
    "                first_keys = list(data.keys())\n",
    "                combined  = {k: None for k in first_keys}\n",
    "            for k, v in data.items():\n",
    "                if v not in (None, \"\", []):\n",
    "                    combined[k] = v\n",
    "        except Exception as err:\n",
    "            print(f\"Skipped {fname}: {err}\")\n",
    "\n",
    "    if first_keys:\n",
    "        df = pd.DataFrame.from_dict(combined, orient=\"index\", columns=[\"2024-25\"])\n",
    "        df.index.name = \"Metric\"\n",
    "        outfile = os.path.join(OUTPUT_ROOT, f\"{school_name}.xlsx\")\n",
    "        df.to_excel(outfile)\n",
    "        print(f\"Saved output to {outfile}\")\n",
    "    else:\n",
    "        print(f\"No PDF data found for {school_name}\")"
   ]
  },
  {
   "cell_type": "code",
   "execution_count": 12,
   "id": "a7256b8f-8158-48f2-8b89-5e1ae36760c1",
   "metadata": {},
   "outputs": [
    {
     "name": "stdout",
     "output_type": "stream",
     "text": [
      "Processing school: ASU\n",
      "Extracting data from P11817713-P11393130-P11833489.pdf\n"
     ]
    },
    {
     "name": "stderr",
     "output_type": "stream",
     "text": [
      "Uploading files: 100%|████████████████████████████| 1/1 [00:01<00:00,  1.30s/it]\n",
      "Creating extraction jobs: 100%|███████████████████| 1/1 [00:00<00:00,  1.63it/s]\n",
      "Extracting files: 100%|███████████████████████████| 1/1 [00:07<00:00,  7.78s/it]\n"
     ]
    },
    {
     "name": "stdout",
     "output_type": "stream",
     "text": [
      "Saved output to output_2/ASU.xlsx\n",
      "Processing school: Bradley University\n",
      "Extracting data from P21862068-P21425154-P21869099.pdf\n"
     ]
    },
    {
     "name": "stderr",
     "output_type": "stream",
     "text": [
      "Uploading files: 100%|████████████████████████████| 1/1 [00:01<00:00,  1.15s/it]\n",
      "Creating extraction jobs: 100%|███████████████████| 1/1 [00:00<00:00,  2.04it/s]\n",
      "Extracting files: 100%|███████████████████████████| 1/1 [00:07<00:00,  7.82s/it]\n"
     ]
    },
    {
     "name": "stdout",
     "output_type": "stream",
     "text": [
      "Saved output to output_2/Bradley University.xlsx\n",
      "Processing school: California_state_university\n",
      "Extracting data from P21878315-P21436983-P21882690.pdf\n"
     ]
    },
    {
     "name": "stderr",
     "output_type": "stream",
     "text": [
      "Uploading files: 100%|████████████████████████████| 1/1 [00:01<00:00,  1.21s/it]\n",
      "Creating extraction jobs: 100%|███████████████████| 1/1 [00:00<00:00,  1.86it/s]\n",
      "Extracting files: 100%|███████████████████████████| 1/1 [00:10<00:00, 10.36s/it]\n"
     ]
    },
    {
     "name": "stdout",
     "output_type": "stream",
     "text": [
      "Saved output to output_2/California_state_university.xlsx\n",
      "Processing school: Cornell_university\n",
      "Extracting data from P11799657-P11380074-P11818843.pdf\n"
     ]
    },
    {
     "name": "stderr",
     "output_type": "stream",
     "text": [
      "Uploading files: 100%|████████████████████████████| 1/1 [00:01<00:00,  1.17s/it]\n",
      "Creating extraction jobs: 100%|███████████████████| 1/1 [00:00<00:00,  2.05it/s]\n",
      "Extracting files: 100%|███████████████████████████| 1/1 [00:10<00:00, 10.98s/it]\n"
     ]
    },
    {
     "name": "stdout",
     "output_type": "stream",
     "text": [
      "Saved output to output_2/Cornell_university.xlsx\n",
      "Processing school: Culinary_institute_of_America\n",
      "Extracting data from P11790595-P11373821-P11811978.pdf\n"
     ]
    },
    {
     "name": "stderr",
     "output_type": "stream",
     "text": [
      "Uploading files: 100%|████████████████████████████| 1/1 [00:00<00:00,  1.09it/s]\n",
      "Creating extraction jobs: 100%|███████████████████| 1/1 [00:00<00:00,  1.52it/s]\n",
      "Extracting files: 100%|███████████████████████████| 1/1 [00:09<00:00,  9.22s/it]\n"
     ]
    },
    {
     "name": "stdout",
     "output_type": "stream",
     "text": [
      "Saved output to output_2/Culinary_institute_of_America.xlsx\n",
      "Processing school: Gannon_university\n",
      "Extracting data from P21859160-P21423095-P21866877.pdf\n"
     ]
    },
    {
     "name": "stderr",
     "output_type": "stream",
     "text": [
      "Uploading files: 100%|████████████████████████████| 1/1 [00:01<00:00,  1.04s/it]\n",
      "Creating extraction jobs: 100%|███████████████████| 1/1 [00:00<00:00,  1.93it/s]\n",
      "Extracting files: 100%|███████████████████████████| 1/1 [00:11<00:00, 11.41s/it]\n"
     ]
    },
    {
     "name": "stdout",
     "output_type": "stream",
     "text": [
      "Saved output to output_2/Gannon_university.xlsx\n",
      "Processing school: Harvard_university\n",
      "Extracting data from P21889042-P21444694-P21891364.pdf\n"
     ]
    },
    {
     "name": "stderr",
     "output_type": "stream",
     "text": [
      "Uploading files: 100%|████████████████████████████| 1/1 [00:01<00:00,  1.27s/it]\n",
      "Creating extraction jobs: 100%|███████████████████| 1/1 [00:00<00:00,  2.27it/s]\n",
      "Extracting files: 100%|███████████████████████████| 1/1 [00:14<00:00, 14.18s/it]\n"
     ]
    },
    {
     "name": "stdout",
     "output_type": "stream",
     "text": [
      "Saved output to output_2/Harvard_university.xlsx\n",
      "Processing school: Lewis_univsersity\n",
      "Extracting data from P11819634-P11394595-P11835096.pdf\n"
     ]
    },
    {
     "name": "stderr",
     "output_type": "stream",
     "text": [
      "Uploading files: 100%|████████████████████████████| 1/1 [00:01<00:00,  1.07s/it]\n",
      "Creating extraction jobs: 100%|███████████████████| 1/1 [00:00<00:00,  1.44it/s]\n",
      "Extracting files: 100%|███████████████████████████| 1/1 [00:10<00:00, 10.58s/it]\n"
     ]
    },
    {
     "name": "stdout",
     "output_type": "stream",
     "text": [
      "Saved output to output_2/Lewis_univsersity.xlsx\n",
      "Processing school: MT_ST_MARY\n",
      "Extracting data from Mt St Mary's fall 24 continuing disclosure.pdf\n"
     ]
    },
    {
     "name": "stderr",
     "output_type": "stream",
     "text": [
      "Uploading files: 100%|████████████████████████████| 1/1 [00:03<00:00,  3.20s/it]\n",
      "Creating extraction jobs: 100%|███████████████████| 1/1 [00:00<00:00,  2.05it/s]\n",
      "Extracting files: 100%|███████████████████████████| 1/1 [00:26<00:00, 26.54s/it]\n"
     ]
    },
    {
     "name": "stdout",
     "output_type": "stream",
     "text": [
      "Saved output to output_2/MT_ST_MARY.xlsx\n",
      "Processing school: Michigan_state_university\n",
      "Extracting data from P21870305-P21430806-P21875444.pdf\n"
     ]
    },
    {
     "name": "stderr",
     "output_type": "stream",
     "text": [
      "Uploading files: 100%|████████████████████████████| 1/1 [00:01<00:00,  1.28s/it]\n",
      "Creating extraction jobs: 100%|███████████████████| 1/1 [00:00<00:00,  1.70it/s]\n",
      "Extracting files: 100%|███████████████████████████| 1/1 [00:09<00:00,  9.03s/it]\n"
     ]
    },
    {
     "name": "stdout",
     "output_type": "stream",
     "text": [
      "Saved output to output_2/Michigan_state_university.xlsx\n",
      "Processing school: Molloy_college\n",
      "Extracting data from P21874771-P21434198-P21879428.pdf\n"
     ]
    },
    {
     "name": "stderr",
     "output_type": "stream",
     "text": [
      "Uploading files: 100%|████████████████████████████| 1/1 [00:00<00:00,  1.03it/s]\n",
      "Creating extraction jobs: 100%|███████████████████| 1/1 [00:00<00:00,  2.04it/s]\n",
      "Extracting files: 100%|███████████████████████████| 1/1 [00:17<00:00, 17.10s/it]\n"
     ]
    },
    {
     "name": "stdout",
     "output_type": "stream",
     "text": [
      "Saved output to output_2/Molloy_college.xlsx\n",
      "Processing school: New_York_University\n",
      "Extracting data from P11812334-P11389223-P11829036.pdf\n"
     ]
    },
    {
     "name": "stderr",
     "output_type": "stream",
     "text": [
      "Uploading files: 100%|████████████████████████████| 1/1 [00:01<00:00,  1.10s/it]\n",
      "Creating extraction jobs: 100%|███████████████████| 1/1 [00:00<00:00,  2.05it/s]\n",
      "Extracting files: 100%|███████████████████████████| 1/1 [00:13<00:00, 13.25s/it]\n"
     ]
    },
    {
     "name": "stdout",
     "output_type": "stream",
     "text": [
      "Saved output to output_2/New_York_University.xlsx\n",
      "Processing school: Ohio_state\n",
      "Extracting data from P21875437-P21434721-P21880042.pdf\n"
     ]
    },
    {
     "name": "stderr",
     "output_type": "stream",
     "text": [
      "Uploading files: 100%|████████████████████████████| 1/1 [00:01<00:00,  1.56s/it]\n",
      "Creating extraction jobs: 100%|███████████████████| 1/1 [00:00<00:00,  2.06it/s]\n",
      "Extracting files: 100%|███████████████████████████| 1/1 [00:11<00:00, 11.86s/it]\n"
     ]
    },
    {
     "name": "stdout",
     "output_type": "stream",
     "text": [
      "Saved output to output_2/Ohio_state.xlsx\n",
      "Processing school: ST_Louis_univ\n",
      "Extracting data from P21874807-P21434222-P21879459.pdf\n"
     ]
    },
    {
     "name": "stderr",
     "output_type": "stream",
     "text": [
      "Uploading files: 100%|████████████████████████████| 1/1 [00:01<00:00,  1.31s/it]\n",
      "Creating extraction jobs: 100%|███████████████████| 1/1 [00:00<00:00,  2.04it/s]\n",
      "Extracting files: 100%|███████████████████████████| 1/1 [00:10<00:00, 10.46s/it]\n"
     ]
    },
    {
     "name": "stdout",
     "output_type": "stream",
     "text": [
      "Saved output to output_2/ST_Louis_univ.xlsx\n",
      "Processing school: Stevenson\n",
      "Extracting data from P21870783-P21431172-P21875933.pdf\n"
     ]
    },
    {
     "name": "stderr",
     "output_type": "stream",
     "text": [
      "Uploading files: 100%|████████████████████████████| 1/1 [00:00<00:00,  1.03it/s]\n",
      "Creating extraction jobs: 100%|███████████████████| 1/1 [00:00<00:00,  2.27it/s]\n",
      "Extracting files: 100%|███████████████████████████| 1/1 [00:08<00:00,  8.97s/it]\n"
     ]
    },
    {
     "name": "stdout",
     "output_type": "stream",
     "text": [
      "Saved output to output_2/Stevenson.xlsx\n",
      "Processing school: Texas_A&M\n",
      "Extracting data from P21898799-P21452091-P21899985.pdf\n"
     ]
    },
    {
     "name": "stderr",
     "output_type": "stream",
     "text": [
      "Uploading files: 100%|████████████████████████████| 1/1 [00:02<00:00,  2.24s/it]\n",
      "Creating extraction jobs: 100%|███████████████████| 1/1 [00:00<00:00,  2.23it/s]\n",
      "Extracting files: 100%|███████████████████████████| 1/1 [00:16<00:00, 16.30s/it]\n"
     ]
    },
    {
     "name": "stdout",
     "output_type": "stream",
     "text": [
      "Saved output to output_2/Texas_A&M.xlsx\n",
      "Processing school: The_catholic_university_of_america\n",
      "Extracting data from P21849198-P11371813-P21859547.pdf\n"
     ]
    },
    {
     "name": "stderr",
     "output_type": "stream",
     "text": [
      "Uploading files: 100%|████████████████████████████| 1/1 [00:00<00:00,  1.03it/s]\n",
      "Creating extraction jobs: 100%|███████████████████| 1/1 [00:00<00:00,  2.42it/s]\n",
      "Extracting files: 100%|███████████████████████████| 1/1 [00:09<00:00,  9.01s/it]\n"
     ]
    },
    {
     "name": "stdout",
     "output_type": "stream",
     "text": [
      "Saved output to output_2/The_catholic_university_of_america.xlsx\n",
      "Processing school: University_of_colorado\n",
      "Extracting data from P21915816-P21464707-P21913817.pdf\n"
     ]
    },
    {
     "name": "stderr",
     "output_type": "stream",
     "text": [
      "Uploading files: 100%|████████████████████████████| 1/1 [00:01<00:00,  1.05s/it]\n",
      "Creating extraction jobs: 100%|███████████████████| 1/1 [00:00<00:00,  1.69it/s]\n",
      "Extracting files: 100%|███████████████████████████| 1/1 [00:09<00:00,  9.10s/it]\n"
     ]
    },
    {
     "name": "stdout",
     "output_type": "stream",
     "text": [
      "Saved output to output_2/University_of_colorado.xlsx\n",
      "Processing school: University_of_minesota\n",
      "Extracting data from P11814086-P21430908-P11830336.pdf\n"
     ]
    },
    {
     "name": "stderr",
     "output_type": "stream",
     "text": [
      "Uploading files: 100%|████████████████████████████| 1/1 [00:01<00:00,  1.10s/it]\n",
      "Creating extraction jobs: 100%|███████████████████| 1/1 [00:00<00:00,  2.05it/s]\n",
      "Extracting files: 100%|███████████████████████████| 1/1 [00:11<00:00, 11.99s/it]\n"
     ]
    },
    {
     "name": "stdout",
     "output_type": "stream",
     "text": [
      "Saved output to output_2/University_of_minesota.xlsx\n",
      "Processing school: stevens_institue_of_technology\n",
      "Extracting data from P21870185-P21430712-P21875325.pdf\n"
     ]
    },
    {
     "name": "stderr",
     "output_type": "stream",
     "text": [
      "Uploading files: 100%|████████████████████████████| 1/1 [00:01<00:00,  1.04s/it]\n",
      "Creating extraction jobs: 100%|███████████████████| 1/1 [00:00<00:00,  2.11it/s]\n",
      "Extracting files: 100%|███████████████████████████| 1/1 [00:08<00:00,  8.93s/it]"
     ]
    },
    {
     "name": "stdout",
     "output_type": "stream",
     "text": [
      "Saved output to output_2/stevens_institue_of_technology.xlsx\n",
      "Extraction complete.\n"
     ]
    },
    {
     "name": "stderr",
     "output_type": "stream",
     "text": [
      "\n",
      "Uploading files: 100%|████████████████████████████| 1/1 [00:00<00:00,  1.08it/s]\n",
      "Creating extraction jobs: 100%|███████████████████| 1/1 [00:02<00:00,  2.93s/it]\n",
      "Extracting files: 100%|███████████████████████████| 1/1 [00:08<00:00,  8.15s/it]\n",
      "Uploading files: 100%|████████████████████████████| 1/1 [00:01<00:00,  1.30s/it]\n",
      "Creating extraction jobs: 100%|███████████████████| 1/1 [00:00<00:00,  2.15it/s]\n",
      "Extracting files: 100%|███████████████████████████| 1/1 [00:17<00:00, 17.84s/it]\n",
      "Uploading files: 100%|████████████████████████████| 1/1 [00:01<00:00,  1.05s/it]\n",
      "Creating extraction jobs: 100%|███████████████████| 1/1 [00:00<00:00,  1.81it/s]\n",
      "Extracting files: 100%|███████████████████████████| 1/1 [00:10<00:00, 10.77s/it]\n",
      "Uploading files: 100%|████████████████████████████| 1/1 [00:00<00:00,  1.04it/s]\n",
      "Creating extraction jobs: 100%|███████████████████| 1/1 [00:00<00:00,  1.45it/s]\n",
      "Extracting files: 100%|███████████████████████████| 1/1 [00:14<00:00, 14.96s/it]\n",
      "Uploading files: 100%|████████████████████████████| 1/1 [00:00<00:00,  1.01it/s]\n",
      "Creating extraction jobs: 100%|███████████████████| 1/1 [00:00<00:00,  2.10it/s]\n",
      "Extracting files: 100%|███████████████████████████| 1/1 [00:08<00:00,  8.86s/it]\n",
      "Uploading files: 100%|████████████████████████████| 1/1 [00:01<00:00,  1.57s/it]\n",
      "Creating extraction jobs: 100%|███████████████████| 1/1 [00:00<00:00,  2.30it/s]\n",
      "Extracting files: 100%|███████████████████████████| 1/1 [00:08<00:00,  8.81s/it]\n",
      "Uploading files: 100%|████████████████████████████| 1/1 [00:01<00:00,  1.61s/it]\n",
      "Creating extraction jobs: 100%|███████████████████| 1/1 [00:00<00:00,  2.31it/s]\n",
      "Extracting files: 100%|███████████████████████████| 1/1 [00:10<00:00, 10.11s/it]\n",
      "Uploading files: 100%|████████████████████████████| 1/1 [00:01<00:00,  1.33s/it]\n",
      "Creating extraction jobs: 100%|███████████████████| 1/1 [00:00<00:00,  2.04it/s]\n",
      "Extracting files: 100%|███████████████████████████| 1/1 [00:10<00:00, 10.67s/it]\n",
      "Uploading files: 100%|████████████████████████████| 1/1 [00:03<00:00,  3.02s/it]\n",
      "Creating extraction jobs: 100%|███████████████████| 1/1 [00:00<00:00,  2.37it/s]\n",
      "Extracting files: 100%|███████████████████████████| 1/1 [00:19<00:00, 19.47s/it]\n",
      "Uploading files: 100%|████████████████████████████| 1/1 [00:01<00:00,  1.33s/it]\n",
      "Creating extraction jobs: 100%|███████████████████| 1/1 [00:00<00:00,  2.43it/s]\n",
      "Extracting files: 100%|███████████████████████████| 1/1 [00:08<00:00,  8.99s/it]\n",
      "Uploading files: 100%|████████████████████████████| 1/1 [00:01<00:00,  1.02s/it]\n",
      "Creating extraction jobs: 100%|███████████████████| 1/1 [00:00<00:00,  2.38it/s]\n",
      "Extracting files: 100%|███████████████████████████| 1/1 [00:07<00:00,  7.75s/it]\n",
      "Uploading files: 100%|████████████████████████████| 1/1 [00:00<00:00,  1.08it/s]\n",
      "Creating extraction jobs: 100%|███████████████████| 1/1 [00:00<00:00,  2.26it/s]\n",
      "Extracting files: 100%|███████████████████████████| 1/1 [00:09<00:00,  9.03s/it]\n",
      "Uploading files: 100%|████████████████████████████| 1/1 [00:02<00:00,  2.10s/it]\n",
      "Creating extraction jobs: 100%|███████████████████| 1/1 [00:00<00:00,  1.96it/s]\n",
      "Extracting files: 100%|███████████████████████████| 1/1 [00:11<00:00, 11.52s/it]\n",
      "Uploading files: 100%|████████████████████████████| 1/1 [00:01<00:00,  1.04s/it]\n",
      "Creating extraction jobs: 100%|███████████████████| 1/1 [00:00<00:00,  1.47it/s]\n",
      "Extracting files: 100%|███████████████████████████| 1/1 [00:11<00:00, 11.24s/it]\n",
      "Uploading files: 100%|████████████████████████████| 1/1 [00:01<00:00,  1.11s/it]\n",
      "Creating extraction jobs: 100%|███████████████████| 1/1 [00:00<00:00,  1.69it/s]\n",
      "Extracting files: 100%|███████████████████████████| 1/1 [00:07<00:00,  7.66s/it]\n",
      "Uploading files: 100%|████████████████████████████| 1/1 [00:02<00:00,  2.22s/it]\n",
      "Creating extraction jobs: 100%|███████████████████| 1/1 [00:00<00:00,  1.39it/s]\n",
      "Extracting files: 100%|███████████████████████████| 1/1 [00:18<00:00, 18.35s/it]\n",
      "Uploading files: 100%|████████████████████████████| 1/1 [00:00<00:00,  1.08it/s]\n",
      "Creating extraction jobs: 100%|███████████████████| 1/1 [00:00<00:00,  1.56it/s]\n",
      "Extracting files: 100%|███████████████████████████| 1/1 [00:09<00:00,  9.28s/it]\n",
      "Uploading files: 100%|████████████████████████████| 1/1 [00:01<00:00,  1.10s/it]\n",
      "Creating extraction jobs: 100%|███████████████████| 1/1 [00:00<00:00,  1.94it/s]\n",
      "Extracting files: 100%|███████████████████████████| 1/1 [00:11<00:00, 11.25s/it]\n",
      "Uploading files: 100%|████████████████████████████| 1/1 [00:01<00:00,  1.53s/it]\n",
      "Creating extraction jobs: 100%|███████████████████| 1/1 [00:04<00:00,  4.07s/it]\n",
      "Extracting files: 100%|███████████████████████████| 1/1 [00:26<00:00, 26.11s/it]\n",
      "Uploading files: 100%|████████████████████████████| 1/1 [00:01<00:00,  1.30s/it]\n",
      "Creating extraction jobs: 100%|███████████████████| 1/1 [00:00<00:00,  2.05it/s]\n",
      "Extracting files: 100%|███████████████████████████| 1/1 [00:14<00:00, 14.15s/it]\n"
     ]
    }
   ],
   "source": [
    "# Loop over schools\n",
    "for school in sorted(os.listdir(PDF_ROOT)):\n",
    "    school_dir = os.path.join(PDF_ROOT, school)\n",
    "    if not os.path.isdir(school_dir):\n",
    "        continue\n",
    "    print(f\"Processing school: {school}\")\n",
    "    process_school(school, school_dir)\n",
    "\n",
    "print(\"Extraction complete.\")"
   ]
  },
  {
   "cell_type": "markdown",
   "id": "8b385406-d4f6-48e5-94b5-f999ee2e9f04",
   "metadata": {},
   "source": [
    "The following cell block extracts all the schools' info into one excel sheet but in different tabs."
   ]
  },
  {
   "cell_type": "code",
   "execution_count": 10,
   "id": "dbed9f78-2b07-4696-8bd9-2ad2281d255d",
   "metadata": {},
   "outputs": [
    {
     "name": "stdout",
     "output_type": "stream",
     "text": [
      "Extracting data from ASU/P11817713-P11393130-P11833489.pdf\n"
     ]
    },
    {
     "name": "stderr",
     "output_type": "stream",
     "text": [
      "Uploading files: 100%|████████████████████████████| 1/1 [00:01<00:00,  1.31s/it]\n",
      "Creating extraction jobs: 100%|███████████████████| 1/1 [00:00<00:00,  2.05it/s]\n",
      "Extracting files: 100%|███████████████████████████| 1/1 [00:11<00:00, 11.55s/it]\n"
     ]
    },
    {
     "name": "stdout",
     "output_type": "stream",
     "text": [
      "Extracting data from Bradley University/P21862068-P21425154-P21869099.pdf\n"
     ]
    },
    {
     "name": "stderr",
     "output_type": "stream",
     "text": [
      "Uploading files: 100%|████████████████████████████| 1/1 [00:01<00:00,  1.01s/it]\n",
      "Creating extraction jobs: 100%|███████████████████| 1/1 [00:00<00:00,  2.51it/s]\n",
      "Extracting files: 100%|███████████████████████████| 1/1 [00:08<00:00,  8.79s/it]\n"
     ]
    },
    {
     "name": "stdout",
     "output_type": "stream",
     "text": [
      "Extracting data from California_state_university/P21878315-P21436983-P21882690.pdf\n"
     ]
    },
    {
     "name": "stderr",
     "output_type": "stream",
     "text": [
      "Uploading files: 100%|████████████████████████████| 1/1 [00:01<00:00,  1.19s/it]\n",
      "Creating extraction jobs: 100%|███████████████████| 1/1 [00:00<00:00,  2.04it/s]\n",
      "Extracting files: 100%|███████████████████████████| 1/1 [00:07<00:00,  7.52s/it]\n"
     ]
    },
    {
     "name": "stdout",
     "output_type": "stream",
     "text": [
      "Extracting data from Cornell_university/P11799657-P11380074-P11818843.pdf\n"
     ]
    },
    {
     "name": "stderr",
     "output_type": "stream",
     "text": [
      "Uploading files: 100%|████████████████████████████| 1/1 [00:00<00:00,  1.21it/s]\n",
      "Creating extraction jobs: 100%|███████████████████| 1/1 [00:00<00:00,  1.63it/s]\n",
      "Extracting files: 100%|███████████████████████████| 1/1 [00:08<00:00,  8.93s/it]\n"
     ]
    },
    {
     "name": "stdout",
     "output_type": "stream",
     "text": [
      "Extracting data from Culinary_institute_of_America/P11790595-P11373821-P11811978.pdf\n"
     ]
    },
    {
     "name": "stderr",
     "output_type": "stream",
     "text": [
      "Uploading files: 100%|████████████████████████████| 1/1 [00:01<00:00,  1.08s/it]\n",
      "Creating extraction jobs: 100%|███████████████████| 1/1 [00:00<00:00,  2.03it/s]\n",
      "Extracting files: 100%|███████████████████████████| 1/1 [00:10<00:00, 10.05s/it]\n"
     ]
    },
    {
     "name": "stdout",
     "output_type": "stream",
     "text": [
      "Extracting data from Gannon_university/P21859160-P21423095-P21866877.pdf\n"
     ]
    },
    {
     "name": "stderr",
     "output_type": "stream",
     "text": [
      "Uploading files: 100%|████████████████████████████| 1/1 [00:00<00:00,  1.10it/s]\n",
      "Creating extraction jobs: 100%|███████████████████| 1/1 [00:00<00:00,  2.19it/s]\n",
      "Extracting files: 100%|███████████████████████████| 1/1 [00:10<00:00, 10.06s/it]\n"
     ]
    },
    {
     "name": "stdout",
     "output_type": "stream",
     "text": [
      "Extracting data from Harvard_university/P21889042-P21444694-P21891364.pdf\n"
     ]
    },
    {
     "name": "stderr",
     "output_type": "stream",
     "text": [
      "Uploading files: 100%|████████████████████████████| 1/1 [00:01<00:00,  1.24s/it]\n",
      "Creating extraction jobs: 100%|███████████████████| 1/1 [00:00<00:00,  2.31it/s]\n",
      "Extracting files: 100%|███████████████████████████| 1/1 [00:11<00:00, 11.72s/it]\n"
     ]
    },
    {
     "name": "stdout",
     "output_type": "stream",
     "text": [
      "Extracting data from Lewis_univsersity/P11819634-P11394595-P11835096.pdf\n"
     ]
    },
    {
     "name": "stderr",
     "output_type": "stream",
     "text": [
      "Uploading files: 100%|████████████████████████████| 1/1 [00:01<00:00,  1.15s/it]\n",
      "Creating extraction jobs: 100%|███████████████████| 1/1 [00:00<00:00,  2.04it/s]\n",
      "Extracting files: 100%|███████████████████████████| 1/1 [00:13<00:00, 13.95s/it]\n"
     ]
    },
    {
     "name": "stdout",
     "output_type": "stream",
     "text": [
      "Extracting data from MT_ST_MARY/Mt St Mary's fall 24 continuing disclosure.pdf\n"
     ]
    },
    {
     "name": "stderr",
     "output_type": "stream",
     "text": [
      "Uploading files: 100%|████████████████████████████| 1/1 [00:02<00:00,  2.89s/it]\n",
      "Creating extraction jobs: 100%|███████████████████| 1/1 [00:00<00:00,  1.52it/s]\n",
      "Extracting files: 100%|███████████████████████████| 1/1 [00:23<00:00, 23.98s/it]\n"
     ]
    },
    {
     "name": "stdout",
     "output_type": "stream",
     "text": [
      "Extracting data from Michigan_state_university/P21870305-P21430806-P21875444.pdf\n"
     ]
    },
    {
     "name": "stderr",
     "output_type": "stream",
     "text": [
      "Uploading files: 100%|████████████████████████████| 1/1 [00:00<00:00,  1.05it/s]\n",
      "Creating extraction jobs: 100%|███████████████████| 1/1 [00:00<00:00,  2.05it/s]\n",
      "Extracting files: 100%|███████████████████████████| 1/1 [00:08<00:00,  8.78s/it]\n"
     ]
    },
    {
     "name": "stdout",
     "output_type": "stream",
     "text": [
      "Extracting data from Molloy_college/P21874771-P21434198-P21879428.pdf\n"
     ]
    },
    {
     "name": "stderr",
     "output_type": "stream",
     "text": [
      "Uploading files: 100%|████████████████████████████| 1/1 [00:01<00:00,  1.02s/it]\n",
      "Creating extraction jobs: 100%|███████████████████| 1/1 [00:00<00:00,  2.04it/s]\n",
      "Extracting files: 100%|███████████████████████████| 1/1 [00:07<00:00,  7.75s/it]\n"
     ]
    },
    {
     "name": "stdout",
     "output_type": "stream",
     "text": [
      "Extracting data from New_York_University/P11812334-P11389223-P11829036.pdf\n"
     ]
    },
    {
     "name": "stderr",
     "output_type": "stream",
     "text": [
      "Uploading files: 100%|████████████████████████████| 1/1 [00:01<00:00,  1.33s/it]\n",
      "Creating extraction jobs: 100%|███████████████████| 1/1 [00:00<00:00,  2.04it/s]\n",
      "Extracting files: 100%|███████████████████████████| 1/1 [00:10<00:00, 10.10s/it]\n"
     ]
    },
    {
     "name": "stdout",
     "output_type": "stream",
     "text": [
      "Extracting data from Ohio_state/P21875437-P21434721-P21880042.pdf\n"
     ]
    },
    {
     "name": "stderr",
     "output_type": "stream",
     "text": [
      "Uploading files: 100%|████████████████████████████| 1/1 [00:01<00:00,  1.09s/it]\n",
      "Creating extraction jobs: 100%|███████████████████| 1/1 [00:00<00:00,  1.09it/s]\n",
      "Extracting files: 100%|███████████████████████████| 1/1 [00:11<00:00, 11.27s/it]\n"
     ]
    },
    {
     "name": "stdout",
     "output_type": "stream",
     "text": [
      "Extracting data from ST_Louis_univ/P21874807-P21434222-P21879459.pdf\n"
     ]
    },
    {
     "name": "stderr",
     "output_type": "stream",
     "text": [
      "Uploading files: 100%|████████████████████████████| 1/1 [00:01<00:00,  1.19s/it]\n",
      "Creating extraction jobs: 100%|███████████████████| 1/1 [00:00<00:00,  2.04it/s]\n",
      "Extracting files: 100%|███████████████████████████| 1/1 [00:12<00:00, 12.79s/it]\n"
     ]
    },
    {
     "name": "stdout",
     "output_type": "stream",
     "text": [
      "Extracting data from Stevenson/P21870783-P21431172-P21875933.pdf\n"
     ]
    },
    {
     "name": "stderr",
     "output_type": "stream",
     "text": [
      "Uploading files: 100%|████████████████████████████| 1/1 [00:01<00:00,  1.31s/it]\n",
      "Creating extraction jobs: 100%|███████████████████| 1/1 [00:00<00:00,  2.05it/s]\n",
      "Extracting files: 100%|███████████████████████████| 1/1 [00:09<00:00,  9.02s/it]\n"
     ]
    },
    {
     "name": "stdout",
     "output_type": "stream",
     "text": [
      "Extracting data from Texas_A&M/P21898799-P21452091-P21899985.pdf\n"
     ]
    },
    {
     "name": "stderr",
     "output_type": "stream",
     "text": [
      "Uploading files: 100%|████████████████████████████| 1/1 [00:01<00:00,  1.79s/it]\n",
      "Creating extraction jobs: 100%|███████████████████| 1/1 [00:00<00:00,  1.47it/s]\n",
      "Extracting files: 100%|███████████████████████████| 1/1 [00:24<00:00, 24.10s/it]\n"
     ]
    },
    {
     "name": "stdout",
     "output_type": "stream",
     "text": [
      "Extracting data from The_catholic_university_of_america/P21849198-P11371813-P21859547.pdf\n"
     ]
    },
    {
     "name": "stderr",
     "output_type": "stream",
     "text": [
      "Uploading files: 100%|████████████████████████████| 1/1 [00:01<00:00,  1.38s/it]\n",
      "Creating extraction jobs: 100%|███████████████████| 1/1 [00:00<00:00,  2.28it/s]\n",
      "Extracting files: 100%|███████████████████████████| 1/1 [00:15<00:00, 15.43s/it]\n"
     ]
    },
    {
     "name": "stdout",
     "output_type": "stream",
     "text": [
      "Extracting data from University_of_colorado/P21915816-P21464707-P21913817.pdf\n"
     ]
    },
    {
     "name": "stderr",
     "output_type": "stream",
     "text": [
      "Uploading files: 100%|████████████████████████████| 1/1 [00:01<00:00,  1.28s/it]\n",
      "Creating extraction jobs: 100%|███████████████████| 1/1 [00:00<00:00,  2.05it/s]\n",
      "Extracting files: 100%|███████████████████████████| 1/1 [00:30<00:00, 30.81s/it]\n"
     ]
    },
    {
     "name": "stdout",
     "output_type": "stream",
     "text": [
      "Extracting data from University_of_minesota/P11814086-P21430908-P11830336.pdf\n"
     ]
    },
    {
     "name": "stderr",
     "output_type": "stream",
     "text": [
      "Uploading files: 100%|████████████████████████████| 1/1 [00:01<00:00,  1.04s/it]\n",
      "Creating extraction jobs: 100%|███████████████████| 1/1 [00:00<00:00,  1.63it/s]\n",
      "Extracting files: 100%|███████████████████████████| 1/1 [00:17<00:00, 17.50s/it]\n"
     ]
    },
    {
     "name": "stdout",
     "output_type": "stream",
     "text": [
      "Extracting data from stevens_institue_of_technology/P21870185-P21430712-P21875325.pdf\n"
     ]
    },
    {
     "name": "stderr",
     "output_type": "stream",
     "text": [
      "Uploading files: 100%|████████████████████████████| 1/1 [00:01<00:00,  1.05s/it]\n",
      "Creating extraction jobs: 100%|███████████████████| 1/1 [00:00<00:00,  2.12it/s]\n",
      "Extracting files: 100%|███████████████████████████| 1/1 [00:09<00:00,  9.86s/it]"
     ]
    },
    {
     "name": "stdout",
     "output_type": "stream",
     "text": [
      "All schools written to output_4/all_schools.xlsx\n"
     ]
    },
    {
     "name": "stderr",
     "output_type": "stream",
     "text": [
      "\n"
     ]
    }
   ],
   "source": [
    "OUTPUT_FILE = os.path.join(OUTPUT_ROOT, \"all_schools.xlsx\")\n",
    "\n",
    "writer = pd.ExcelWriter(OUTPUT_FILE, engine=\"openpyxl\")\n",
    "\n",
    "for school in sorted(os.listdir(PDF_ROOT)):\n",
    "    school_dir = os.path.join(PDF_ROOT, school)\n",
    "    if not os.path.isdir(school_dir):\n",
    "        continue\n",
    "\n",
    "    combined   = {}\n",
    "    first_keys = None\n",
    "    for fname in sorted(os.listdir(school_dir)):\n",
    "        if not fname.lower().endswith(\".pdf\"):\n",
    "            continue\n",
    "        path = os.path.join(school_dir, fname)\n",
    "        print(f\"Extracting data from {school}/{fname}\")\n",
    "        try:\n",
    "            run  = agent.extract(path)\n",
    "            data = run.data or {}\n",
    "            if first_keys is None:\n",
    "                first_keys = list(data.keys())\n",
    "                combined  = {k: None for k in first_keys}\n",
    "            for k, v in data.items():\n",
    "                if v not in (None, \"\", []):\n",
    "                    combined[k] = v\n",
    "        except Exception as err:\n",
    "            print(f\"Skipped {fname}: {err}\")\n",
    "\n",
    "    if first_keys:\n",
    "        df = pd.DataFrame.from_dict(combined, orient=\"index\", columns=[\"2024-25\"])\n",
    "        df.index.name = \"Metric\"\n",
    "        sheet_name = school[:31]\n",
    "        df.to_excel(writer, sheet_name=sheet_name)\n",
    "    else:\n",
    "        print(f\"No data for {school}.\")\n",
    "\n",
    "writer.close()\n",
    "print(f\"All schools written to {OUTPUT_FILE}\")"
   ]
  },
  {
   "cell_type": "code",
   "execution_count": 11,
   "id": "47a6c073-4b51-4770-abc4-f5942a1f772a",
   "metadata": {},
   "outputs": [
    {
     "name": "stdout",
     "output_type": "stream",
     "text": [
      "Saved: output_4/all_schools_combined.xlsx\n"
     ]
    }
   ],
   "source": [
    "#Combine all the tabs into one sheet if wanted\n",
    "file_path   = \"output_4/all_schools.xlsx\"\n",
    "output_path = \"output_4/all_schools_combined.xlsx\"\n",
    "\n",
    "raw = pd.read_excel(file_path, sheet_name=None, index_col=0)\n",
    "\n",
    "school_series = {\n",
    "    school: df.iloc[:, 0]                      # first (only) value column\n",
    "    for school, df in raw.items()\n",
    "}\n",
    "\n",
    "df_comb = pd.DataFrame(school_series).T\n",
    "df_comb.index.name = \"School\"                 \n",
    "df_comb.insert(0, \"Year\", \"2024‑2025\")\n",
    "\n",
    "df_comb.loc['Texas_A&M', ['Total_Headcount','Undergraduate_Headcount']] = \\\n",
    "    df_comb.loc['Texas_A&M', ['Undergraduate_Headcount','Total_Headcount']].values\n",
    "\n",
    "# df_comb.loc['California_state_university', 'Undergraduate_Headcount'] = None \n",
    "with pd.ExcelWriter(output_path, engine=\"openpyxl\") as writer:\n",
    "    df_comb.to_excel(writer, sheet_name=\"Combined\")\n",
    "\n",
    "print(\"Saved:\", output_path)"
   ]
  },
  {
   "cell_type": "code",
   "execution_count": null,
   "id": "cdd5ba9c-4240-49fe-8707-9c4fde4a09b6",
   "metadata": {},
   "outputs": [],
   "source": []
  }
 ],
 "metadata": {
  "kernelspec": {
   "display_name": "Python [conda env:base] *",
   "language": "python",
   "name": "conda-base-py"
  },
  "language_info": {
   "codemirror_mode": {
    "name": "ipython",
    "version": 3
   },
   "file_extension": ".py",
   "mimetype": "text/x-python",
   "name": "python",
   "nbconvert_exporter": "python",
   "pygments_lexer": "ipython3",
   "version": "3.12.7"
  }
 },
 "nbformat": 4,
 "nbformat_minor": 5
}
