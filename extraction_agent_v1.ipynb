{
 "cells": [
  {
   "cell_type": "code",
   "execution_count": 2,
   "id": "5c9627dd-5608-4da8-9f1a-8ea9589a003b",
   "metadata": {},
   "outputs": [],
   "source": [
    "import os\n",
    "import pandas as pd\n",
    "from llama_cloud_services import LlamaExtract\n",
    "from schemas import Enrollment2024_25  #This could be adjusted through schemas.py\n",
    "from dotenv import load_dotenv"
   ]
  },
  {
   "cell_type": "code",
   "execution_count": 3,
   "id": "cf875a82-1028-4b54-8807-1d1dde9cca33",
   "metadata": {},
   "outputs": [
    {
     "data": {
      "text/plain": [
       "True"
      ]
     },
     "execution_count": 3,
     "metadata": {},
     "output_type": "execute_result"
    }
   ],
   "source": [
    "PDF_ROOT = \"university_pdfs\"\n",
    "OUTPUT_ROOT = \"output_scrapping\"\n",
    "os.makedirs(OUTPUT_ROOT, exist_ok=True)  \n",
    "AGENT_ID = \"ca221e4c-b3b2-4bf1-8862-d26016c9943a\" #Different based on your LLamaCloud account\n",
    "load_dotenv() #make sure the API key is in the .env file"
   ]
  },
  {
   "cell_type": "code",
   "execution_count": 15,
   "id": "47855a29-4fc8-4dae-b036-4626be1954da",
   "metadata": {},
   "outputs": [],
   "source": [
    "extractor = LlamaExtract(project_id = '8c10e62e-3810-4193-915d-d2d11105826d')\n",
    "\n",
    "#uncomment the below line if you are creating the agent for the first time\n",
    "# agent = extractor.create_agent(name = \"enrollment-parser-2024\", data_schema=Enrollment2024_25)\n",
    "\n",
    "agent = extractor.get_agent(id = AGENT_ID)\n",
    "\n",
    "#uncomment the following lines if you updated the schema\n",
    "agent.data_schema = Enrollment2024_25\n",
    "agent.save()\n",
    "agent = extractor.get_agent(id = AGENT_ID)\n"
   ]
  },
  {
   "cell_type": "code",
   "execution_count": 17,
   "id": "f81a8d24-9e3e-40eb-a1c0-9fe4e2025a35",
   "metadata": {},
   "outputs": [
    {
     "data": {
      "text/plain": [
       "{'additionalProperties': False,\n",
       " 'properties': {'Undergraduate_Headcount': {'anyOf': [{'type': 'integer'},\n",
       "    {'type': 'null'}],\n",
       "   'description': \"Total undergraduate headcount for the 2024–2025 academic year (Different than undergraduate FTE. Sometimes you need to combine both full-time and part time).Search around the tables to locate what type of enrollment information it is.Only extract data for the 2024–2025 year or terms labeled Fall 2024, etcignore any data from other years or terms (e.g. 2023, 2023–2024, Fall 2023, Fall 2022, 2022). it's possible for a school to have multiple campuses, so combine all campuses' count or online and in-person count if applicable.If it didn't specify what kind of headcount is it, do not assume it's undergraduate headcount!!!Combine online and in-person if applicable.look around the table to see what type of data is it Do not derive or hallucinate the data unless the field is actually in the document.\"},\n",
       "  'Undergraduate_Headcount_Full_Time': {'anyOf': [{'type': 'integer'},\n",
       "    {'type': 'null'}],\n",
       "   'description': \"Undergraduate full-time or FT headcount for the 2024–2025 academic year. This is different than FTE(full-time equivalent).Only extract data for the 2024–2025 year or terms labeled Fall 2024, etc. ignore any data from other years or terms (e.g. 2023, 2023–2024, Fall 2023, Fall 2022, 2022). Combine across all campuses if the institution has multiple locations.Don't assume it's undergraduate full time unless it says undergraduate in the data description.When there is no specification of what kind of full-time it is, it should be total full-time.\"},\n",
       "  'Undergraduate_Headcount_Part_Time': {'anyOf': [{'type': 'integer'},\n",
       "    {'type': 'null'}],\n",
       "   'description': \"Undergraduate part-time (PT) headcount for the 2024–2025 academic year. Only extract data for the 2024–2025 year or terms labeled Fall 2024, etc. ignore any data from other years or terms (e.g. 2023, 2023–2024, Fall 2023, Fall 2022, 2022). Combine across all campuses if the institution has multiple locations. Do not derive or hallucinate the data unless the field is actually in the document.Don't assume it's undergraduate part time unless it says undergraduate in the data description.When there is no specification of what kind of part-time it is, it should be total part-time.\"},\n",
       "  'Graduate_Headcount': {'anyOf': [{'type': 'integer'}, {'type': 'null'}],\n",
       "   'description': \"Total graduate headcount for the 2024–2025 academic year. Post baccalaureate is considered a graduate headcount.(Different than graduate FTE. Sometimes you need to combine both full-time and part time), Combine enrollment across all graduate schools (e.g. Business, Education, etc.), if the graduate headcount included both professional and graduate headcount, it's fine to just put them under graduate headcount.Combine online and in-person if applicable.which may be labeled “GR”, “Grad”, or “Graduate”. Only extract data for the 2024–2025 year or terms labeled Fall 2024, etcignore any data from other years or terms (e.g. 2023, 2023–2024, Fall 2023, Fall 2022, 2022). it's possible for a school to have multiple campuses, so combine all campuses' count or online and in-person count if applicable. Do not derive or hallucinate the data unless the field is actually in the document.\"},\n",
       "  'Graduate_Headcount_Full_Time': {'anyOf': [{'type': 'integer'},\n",
       "    {'type': 'null'}],\n",
       "   'description': \"Graduate full-time (FT) headcount for the 2024–2025 academic year. Post baccalaureate is considered a graduate headcount.This is different than FTE(full-time equivalent).Combine across all graduate schools. Only extract data for the 2024–2025 year or terms labeled Fall 2024, etc. ignore any data from other years or terms (e.g. 2023, 2023–2024, Fall 2023, Fall 2022, 2022). Combine across campuses if needed. Do not derive or hallucinate the data unless the field is actually in the document.Don't assume it's graduate full-time unless it says undergraduate in the data description.When there is no specification of what kind of full-time it is, it should be total full-time.\"},\n",
       "  'Graduate_Headcount_Part_Time': {'anyOf': [{'type': 'integer'},\n",
       "    {'type': 'null'}],\n",
       "   'description': \"Graduate part-time (PT) headcount for the 2024–2025 academic year. Post baccalaureate is considered a graduate headcount.Combine across all graduate schools. Only extract data for the 2024–2025 year or terms labeled Fall 2024, etc. ignore any data from other years or terms (e.g. 2023, 2023–2024, Fall 2023, Fall 2022, 2022). Combine across campuses if needed. Do not derive or hallucinate the data unless the field is actually in the document.Don't assume it's graduate part time unless it says undergraduate in the data description.When there is no specification of what kind of part-time it is, it should be total part-time.\"},\n",
       "  'Professional_Headcount': {'anyOf': [{'type': 'integer'}, {'type': 'null'}],\n",
       "   'description': \"Combined professional school headcount (e.g. med, law) for 2024–2025. (Different than professional FTE. Sometimes you need to combine both full-time and part time).Only extract data for the 2024–2025 year or terms labeled Fall 2024, etcignore any data from other years or terms (e.g. 2023, 2023–2024, Fall 2023, Fall 2022, 2022). it's possible for a school to have multiple campuses, so combine all campuses' count if applicable. Do not derive or hallucinate the data unless the field is actually in the document.\"},\n",
       "  'Non_Degree_Headcount': {'anyOf': [{'type': 'integer'}, {'type': 'null'}],\n",
       "   'description': \"(Different than Non-Degree FTE. Sometimes you need to combine both full-time and part time).Sometimes, Non-Degree is listed as Non-creditOnly extract data for the 2024–2025 year or terms labeled Fall 2024, etcignore any data from other years or terms (e.g. 2023, 2023–2024, Fall 2023, Fall 2022, 2022). it's possible for a school to have multiple campuses, so combine all campuses' count if applicable. Do not derive or hallucinate the data unless the field is actually in the document.\"},\n",
       "  'Total_Headcount': {'anyOf': [{'type': 'integer'}, {'type': 'null'}],\n",
       "   'description': \"Overall student headcount for 2024–2025 do **not** compute it by adding Undergraduate, Graduate, Professional, etc.Only extract data for the 2024–2025 year or terms labeled Fall 2024, etcignore any data from other years or terms (e.g. 2023, 2023–2024, Fall 2023, Fall 2022, 2022). it's possible for a school to have multiple campuses, so combine all campuses' count if applicable. Do not derive or hallucinate the data unless the field is actually in the document.\"},\n",
       "  'Total_Headcount_Full_Time': {'anyOf': [{'type': 'integer'},\n",
       "    {'type': 'null'}],\n",
       "   'description': 'Total full-time headcount for 2024–2025 across all student categories. This is different than FTE(full-time equivalent).If not explicitly provided, sum Undergraduate_Headcount_Full_Time + Graduate_Headcount_Full_Time. Only extract data for the 2024–2025 year or terms labeled Fall 2024. ignore any data from other years or terms (e.g. 2023, 2023–2024, Fall 2023, Fall 2022, 2022). do **not** derive it by summing individual full‑time headcounts. Do not derive or hallucinate the data unless the field is actually in the document.When there is no specification of what kind of full-time it is, it should be total full-time.'},\n",
       "  'Total_Headcount_Part_Time': {'anyOf': [{'type': 'integer'},\n",
       "    {'type': 'null'}],\n",
       "   'description': 'Total part-time headcount for 2024–2025 across all student categories. If not explicitly provided, sum Undergraduate_Headcount_Part_Time + Graduate_Headcount_Part_Time. Only extract data for the 2024–2025 year or terms labeled Fall 2024. ignore any data from other years or terms (e.g. 2023, 2023–2024, Fall 2023, Fall 2022, 2022). do **not** derive it by summing individual part‑time headcounts. Do not derive or hallucinate the data unless the field is actually in the document.When there is no specification of what kind of full-time it is, it should be total full-time.'},\n",
       "  'Undergraduate_FTE': {'anyOf': [{'type': 'integer'}, {'type': 'null'}],\n",
       "   'description': \"Undergraduate full-time equivalent headcount or FTE for 2024–2025. FTE (full-time equivalent) is different than full-time, or FT.Only extract data for the 2024–2025 year or terms labeled Fall 2024, etcignore any data from other years or terms (e.g. 2023, 2023–2024, Fall 2023, Fall 2022, 2022). it's possible for a school to have multiple campuses, so combine all campuses' count if applicable. Do not derive or hallucinate the data unless the field is actually in the document.\"},\n",
       "  'Graduate_FTE': {'anyOf': [{'type': 'integer'}, {'type': 'null'}],\n",
       "   'description': \"Graduate full-time headcount or FTE for 2024–2025. Post baccalaureate is considered a graduate headcount.FTE (full-time equivalent) is different than full-time, or FT.Combine enrollment across all graduate schools (e.g. Business, Education, etc.), which may be labeled “GR”, “Grad”, or “Graduate”. Only extract data for the 2024–2025 year or terms labeled Fall 2024, etcignore any data from other years or terms (e.g. 2023, 2023–2024, Fall 2023, Fall 2022, 2022). it's possible for a school to have multiple campuses, so combine all campuses' count if applicable. Do not derive or hallucinate the data unless the field is actually in the document.\"},\n",
       "  'Professional_FTE': {'anyOf': [{'type': 'integer'}, {'type': 'null'}],\n",
       "   'description': \"Professional school full-time headcount or FTE for 2024–2025. FTE (full-time equivalent) is different than full-time, or FT.Only extract data for the 2024–2025 year or terms labeled Fall 2024, etcignore any data from other years or terms (e.g. 2023, 2023–2024, Fall 2023, Fall 2022, 2022). it's possible for a school to have multiple campuses, so combine all campuses' count if applicable. Do not derive or hallucinate the data unless the field is actually in the document.\"},\n",
       "  'Total_Full_Time_Equivalent_Students': {'anyOf': [{'type': 'integer'},\n",
       "    {'type': 'null'}],\n",
       "   'description': \"Total full-time equivalent students (FTE) for the 2024–2025 academic year.Only extract data for the 2024–2025 year or terms labeled Fall 2024, etcignore any data from other years or terms (e.g. 2023, 2023–2024, Fall 2023, Fall 2022, 2022). it's possible for a school to have multiple campuses, so combine all campuses' count if applicable.do **not** derive it by summing the individual FTE fields. Do not derive or hallucinate the data unless the field is actually in the document.\"},\n",
       "  'Undergraduate_Applications_Rcvd': {'anyOf': [{'type': 'integer'},\n",
       "    {'type': 'null'}],\n",
       "   'description': 'Total undergraduate applications received for the 2024–2025 cycle (e.g. Fall\\xa02024). Ignore other years/terms. ignore any data from other years or terms (e.g. 2023, 2023–2024, Fall 2023, Fall 2022, 2022). Combine all campuses if applicable. Do not derive or hallucinate the data unless the field is actually in the document.'},\n",
       "  'Graduate_Applications_Rcvd': {'anyOf': [{'type': 'integer'},\n",
       "    {'type': 'null'}],\n",
       "   'description': 'Total graduate applications received for the 2024–2025 cycle (e.g. Fall\\xa02024). Ignore other years/terms. ignore any data from other years or terms (e.g. 2023, 2023–2024, Fall 2023, Fall 2022, 2022). Combine all campuses if applicable. Do not derive or hallucinate the data unless the field is actually in the document.'},\n",
       "  'Transfer_Applications_Rcvd': {'anyOf': [{'type': 'integer'},\n",
       "    {'type': 'null'}],\n",
       "   'description': 'Total transfer applications received for the 2024–2025 cycle (e.g. Fall\\xa02024). Ignore other years/terms. ignore any data from other years or terms (e.g. 2023, 2023–2024, Fall 2023, Fall 2022, 2022). Combine all campuses if applicable. Do not derive or hallucinate the data unless the field is actually in the document.'},\n",
       "  'Undergraduate_Acceptances': {'anyOf': [{'type': 'integer'},\n",
       "    {'type': 'null'}],\n",
       "   'description': 'Total undergraduate acceptances for the 2024–2025 cycle (e.g. Fall\\xa02024). Ignore other years/terms. ignore any data from other years or terms (e.g. 2023, 2023–2024, Fall 2023, Fall 2022, 2022). Combine all campuses if applicable. Do not derive or hallucinate the data unless the field is actually in the document.'},\n",
       "  'Graduate_Acceptances': {'anyOf': [{'type': 'integer'}, {'type': 'null'}],\n",
       "   'description': 'Total graduate acceptances for the 2024–2025 cycle (e.g. Fall\\xa02024). Ignore other years/terms. ignore any data from other years or terms (e.g. 2023, 2023–2024, Fall 2023, Fall 2022, 2022). Combine all campuses if applicable. Do not derive or hallucinate the data unless the field is actually in the document.'},\n",
       "  'Transfer_Acceptances': {'anyOf': [{'type': 'integer'}, {'type': 'null'}],\n",
       "   'description': 'Total transfer acceptances for the 2024–2025 cycle (e.g. Fall\\xa02024). Ignore other years/terms. ignore any data from other years or terms (e.g. 2023, 2023–2024, Fall 2023, Fall 2022, 2022). Combine all campuses if applicable. Do not derive or hallucinate the data unless the field is actually in the document.'},\n",
       "  'Undergraduate_Matriculants': {'anyOf': [{'type': 'integer'},\n",
       "    {'type': 'null'}],\n",
       "   'description': 'Number of undergraduate students who matriculated in Fall\\xa02024 / 2024–2025. ignore any data from other years or terms (e.g. 2023, 2023–2024, Fall 2023, Fall 2022, 2022). Combine all campuses if applicable. Do not derive or hallucinate the data unless the field is actually in the document.'},\n",
       "  'Graduate_Matriculants': {'anyOf': [{'type': 'integer'}, {'type': 'null'}],\n",
       "   'description': 'Number of graduate students who matriculated in Fall\\xa02024 / 2024–2025. ignore any data from other years or terms (e.g. 2023, 2023–2024, Fall 2023, Fall 2022, 2022). Combine all campuses if applicable. Do not derive or hallucinate the data unless the field is actually in the document.'},\n",
       "  'Transfer_Matriculants': {'anyOf': [{'type': 'integer'}, {'type': 'null'}],\n",
       "   'description': 'Number of transfer students who matriculated in Fall\\xa02024 / 2024–2025. ignore any data from other years or terms (e.g. 2023, 2023–2024, Fall 2023, Fall 2022, 2022). Combine all campuses if applicable. Do not derive or hallucinate the data unless the field is actually in the document.'},\n",
       "  'Retention_Rate': {'anyOf': [{'type': 'number'}, {'type': 'null'}],\n",
       "   'description': \"Retention rate % for the 2024–2025 entering class. Only extract data for the 2024–2025 year or terms labeled Fall 2024, etc.; ignore any data from other years or terms (e.g. 2023, 2023–2024, Fall 2023, Fall 2022, 2022). it's possible for a school to have multiple campuses, so combine all campuses' count if applicable. Do not derive or hallucinate the data unless the field is actually in the document.\"},\n",
       "  'Full_Time_Employee_Equivalents': {'anyOf': [{'type': 'integer'},\n",
       "    {'type': 'null'}],\n",
       "   'description': \"Full-time employee equivalents (staff/faculty) in 2024–2025. Only extract data for the 2024–2025 year or terms labeled Fall 2024, etc.; ignore any data from other years or terms (e.g. 2023, 2023–2024, Fall 2023, Fall 2022, 2022). it's possible for a school to have multiple campuses, so combine all campuses' count if applicable. Do not derive or hallucinate the data unless the field is actually in the document.\"},\n",
       "  'Tuition': {'anyOf': [{'type': 'integer'}, {'type': 'null'}],\n",
       "   'description': \"Undergraduate tuition rate for the 2024–2025 academic year. This is different than revenue generated by tuition or any financial accounting dataOnly extract data for the 2024–2025 year or terms labeled Fall 2024, etc.; ignore any data from other years or terms (e.g. 2023, 2023–2024, Fall 2023, Fall 2022, 2022). it's possible for a school to have multiple campuses, so average the tuition per student per campus. Do not derive or hallucinate the data unless the field is actually in the document.\"},\n",
       "  'Room_and_Board_20_meals': {'anyOf': [{'type': 'integer'}, {'type': 'null'}],\n",
       "   'description': \"Room & board cost (20-meal plan) for the 2024–2025 year. Only extract data for the 2024–2025 year or terms labeled Fall 2024, etc.; ignore any data from other years or terms (e.g. 2023, 2023–2024, Fall 2023, Fall 2022, 2022). it's possible for a school to have multiple campuses, so combine all campuses' count if applicable. Do not derive or hallucinate the data unless the field is actually in the document.\"}},\n",
       " 'required': ['Undergraduate_Headcount',\n",
       "  'Undergraduate_Headcount_Full_Time',\n",
       "  'Undergraduate_Headcount_Part_Time',\n",
       "  'Graduate_Headcount',\n",
       "  'Graduate_Headcount_Full_Time',\n",
       "  'Graduate_Headcount_Part_Time',\n",
       "  'Professional_Headcount',\n",
       "  'Non_Degree_Headcount',\n",
       "  'Total_Headcount',\n",
       "  'Total_Headcount_Full_Time',\n",
       "  'Total_Headcount_Part_Time',\n",
       "  'Undergraduate_FTE',\n",
       "  'Graduate_FTE',\n",
       "  'Professional_FTE',\n",
       "  'Total_Full_Time_Equivalent_Students',\n",
       "  'Undergraduate_Applications_Rcvd',\n",
       "  'Graduate_Applications_Rcvd',\n",
       "  'Transfer_Applications_Rcvd',\n",
       "  'Undergraduate_Acceptances',\n",
       "  'Graduate_Acceptances',\n",
       "  'Transfer_Acceptances',\n",
       "  'Undergraduate_Matriculants',\n",
       "  'Graduate_Matriculants',\n",
       "  'Transfer_Matriculants',\n",
       "  'Retention_Rate',\n",
       "  'Full_Time_Employee_Equivalents',\n",
       "  'Tuition',\n",
       "  'Room_and_Board_20_meals'],\n",
       " 'type': 'object'}"
      ]
     },
     "execution_count": 17,
     "metadata": {},
     "output_type": "execute_result"
    }
   ],
   "source": [
    "agent.data_schema"
   ]
  },
  {
   "cell_type": "markdown",
   "id": "6449229a-af1c-4e6f-8219-6497a0a1bc94",
   "metadata": {},
   "source": [
    "The following two cell blocks extract all schools' info into one excel file per school."
   ]
  },
  {
   "cell_type": "code",
   "execution_count": null,
   "id": "36077e96-e5ec-4352-afef-d76b8f78be2d",
   "metadata": {},
   "outputs": [],
   "source": [
    "def process_school(school_name, school_dir):\n",
    "    combined   = {}\n",
    "    first_keys = None\n",
    "\n",
    "    for fname in sorted(os.listdir(school_dir)):\n",
    "        if not fname.lower().endswith(\".pdf\"):\n",
    "            continue\n",
    "        path = os.path.join(school_dir, fname)\n",
    "        print(f\"Extracting data from {fname}\")\n",
    "        try:\n",
    "            run  = agent.extract(path)\n",
    "            data = run.data or {}\n",
    "            if first_keys is None:\n",
    "                first_keys = list(data.keys())\n",
    "                combined  = {k: None for k in first_keys}\n",
    "            for k, v in data.items():\n",
    "                if v not in (None, \"\", []):\n",
    "                    combined[k] = v\n",
    "        except Exception as err:\n",
    "            print(f\"Skipped {fname}: {err}\")\n",
    "\n",
    "    if first_keys:\n",
    "        df = pd.DataFrame.from_dict(combined, orient=\"index\", columns=[\"2024-25\"])\n",
    "        df.index.name = \"Metric\"\n",
    "        outfile = os.path.join(OUTPUT_ROOT, f\"{school_name}.xlsx\")\n",
    "        df.to_excel(outfile)\n",
    "        print(f\"Saved output to {outfile}\")\n",
    "    else:\n",
    "        print(f\"No PDF data found for {school_name}\")"
   ]
  },
  {
   "cell_type": "code",
   "execution_count": null,
   "id": "a7256b8f-8158-48f2-8b89-5e1ae36760c1",
   "metadata": {},
   "outputs": [],
   "source": [
    "# Loop over schools\n",
    "for school in sorted(os.listdir(PDF_ROOT)):\n",
    "    school_dir = os.path.join(PDF_ROOT, school)\n",
    "    if not os.path.isdir(school_dir):\n",
    "        continue\n",
    "    print(f\"Processing school: {school}\")\n",
    "    process_school(school, school_dir)\n",
    "\n",
    "print(\"Extraction complete.\")"
   ]
  },
  {
   "cell_type": "markdown",
   "id": "8b385406-d4f6-48e5-94b5-f999ee2e9f04",
   "metadata": {},
   "source": [
    "The following cell block extracts all the schools' info into one excel sheet but in different tabs."
   ]
  },
  {
   "cell_type": "code",
   "execution_count": 19,
   "id": "dbed9f78-2b07-4696-8bd9-2ad2281d255d",
   "metadata": {},
   "outputs": [
    {
     "name": "stdout",
     "output_type": "stream",
     "text": [
      "Extracting data from ARIZONA_STATE_UNIVERSITY/FY_2024_Arizona_State_University_Annual_Comprehensive_Financial_Report_for_the_year_ended_06_30_2024__4.1_MB_.pdf\n"
     ]
    },
    {
     "name": "stderr",
     "output_type": "stream",
     "text": [
      "Uploading files: 100%|██████████████████████████████| 1/1 [00:10<00:00, 10.14s/it]\n",
      "Creating extraction jobs: 100%|█████████████████████| 1/1 [00:00<00:00,  1.05it/s]\n",
      "Extracting files: 100%|█████████████████████████████| 1/1 [00:24<00:00, 24.13s/it]\n"
     ]
    },
    {
     "name": "stdout",
     "output_type": "stream",
     "text": [
      "Extracting data from ARIZONA_STATE_UNIVERSITY/FY_2024_Arizona_State_University_Continuing_Disclosure_Undertaking_for_the_year_ended_06_30_2024__160_KB_.pdf\n"
     ]
    },
    {
     "name": "stderr",
     "output_type": "stream",
     "text": [
      "Uploading files: 100%|██████████████████████████████| 1/1 [00:01<00:00,  1.12s/it]\n",
      "Creating extraction jobs: 100%|█████████████████████| 1/1 [00:02<00:00,  2.97s/it]\n",
      "Extracting files: 100%|█████████████████████████████| 1/1 [00:09<00:00,  9.90s/it]\n"
     ]
    },
    {
     "name": "stdout",
     "output_type": "stream",
     "text": [
      "Extracting data from BRADLEY_UNIVERSITY/Annual_Financial_Information_and_Operating_Data__Rule_15c2-12__for_FY24_for_the_year_ended_05_31_2024__227_KB_.pdf\n"
     ]
    },
    {
     "name": "stderr",
     "output_type": "stream",
     "text": [
      "Uploading files: 100%|██████████████████████████████| 1/1 [00:01<00:00,  1.15s/it]\n",
      "Creating extraction jobs: 100%|█████████████████████| 1/1 [00:00<00:00,  1.07it/s]\n",
      "Extracting files: 100%|█████████████████████████████| 1/1 [00:09<00:00,  9.28s/it]\n"
     ]
    },
    {
     "name": "stdout",
     "output_type": "stream",
     "text": [
      "Extracting data from BRADLEY_UNIVERSITY/Audited_Financial_Statements_or_ACFR__Rule_15c2-12__for_FY24_for_the_year_ended_05_31_2024__541_KB_.pdf\n"
     ]
    },
    {
     "name": "stderr",
     "output_type": "stream",
     "text": [
      "Uploading files: 100%|██████████████████████████████| 1/1 [00:01<00:00,  1.60s/it]\n",
      "Creating extraction jobs: 100%|█████████████████████| 1/1 [00:00<00:00,  1.36it/s]\n",
      "Extracting files: 100%|█████████████████████████████| 1/1 [00:16<00:00, 16.57s/it]\n"
     ]
    },
    {
     "name": "stdout",
     "output_type": "stream",
     "text": [
      "Extracting data from CALIFORNIA_STATE_UNIVERSITY/Exhibit_1_CSU_Combined_Financial_Stmts_6-30-24_for_the_year_ended_06_30_2024__15.6_MB_.pdf\n"
     ]
    },
    {
     "name": "stderr",
     "output_type": "stream",
     "text": [
      "Uploading files: 100%|██████████████████████████████| 1/1 [00:07<00:00,  7.54s/it]\n",
      "Creating extraction jobs: 100%|█████████████████████| 1/1 [00:00<00:00,  1.55it/s]\n",
      "Extracting files: 100%|█████████████████████████████| 1/1 [00:17<00:00, 17.68s/it]\n"
     ]
    },
    {
     "name": "stdout",
     "output_type": "stream",
     "text": [
      "Extracting data from CALIFORNIA_STATE_UNIVERSITY/Exhibit_1_CSU_Combined_Financial_Stmts_6-30-24_for_the_year_ended_06_30_2024__308_KB_.pdf\n"
     ]
    },
    {
     "name": "stderr",
     "output_type": "stream",
     "text": [
      "Uploading files: 100%|██████████████████████████████| 1/1 [00:01<00:00,  1.26s/it]\n",
      "Creating extraction jobs: 100%|█████████████████████| 1/1 [00:00<00:00,  1.54it/s]\n",
      "Extracting files: 100%|█████████████████████████████| 1/1 [00:11<00:00, 11.59s/it]\n"
     ]
    },
    {
     "name": "stdout",
     "output_type": "stream",
     "text": [
      "Extracting data from CALIFORNIA_STATE_UNIVERSITY/Exhibit_1_DRAFT_UNAUDITED_CSU_Combined_Financial_Statements_6-30-24_for_the_year_ended_06_30_2024__1.2_MB_.pdf\n"
     ]
    },
    {
     "name": "stderr",
     "output_type": "stream",
     "text": [
      "Uploading files: 100%|██████████████████████████████| 1/1 [00:02<00:00,  2.15s/it]\n",
      "Creating extraction jobs: 100%|█████████████████████| 1/1 [00:00<00:00,  1.39it/s]\n",
      "Extracting files: 100%|█████████████████████████████| 1/1 [00:26<00:00, 26.26s/it]\n"
     ]
    },
    {
     "name": "stdout",
     "output_type": "stream",
     "text": [
      "Extracting data from CALIFORNIA_STATE_UNIVERSITY/Exhibit_1_DRAFT_UNAUDITED_CSU_Combined_Financial_Statements_6-30-24_for_the_year_ended_06_30_2024__298_KB_.pdf\n"
     ]
    },
    {
     "name": "stderr",
     "output_type": "stream",
     "text": [
      "Uploading files: 100%|██████████████████████████████| 1/1 [00:01<00:00,  1.79s/it]\n",
      "Creating extraction jobs: 100%|█████████████████████| 1/1 [00:00<00:00,  1.49it/s]\n",
      "Extracting files: 100%|█████████████████████████████| 1/1 [00:08<00:00,  8.62s/it]\n"
     ]
    },
    {
     "name": "stdout",
     "output_type": "stream",
     "text": [
      "Extracting data from CORNELL_UNIVERSITY/2024_Audited_Financial_Statements_for_the_year_ended_06_30_2024__788_KB_.pdf\n"
     ]
    },
    {
     "name": "stderr",
     "output_type": "stream",
     "text": [
      "Uploading files: 100%|██████████████████████████████| 1/1 [00:01<00:00,  1.37s/it]\n",
      "Creating extraction jobs: 100%|█████████████████████| 1/1 [00:00<00:00,  1.52it/s]\n",
      "Extracting files: 100%|█████████████████████████████| 1/1 [00:12<00:00, 12.25s/it]\n"
     ]
    },
    {
     "name": "stdout",
     "output_type": "stream",
     "text": [
      "Extracting data from CORNELL_UNIVERSITY/2024_Operating_Data_for_the_year_ended_06_30_2024__109_KB_.pdf\n"
     ]
    },
    {
     "name": "stderr",
     "output_type": "stream",
     "text": [
      "Uploading files: 100%|██████████████████████████████| 1/1 [00:00<00:00,  1.11it/s]\n",
      "Creating extraction jobs: 100%|█████████████████████| 1/1 [00:00<00:00,  1.38it/s]\n",
      "Extracting files: 100%|█████████████████████████████| 1/1 [00:09<00:00,  9.44s/it]\n"
     ]
    },
    {
     "name": "stdout",
     "output_type": "stream",
     "text": [
      "Extracting data from CORNELL_UNIVERSITY/Incorporate_OS_by_Reference_as_of_04_25_2024__2.4_MB_.pdf\n"
     ]
    },
    {
     "name": "stderr",
     "output_type": "stream",
     "text": [
      "Uploading files: 100%|██████████████████████████████| 1/1 [00:01<00:00,  1.79s/it]\n",
      "Creating extraction jobs: 100%|█████████████████████| 1/1 [00:00<00:00,  2.13it/s]\n",
      "Extracting files: 100%|█████████████████████████████| 1/1 [00:14<00:00, 14.62s/it]\n"
     ]
    },
    {
     "name": "stdout",
     "output_type": "stream",
     "text": [
      "Extracting data from CULINARY_INSTITUTE_OF_AMERICA_THE/2024_Annual_Report_-_Corrected_for_the_year_ended_05_31_2024__130_KB_.pdf\n"
     ]
    },
    {
     "name": "stderr",
     "output_type": "stream",
     "text": [
      "Uploading files: 100%|██████████████████████████████| 1/1 [00:01<00:00,  1.69s/it]\n",
      "Creating extraction jobs: 100%|█████████████████████| 1/1 [00:00<00:00,  1.22it/s]\n",
      "Extracting files: 100%|█████████████████████████████| 1/1 [00:11<00:00, 11.90s/it]\n"
     ]
    },
    {
     "name": "stdout",
     "output_type": "stream",
     "text": [
      "Extracting data from CULINARY_INSTITUTE_OF_AMERICA_THE/2024_Annual_Report_for_the_year_ended_05_31_2024__129_KB_.pdf\n"
     ]
    },
    {
     "name": "stderr",
     "output_type": "stream",
     "text": [
      "Uploading files: 100%|██████████████████████████████| 1/1 [00:01<00:00,  1.12s/it]\n",
      "Creating extraction jobs: 100%|█████████████████████| 1/1 [00:00<00:00,  1.37it/s]\n",
      "Extracting files: 100%|█████████████████████████████| 1/1 [00:09<00:00,  9.64s/it]\n"
     ]
    },
    {
     "name": "stdout",
     "output_type": "stream",
     "text": [
      "Extracting data from CULINARY_INSTITUTE_OF_AMERICA_THE/2024_Audited_Financial_Statements_for_the_year_ended_05_31_2024__277_KB_.pdf\n"
     ]
    },
    {
     "name": "stderr",
     "output_type": "stream",
     "text": [
      "Uploading files: 100%|██████████████████████████████| 1/1 [00:01<00:00,  1.25s/it]\n",
      "Creating extraction jobs: 100%|█████████████████████| 1/1 [00:00<00:00,  1.79it/s]\n",
      "Extracting files: 100%|█████████████████████████████| 1/1 [00:10<00:00, 10.78s/it]\n"
     ]
    },
    {
     "name": "stdout",
     "output_type": "stream",
     "text": [
      "Extracting data from GANNON_UNIVERSITY/Audited_Financial_Statements_for_the_year_ended_06_30_2024__786_KB_.pdf\n"
     ]
    },
    {
     "name": "stderr",
     "output_type": "stream",
     "text": [
      "Uploading files: 100%|██████████████████████████████| 1/1 [00:02<00:00,  2.39s/it]\n",
      "Creating extraction jobs: 100%|█████████████████████| 1/1 [00:00<00:00,  1.19it/s]\n",
      "Extracting files: 100%|█████████████████████████████| 1/1 [00:10<00:00, 10.67s/it]\n"
     ]
    },
    {
     "name": "stdout",
     "output_type": "stream",
     "text": [
      "Extracting data from GANNON_UNIVERSITY/Continued_Disclosures_Fall_2024_for_the_year_ended_06_30_2024_Document1__203_KB_.pdf\n"
     ]
    },
    {
     "name": "stderr",
     "output_type": "stream",
     "text": [
      "Uploading files: 100%|██████████████████████████████| 1/1 [00:08<00:00,  8.55s/it]\n",
      "Creating extraction jobs: 100%|█████████████████████| 1/1 [00:00<00:00,  1.60it/s]\n",
      "Extracting files: 100%|█████████████████████████████| 1/1 [00:08<00:00,  8.61s/it]\n"
     ]
    },
    {
     "name": "stdout",
     "output_type": "stream",
     "text": [
      "Extracting data from LEWIS_UNIVERSITY/Audited_Financial_Statements_for_the_year_ended_06_30_2024__430_KB_.pdf\n"
     ]
    },
    {
     "name": "stderr",
     "output_type": "stream",
     "text": [
      "Uploading files: 100%|██████████████████████████████| 1/1 [00:02<00:00,  2.91s/it]\n",
      "Creating extraction jobs: 100%|█████████████████████| 1/1 [00:00<00:00,  1.96it/s]\n",
      "Extracting files: 100%|█████████████████████████████| 1/1 [00:14<00:00, 14.31s/it]\n"
     ]
    },
    {
     "name": "stdout",
     "output_type": "stream",
     "text": [
      "Extracting data from LEWIS_UNIVERSITY/Continuing_Disclosure_for_the_year_ended_06_30_2024__298_KB_.pdf\n"
     ]
    },
    {
     "name": "stderr",
     "output_type": "stream",
     "text": [
      "Uploading files: 100%|██████████████████████████████| 1/1 [00:01<00:00,  1.07s/it]\n",
      "Creating extraction jobs: 100%|█████████████████████| 1/1 [00:00<00:00,  1.05it/s]\n",
      "Extracting files: 100%|█████████████████████████████| 1/1 [00:12<00:00, 12.39s/it]\n"
     ]
    },
    {
     "name": "stdout",
     "output_type": "stream",
     "text": [
      "Extracting data from MICHIGAN_STATE_UNIVERSITY/Updates_of_Tables_of_Operating_Information_for_the_year_ended_06_30_2024_Document1__143_KB_.pdf\n"
     ]
    },
    {
     "name": "stderr",
     "output_type": "stream",
     "text": [
      "Uploading files: 100%|██████████████████████████████| 1/1 [00:01<00:00,  1.72s/it]\n",
      "Creating extraction jobs: 100%|█████████████████████| 1/1 [00:00<00:00,  1.75it/s]\n",
      "Extracting files: 100%|█████████████████████████████| 1/1 [00:14<00:00, 14.53s/it]\n"
     ]
    },
    {
     "name": "stdout",
     "output_type": "stream",
     "text": [
      "Extracting data from MICHIGAN_STATE_UNIVERSITY/Updates_of_Tables_of_Operating_Information_for_the_year_ended_06_30_2024_Document2__8.4_MB_.pdf\n"
     ]
    },
    {
     "name": "stderr",
     "output_type": "stream",
     "text": [
      "Uploading files: 100%|██████████████████████████████| 1/1 [00:03<00:00,  3.86s/it]\n",
      "Creating extraction jobs: 100%|█████████████████████| 1/1 [00:00<00:00,  1.38it/s]\n",
      "Extracting files: 100%|█████████████████████████████| 1/1 [00:27<00:00, 27.67s/it]\n"
     ]
    },
    {
     "name": "stdout",
     "output_type": "stream",
     "text": [
      "Extracting data from MOLLOY_COLLEGE/Financial_Operating_Filing_for_the_year_ended_06_30_2024_Document1__304_KB_.pdf\n"
     ]
    },
    {
     "name": "stderr",
     "output_type": "stream",
     "text": [
      "Uploading files: 100%|██████████████████████████████| 1/1 [00:01<00:00,  1.35s/it]\n",
      "Creating extraction jobs: 100%|█████████████████████| 1/1 [00:00<00:00,  1.41it/s]\n",
      "Extracting files: 100%|█████████████████████████████| 1/1 [00:12<00:00, 12.42s/it]\n"
     ]
    },
    {
     "name": "stdout",
     "output_type": "stream",
     "text": [
      "Extracting data from MOLLOY_COLLEGE/Financial_Operating_Filing_for_the_year_ended_06_30_2024_Document2__142_KB_.pdf\n"
     ]
    },
    {
     "name": "stderr",
     "output_type": "stream",
     "text": [
      "Uploading files: 100%|██████████████████████████████| 1/1 [00:01<00:00,  1.12s/it]\n",
      "Creating extraction jobs: 100%|█████████████████████| 1/1 [00:00<00:00,  1.15it/s]\n",
      "Extracting files: 100%|█████████████████████████████| 1/1 [00:10<00:00, 10.13s/it]\n"
     ]
    },
    {
     "name": "stdout",
     "output_type": "stream",
     "text": [
      "Extracting data from MOUNT_ST_MARY_S_UNIVERSITY_INC/Audited_Annual_Financials_for_the_year_ended_06_30_2024_Document1__29.1_MB_.pdf\n"
     ]
    },
    {
     "name": "stderr",
     "output_type": "stream",
     "text": [
      "Uploading files: 100%|██████████████████████████████| 1/1 [00:19<00:00, 19.38s/it]\n",
      "Creating extraction jobs: 100%|█████████████████████| 1/1 [00:00<00:00,  1.67it/s]\n",
      "Extracting files: 100%|█████████████████████████████| 1/1 [00:23<00:00, 23.30s/it]\n"
     ]
    },
    {
     "name": "stdout",
     "output_type": "stream",
     "text": [
      "Extracting data from MOUNT_ST_MARY_S_UNIVERSITY_INC/Audited_Annual_Financials_for_the_year_ended_06_30_2024_Document2__5_MB_.pdf\n"
     ]
    },
    {
     "name": "stderr",
     "output_type": "stream",
     "text": [
      "Uploading files: 100%|██████████████████████████████| 1/1 [00:02<00:00,  2.59s/it]\n",
      "Creating extraction jobs: 100%|█████████████████████| 1/1 [00:00<00:00,  1.31it/s]\n",
      "Extracting files: 100%|█████████████████████████████| 1/1 [00:26<00:00, 26.48s/it]\n"
     ]
    },
    {
     "name": "stdout",
     "output_type": "stream",
     "text": [
      "Extracting data from NEW_YORK_UNIVERSITY/2024_Certificate_of_Compliance_-_Audit_for_the_year_ended_06_30_2024__330_KB_.pdf\n"
     ]
    },
    {
     "name": "stderr",
     "output_type": "stream",
     "text": [
      "Uploading files: 100%|██████████████████████████████| 1/1 [00:01<00:00,  1.67s/it]\n",
      "Creating extraction jobs: 100%|█████████████████████| 1/1 [00:00<00:00,  1.60it/s]\n",
      "Extracting files: 100%|█████████████████████████████| 1/1 [00:11<00:00, 11.47s/it]\n"
     ]
    },
    {
     "name": "stdout",
     "output_type": "stream",
     "text": [
      "Extracting data from NEW_YORK_UNIVERSITY/2024_Certificate_of_Compliance_for_the_year_ended_06_30_2024__323_KB_.pdf\n"
     ]
    },
    {
     "name": "stderr",
     "output_type": "stream",
     "text": [
      "Uploading files: 100%|██████████████████████████████| 1/1 [00:01<00:00,  1.28s/it]\n",
      "Creating extraction jobs: 100%|█████████████████████| 1/1 [00:00<00:00,  1.41it/s]\n",
      "Extracting files: 100%|█████████████████████████████| 1/1 [00:11<00:00, 11.98s/it]\n"
     ]
    },
    {
     "name": "stdout",
     "output_type": "stream",
     "text": [
      "Extracting data from NEW_YORK_UNIVERSITY/2024_Consolidated_Financial_Statements_New_York_University_for_the_year_ended_06_30_2024__466_KB_.pdf\n"
     ]
    },
    {
     "name": "stderr",
     "output_type": "stream",
     "text": [
      "Uploading files: 100%|██████████████████████████████| 1/1 [00:01<00:00,  1.39s/it]\n",
      "Creating extraction jobs: 100%|█████████████████████| 1/1 [00:00<00:00,  2.08it/s]\n",
      "Extracting files: 100%|█████████████████████████████| 1/1 [00:10<00:00, 10.77s/it]\n"
     ]
    },
    {
     "name": "stdout",
     "output_type": "stream",
     "text": [
      "Extracting data from NEW_YORK_UNIVERSITY/2024_Operating_Data_for_the_year_ended_06_30_2024__244_KB_.pdf\n"
     ]
    },
    {
     "name": "stderr",
     "output_type": "stream",
     "text": [
      "Uploading files: 100%|██████████████████████████████| 1/1 [00:02<00:00,  2.19s/it]\n",
      "Creating extraction jobs: 100%|█████████████████████| 1/1 [00:01<00:00,  1.87s/it]\n",
      "Extracting files: 100%|█████████████████████████████| 1/1 [00:10<00:00, 10.23s/it]\n"
     ]
    },
    {
     "name": "stdout",
     "output_type": "stream",
     "text": [
      "Extracting data from OHIO_STATE_UNIVERSITY_THE/The_Ohio_State_University_Annual_Update_to_Bondholders_for_the_year_ended_06_30_2024__577_KB_.pdf\n"
     ]
    },
    {
     "name": "stderr",
     "output_type": "stream",
     "text": [
      "Uploading files: 100%|██████████████████████████████| 1/1 [00:02<00:00,  2.21s/it]\n",
      "Creating extraction jobs: 100%|█████████████████████| 1/1 [00:00<00:00,  1.77it/s]\n",
      "Extracting files: 100%|█████████████████████████████| 1/1 [00:12<00:00, 12.23s/it]\n"
     ]
    },
    {
     "name": "stdout",
     "output_type": "stream",
     "text": [
      "Extracting data from OHIO_STATE_UNIVERSITY_THE/The_Ohio_State_University_Quarterly_Update_to_Bondholders_for_the_quarter_ended_03_31_2024__577_KB_.pdf\n"
     ]
    },
    {
     "name": "stderr",
     "output_type": "stream",
     "text": [
      "Uploading files: 100%|██████████████████████████████| 1/1 [00:02<00:00,  2.37s/it]\n",
      "Creating extraction jobs: 100%|█████████████████████| 1/1 [00:00<00:00,  1.40it/s]\n",
      "Extracting files: 100%|█████████████████████████████| 1/1 [00:10<00:00, 10.72s/it]\n"
     ]
    },
    {
     "name": "stdout",
     "output_type": "stream",
     "text": [
      "Extracting data from OHIO_STATE_UNIVERSITY_THE/The_Ohio_State_University_Quarterly_Update_to_Bondholders_for_the_quarter_ended_06_30_2024__576_KB_.pdf\n"
     ]
    },
    {
     "name": "stderr",
     "output_type": "stream",
     "text": [
      "Uploading files: 100%|██████████████████████████████| 1/1 [00:01<00:00,  1.92s/it]\n",
      "Creating extraction jobs: 100%|█████████████████████| 1/1 [00:00<00:00,  1.45it/s]\n",
      "Extracting files: 100%|█████████████████████████████| 1/1 [00:11<00:00, 11.17s/it]\n"
     ]
    },
    {
     "name": "stdout",
     "output_type": "stream",
     "text": [
      "Extracting data from OHIO_STATE_UNIVERSITY_THE/The_Ohio_State_University_Quarterly_Update_to_Bondholders_for_the_quarter_ended_09_30_2024__574_KB_.pdf\n"
     ]
    },
    {
     "name": "stderr",
     "output_type": "stream",
     "text": [
      "Uploading files: 100%|██████████████████████████████| 1/1 [00:06<00:00,  6.90s/it]\n",
      "Creating extraction jobs: 100%|█████████████████████| 1/1 [00:01<00:00,  1.07s/it]\n",
      "Extracting files: 100%|█████████████████████████████| 1/1 [00:12<00:00, 12.19s/it]\n"
     ]
    },
    {
     "name": "stdout",
     "output_type": "stream",
     "text": [
      "Extracting data from OHIO_STATE_UNIVERSITY_THE/The_Ohio_State_University_Quarterly_Update_to_Bondholders_for_the_quarter_ended_12_31_2024__815_KB_.pdf\n"
     ]
    },
    {
     "name": "stderr",
     "output_type": "stream",
     "text": [
      "Uploading files: 100%|██████████████████████████████| 1/1 [00:02<00:00,  2.30s/it]\n",
      "Creating extraction jobs: 100%|█████████████████████| 1/1 [00:00<00:00,  1.70it/s]\n",
      "Extracting files: 100%|█████████████████████████████| 1/1 [00:11<00:00, 11.57s/it]\n"
     ]
    },
    {
     "name": "stdout",
     "output_type": "stream",
     "text": [
      "Extracting data from PRESIDENT___FELLOWS_OF_HARVARD_COLLEGE/Harvard_University_Audited_Financial_Information_for_the_year_ended_06_30_2024__10.6_MB_.pdf\n"
     ]
    },
    {
     "name": "stderr",
     "output_type": "stream",
     "text": [
      "Uploading files: 100%|██████████████████████████████| 1/1 [00:10<00:00, 10.88s/it]\n",
      "Creating extraction jobs: 100%|█████████████████████| 1/1 [00:00<00:00,  1.53it/s]\n",
      "Extracting files: 100%|█████████████████████████████| 1/1 [00:16<00:00, 16.85s/it]\n"
     ]
    },
    {
     "name": "stdout",
     "output_type": "stream",
     "text": [
      "Extracting data from PRESIDENT___FELLOWS_OF_HARVARD_COLLEGE/Harvard_University_Financial_Report_for_the_year_ended_06_30_2024__10.6_MB_.pdf\n"
     ]
    },
    {
     "name": "stderr",
     "output_type": "stream",
     "text": [
      "Uploading files: 100%|██████████████████████████████| 1/1 [00:05<00:00,  5.54s/it]\n",
      "Creating extraction jobs: 100%|█████████████████████| 1/1 [00:00<00:00,  1.50it/s]\n",
      "Extracting files: 100%|█████████████████████████████| 1/1 [00:21<00:00, 21.67s/it]\n"
     ]
    },
    {
     "name": "stdout",
     "output_type": "stream",
     "text": [
      "Extracting data from PRESIDENT___FELLOWS_OF_HARVARD_COLLEGE/Harvard_University_Student_Applications_and_Enrollment_for_the_year_ended_06_30_2024__557_KB_.pdf\n"
     ]
    },
    {
     "name": "stderr",
     "output_type": "stream",
     "text": [
      "Uploading files: 100%|██████████████████████████████| 1/1 [00:01<00:00,  1.52s/it]\n",
      "Creating extraction jobs: 100%|█████████████████████| 1/1 [00:00<00:00,  1.34it/s]\n",
      "Extracting files: 100%|█████████████████████████████| 1/1 [00:09<00:00,  9.83s/it]\n"
     ]
    },
    {
     "name": "stdout",
     "output_type": "stream",
     "text": [
      "Extracting data from STEVENSON_UNIVERSITY_INC/2024_Annual_Compliance_Certificate__EagleBank__for_the_year_ended_06_30_2024__3_MB_.pdf\n"
     ]
    },
    {
     "name": "stderr",
     "output_type": "stream",
     "text": [
      "Uploading files: 100%|██████████████████████████████| 1/1 [00:02<00:00,  2.36s/it]\n",
      "Creating extraction jobs: 100%|█████████████████████| 1/1 [00:00<00:00,  1.51it/s]\n",
      "Extracting files: 100%|█████████████████████████████| 1/1 [00:10<00:00, 10.80s/it]\n"
     ]
    },
    {
     "name": "stdout",
     "output_type": "stream",
     "text": [
      "Extracting data from STEVENSON_UNIVERSITY_INC/2024_Annual_Compliance_Certificate_for_the_year_ended_06_30_2024__2.8_MB_.pdf\n"
     ]
    },
    {
     "name": "stderr",
     "output_type": "stream",
     "text": [
      "Uploading files: 100%|██████████████████████████████| 1/1 [00:01<00:00,  1.91s/it]\n",
      "Creating extraction jobs: 100%|█████████████████████| 1/1 [00:00<00:00,  1.42it/s]\n",
      "Extracting files: 100%|█████████████████████████████| 1/1 [00:13<00:00, 13.22s/it]\n"
     ]
    },
    {
     "name": "stdout",
     "output_type": "stream",
     "text": [
      "Extracting data from STEVENSON_UNIVERSITY_INC/2024_Audited_Financial_Statements_for_the_year_ended_06_30_2024__348_KB_.pdf\n"
     ]
    },
    {
     "name": "stderr",
     "output_type": "stream",
     "text": [
      "Uploading files: 100%|██████████████████████████████| 1/1 [00:01<00:00,  1.15s/it]\n",
      "Creating extraction jobs: 100%|█████████████████████| 1/1 [00:00<00:00,  1.00it/s]\n",
      "Extracting files: 100%|█████████████████████████████| 1/1 [00:11<00:00, 11.32s/it]\n"
     ]
    },
    {
     "name": "stdout",
     "output_type": "stream",
     "text": [
      "Extracting data from STEVENSON_UNIVERSITY_INC/2024_Operating_Data_for_the_year_ended_06_30_2024__196_KB_.pdf\n"
     ]
    },
    {
     "name": "stderr",
     "output_type": "stream",
     "text": [
      "Uploading files: 100%|██████████████████████████████| 1/1 [00:02<00:00,  2.30s/it]\n",
      "Creating extraction jobs: 100%|█████████████████████| 1/1 [00:00<00:00,  1.71it/s]\n",
      "Extracting files: 100%|█████████████████████████████| 1/1 [00:09<00:00,  9.97s/it]\n"
     ]
    },
    {
     "name": "stdout",
     "output_type": "stream",
     "text": [
      "Extracting data from STEVENS_INSTITUTE_OF_TECHNOLOGY/Annual_Report_for_the_year_ended_06_30_2024__216_KB_.pdf\n"
     ]
    },
    {
     "name": "stderr",
     "output_type": "stream",
     "text": [
      "Uploading files: 100%|██████████████████████████████| 1/1 [00:01<00:00,  1.61s/it]\n",
      "Creating extraction jobs: 100%|█████████████████████| 1/1 [00:00<00:00,  1.23it/s]\n",
      "Extracting files: 100%|█████████████████████████████| 1/1 [00:13<00:00, 13.11s/it]\n"
     ]
    },
    {
     "name": "stdout",
     "output_type": "stream",
     "text": [
      "Extracting data from STEVENS_INSTITUTE_OF_TECHNOLOGY/Audit_Financial_Statement_for_the_year_ended_06_30_2024__626_KB_.pdf\n"
     ]
    },
    {
     "name": "stderr",
     "output_type": "stream",
     "text": [
      "Uploading files: 100%|██████████████████████████████| 1/1 [00:02<00:00,  2.07s/it]\n",
      "Creating extraction jobs: 100%|█████████████████████| 1/1 [00:00<00:00,  1.32it/s]\n",
      "Extracting files: 100%|█████████████████████████████| 1/1 [00:12<00:00, 12.49s/it]\n"
     ]
    },
    {
     "name": "stdout",
     "output_type": "stream",
     "text": [
      "Extracting data from ST_LOUIS_UNIVERSITY_US/Amendment_to_Continuing_Disclosure_Undertaking_dated_01_05_2024__392_KB_.pdf\n"
     ]
    },
    {
     "name": "stderr",
     "output_type": "stream",
     "text": [
      "Uploading files: 100%|██████████████████████████████| 1/1 [00:01<00:00,  1.75s/it]\n",
      "Creating extraction jobs: 100%|█████████████████████| 1/1 [00:00<00:00,  1.35it/s]\n",
      "Extracting files: 100%|█████████████████████████████| 1/1 [00:10<00:00, 10.13s/it]\n"
     ]
    },
    {
     "name": "stdout",
     "output_type": "stream",
     "text": [
      "Extracting data from ST_LOUIS_UNIVERSITY_US/Audited_Financials_and_Operating_Data_for_the_year_ended_06_30_2024_Document1__561_KB_.pdf\n"
     ]
    },
    {
     "name": "stderr",
     "output_type": "stream",
     "text": [
      "Uploading files: 100%|██████████████████████████████| 1/1 [00:01<00:00,  1.61s/it]\n",
      "Creating extraction jobs: 100%|█████████████████████| 1/1 [00:00<00:00,  1.41it/s]\n",
      "Extracting files: 100%|█████████████████████████████| 1/1 [00:10<00:00, 10.17s/it]\n"
     ]
    },
    {
     "name": "stdout",
     "output_type": "stream",
     "text": [
      "Extracting data from ST_LOUIS_UNIVERSITY_US/Audited_Financials_and_Operating_Data_for_the_year_ended_06_30_2024_Document2__174_KB_.pdf\n"
     ]
    },
    {
     "name": "stderr",
     "output_type": "stream",
     "text": [
      "Uploading files: 100%|██████████████████████████████| 1/1 [00:01<00:00,  1.24s/it]\n",
      "Creating extraction jobs: 100%|█████████████████████| 1/1 [00:00<00:00,  1.81it/s]\n",
      "Extracting files: 100%|█████████████████████████████| 1/1 [00:08<00:00,  8.62s/it]\n"
     ]
    },
    {
     "name": "stdout",
     "output_type": "stream",
     "text": [
      "Extracting data from TEXAS_A_M_UNIVERSITY/FY_2024_Continuing_Disclosure_Annual_Report_for_the_year_ended_08_31_2024__2.3_MB_.pdf\n"
     ]
    },
    {
     "name": "stderr",
     "output_type": "stream",
     "text": [
      "Uploading files: 100%|██████████████████████████████| 1/1 [00:01<00:00,  1.97s/it]\n",
      "Creating extraction jobs: 100%|█████████████████████| 1/1 [00:01<00:00,  1.16s/it]\n",
      "Extracting files: 100%|█████████████████████████████| 1/1 [00:21<00:00, 21.22s/it]\n"
     ]
    },
    {
     "name": "stdout",
     "output_type": "stream",
     "text": [
      "Extracting data from TEXAS_A_M_UNIVERSITY/Texas_A_M_University_System_Unaudited_Annual_Financial_Reports_for_the_year_ended_08_31_2024__2_MB_.pdf\n"
     ]
    },
    {
     "name": "stderr",
     "output_type": "stream",
     "text": [
      "Uploading files: 100%|██████████████████████████████| 1/1 [00:02<00:00,  2.68s/it]\n",
      "Creating extraction jobs: 100%|█████████████████████| 1/1 [00:00<00:00,  1.87it/s]\n",
      "Extracting files: 100%|█████████████████████████████| 1/1 [00:18<00:00, 18.27s/it]\n"
     ]
    },
    {
     "name": "stdout",
     "output_type": "stream",
     "text": [
      "Extracting data from UNIVERSITY_OF_COLORADO/Financial_and_Operating_Data__Fiscal_Year_2024_for_the_year_ended_06_30_2024__278_KB_.pdf\n"
     ]
    },
    {
     "name": "stderr",
     "output_type": "stream",
     "text": [
      "Uploading files: 100%|██████████████████████████████| 1/1 [00:01<00:00,  1.50s/it]\n",
      "Creating extraction jobs: 100%|█████████████████████| 1/1 [00:00<00:00,  1.62it/s]\n",
      "Extracting files: 100%|█████████████████████████████| 1/1 [00:13<00:00, 13.05s/it]\n"
     ]
    },
    {
     "name": "stdout",
     "output_type": "stream",
     "text": [
      "Extracting data from UNIVERSITY_OF_MINNESOTA/Annual_Financial_Information_and_Operating_Data_for_the_year_ended_06_30_2024_Document1__1.3_MB_.pdf\n"
     ]
    },
    {
     "name": "stderr",
     "output_type": "stream",
     "text": [
      "Uploading files: 100%|██████████████████████████████| 1/1 [00:01<00:00,  1.62s/it]\n",
      "Creating extraction jobs: 100%|█████████████████████| 1/1 [00:00<00:00,  1.28it/s]\n",
      "Extracting files: 100%|█████████████████████████████| 1/1 [00:19<00:00, 19.02s/it]\n"
     ]
    },
    {
     "name": "stdout",
     "output_type": "stream",
     "text": [
      "Extracting data from UNIVERSITY_OF_MINNESOTA/Annual_Financial_Information_and_Operating_Data_for_the_year_ended_06_30_2024_Document2__315_KB_.pdf\n"
     ]
    },
    {
     "name": "stderr",
     "output_type": "stream",
     "text": [
      "Uploading files: 100%|██████████████████████████████| 1/1 [00:01<00:00,  1.37s/it]\n",
      "Creating extraction jobs: 100%|█████████████████████| 1/1 [00:00<00:00,  1.36it/s]\n",
      "Extracting files: 100%|█████████████████████████████| 1/1 [00:21<00:00, 21.45s/it]"
     ]
    },
    {
     "name": "stdout",
     "output_type": "stream",
     "text": [
      "All schools written to output_scrapping/all_schools.xlsx\n"
     ]
    },
    {
     "name": "stderr",
     "output_type": "stream",
     "text": [
      "\n"
     ]
    }
   ],
   "source": [
    "OUTPUT_FILE = os.path.join(OUTPUT_ROOT, \"all_schools.xlsx\")\n",
    "\n",
    "writer = pd.ExcelWriter(OUTPUT_FILE, engine=\"openpyxl\")\n",
    "\n",
    "for school in sorted(os.listdir(PDF_ROOT)):\n",
    "    school_dir = os.path.join(PDF_ROOT, school)\n",
    "    if not os.path.isdir(school_dir):\n",
    "        continue\n",
    "\n",
    "    combined   = {}\n",
    "    first_keys = None\n",
    "    for fname in sorted(os.listdir(school_dir)):\n",
    "        if not fname.lower().endswith(\".pdf\"):\n",
    "            continue\n",
    "        path = os.path.join(school_dir, fname)\n",
    "        print(f\"Extracting data from {school}/{fname}\")\n",
    "        try:\n",
    "            run  = agent.extract(path)\n",
    "            data = run.data or {}\n",
    "            if first_keys is None:\n",
    "                first_keys = list(data.keys())\n",
    "                combined  = {k: None for k in first_keys}\n",
    "            for k, v in data.items():\n",
    "                if v not in (None, \"\", []):\n",
    "                    combined[k] = v\n",
    "        except Exception as err:\n",
    "            print(f\"Skipped {fname}: {err}\")\n",
    "\n",
    "    if first_keys:\n",
    "        df = pd.DataFrame.from_dict(combined, orient=\"index\", columns=[\"2024-25\"])\n",
    "        df.index.name = \"Metric\"\n",
    "        sheet_name = school[:31]\n",
    "        df.to_excel(writer, sheet_name=sheet_name)\n",
    "    else:\n",
    "        print(f\"No data for {school}.\")\n",
    "\n",
    "writer.close()\n",
    "print(f\"All schools written to {OUTPUT_FILE}\")"
   ]
  },
  {
   "cell_type": "code",
   "execution_count": 20,
   "id": "47a6c073-4b51-4770-abc4-f5942a1f772a",
   "metadata": {},
   "outputs": [
    {
     "name": "stdout",
     "output_type": "stream",
     "text": [
      "Saved: output_scrapping/all_schools_combined.xlsx\n"
     ]
    }
   ],
   "source": [
    "#Combine all the tabs into one sheet if wanted\n",
    "file_path   = \"output_scrapping/all_schools.xlsx\"\n",
    "output_path = \"output_scrapping/all_schools_combined.xlsx\"\n",
    "\n",
    "raw = pd.read_excel(file_path, sheet_name=None, index_col=0)\n",
    "\n",
    "school_series = {\n",
    "    school: df.iloc[:, 0]                      # first (only) value column\n",
    "    for school, df in raw.items()\n",
    "}\n",
    "\n",
    "df_comb = pd.DataFrame(school_series).T\n",
    "df_comb.index.name = \"School\"                 \n",
    "df_comb.insert(0, \"Year\", \"2024‑2025\")\n",
    "\n",
    "# df_comb.loc['Texas_A&M', ['Total_Headcount','Undergraduate_Headcount']] = \\\n",
    "#     df_comb.loc['Texas_A&M', ['Undergraduate_Headcount','Total_Headcount']].values\n",
    "\n",
    "# df_comb.loc['California_state_university', 'Undergraduate_Headcount'] = None \n",
    "with pd.ExcelWriter(output_path, engine=\"openpyxl\") as writer:\n",
    "    df_comb.to_excel(writer, sheet_name=\"Combined\")\n",
    "\n",
    "print(\"Saved:\", output_path)"
   ]
  },
  {
   "cell_type": "code",
   "execution_count": null,
   "id": "cdd5ba9c-4240-49fe-8707-9c4fde4a09b6",
   "metadata": {},
   "outputs": [],
   "source": []
  }
 ],
 "metadata": {
  "kernelspec": {
   "display_name": "Python [conda env:base] *",
   "language": "python",
   "name": "conda-base-py"
  },
  "language_info": {
   "codemirror_mode": {
    "name": "ipython",
    "version": 3
   },
   "file_extension": ".py",
   "mimetype": "text/x-python",
   "name": "python",
   "nbconvert_exporter": "python",
   "pygments_lexer": "ipython3",
   "version": "3.12.7"
  }
 },
 "nbformat": 4,
 "nbformat_minor": 5
}
