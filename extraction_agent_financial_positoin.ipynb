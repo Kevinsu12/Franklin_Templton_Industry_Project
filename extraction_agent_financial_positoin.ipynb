{
 "cells": [
  {
   "cell_type": "code",
   "execution_count": 10,
   "id": "eebc2532-837f-49ad-9e76-f9edf401ec2d",
   "metadata": {},
   "outputs": [],
   "source": [
    "import os\n",
    "import pandas as pd\n",
    "from llama_cloud_services import LlamaExtract\n",
    "from schemas import FinancialPosition_2024_25  #This could be adjusted through schemas.py\n",
    "from dotenv import load_dotenv"
   ]
  },
  {
   "cell_type": "code",
   "execution_count": null,
   "id": "7cb28833-17f2-4981-8e3d-3886feb1b2a7",
   "metadata": {},
   "outputs": [],
   "source": [
    "PDF_ROOT = \n",
    "OUTPUT_ROOT = \n",
    "os.makedirs(OUTPUT_ROOT, exist_ok=True)  \n",
    "# AGENT_ID = \"6edffe95-2dac-4992-8f32-7c179c60850a\" #Different based on your LLamaCloud account"
   ]
  },
  {
   "cell_type": "code",
   "execution_count": 14,
   "id": "aae2dfb1-91dd-4575-8177-a151e1a8dc8c",
   "metadata": {},
   "outputs": [
    {
     "name": "stdout",
     "output_type": "stream",
     "text": [
      "No project_id provided, fetching default project.\n"
     ]
    }
   ],
   "source": [
    "load_dotenv() #make sure the API key is in the .env file\n",
    "extractor = LlamaExtract()\n",
    "\n",
    "#uncomment the below line if you are creating the agent for the first time\n",
    "agent = extractor.create_agent(name = \"financial_position-2024\", data_schema=FinancialPosition_2024_25)\n",
    "\n",
    "# agent = extractor.get_agent(id = AGENT_ID)\n",
    "\n",
    "#uncomment the following lines if you updated the schema\n",
    "# agent.data_schema = FinancialPosition_2024_25\n",
    "# agent.save()"
   ]
  },
  {
   "cell_type": "code",
   "execution_count": null,
   "id": "b7ac9f60-f02e-4d5c-ad1f-096b32996557",
   "metadata": {},
   "outputs": [],
   "source": [
    "OUTPUT_FILE = os.path.join(OUTPUT_ROOT, \"all_schools.xlsx\")\n",
    "\n",
    "writer = pd.ExcelWriter(OUTPUT_FILE, engine=\"openpyxl\")\n",
    "\n",
    "for school in sorted(os.listdir(PDF_ROOT)):\n",
    "    school_dir = os.path.join(PDF_ROOT, school)\n",
    "    if not os.path.isdir(school_dir):\n",
    "        continue\n",
    "\n",
    "    combined   = {}\n",
    "    first_keys = None\n",
    "    for fname in sorted(os.listdir(school_dir)):\n",
    "        if not fname.lower().endswith(\".pdf\"):\n",
    "            continue\n",
    "        path = os.path.join(school_dir, fname)\n",
    "        print(f\"Extracting data from {school}/{fname}\")\n",
    "        try:\n",
    "            run  = agent.extract(path)\n",
    "            data = run.data or {}\n",
    "            if first_keys is None:\n",
    "                first_keys = list(data.keys())\n",
    "                combined  = {k: None for k in first_keys}\n",
    "            for k, v in data.items():\n",
    "                if v not in (None, \"\", []):\n",
    "                    combined[k] = v\n",
    "        except Exception as err:\n",
    "            print(f\"Skipped {fname}: {err}\")\n",
    "\n",
    "    if first_keys:\n",
    "        df = pd.DataFrame.from_dict(combined, orient=\"index\", columns=[\"2024-25\"])\n",
    "        df.index.name = \"Metric\"\n",
    "        sheet_name = school[:31]\n",
    "        df.to_excel(writer, sheet_name=sheet_name)\n",
    "    else:\n",
    "        print(f\"No data for {school}.\")\n",
    "\n",
    "writer.close()\n",
    "print(f\"All schools written to {OUTPUT_FILE}\")"
   ]
  }
 ],
 "metadata": {
  "kernelspec": {
   "display_name": "Python [conda env:base] *",
   "language": "python",
   "name": "conda-base-py"
  },
  "language_info": {
   "codemirror_mode": {
    "name": "ipython",
    "version": 3
   },
   "file_extension": ".py",
   "mimetype": "text/x-python",
   "name": "python",
   "nbconvert_exporter": "python",
   "pygments_lexer": "ipython3",
   "version": "3.12.7"
  }
 },
 "nbformat": 4,
 "nbformat_minor": 5
}
