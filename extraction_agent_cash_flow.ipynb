{
 "cells": [
  {
   "cell_type": "code",
   "execution_count": 15,
   "id": "eebc2532-837f-49ad-9e76-f9edf401ec2d",
   "metadata": {},
   "outputs": [],
   "source": [
    "import os\n",
    "import pandas as pd\n",
    "from llama_cloud_services import LlamaExtract\n",
    "from schemas import StatementOfCashFlows2024  #This could be adjusted through schemas.py\n",
    "from dotenv import load_dotenv"
   ]
  },
  {
   "cell_type": "code",
   "execution_count": 17,
   "id": "7cb28833-17f2-4981-8e3d-3886feb1b2a7",
   "metadata": {},
   "outputs": [],
   "source": [
    "PDF_ROOT = \"university_pdfs\"\n",
    "OUTPUT_ROOT = \"output_cash_flow\"\n",
    "os.makedirs(OUTPUT_ROOT, exist_ok=True)  \n",
    "AGENT_ID = \"54164e43-e77a-4add-89a0-b99a31c1ed87\" #Different based on your LLamaCloud account"
   ]
  },
  {
   "cell_type": "code",
   "execution_count": 19,
   "id": "aae2dfb1-91dd-4575-8177-a151e1a8dc8c",
   "metadata": {},
   "outputs": [],
   "source": [
    "load_dotenv() #make sure the API key is in the .env file\n",
    "extractor = LlamaExtract(project_id = '8c10e62e-3810-4193-915d-d2d11105826d')\n",
    "\n",
    "#uncomment the below line if you are creating the agent for the first time\n",
    "# agent = extractor.create_agent(name = \"statement_of_cash_flows-2024\", data_schema=StatementOfCashFlows2024)\n",
    "\n",
    "agent = extractor.get_agent(id = AGENT_ID)\n",
    "\n",
    "#uncomment the following lines if you updated the schema\n",
    "agent.data_schema = StatementOfCashFlows2024\n",
    "agent.save()"
   ]
  },
  {
   "cell_type": "code",
   "execution_count": 20,
   "id": "b7ac9f60-f02e-4d5c-ad1f-096b32996557",
   "metadata": {},
   "outputs": [
    {
     "data": {
      "text/plain": [
       "{'additionalProperties': False,\n",
       " 'description': 'Statement of Cash Flows for the fiscal year 2024 or 2023–2024.\\nOnly extract data from the 2023–2024 fiscal period (e.g. statements labeled ‘Fiscal Year 2024’ or date ranges covering 2023–2024).\\nIgnore any figures outside this period.\\nValues must be captured as dollar amounts (e.g., 1,234.56 means US$1,234.56), not in thousands or other units.\\nDo not derive or calculate values unless they appear explicitly in the document.',\n",
       " 'properties': {'total_change_in_net_assets': {'anyOf': [{'type': 'number'},\n",
       "    {'type': 'null'}],\n",
       "   'description': \"Cash amount labeled 'Total Change in Net Assets' for the 2024 or 2023–2024 fiscal year, in US dollars. Only extract the exact figure for that period.\"},\n",
       "  'total_non_cash_exp': {'anyOf': [{'type': 'number'}, {'type': 'null'}],\n",
       "   'description': \"Aggregate non-cash expenses (e.g., depreciation, amortization) labeled 'Total Non-Cash Exp' for the 2024 or 2023–2024 fiscal year, in US dollars. Only extract from that statement.\"},\n",
       "  'change_in_working_capital': {'anyOf': [{'type': 'number'},\n",
       "    {'type': 'null'}],\n",
       "   'description': \"Line item 'Change in Working Capital' for the 2024 or 2023–2024 fiscal year, in US dollars. Extract only the value for that period.\"},\n",
       "  'other_changes_in_operating_activities': {'anyOf': [{'type': 'number'},\n",
       "    {'type': 'null'}],\n",
       "   'description': \"Figure labeled 'Other Changes in Operating Activities' for the 2024 or 2023–2024 fiscal year, in US dollars. Ignore any amounts outside that period.\"},\n",
       "  'net_cash_from_operating_activities': {'anyOf': [{'type': 'number'},\n",
       "    {'type': 'null'}],\n",
       "   'description': \"Net cash from operating activities labeled 'Net Cash from Operating Activities' for the 2024 or 2023–2024 fiscal year, in US dollars. Only use the figure for that period.\"},\n",
       "  'capital_expenses': {'anyOf': [{'type': 'number'}, {'type': 'null'}],\n",
       "   'description': \"Cash outflow for capital expenditures labeled 'Capital Expenses' in the 2024 or 2023–2024 fiscal year, in US dollars. Extract the exact amount for that period.\"},\n",
       "  'other_changes_in_investment_activities': {'anyOf': [{'type': 'number'},\n",
       "    {'type': 'null'}],\n",
       "   'description': \"Line item 'Other Changes in Investment Activities' for the 2024 or 2023–2024 fiscal year, in US dollars. Ignore entries outside that period.\"},\n",
       "  'net_cash_from_investment_activities': {'anyOf': [{'type': 'number'},\n",
       "    {'type': 'null'}],\n",
       "   'description': \"Net cash from investing activities labeled 'Net Cash from Investment Activities' for the 2024 or 2023–2024 fiscal year, in US dollars. Use only the figure for that period.\"},\n",
       "  'long_term_debt_net_proceeds': {'anyOf': [{'type': 'number'},\n",
       "    {'type': 'null'}],\n",
       "   'description': \"Proceeds from long-term debt issuance labeled 'Long-Term Debt Net Proceeds' for the 2024 or 2023–2024 fiscal year, in US dollars. Extract only that period's value.\"},\n",
       "  'long_term_debt_principal_payments': {'anyOf': [{'type': 'number'},\n",
       "    {'type': 'null'}],\n",
       "   'description': \"Repayments of long-term debt principal labeled 'Long-Term Debt Principal Payments' for the 2024 or 2023–2024 fiscal year, in US dollars. Ignore payments from other periods.\"},\n",
       "  'change_in_long_term_debt': {'anyOf': [{'type': 'number'}, {'type': 'null'}],\n",
       "   'description': \"Net change labeled 'Change in Long-Term Debt' for the 2024 or 2023–2024 fiscal year, in US dollars. Only extract the figure for that period.\"},\n",
       "  'other_changes_in_financing_activities': {'anyOf': [{'type': 'number'},\n",
       "    {'type': 'null'}],\n",
       "   'description': \"Figure labeled 'Other Changes in Financing Activities' for the 2024 or 2023–2024 fiscal year, in US dollars. Only use that period's entry.\"},\n",
       "  'net_cash_from_financing_activities': {'anyOf': [{'type': 'number'},\n",
       "    {'type': 'null'}],\n",
       "   'description': \"Net cash from financing activities labeled 'Net Cash from Financing Activities' for the 2024 or 2023–2024 fiscal year, in US dollars. Extract exclusively that period's figure.\"},\n",
       "  'change_in_cash_and_equivalents': {'anyOf': [{'type': 'number'},\n",
       "    {'type': 'null'}],\n",
       "   'description': \"Overall 'Change in Cash & Equivalents' for the 2024 or 2023–2024 fiscal year, in US dollars. Ignore any data from other periods.\"}},\n",
       " 'required': ['total_change_in_net_assets',\n",
       "  'total_non_cash_exp',\n",
       "  'change_in_working_capital',\n",
       "  'other_changes_in_operating_activities',\n",
       "  'net_cash_from_operating_activities',\n",
       "  'capital_expenses',\n",
       "  'other_changes_in_investment_activities',\n",
       "  'net_cash_from_investment_activities',\n",
       "  'long_term_debt_net_proceeds',\n",
       "  'long_term_debt_principal_payments',\n",
       "  'change_in_long_term_debt',\n",
       "  'other_changes_in_financing_activities',\n",
       "  'net_cash_from_financing_activities',\n",
       "  'change_in_cash_and_equivalents'],\n",
       " 'type': 'object'}"
      ]
     },
     "execution_count": 20,
     "metadata": {},
     "output_type": "execute_result"
    }
   ],
   "source": [
    "agent.data_schema"
   ]
  },
  {
   "cell_type": "code",
   "execution_count": 23,
   "id": "0e5d6aea-6a9b-49c8-aaed-c4c09a966766",
   "metadata": {},
   "outputs": [
    {
     "name": "stdout",
     "output_type": "stream",
     "text": [
      "Extracting data from ARIZONA_STATE_UNIVERSITY/FY_2024_Arizona_State_University_Annual_Comprehensive_Financial_Report_for_the_year_ended_06_30_2024__4.1_MB_.pdf\n"
     ]
    },
    {
     "name": "stderr",
     "output_type": "stream",
     "text": [
      "Uploading files: 100%|████████████████████████████| 1/1 [00:09<00:00,  9.89s/it]\n",
      "Creating extraction jobs: 100%|███████████████████| 1/1 [00:05<00:00,  5.21s/it]\n",
      "Extracting files: 100%|███████████████████████████| 1/1 [00:22<00:00, 22.11s/it]\n"
     ]
    },
    {
     "name": "stdout",
     "output_type": "stream",
     "text": [
      "Extracting data from ARIZONA_STATE_UNIVERSITY/FY_2024_Arizona_State_University_Continuing_Disclosure_Undertaking_for_the_year_ended_06_30_2024__160_KB_.pdf\n"
     ]
    },
    {
     "name": "stderr",
     "output_type": "stream",
     "text": [
      "Uploading files: 100%|████████████████████████████| 1/1 [00:01<00:00,  1.59s/it]\n",
      "Creating extraction jobs: 100%|███████████████████| 1/1 [00:03<00:00,  3.38s/it]\n",
      "Extracting files: 100%|███████████████████████████| 1/1 [00:09<00:00,  9.41s/it]\n"
     ]
    },
    {
     "name": "stdout",
     "output_type": "stream",
     "text": [
      "Extracting data from BRADLEY_UNIVERSITY/Annual_Financial_Information_and_Operating_Data__Rule_15c2-12__for_FY24_for_the_year_ended_05_31_2024__227_KB_.pdf\n"
     ]
    },
    {
     "name": "stderr",
     "output_type": "stream",
     "text": [
      "Uploading files: 100%|████████████████████████████| 1/1 [00:01<00:00,  1.68s/it]\n",
      "Creating extraction jobs: 100%|███████████████████| 1/1 [00:03<00:00,  3.79s/it]\n",
      "Extracting files: 100%|███████████████████████████| 1/1 [00:08<00:00,  8.56s/it]\n"
     ]
    },
    {
     "name": "stdout",
     "output_type": "stream",
     "text": [
      "Extracting data from BRADLEY_UNIVERSITY/Audited_Financial_Statements_or_ACFR__Rule_15c2-12__for_FY24_for_the_year_ended_05_31_2024__541_KB_.pdf\n"
     ]
    },
    {
     "name": "stderr",
     "output_type": "stream",
     "text": [
      "Uploading files: 100%|████████████████████████████| 1/1 [00:01<00:00,  1.80s/it]\n",
      "Creating extraction jobs: 100%|███████████████████| 1/1 [00:02<00:00,  2.97s/it]\n",
      "Extracting files: 100%|███████████████████████████| 1/1 [00:12<00:00, 12.79s/it]\n"
     ]
    },
    {
     "name": "stdout",
     "output_type": "stream",
     "text": [
      "Extracting data from CALIFORNIA_STATE_UNIVERSITY/Exhibit_1_CSU_Combined_Financial_Stmts_6-30-24_for_the_year_ended_06_30_2024__15.6_MB_.pdf\n"
     ]
    },
    {
     "name": "stderr",
     "output_type": "stream",
     "text": [
      "Uploading files: 100%|████████████████████████████| 1/1 [00:18<00:00, 19.00s/it]\n",
      "Creating extraction jobs: 100%|███████████████████| 1/1 [00:02<00:00,  2.99s/it]\n",
      "Extracting files:   0%|                                   | 0/1 [00:19<?, ?it/s]\n"
     ]
    },
    {
     "name": "stdout",
     "output_type": "stream",
     "text": [
      "Skipped Exhibit_1_CSU_Combined_Financial_Stmts_6-30-24_for_the_year_ended_06_30_2024__15.6_MB_.pdf: status_code: 500, body: {'detail': 'Oops! Something went wrong on our end. Please try again in a few minutes. If the problem persists, please contact support by clicking the chat icon on cloud.llamaindex.ai providing this correlation ID: None'}\n",
      "Extracting data from CALIFORNIA_STATE_UNIVERSITY/Exhibit_1_CSU_Combined_Financial_Stmts_6-30-24_for_the_year_ended_06_30_2024__308_KB_.pdf\n"
     ]
    },
    {
     "name": "stderr",
     "output_type": "stream",
     "text": [
      "Uploading files: 100%|████████████████████████████| 1/1 [00:02<00:00,  2.05s/it]\n",
      "Creating extraction jobs: 100%|███████████████████| 1/1 [00:02<00:00,  2.59s/it]\n",
      "Extracting files:   0%|                                   | 0/1 [00:00<?, ?it/s]/Users/kevinsu/anaconda3/lib/python3.12/site-packages/llama_cloud_services/extract/extract.py:294: UserWarning: Failure in job: 563abb7f-800b-4349-b18e-db19b8caeb9d, status: StatusEnum.ERROR, error: None\n",
      "  warnings.warn(\n",
      "Extracting files: 100%|███████████████████████████| 1/1 [00:01<00:00,  1.74s/it]\n"
     ]
    },
    {
     "name": "stdout",
     "output_type": "stream",
     "text": [
      "Extracting data from CALIFORNIA_STATE_UNIVERSITY/Exhibit_1_DRAFT_UNAUDITED_CSU_Combined_Financial_Statements_6-30-24_for_the_year_ended_06_30_2024__1.2_MB_.pdf\n"
     ]
    },
    {
     "name": "stderr",
     "output_type": "stream",
     "text": [
      "Uploading files: 100%|████████████████████████████| 1/1 [00:02<00:00,  2.18s/it]\n",
      "Creating extraction jobs: 100%|███████████████████| 1/1 [00:02<00:00,  2.08s/it]\n",
      "Extracting files:   0%|                                   | 0/1 [00:01<?, ?it/s]\n"
     ]
    },
    {
     "name": "stdout",
     "output_type": "stream",
     "text": [
      "Skipped Exhibit_1_DRAFT_UNAUDITED_CSU_Combined_Financial_Statements_6-30-24_for_the_year_ended_06_30_2024__1.2_MB_.pdf: status_code: 500, body: {'detail': 'Oops! Something went wrong on our end. Please try again in a few minutes. If the problem persists, please contact support by clicking the chat icon on cloud.llamaindex.ai providing this correlation ID: None'}\n",
      "Extracting data from CALIFORNIA_STATE_UNIVERSITY/Exhibit_1_DRAFT_UNAUDITED_CSU_Combined_Financial_Statements_6-30-24_for_the_year_ended_06_30_2024__298_KB_.pdf\n"
     ]
    },
    {
     "name": "stderr",
     "output_type": "stream",
     "text": [
      "Uploading files: 100%|████████████████████████████| 1/1 [00:01<00:00,  1.40s/it]\n",
      "Creating extraction jobs: 100%|███████████████████| 1/1 [00:01<00:00,  1.74s/it]\n",
      "Extracting files:   0%|                                   | 0/1 [00:07<?, ?it/s]\n"
     ]
    },
    {
     "name": "stdout",
     "output_type": "stream",
     "text": [
      "Skipped Exhibit_1_DRAFT_UNAUDITED_CSU_Combined_Financial_Statements_6-30-24_for_the_year_ended_06_30_2024__298_KB_.pdf: status_code: 500, body: {'detail': 'Oops! Something went wrong on our end. Please try again in a few minutes. If the problem persists, please contact support by clicking the chat icon on cloud.llamaindex.ai providing this correlation ID: None'}\n",
      "No data for CALIFORNIA_STATE_UNIVERSITY.\n",
      "Extracting data from CORNELL_UNIVERSITY/2024_Audited_Financial_Statements_for_the_year_ended_06_30_2024__788_KB_.pdf\n"
     ]
    },
    {
     "name": "stderr",
     "output_type": "stream",
     "text": [
      "Uploading files: 100%|████████████████████████████| 1/1 [00:01<00:00,  1.32s/it]\n",
      "Creating extraction jobs: 100%|███████████████████| 1/1 [00:01<00:00,  1.54s/it]\n",
      "Extracting files: 100%|███████████████████████████| 1/1 [00:11<00:00, 11.66s/it]\n"
     ]
    },
    {
     "name": "stdout",
     "output_type": "stream",
     "text": [
      "Extracting data from CORNELL_UNIVERSITY/2024_Operating_Data_for_the_year_ended_06_30_2024__109_KB_.pdf\n"
     ]
    },
    {
     "name": "stderr",
     "output_type": "stream",
     "text": [
      "Uploading files: 100%|████████████████████████████| 1/1 [00:02<00:00,  2.11s/it]\n",
      "Creating extraction jobs:   0%|                           | 0/1 [00:00<?, ?it/s]\n"
     ]
    },
    {
     "name": "stdout",
     "output_type": "stream",
     "text": [
      "Skipped 2024_Operating_Data_for_the_year_ended_06_30_2024__109_KB_.pdf: status_code: 500, body: {'detail': 'Oops! Something went wrong on our end. Please try again in a few minutes. If the problem persists, please contact support by clicking the chat icon on cloud.llamaindex.ai providing this correlation ID: None'}\n",
      "Extracting data from CORNELL_UNIVERSITY/Incorporate_OS_by_Reference_as_of_04_25_2024__2.4_MB_.pdf\n"
     ]
    },
    {
     "name": "stderr",
     "output_type": "stream",
     "text": [
      "Uploading files: 100%|████████████████████████████| 1/1 [00:02<00:00,  2.32s/it]\n",
      "Creating extraction jobs: 100%|███████████████████| 1/1 [00:02<00:00,  2.08s/it]\n",
      "Extracting files: 100%|███████████████████████████| 1/1 [00:14<00:00, 14.81s/it]\n"
     ]
    },
    {
     "name": "stdout",
     "output_type": "stream",
     "text": [
      "Extracting data from CULINARY_INSTITUTE_OF_AMERICA_THE/2024_Annual_Report_-_Corrected_for_the_year_ended_05_31_2024__130_KB_.pdf\n"
     ]
    },
    {
     "name": "stderr",
     "output_type": "stream",
     "text": [
      "Uploading files: 100%|████████████████████████████| 1/1 [00:01<00:00,  1.19s/it]\n",
      "Creating extraction jobs: 100%|███████████████████| 1/1 [00:04<00:00,  4.45s/it]\n",
      "Extracting files:   0%|                                   | 0/1 [00:00<?, ?it/s]/Users/kevinsu/anaconda3/lib/python3.12/site-packages/llama_cloud_services/extract/extract.py:294: UserWarning: Failure in job: 2d89dc48-8f41-434e-84f9-8f607f309e25, status: StatusEnum.ERROR, error: parsing_error: Error on parsing: Organization Quota exceeded.\n",
      "  warnings.warn(\n",
      "Extracting files: 100%|███████████████████████████| 1/1 [00:10<00:00, 10.58s/it]\n"
     ]
    },
    {
     "name": "stdout",
     "output_type": "stream",
     "text": [
      "Extracting data from CULINARY_INSTITUTE_OF_AMERICA_THE/2024_Annual_Report_for_the_year_ended_05_31_2024__129_KB_.pdf\n"
     ]
    },
    {
     "name": "stderr",
     "output_type": "stream",
     "text": [
      "Uploading files: 100%|████████████████████████████| 1/1 [00:01<00:00,  1.61s/it]\n",
      "Creating extraction jobs: 100%|███████████████████| 1/1 [00:02<00:00,  2.70s/it]\n",
      "Extracting files:   0%|                                   | 0/1 [00:00<?, ?it/s]/Users/kevinsu/anaconda3/lib/python3.12/site-packages/llama_cloud_services/extract/extract.py:294: UserWarning: Failure in job: a2fa735e-f2db-4864-9573-f53c35c05ca0, status: StatusEnum.ERROR, error: None\n",
      "  warnings.warn(\n",
      "Extracting files: 100%|███████████████████████████| 1/1 [00:01<00:00,  1.81s/it]\n"
     ]
    },
    {
     "name": "stdout",
     "output_type": "stream",
     "text": [
      "Extracting data from CULINARY_INSTITUTE_OF_AMERICA_THE/2024_Audited_Financial_Statements_for_the_year_ended_05_31_2024__277_KB_.pdf\n"
     ]
    },
    {
     "name": "stderr",
     "output_type": "stream",
     "text": [
      "Uploading files: 100%|████████████████████████████| 1/1 [00:02<00:00,  2.94s/it]\n",
      "Creating extraction jobs: 100%|███████████████████| 1/1 [00:02<00:00,  2.25s/it]\n",
      "Extracting files:   0%|                                   | 0/1 [00:10<?, ?it/s]\n"
     ]
    },
    {
     "name": "stdout",
     "output_type": "stream",
     "text": [
      "Skipped 2024_Audited_Financial_Statements_for_the_year_ended_05_31_2024__277_KB_.pdf: status_code: 500, body: {'detail': 'Oops! Something went wrong on our end. Please try again in a few minutes. If the problem persists, please contact support by clicking the chat icon on cloud.llamaindex.ai providing this correlation ID: None'}\n",
      "No data for CULINARY_INSTITUTE_OF_AMERICA_THE.\n",
      "Extracting data from GANNON_UNIVERSITY/Audited_Financial_Statements_for_the_year_ended_06_30_2024__786_KB_.pdf\n"
     ]
    },
    {
     "name": "stderr",
     "output_type": "stream",
     "text": [
      "Uploading files: 100%|████████████████████████████| 1/1 [00:02<00:00,  2.13s/it]\n",
      "Creating extraction jobs:   0%|                           | 0/1 [00:00<?, ?it/s]\n"
     ]
    },
    {
     "name": "stdout",
     "output_type": "stream",
     "text": [
      "Skipped Audited_Financial_Statements_for_the_year_ended_06_30_2024__786_KB_.pdf: status_code: 500, body: {'detail': 'Oops! Something went wrong on our end. Please try again in a few minutes. If the problem persists, please contact support by clicking the chat icon on cloud.llamaindex.ai providing this correlation ID: None'}\n",
      "Extracting data from GANNON_UNIVERSITY/Continued_Disclosures_Fall_2024_for_the_year_ended_06_30_2024_Document1__203_KB_.pdf\n"
     ]
    },
    {
     "name": "stderr",
     "output_type": "stream",
     "text": [
      "Uploading files: 100%|████████████████████████████| 1/1 [00:03<00:00,  3.42s/it]\n",
      "Creating extraction jobs: 100%|███████████████████| 1/1 [00:06<00:00,  6.53s/it]\n",
      "Extracting files: 100%|███████████████████████████| 1/1 [00:12<00:00, 12.61s/it]\n"
     ]
    },
    {
     "name": "stdout",
     "output_type": "stream",
     "text": [
      "Extracting data from LEWIS_UNIVERSITY/Audited_Financial_Statements_for_the_year_ended_06_30_2024__430_KB_.pdf\n"
     ]
    },
    {
     "name": "stderr",
     "output_type": "stream",
     "text": [
      "Uploading files: 100%|████████████████████████████| 1/1 [00:02<00:00,  2.19s/it]\n",
      "Creating extraction jobs: 100%|███████████████████| 1/1 [00:01<00:00,  1.65s/it]\n",
      "Extracting files: 100%|███████████████████████████| 1/1 [00:14<00:00, 14.83s/it]\n"
     ]
    },
    {
     "name": "stdout",
     "output_type": "stream",
     "text": [
      "Extracting data from LEWIS_UNIVERSITY/Continuing_Disclosure_for_the_year_ended_06_30_2024__298_KB_.pdf\n"
     ]
    },
    {
     "name": "stderr",
     "output_type": "stream",
     "text": [
      "Uploading files: 100%|████████████████████████████| 1/1 [00:02<00:00,  2.62s/it]\n",
      "Creating extraction jobs: 100%|███████████████████| 1/1 [00:02<00:00,  2.16s/it]\n",
      "Extracting files:   0%|                                   | 0/1 [00:00<?, ?it/s]/Users/kevinsu/anaconda3/lib/python3.12/site-packages/llama_cloud_services/extract/extract.py:294: UserWarning: Failure in job: e179ac74-767a-40a2-a9b3-b5c872b6fb57, status: StatusEnum.ERROR, error: parsing_error: Error on parsing: Organization Quota exceeded.\n",
      "  warnings.warn(\n",
      "Extracting files: 100%|███████████████████████████| 1/1 [00:02<00:00,  2.72s/it]\n"
     ]
    },
    {
     "name": "stdout",
     "output_type": "stream",
     "text": [
      "Extracting data from MICHIGAN_STATE_UNIVERSITY/Updates_of_Tables_of_Operating_Information_for_the_year_ended_06_30_2024_Document1__143_KB_.pdf\n"
     ]
    },
    {
     "name": "stderr",
     "output_type": "stream",
     "text": [
      "Uploading files: 100%|████████████████████████████| 1/1 [00:01<00:00,  1.48s/it]\n",
      "Creating extraction jobs: 100%|███████████████████| 1/1 [00:01<00:00,  1.69s/it]\n",
      "Extracting files:   0%|                                   | 0/1 [00:00<?, ?it/s]/Users/kevinsu/anaconda3/lib/python3.12/site-packages/llama_cloud_services/extract/extract.py:294: UserWarning: Failure in job: dace6115-620d-4a68-8cbe-0659809f6bc5, status: StatusEnum.ERROR, error: None\n",
      "  warnings.warn(\n",
      "Extracting files: 100%|███████████████████████████| 1/1 [00:02<00:00,  2.97s/it]\n"
     ]
    },
    {
     "name": "stdout",
     "output_type": "stream",
     "text": [
      "Extracting data from MICHIGAN_STATE_UNIVERSITY/Updates_of_Tables_of_Operating_Information_for_the_year_ended_06_30_2024_Document2__8.4_MB_.pdf\n"
     ]
    },
    {
     "name": "stderr",
     "output_type": "stream",
     "text": [
      "Uploading files: 100%|████████████████████████████| 1/1 [00:11<00:00, 11.04s/it]\n",
      "Creating extraction jobs: 100%|███████████████████| 1/1 [00:01<00:00,  1.70s/it]\n",
      "Extracting files: 100%|███████████████████████████| 1/1 [00:29<00:00, 29.26s/it]\n"
     ]
    },
    {
     "name": "stdout",
     "output_type": "stream",
     "text": [
      "No data for MICHIGAN_STATE_UNIVERSITY.\n",
      "Extracting data from MOLLOY_COLLEGE/Financial_Operating_Filing_for_the_year_ended_06_30_2024_Document1__304_KB_.pdf\n"
     ]
    },
    {
     "name": "stderr",
     "output_type": "stream",
     "text": [
      "Uploading files: 100%|████████████████████████████| 1/1 [00:01<00:00,  1.73s/it]\n",
      "Creating extraction jobs: 100%|███████████████████| 1/1 [00:02<00:00,  2.76s/it]\n",
      "Extracting files: 100%|███████████████████████████| 1/1 [00:10<00:00, 10.03s/it]\n"
     ]
    },
    {
     "name": "stdout",
     "output_type": "stream",
     "text": [
      "Extracting data from MOLLOY_COLLEGE/Financial_Operating_Filing_for_the_year_ended_06_30_2024_Document2__142_KB_.pdf\n"
     ]
    },
    {
     "name": "stderr",
     "output_type": "stream",
     "text": [
      "Uploading files: 100%|████████████████████████████| 1/1 [00:01<00:00,  1.09s/it]\n",
      "Creating extraction jobs: 100%|███████████████████| 1/1 [00:01<00:00,  1.91s/it]\n",
      "Extracting files:   0%|                                   | 0/1 [00:00<?, ?it/s]/Users/kevinsu/anaconda3/lib/python3.12/site-packages/llama_cloud_services/extract/extract.py:294: UserWarning: Failure in job: ca120475-ed65-41ed-a264-552e6995a6ab, status: StatusEnum.ERROR, error: None\n",
      "  warnings.warn(\n",
      "Extracting files: 100%|███████████████████████████| 1/1 [00:03<00:00,  3.81s/it]\n"
     ]
    },
    {
     "name": "stdout",
     "output_type": "stream",
     "text": [
      "Extracting data from MOUNT_ST_MARY_S_UNIVERSITY_INC/Audited_Annual_Financials_for_the_year_ended_06_30_2024_Document1__29.1_MB_.pdf\n"
     ]
    },
    {
     "name": "stderr",
     "output_type": "stream",
     "text": [
      "Uploading files: 100%|████████████████████████████| 1/1 [00:21<00:00, 21.40s/it]\n",
      "Creating extraction jobs: 100%|███████████████████| 1/1 [00:02<00:00,  2.11s/it]\n",
      "Extracting files:   0%|                                   | 0/1 [00:18<?, ?it/s]\n"
     ]
    },
    {
     "name": "stdout",
     "output_type": "stream",
     "text": [
      "Skipped Audited_Annual_Financials_for_the_year_ended_06_30_2024_Document1__29.1_MB_.pdf: status_code: 500, body: {'detail': 'Oops! Something went wrong on our end. Please try again in a few minutes. If the problem persists, please contact support by clicking the chat icon on cloud.llamaindex.ai providing this correlation ID: None'}\n",
      "Extracting data from MOUNT_ST_MARY_S_UNIVERSITY_INC/Audited_Annual_Financials_for_the_year_ended_06_30_2024_Document2__5_MB_.pdf\n"
     ]
    },
    {
     "name": "stderr",
     "output_type": "stream",
     "text": [
      "Uploading files: 100%|████████████████████████████| 1/1 [00:07<00:00,  7.79s/it]\n",
      "Creating extraction jobs: 100%|███████████████████| 1/1 [00:01<00:00,  1.34s/it]\n",
      "Extracting files:   0%|                                   | 0/1 [00:15<?, ?it/s]\n"
     ]
    },
    {
     "name": "stdout",
     "output_type": "stream",
     "text": [
      "Skipped Audited_Annual_Financials_for_the_year_ended_06_30_2024_Document2__5_MB_.pdf: status_code: 500, body: {'detail': 'Oops! Something went wrong on our end. Please try again in a few minutes. If the problem persists, please contact support by clicking the chat icon on cloud.llamaindex.ai providing this correlation ID: None'}\n",
      "No data for MOUNT_ST_MARY_S_UNIVERSITY_INC.\n",
      "Extracting data from NEW_YORK_UNIVERSITY/2024_Certificate_of_Compliance_-_Audit_for_the_year_ended_06_30_2024__330_KB_.pdf\n"
     ]
    },
    {
     "name": "stderr",
     "output_type": "stream",
     "text": [
      "Uploading files: 100%|████████████████████████████| 1/1 [00:01<00:00,  1.54s/it]\n",
      "Creating extraction jobs: 100%|███████████████████| 1/1 [00:01<00:00,  1.33s/it]\n",
      "Extracting files:   0%|                                   | 0/1 [00:01<?, ?it/s]\n"
     ]
    },
    {
     "name": "stdout",
     "output_type": "stream",
     "text": [
      "Skipped 2024_Certificate_of_Compliance_-_Audit_for_the_year_ended_06_30_2024__330_KB_.pdf: status_code: 500, body: {'detail': 'Oops! Something went wrong on our end. Please try again in a few minutes. If the problem persists, please contact support by clicking the chat icon on cloud.llamaindex.ai providing this correlation ID: None'}\n",
      "Extracting data from NEW_YORK_UNIVERSITY/2024_Certificate_of_Compliance_for_the_year_ended_06_30_2024__323_KB_.pdf\n"
     ]
    },
    {
     "name": "stderr",
     "output_type": "stream",
     "text": [
      "Uploading files:   0%|                                    | 0/1 [00:01<?, ?it/s]\n"
     ]
    },
    {
     "name": "stdout",
     "output_type": "stream",
     "text": [
      "Skipped 2024_Certificate_of_Compliance_for_the_year_ended_06_30_2024__323_KB_.pdf: status_code: 500, body: {'detail': 'Oops! Something went wrong on our end. Please try again in a few minutes. If the problem persists, please contact support by clicking the chat icon on cloud.llamaindex.ai providing this correlation ID: None'}\n",
      "Extracting data from NEW_YORK_UNIVERSITY/2024_Consolidated_Financial_Statements_New_York_University_for_the_year_ended_06_30_2024__466_KB_.pdf\n"
     ]
    },
    {
     "name": "stderr",
     "output_type": "stream",
     "text": [
      "Uploading files: 100%|████████████████████████████| 1/1 [00:03<00:00,  3.65s/it]\n",
      "Creating extraction jobs: 100%|███████████████████| 1/1 [00:03<00:00,  3.59s/it]\n",
      "Extracting files: 100%|███████████████████████████| 1/1 [00:08<00:00,  8.28s/it]\n"
     ]
    },
    {
     "name": "stdout",
     "output_type": "stream",
     "text": [
      "Extracting data from NEW_YORK_UNIVERSITY/2024_Operating_Data_for_the_year_ended_06_30_2024__244_KB_.pdf\n"
     ]
    },
    {
     "name": "stderr",
     "output_type": "stream",
     "text": [
      "Uploading files: 100%|████████████████████████████| 1/1 [00:01<00:00,  1.80s/it]\n",
      "Creating extraction jobs: 100%|███████████████████| 1/1 [00:01<00:00,  1.88s/it]\n",
      "Extracting files: 100%|███████████████████████████| 1/1 [00:10<00:00, 10.05s/it]\n"
     ]
    },
    {
     "name": "stdout",
     "output_type": "stream",
     "text": [
      "Extracting data from OHIO_STATE_UNIVERSITY_THE/The_Ohio_State_University_Annual_Update_to_Bondholders_for_the_year_ended_06_30_2024__577_KB_.pdf\n"
     ]
    },
    {
     "name": "stderr",
     "output_type": "stream",
     "text": [
      "Uploading files: 100%|████████████████████████████| 1/1 [00:01<00:00,  1.94s/it]\n",
      "Creating extraction jobs: 100%|███████████████████| 1/1 [00:02<00:00,  2.15s/it]\n",
      "Extracting files:   0%|                                   | 0/1 [00:00<?, ?it/s]/Users/kevinsu/anaconda3/lib/python3.12/site-packages/llama_cloud_services/extract/extract.py:294: UserWarning: Failure in job: 4b47567c-1625-42e3-8b61-6ffc0eb85071, status: StatusEnum.ERROR, error: None\n",
      "  warnings.warn(\n",
      "Extracting files: 100%|███████████████████████████| 1/1 [00:01<00:00,  1.72s/it]\n"
     ]
    },
    {
     "name": "stdout",
     "output_type": "stream",
     "text": [
      "Extracting data from OHIO_STATE_UNIVERSITY_THE/The_Ohio_State_University_Quarterly_Update_to_Bondholders_for_the_quarter_ended_03_31_2024__577_KB_.pdf\n"
     ]
    },
    {
     "name": "stderr",
     "output_type": "stream",
     "text": [
      "Uploading files: 100%|████████████████████████████| 1/1 [00:02<00:00,  2.98s/it]\n",
      "Creating extraction jobs: 100%|███████████████████| 1/1 [00:04<00:00,  4.99s/it]\n",
      "Extracting files:   0%|                                   | 0/1 [00:10<?, ?it/s]\n"
     ]
    },
    {
     "name": "stdout",
     "output_type": "stream",
     "text": [
      "Skipped The_Ohio_State_University_Quarterly_Update_to_Bondholders_for_the_quarter_ended_03_31_2024__577_KB_.pdf: status_code: 500, body: {'detail': 'Oops! Something went wrong on our end. Please try again in a few minutes. If the problem persists, please contact support by clicking the chat icon on cloud.llamaindex.ai providing this correlation ID: None'}\n",
      "Extracting data from OHIO_STATE_UNIVERSITY_THE/The_Ohio_State_University_Quarterly_Update_to_Bondholders_for_the_quarter_ended_06_30_2024__576_KB_.pdf\n"
     ]
    },
    {
     "name": "stderr",
     "output_type": "stream",
     "text": [
      "Uploading files: 100%|████████████████████████████| 1/1 [00:04<00:00,  4.17s/it]\n",
      "Creating extraction jobs: 100%|███████████████████| 1/1 [00:02<00:00,  2.47s/it]\n",
      "Extracting files: 100%|███████████████████████████| 1/1 [00:09<00:00,  9.65s/it]\n"
     ]
    },
    {
     "name": "stdout",
     "output_type": "stream",
     "text": [
      "Extracting data from OHIO_STATE_UNIVERSITY_THE/The_Ohio_State_University_Quarterly_Update_to_Bondholders_for_the_quarter_ended_09_30_2024__574_KB_.pdf\n"
     ]
    },
    {
     "name": "stderr",
     "output_type": "stream",
     "text": [
      "Uploading files: 100%|████████████████████████████| 1/1 [00:02<00:00,  2.06s/it]\n",
      "Creating extraction jobs: 100%|███████████████████| 1/1 [00:01<00:00,  1.74s/it]\n",
      "Extracting files: 100%|███████████████████████████| 1/1 [00:09<00:00,  9.87s/it]\n"
     ]
    },
    {
     "name": "stdout",
     "output_type": "stream",
     "text": [
      "Extracting data from OHIO_STATE_UNIVERSITY_THE/The_Ohio_State_University_Quarterly_Update_to_Bondholders_for_the_quarter_ended_12_31_2024__815_KB_.pdf\n"
     ]
    },
    {
     "name": "stderr",
     "output_type": "stream",
     "text": [
      "Uploading files: 100%|████████████████████████████| 1/1 [00:04<00:00,  4.98s/it]\n",
      "Creating extraction jobs: 100%|███████████████████| 1/1 [00:01<00:00,  1.29s/it]\n",
      "Extracting files: 100%|███████████████████████████| 1/1 [00:11<00:00, 11.09s/it]\n"
     ]
    },
    {
     "name": "stdout",
     "output_type": "stream",
     "text": [
      "No data for OHIO_STATE_UNIVERSITY_THE.\n",
      "Extracting data from PRESIDENT___FELLOWS_OF_HARVARD_COLLEGE/Harvard_University_Audited_Financial_Information_for_the_year_ended_06_30_2024__10.6_MB_.pdf\n"
     ]
    },
    {
     "name": "stderr",
     "output_type": "stream",
     "text": [
      "Uploading files: 100%|████████████████████████████| 1/1 [00:03<00:00,  3.81s/it]\n",
      "Creating extraction jobs: 100%|███████████████████| 1/1 [00:02<00:00,  2.77s/it]\n",
      "Extracting files: 100%|███████████████████████████| 1/1 [00:16<00:00, 16.80s/it]\n"
     ]
    },
    {
     "name": "stdout",
     "output_type": "stream",
     "text": [
      "Extracting data from PRESIDENT___FELLOWS_OF_HARVARD_COLLEGE/Harvard_University_Financial_Report_for_the_year_ended_06_30_2024__10.6_MB_.pdf\n"
     ]
    },
    {
     "name": "stderr",
     "output_type": "stream",
     "text": [
      "Uploading files: 100%|████████████████████████████| 1/1 [00:08<00:00,  8.45s/it]\n",
      "Creating extraction jobs: 100%|███████████████████| 1/1 [00:03<00:00,  3.99s/it]\n",
      "Extracting files:   0%|                                   | 0/1 [00:00<?, ?it/s]/Users/kevinsu/anaconda3/lib/python3.12/site-packages/llama_cloud_services/extract/extract.py:294: UserWarning: Failure in job: 9a419e44-0784-445c-b1b6-fec97a0e11e5, status: StatusEnum.ERROR, error: None\n",
      "  warnings.warn(\n",
      "Extracting files: 100%|███████████████████████████| 1/1 [00:01<00:00,  1.94s/it]\n"
     ]
    },
    {
     "name": "stdout",
     "output_type": "stream",
     "text": [
      "Extracting data from PRESIDENT___FELLOWS_OF_HARVARD_COLLEGE/Harvard_University_Student_Applications_and_Enrollment_for_the_year_ended_06_30_2024__557_KB_.pdf\n"
     ]
    },
    {
     "name": "stderr",
     "output_type": "stream",
     "text": [
      "Uploading files:   0%|                                    | 0/1 [00:01<?, ?it/s]\n"
     ]
    },
    {
     "name": "stdout",
     "output_type": "stream",
     "text": [
      "Skipped Harvard_University_Student_Applications_and_Enrollment_for_the_year_ended_06_30_2024__557_KB_.pdf: status_code: 500, body: {'detail': 'Oops! Something went wrong on our end: Internal Server Error. Please try again in a few minutes. If the problem persists, please contact support by clicking the chat icon on cloud.llamaindex.ai providing this correlation ID: 578a26da-654c-4940-8ef9-e09a7a97ad8a'}\n",
      "Extracting data from STEVENSON_UNIVERSITY_INC/2024_Annual_Compliance_Certificate__EagleBank__for_the_year_ended_06_30_2024__3_MB_.pdf\n"
     ]
    },
    {
     "name": "stderr",
     "output_type": "stream",
     "text": [
      "Uploading files: 100%|████████████████████████████| 1/1 [00:02<00:00,  2.32s/it]\n",
      "Creating extraction jobs: 100%|███████████████████| 1/1 [00:02<00:00,  2.03s/it]\n",
      "Extracting files: 100%|███████████████████████████| 1/1 [00:15<00:00, 15.98s/it]\n"
     ]
    },
    {
     "name": "stdout",
     "output_type": "stream",
     "text": [
      "Extracting data from STEVENSON_UNIVERSITY_INC/2024_Annual_Compliance_Certificate_for_the_year_ended_06_30_2024__2.8_MB_.pdf\n"
     ]
    },
    {
     "name": "stderr",
     "output_type": "stream",
     "text": [
      "Uploading files: 100%|████████████████████████████| 1/1 [00:06<00:00,  6.95s/it]\n",
      "Creating extraction jobs: 100%|███████████████████| 1/1 [00:01<00:00,  1.26s/it]\n",
      "Extracting files: 100%|███████████████████████████| 1/1 [00:11<00:00, 11.28s/it]\n"
     ]
    },
    {
     "name": "stdout",
     "output_type": "stream",
     "text": [
      "Extracting data from STEVENSON_UNIVERSITY_INC/2024_Audited_Financial_Statements_for_the_year_ended_06_30_2024__348_KB_.pdf\n"
     ]
    },
    {
     "name": "stderr",
     "output_type": "stream",
     "text": [
      "Uploading files: 100%|████████████████████████████| 1/1 [00:02<00:00,  2.02s/it]\n",
      "Creating extraction jobs: 100%|███████████████████| 1/1 [00:02<00:00,  2.90s/it]\n",
      "Extracting files: 100%|███████████████████████████| 1/1 [00:12<00:00, 12.70s/it]\n"
     ]
    },
    {
     "name": "stdout",
     "output_type": "stream",
     "text": [
      "Extracting data from STEVENSON_UNIVERSITY_INC/2024_Operating_Data_for_the_year_ended_06_30_2024__196_KB_.pdf\n"
     ]
    },
    {
     "name": "stderr",
     "output_type": "stream",
     "text": [
      "Uploading files: 100%|████████████████████████████| 1/1 [00:02<00:00,  2.16s/it]\n",
      "Creating extraction jobs: 100%|███████████████████| 1/1 [00:01<00:00,  1.69s/it]\n",
      "Extracting files: 100%|███████████████████████████| 1/1 [00:10<00:00, 10.38s/it]\n"
     ]
    },
    {
     "name": "stdout",
     "output_type": "stream",
     "text": [
      "Extracting data from STEVENS_INSTITUTE_OF_TECHNOLOGY/Annual_Report_for_the_year_ended_06_30_2024__216_KB_.pdf\n"
     ]
    },
    {
     "name": "stderr",
     "output_type": "stream",
     "text": [
      "Uploading files: 100%|████████████████████████████| 1/1 [00:02<00:00,  2.20s/it]\n",
      "Creating extraction jobs: 100%|███████████████████| 1/1 [00:03<00:00,  3.17s/it]\n",
      "Extracting files: 100%|███████████████████████████| 1/1 [00:10<00:00, 10.02s/it]\n"
     ]
    },
    {
     "name": "stdout",
     "output_type": "stream",
     "text": [
      "Extracting data from STEVENS_INSTITUTE_OF_TECHNOLOGY/Audit_Financial_Statement_for_the_year_ended_06_30_2024__626_KB_.pdf\n"
     ]
    },
    {
     "name": "stderr",
     "output_type": "stream",
     "text": [
      "Uploading files: 100%|████████████████████████████| 1/1 [00:01<00:00,  1.37s/it]\n",
      "Creating extraction jobs: 100%|███████████████████| 1/1 [00:01<00:00,  1.40s/it]\n",
      "Extracting files:   0%|                                   | 0/1 [00:00<?, ?it/s]/Users/kevinsu/anaconda3/lib/python3.12/site-packages/llama_cloud_services/extract/extract.py:294: UserWarning: Failure in job: 87c7648c-b622-458e-ba56-764437acef05, status: StatusEnum.ERROR, error: None\n",
      "  warnings.warn(\n",
      "Extracting files: 100%|███████████████████████████| 1/1 [00:01<00:00,  1.76s/it]\n"
     ]
    },
    {
     "name": "stdout",
     "output_type": "stream",
     "text": [
      "Extracting data from ST_LOUIS_UNIVERSITY_US/Amendment_to_Continuing_Disclosure_Undertaking_dated_01_05_2024__392_KB_.pdf\n"
     ]
    },
    {
     "name": "stderr",
     "output_type": "stream",
     "text": [
      "Uploading files: 100%|████████████████████████████| 1/1 [00:02<00:00,  2.04s/it]\n",
      "Creating extraction jobs: 100%|███████████████████| 1/1 [00:01<00:00,  1.54s/it]\n",
      "Extracting files: 100%|███████████████████████████| 1/1 [00:09<00:00,  9.11s/it]\n"
     ]
    },
    {
     "name": "stdout",
     "output_type": "stream",
     "text": [
      "Extracting data from ST_LOUIS_UNIVERSITY_US/Audited_Financials_and_Operating_Data_for_the_year_ended_06_30_2024_Document1__561_KB_.pdf\n"
     ]
    },
    {
     "name": "stderr",
     "output_type": "stream",
     "text": [
      "Uploading files: 100%|████████████████████████████| 1/1 [00:03<00:00,  3.18s/it]\n",
      "Creating extraction jobs: 100%|███████████████████| 1/1 [00:03<00:00,  3.02s/it]\n",
      "Extracting files: 100%|███████████████████████████| 1/1 [00:10<00:00, 10.75s/it]\n"
     ]
    },
    {
     "name": "stdout",
     "output_type": "stream",
     "text": [
      "Extracting data from ST_LOUIS_UNIVERSITY_US/Audited_Financials_and_Operating_Data_for_the_year_ended_06_30_2024_Document2__174_KB_.pdf\n"
     ]
    },
    {
     "name": "stderr",
     "output_type": "stream",
     "text": [
      "Uploading files: 100%|████████████████████████████| 1/1 [00:01<00:00,  1.38s/it]\n",
      "Creating extraction jobs: 100%|███████████████████| 1/1 [00:01<00:00,  1.59s/it]\n",
      "Extracting files:   0%|                                   | 0/1 [00:14<?, ?it/s]\n"
     ]
    },
    {
     "name": "stdout",
     "output_type": "stream",
     "text": [
      "Skipped Audited_Financials_and_Operating_Data_for_the_year_ended_06_30_2024_Document2__174_KB_.pdf: status_code: 500, body: {'detail': 'Oops! Something went wrong on our end. Please try again in a few minutes. If the problem persists, please contact support by clicking the chat icon on cloud.llamaindex.ai providing this correlation ID: None'}\n",
      "Extracting data from TEXAS_A_M_UNIVERSITY/FY_2024_Continuing_Disclosure_Annual_Report_for_the_year_ended_08_31_2024__2.3_MB_.pdf\n"
     ]
    },
    {
     "name": "stderr",
     "output_type": "stream",
     "text": [
      "Uploading files:   0%|                                    | 0/1 [00:01<?, ?it/s]\n"
     ]
    },
    {
     "name": "stdout",
     "output_type": "stream",
     "text": [
      "Skipped FY_2024_Continuing_Disclosure_Annual_Report_for_the_year_ended_08_31_2024__2.3_MB_.pdf: status_code: 500, body: {'detail': 'Oops! Something went wrong on our end. Please try again in a few minutes. If the problem persists, please contact support by clicking the chat icon on cloud.llamaindex.ai providing this correlation ID: None'}\n",
      "Extracting data from TEXAS_A_M_UNIVERSITY/Texas_A_M_University_System_Unaudited_Annual_Financial_Reports_for_the_year_ended_08_31_2024__2_MB_.pdf\n"
     ]
    },
    {
     "name": "stderr",
     "output_type": "stream",
     "text": [
      "Uploading files: 100%|████████████████████████████| 1/1 [00:02<00:00,  2.32s/it]\n",
      "Creating extraction jobs:   0%|                           | 0/1 [00:00<?, ?it/s]\n"
     ]
    },
    {
     "name": "stdout",
     "output_type": "stream",
     "text": [
      "Skipped Texas_A_M_University_System_Unaudited_Annual_Financial_Reports_for_the_year_ended_08_31_2024__2_MB_.pdf: status_code: 500, body: {'detail': 'Oops! Something went wrong on our end. Please try again in a few minutes. If the problem persists, please contact support by clicking the chat icon on cloud.llamaindex.ai providing this correlation ID: None'}\n",
      "No data for TEXAS_A_M_UNIVERSITY.\n",
      "Extracting data from UNIVERSITY_OF_COLORADO/Financial_and_Operating_Data__Fiscal_Year_2024_for_the_year_ended_06_30_2024__278_KB_.pdf\n"
     ]
    },
    {
     "name": "stderr",
     "output_type": "stream",
     "text": [
      "Uploading files: 100%|████████████████████████████| 1/1 [00:03<00:00,  3.29s/it]\n",
      "Creating extraction jobs: 100%|███████████████████| 1/1 [00:04<00:00,  4.80s/it]\n",
      "Extracting files:   0%|                                   | 0/1 [00:00<?, ?it/s]/Users/kevinsu/anaconda3/lib/python3.12/site-packages/llama_cloud_services/extract/extract.py:294: UserWarning: Failure in job: dec47800-171e-474a-8119-f1214d722c4f, status: StatusEnum.ERROR, error: None\n",
      "  warnings.warn(\n",
      "Extracting files: 100%|███████████████████████████| 1/1 [00:01<00:00,  1.64s/it]\n"
     ]
    },
    {
     "name": "stdout",
     "output_type": "stream",
     "text": [
      "No data for UNIVERSITY_OF_COLORADO.\n",
      "Extracting data from UNIVERSITY_OF_MINNESOTA/Annual_Financial_Information_and_Operating_Data_for_the_year_ended_06_30_2024_Document1__1.3_MB_.pdf\n"
     ]
    },
    {
     "name": "stderr",
     "output_type": "stream",
     "text": [
      "Uploading files:   0%|                                    | 0/1 [00:01<?, ?it/s]\n"
     ]
    },
    {
     "name": "stdout",
     "output_type": "stream",
     "text": [
      "Skipped Annual_Financial_Information_and_Operating_Data_for_the_year_ended_06_30_2024_Document1__1.3_MB_.pdf: status_code: 500, body: {'detail': 'Oops! Something went wrong on our end. Please try again in a few minutes. If the problem persists, please contact support by clicking the chat icon on cloud.llamaindex.ai providing this correlation ID: None'}\n",
      "Extracting data from UNIVERSITY_OF_MINNESOTA/Annual_Financial_Information_and_Operating_Data_for_the_year_ended_06_30_2024_Document2__315_KB_.pdf\n"
     ]
    },
    {
     "name": "stderr",
     "output_type": "stream",
     "text": [
      "Uploading files:   0%|                                    | 0/1 [00:02<?, ?it/s]"
     ]
    },
    {
     "name": "stdout",
     "output_type": "stream",
     "text": [
      "Skipped Annual_Financial_Information_and_Operating_Data_for_the_year_ended_06_30_2024_Document2__315_KB_.pdf: status_code: 500, body: {'detail': 'Oops! Something went wrong on our end. Please try again in a few minutes. If the problem persists, please contact support by clicking the chat icon on cloud.llamaindex.ai providing this correlation ID: None'}\n",
      "No data for UNIVERSITY_OF_MINNESOTA.\n",
      "All schools written to output_cash_flow/all_schools.xlsx\n"
     ]
    },
    {
     "name": "stderr",
     "output_type": "stream",
     "text": [
      "\n"
     ]
    }
   ],
   "source": [
    "OUTPUT_FILE = os.path.join(OUTPUT_ROOT, \"all_schools.xlsx\")\n",
    "\n",
    "writer = pd.ExcelWriter(OUTPUT_FILE, engine=\"openpyxl\")\n",
    "\n",
    "for school in sorted(os.listdir(PDF_ROOT)):\n",
    "    school_dir = os.path.join(PDF_ROOT, school)\n",
    "    if not os.path.isdir(school_dir):\n",
    "        continue\n",
    "\n",
    "    combined   = {}\n",
    "    first_keys = None\n",
    "    for fname in sorted(os.listdir(school_dir)):\n",
    "        if not fname.lower().endswith(\".pdf\"):\n",
    "            continue\n",
    "        path = os.path.join(school_dir, fname)\n",
    "        print(f\"Extracting data from {school}/{fname}\")\n",
    "        try:\n",
    "            run  = agent.extract(path)\n",
    "            data = run.data or {}\n",
    "            if first_keys is None:\n",
    "                first_keys = list(data.keys())\n",
    "                combined  = {k: None for k in first_keys}\n",
    "            for k, v in data.items():\n",
    "                if v not in (None, \"\", []):\n",
    "                    combined[k] = v\n",
    "        except Exception as err:\n",
    "            print(f\"Skipped {fname}: {err}\")\n",
    "\n",
    "    if first_keys:\n",
    "        df = pd.DataFrame.from_dict(combined, orient=\"index\", columns=[\"2023-24\"])\n",
    "        df.index.name = \"Metric\"\n",
    "        sheet_name = school[:31]\n",
    "        df.to_excel(writer, sheet_name=sheet_name)\n",
    "    else:\n",
    "        print(f\"No data for {school}.\")\n",
    "\n",
    "writer.close()\n",
    "print(f\"All schools written to {OUTPUT_FILE}\")"
   ]
  },
  {
   "cell_type": "code",
   "execution_count": 24,
   "id": "c704394e-406c-49d0-9254-14754ce4031f",
   "metadata": {},
   "outputs": [
    {
     "name": "stdout",
     "output_type": "stream",
     "text": [
      "Saved: output_cash_flow/all_schools_combined.xlsx\n"
     ]
    }
   ],
   "source": [
    "#Combine all the tabs into one sheet if wanted\n",
    "file_path   = \"output_cash_flow/all_schools.xlsx\"\n",
    "output_path = \"output_cash_flow/all_schools_combined.xlsx\"\n",
    "\n",
    "raw = pd.read_excel(file_path, sheet_name=None, index_col=0)\n",
    "\n",
    "school_series = {\n",
    "    school: df.iloc[:, 0]                      # first (only) value column\n",
    "    for school, df in raw.items()\n",
    "}\n",
    "\n",
    "df_comb = pd.DataFrame(school_series).T\n",
    "df_comb.index.name = \"School\"                 \n",
    "df_comb.insert(0, \"Year\", \"2023‑2024\")\n",
    "\n",
    "with pd.ExcelWriter(output_path, engine=\"openpyxl\") as writer:\n",
    "    df_comb.to_excel(writer, sheet_name=\"Combined\")\n",
    "\n",
    "print(\"Saved:\", output_path)"
   ]
  },
  {
   "cell_type": "code",
   "execution_count": null,
   "id": "6d1440da-3559-4f51-b27e-2654eb1d8b0c",
   "metadata": {},
   "outputs": [],
   "source": []
  }
 ],
 "metadata": {
  "kernelspec": {
   "display_name": "Python [conda env:base] *",
   "language": "python",
   "name": "conda-base-py"
  },
  "language_info": {
   "codemirror_mode": {
    "name": "ipython",
    "version": 3
   },
   "file_extension": ".py",
   "mimetype": "text/x-python",
   "name": "python",
   "nbconvert_exporter": "python",
   "pygments_lexer": "ipython3",
   "version": "3.12.7"
  }
 },
 "nbformat": 4,
 "nbformat_minor": 5
}
